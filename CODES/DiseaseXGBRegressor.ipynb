{
 "cells": [
  {
   "cell_type": "code",
   "execution_count": 1,
   "id": "e4b2f7d0",
   "metadata": {},
   "outputs": [],
   "source": [
    "import pandas as pd\n",
    "import numpy as np\n",
    "import seaborn as sns\n",
    "from datetime import datetime\n",
    "from sklearn.metrics import roc_auc_score, auc\n",
    "from sklearn.model_selection import train_test_split\n",
    "import gc #garbage collector\n",
    "import sys\n",
    "import os\n",
    "from pandas.api.types import CategoricalDtype\n",
    "import xgboost as xgb\n",
    "from itertools import product\n",
    "from xgboost import XGBRegressor\n",
    "from statistics import stdev \n",
    "import statsmodels.api as sm\n",
    "import matplotlib.pyplot as plt\n",
    "import matplotlib.backends.backend_pdf\n",
    "from datetime import date\n",
    "import pickle\n",
    "import pyodbc\n",
    "import time\n",
    "import tqdm\n",
    "import copy\n",
    "from sklearn2pmml import PMMLPipeline\n",
    "from sklearn2pmml import make_pmml_pipeline\n",
    "from sklearn2pmml import Pipeline\n",
    "from sklearn.pipeline import Pipeline\n",
    "from sklearn2pmml import sklearn2pmml\n"
   ]
  },
  {
   "cell_type": "code",
   "execution_count": 221,
   "id": "1e32657d",
   "metadata": {},
   "outputs": [],
   "source": [
    "sns.set()\n",
    "\n",
    "import warnings\n",
    "warnings.simplefilter(action='ignore', category=FutureWarning)"
   ]
  },
  {
   "cell_type": "code",
   "execution_count": 230,
   "id": "77db195a",
   "metadata": {},
   "outputs": [],
   "source": [
    "df = pd.read_csv('model_data_test_2.csv')"
   ]
  },
  {
   "cell_type": "code",
   "execution_count": 258,
   "id": "99aaac5d",
   "metadata": {},
   "outputs": [],
   "source": [
    "def create_na_report(df):\n",
    "    \"\"\"\n",
    "    create a report of variables whose values are NA across all table, and eliminate them\n",
    "    \"\"\"\n",
    "    print(\"\\nDataset has {} entries and {} features\".format(*df.shape))\n",
    "    na_report = df.isna().sum()                          #create a list of columns and sum of null values\n",
    "    na_report = pd.DataFrame(na_report, index=None)     #convert list to a dataframe\n",
    "    na_report.reset_index(inplace=True)                  #reset index to range(0 : len(df)-1)\n",
    "    na_report.columns = [\"variable\", \"na_count\"]        #set column names\n",
    "    na_report[\"perc\"] = na_report[\"na_count\"]/df.shape[0]           #add a new column which is percentage of null vales by column name\n",
    "    gc.collect()                                                #garbage collecter for memory efficiency\n",
    "    return na_report"
   ]
  },
  {
   "cell_type": "code",
   "execution_count": 259,
   "id": "250270f4",
   "metadata": {},
   "outputs": [],
   "source": [
    "def create_dtype_report(df):\n",
    "    \"\"\"\n",
    "    define the following reports:\n",
    "    num_cols: indicating which variables are numeric\n",
    "    char_cols: indicating which variables are of type character\n",
    "    \"\"\"\n",
    "    df.replace({True: 1, False: 0}, inplace=True)\n",
    "    df_cols = df.columns\n",
    "    num_cols = list(df._get_numeric_data().columns)\n",
    "    char_cols = list(set(df_cols) - set(num_cols))\n",
    "    gc.collect()\n",
    "    return num_cols, char_cols"
   ]
  },
  {
   "cell_type": "code",
   "execution_count": 260,
   "id": "c6a41f23",
   "metadata": {},
   "outputs": [],
   "source": [
    "def eliminate_missing(df, na_report, max_threshold):\n",
    "    ''' \n",
    "    # define maximum threshold of missing percentage\n",
    "    # eliminate columns that do not fit the threshold\n",
    "    '''\n",
    "    cols_before = df.columns.tolist()\n",
    "    cols_ = df.columns[df.columns.isin(list(na_report[na_report['perc'] < max_threshold]['variable']) or df.columns.isin(list(key_var)))]\n",
    "    df = df[cols_]\n",
    "    print(len(cols_before)-len(cols_),\"columns eliminated due to missing values\")\n",
    "    del cols_, cols_before\n",
    "    gc.collect()\n",
    "    return df"
   ]
  },
  {
   "cell_type": "code",
   "execution_count": 261,
   "id": "4225a5ab",
   "metadata": {},
   "outputs": [],
   "source": [
    "def eliminate_single_unique(df):\n",
    "    ''' \n",
    "    # eliminate columns having a single unique value \n",
    "    '''\n",
    "    cols_before = df.columns.tolist()\n",
    "    unique_report = df.nunique()                          \n",
    "    unique_report = pd.DataFrame(unique_report, index=None)    \n",
    "    unique_report.reset_index(inplace=True)\n",
    "    unique_report.columns = [\"variable\", \"number_unique\"]        #set column names\n",
    "    unique_report = unique_report[~unique_report['variable'].isin(key_var)]  #discard key variables  \n",
    "    u_cols = df.columns[~df.columns.isin(list(unique_report[unique_report['number_unique'] == 1]['variable']))]\n",
    "    df = df[u_cols]\n",
    "    print(len(cols_before)-len(u_cols),\"columns eliminated due to single unique values, namely:\",list(set(cols_before) - set(u_cols)))\n",
    "    del unique_report, u_cols, cols_before\n",
    "    gc.collect()\n",
    "    return df\n"
   ]
  },
  {
   "cell_type": "code",
   "execution_count": 262,
   "id": "2a4de25f",
   "metadata": {},
   "outputs": [],
   "source": [
    "def cal_auc_and_gini(df, sample='train', pred_name='predicted'):\n",
    "    temp = df.copy()\n",
    "    auc_ = roc_auc_score(temp.loc[temp['sample'] == sample]['actual'], temp.loc[temp['sample'] == sample][pred_name])\n",
    "    gini_ = round((2*auc_ - 1)*100, 2)\n",
    "    auc_ = round(auc_*100, 2)\n",
    "    del temp\n",
    "    gc.collect()\n",
    "    return auc_, gini_"
   ]
  },
  {
   "cell_type": "code",
   "execution_count": 263,
   "id": "ce231779",
   "metadata": {},
   "outputs": [],
   "source": [
    "def expand_grid(dictionary):\n",
    "   \"\"\"Create a dataframe from every combination of given values.\"\"\"\n",
    "   return pd.DataFrame([row for row in product(*dictionary.values())],\n",
    "                       columns=dictionary.keys())"
   ]
  },
  {
   "cell_type": "code",
   "execution_count": 264,
   "id": "93fb0e12",
   "metadata": {},
   "outputs": [],
   "source": [
    "def set_split_index(df, splitting_perc, seed, min_date):\n",
    "    # allocate Development, and OOT validation data\n",
    "    oot_index = df.loc[df['APPLICATION_DATE'] >= min_date].index.values  ##REPORT_DATE \n",
    "    dev_index = df.loc[df['APPLICATION_DATE'] < min_date].index.values  \n",
    "    \n",
    "    y_all = df['TARGET'].iloc[dev_index]\n",
    "    \n",
    "    train_index, test_index, y_train, y_test = train_test_split(dev_index, y_all, test_size=splitting_perc, stratify=y_all, random_state=seed)   \n",
    "    print(\"\\nShape of dataframes; train: {}, test: {}, oot: {}\".format(train_index.shape,test_index.shape,oot_index.shape))\n",
    "    print(\"\\nPercentage of dataframes; train: {:.2%}, test: {:.2%}, oot: {:.2%}\".format(len(train_index)/len(df),len(test_index)/len(df),len(oot_index)/len(df)))\n",
    "    return train_index, test_index, oot_index"
   ]
  },
  {
   "cell_type": "code",
   "execution_count": 265,
   "id": "515f3d49",
   "metadata": {},
   "outputs": [],
   "source": [
    "def split_df_by_index(df, key_var, train_index, test_index, oot_index):\n",
    "    # first get TARGET arrays\n",
    "    y_train, y_test, y_oot = df['TARGET'].iloc[train_index], df['TARGET'].iloc[test_index], df['TARGET'].iloc[oot_index]\n",
    "    \n",
    "    # get key values apart including TARGET\n",
    "    cols_ = df.columns[df.columns.isin(list(key_var))] #including TARGET\n",
    "    df_key_var = df[cols_]  #save key values\n",
    "    df_n = df.drop(cols_, axis=1)\n",
    "    \n",
    "    # set dataframes\n",
    "    X_train, X_test, X_oot = df_n.iloc[train_index], df_n.iloc[test_index], df_n.iloc[oot_index]\n",
    "    train_keys, test_keys, oot_keys = df_key_var.iloc[train_index], df_key_var.iloc[test_index], df_key_var.iloc[oot_index]\n",
    "    \n",
    "    dtrain = xgb.DMatrix(X_train, label=y_train)\n",
    "    dtest = xgb.DMatrix(X_test, label=y_test)\n",
    "    doot = xgb.DMatrix(X_oot, label=y_oot)\n",
    "    del df_n\n",
    "    gc.collect()\n",
    "    return dtrain, dtest, doot, y_train, y_test, y_oot, train_keys, test_keys, oot_keys"
   ]
  },
  {
   "cell_type": "code",
   "execution_count": 266,
   "id": "a4f2d273",
   "metadata": {},
   "outputs": [],
   "source": [
    "def create_calibration_df(predictions, sample):\n",
    "    df_temp_sum = predictions.loc[predictions['sample'] == sample].copy()\n",
    "    df_temp_sum.loc[:,'count'] = 1\n",
    "    df_temp_sum['row_score'] = np.log(df_temp_sum[\"predicted\"]/(1-df_temp_sum[\"predicted\"]))\n",
    "    gc.collect()\n",
    "    return df_temp_sum"
   ]
  },
  {
   "cell_type": "code",
   "execution_count": 267,
   "id": "5940d1b5",
   "metadata": {},
   "outputs": [],
   "source": [
    "def apply_calibration(df, calibration_model, divide_by_score, divide_by_pd, divide_by_cnt, factor, offset):\n",
    "    \n",
    "    try:\n",
    "        interceptCoef = calibration_model.params.const\n",
    "    except:\n",
    "        interceptCoef = 0        \n",
    "    try:\n",
    "        rowScoreCoef = calibration_model.params.row_score\n",
    "    except:\n",
    "        rowScoreCoef = 0\n",
    "    \n",
    "    df['calb_raw_score'] = interceptCoef + rowScoreCoef*df['row_score']\n",
    "    df['calb_pd'] = 1 / (1 + np.exp(-df['calb_raw_score']))\n",
    "    df['score'] = offset - (np.log(df[\"predicted\"]/(1-df[\"predicted\"]))*factor)\n",
    "    df['score_grp'] = pd.cut(df['score'], divide_by_score).astype('category')\n",
    "    df['calb_score'] = offset - (np.log(df[\"calb_pd\"]/(1-df[\"calb_pd\"]))*factor)\n",
    "    df['calb_score_grp'] = pd.cut(df['calb_score'], divide_by_score).astype('category')\n",
    "    df['pd_grp'] = pd.cut(df['predicted'], divide_by_pd).astype('category')\n",
    "    df['calb_pd_grp'] = pd.cut(df['calb_pd'], divide_by_pd).astype('category')\n",
    "    df = df.sort_values(by='calb_pd', ascending=False)\n",
    "    df['row'] = np.arange(1, df.shape[0]+1)\n",
    "    df['calb_row_grp'] = pd.cut(df['row'], divide_by_cnt).astype('category')\n",
    "    gc.collect()\n",
    "    return df"
   ]
  },
  {
   "cell_type": "code",
   "execution_count": 268,
   "id": "f7536bf7",
   "metadata": {},
   "outputs": [],
   "source": [
    "def create_performance_measurement_results(df, title):\n",
    "    df_sum = df.copy()\n",
    "    temp_score = df_sum.groupby(\"calb_score_grp\", observed=True )[\"actual\", \"predicted\", \"calb_pd\", \"count\",\"calb_score_grp\"].agg(\"sum\").reset_index() \n",
    "    temp_score.index = np.arange(1, len(temp_score) + 1)\n",
    "    \n",
    "    temp_row = df_sum.groupby(\"calb_row_grp\", observed=True )[\"actual\", \"predicted\", \"calb_pd\", \"count\",\"calb_score_grp\"].agg(\"sum\").reset_index() \n",
    "    temp_row.index = np.arange(1, len(temp_row) + 1)\n",
    "    \n",
    "    temp_score['act_avg_pd'] = temp_score[\"actual\"]/temp_score[\"count\"]\n",
    "    temp_score['pred_avg_pd'] = temp_score[\"predicted\"]/temp_score[\"count\"]\n",
    "    temp_score['calb_avg_pd'] = temp_score[\"calb_pd\"]/temp_score[\"count\"]\n",
    "    temp_score['dist'] = temp_score[\"count\"]/df_sum.shape[0]\n",
    "    \n",
    "    temp_row['act_avg_pd'] = temp_row[\"actual\"]/temp_row[\"count\"]\n",
    "    temp_row['pred_avg_pd'] = temp_row[\"predicted\"]/temp_row[\"count\"]\n",
    "    temp_row['calb_avg_pd'] = temp_row[\"calb_pd\"]/temp_row[\"count\"]\n",
    "    temp_row['dist'] = temp_row[\"count\"]/df_sum.shape[0]\n",
    "    \n",
    "    fig_score = plt.figure()\n",
    "    plt.plot(temp_score[\"act_avg_pd\"], '-r')  # red\n",
    "    plt.plot(temp_score[\"pred_avg_pd\"], '--b')  # blue\n",
    "    plt.plot(temp_score[\"calb_avg_pd\"], ':k')  # black\n",
    "    plt.legend(['Actual', 'Predicted', 'Calibrated'], loc='upper right', shadow=True)\n",
    "    plt.title(title+\" - Average PD by Score\")\n",
    "    plt.xlabel(\"Score bins\")\n",
    "    plt.ylabel(\"pd\")\n",
    "    plt.close()\n",
    "    \n",
    "    fig_row = plt.figure()\n",
    "    plt.plot(temp_row[\"act_avg_pd\"], '-r')  # red\n",
    "    plt.plot(temp_row[\"pred_avg_pd\"], '--b')  # blue\n",
    "    plt.plot(temp_row[\"calb_avg_pd\"], ':k')  # black\n",
    "    plt.legend(['Actual', 'Predicted', 'Calibrated'], loc='upper right', shadow=True)\n",
    "    plt.title(title+\" - Average PD by Population Bins\")\n",
    "    plt.xlabel(\"Population bins\")\n",
    "    plt.ylabel(\"pd\")\n",
    "    plt.close()\n",
    "    del df_sum\n",
    "    gc.collect()\n",
    "    return temp_score, temp_row, fig_score, fig_row"
   ]
  },
  {
   "cell_type": "code",
   "execution_count": 269,
   "id": "0d3d4f67",
   "metadata": {},
   "outputs": [],
   "source": [
    "def set_params(seed):\n",
    "    params = {\n",
    "    # Parameters that we are going to tune.\n",
    "    'eta' : 0.1,\n",
    "    'max_depth': 6,\n",
    "    'min_child_weight': 5,\n",
    "    'subsample': 1,\n",
    "    'colsample_bytree': 1,\n",
    "    'gamma' : 10,\n",
    "    'reg_lambda' :1,\n",
    "    # Other parameters\n",
    "    'objective': \"binary:logistic\",\n",
    "    'eval_metric' : \"auc\",\n",
    "    'booster' : \"gbtree\",\n",
    "    'seed' : seed\n",
    "    }\n",
    "    return params\n"
   ]
  },
  {
   "cell_type": "code",
   "execution_count": 270,
   "id": "7fcb5208",
   "metadata": {},
   "outputs": [],
   "source": [
    "def execute_grid_search(df, key_var, grid_params, splitting_perc, min_date, seed, random_search, diff_threshold, grid_size):\n",
    "    start_time = datetime.now()\n",
    "    \n",
    "    train_index, test_index, oot_index = set_split_index(df, splitting_perc, seed, min_date)\n",
    "    dtrain, dtest, doot, y_train, y_test, y_oot, train_keys, test_keys, oot_keys = split_df_by_index(df, key_var, train_index, test_index, oot_index)\n",
    "    \n",
    "    evallist = [(dtrain, 'train'),(dtest, 'eval')]\n",
    "    \n",
    "    grid_params = expand_grid(grid_params)\n",
    "    \n",
    "    if random_search:\n",
    "        grid_params = grid_params.sample(n=grid_size, replace = False, random_state=seed)\n",
    "        \n",
    "    xgb_gs = pd.DataFrame() #create xgboost grid search dataframe\n",
    "    \n",
    "    iter_count = 0\n",
    "    for i in range(grid_params.shape[0]):\n",
    "        params = {\n",
    "            'eta' : grid_params['eta'].iloc[i],\n",
    "            'max_depth': grid_params['max_depth'].iloc[i],\n",
    "            'min_child_weight': grid_params['min_child_weight'].iloc[i],\n",
    "            'subsample': grid_params['subsample'].iloc[i],\n",
    "            'colsample_bytree': grid_params['colsample_bytree'].iloc[i],\n",
    "            'gamma' : grid_params['gamma'].iloc[i],  # [10, 20, 30, 40]\n",
    "            'reg_lambda' : grid_params['reg_lambda'].iloc[i],\n",
    "            # Other parameters\n",
    "            'objective': grid_params['objective'].iloc[i],\n",
    "            'eval_metric' : grid_params['eval_metric'].iloc[i],\n",
    "            'booster' : grid_params['booster'].iloc[i],\n",
    "            'seed' : seed           \n",
    "            }\n",
    "        iter_count = iter_count+1\n",
    "        print('\\niteration:', iter_count)\n",
    "        bst = xgb.train(params=params, dtrain=dtrain, num_boost_round=400, evals=evallist, early_stopping_rounds=10, verbose_eval=100 )\n",
    "        \n",
    "        pred_train = bst.predict(dtrain, ntree_limit=bst.best_ntree_limit)\n",
    "        pred_test = bst.predict(dtest, ntree_limit=bst.best_ntree_limit) \n",
    "        pred_oot = bst.predict(doot, ntree_limit=bst.best_ntree_limit)\n",
    "        \n",
    "        train_df = pd.DataFrame({'sample': 'train', \n",
    "                                  'actual': y_train, \n",
    "                                  'predicted' : pred_train\n",
    "                                #  'FM_CUSTOMER_ID':, \n",
    "                                #  'REPORT_DATE': , \n",
    "                                  })\n",
    "        test_df = pd.DataFrame({'sample': 'test', \n",
    "                                  'actual': y_test, \n",
    "                                  'predicted' : pred_test\n",
    "                                #  'FM_CUSTOMER_ID':, \n",
    "                                #  'REPORT_DATE': , \n",
    "                                  })\n",
    "        oot_df = pd.DataFrame({'sample': 'oot', \n",
    "                                  'actual': y_oot, \n",
    "                                  'predicted' : pred_oot\n",
    "                                #  'FM_CUSTOMER_ID':, \n",
    "                                #  'REPORT_DATE': , \n",
    "                                  })\n",
    "        predictions = train_df.append([test_df, oot_df])\n",
    "        ##predictions[['actual', 'predicted']] = predictions[['actual', 'predicted']].apply(lambda x: round(100*x, 2))\n",
    "\n",
    "        auc_train, gini_train = cal_auc_and_gini(predictions, sample='train',pred_name='predicted')\n",
    "        auc_test, gini_test = cal_auc_and_gini(predictions, sample='test',pred_name='predicted')\n",
    "        auc_oot, gini_oot = cal_auc_and_gini(predictions, sample='oot', pred_name='predicted')\n",
    "        \n",
    "        perf_sum = predictions.groupby(\"sample\").agg(\"mean\").reset_index()\n",
    "        perf_sum[['actual', 'predicted']] = perf_sum[['actual', 'predicted']].apply(lambda x: round(100*x, 2))\n",
    "        \n",
    "        perf_sum['auc'] = 0\n",
    "        perf_sum['gini'] = 0\n",
    "        perf_sum.loc[perf_sum['sample'] == 'train', 'auc'] = auc_train\n",
    "        perf_sum.loc[perf_sum['sample'] == 'test', 'auc'] = auc_test\n",
    "        perf_sum.loc[perf_sum['sample'] == 'oot', 'auc'] = auc_oot\n",
    "        perf_sum.loc[perf_sum['sample'] == 'train', 'gini'] = gini_train\n",
    "        perf_sum.loc[perf_sum['sample'] == 'test', 'gini'] = gini_test\n",
    "        perf_sum.loc[perf_sum['sample'] == 'oot', 'gini'] = gini_oot\n",
    "        \n",
    "        perf_sum['eta'] = grid_params['eta'].iloc[i]\n",
    "        perf_sum['max_depth'] = grid_params['max_depth'].iloc[i]\n",
    "        perf_sum['min_child_weight'] = grid_params['min_child_weight'].iloc[i]\n",
    "        perf_sum['subsample'] = grid_params['subsample'].iloc[i]\n",
    "        perf_sum['colsample_bytree'] = grid_params['colsample_bytree'].iloc[i]\n",
    "        perf_sum['gamma'] = grid_params['gamma'].iloc[i]\n",
    "        perf_sum['reg_lambda'] = grid_params['reg_lambda'].iloc[i]\n",
    "        perf_sum['objective'] = grid_params['objective'].iloc[i]\n",
    "        perf_sum['eval_metric'] = grid_params['eval_metric'].iloc[i]\n",
    "        perf_sum['booster'] = grid_params['booster'].iloc[i]\n",
    "        perf_sum['grid_iter'] = iter_count\n",
    "        \n",
    "        xgb_gs = xgb_gs.append(perf_sum, ignore_index=True)\n",
    "        \n",
    "        del auc_train, auc_test, auc_oot, gini_train, gini_test, gini_oot, bst, predictions, train_df, test_df, oot_df, pred_train, pred_test, pred_oot\n",
    "        gc.collect()\n",
    "        \n",
    "    print(\"\\n----selecting best grid iteration----\")\n",
    "    #select best grid results\n",
    "    xgb_gs_train = xgb_gs.loc[xgb_gs['sample'] == \"train\"]\n",
    "    xgb_gs_train = xgb_gs_train.sort_values('gini', ascending=False)\n",
    "    \n",
    "    best_gs_iter = np.nan\n",
    "    xgb_gs_train['trainGini'] = np.nan\n",
    "    xgb_gs_train['testGini'] = np.nan\n",
    "    xgb_gs_train['ootGini'] = np.nan\n",
    "    xgb_gs_train['testDiff'] = np.nan\n",
    "    xgb_gs_train['ootDiff'] = np.nan\n",
    "    xgb_gs_train['avgDiff'] = np.nan\n",
    "    \n",
    "    for i in xgb_gs_train.index:\n",
    "        iter_ = xgb_gs_train.loc[i, 'grid_iter']\n",
    "            \n",
    "        train_gini = xgb_gs.loc[(xgb_gs['grid_iter'] == iter_) & (xgb_gs['sample']=='train'), 'gini'].iloc[0]\n",
    "        test_gini = xgb_gs.loc[(xgb_gs['grid_iter'] == iter_) & (xgb_gs['sample']=='test'), 'gini'].iloc[0]\n",
    "        oot_gini = xgb_gs.loc[(xgb_gs['grid_iter'] == iter_) & (xgb_gs['sample']=='oot'), 'gini'].iloc[0]    \n",
    "        \n",
    "        xgb_gs_train.loc[i, 'trainGini'] = train_gini\n",
    "        xgb_gs_train.loc[i, 'testGini'] = test_gini\n",
    "        xgb_gs_train.loc[i, 'ootGini'] = oot_gini\n",
    "        xgb_gs_train.loc[i, 'testDiff'] = abs(train_gini - test_gini)\n",
    "        xgb_gs_train.loc[i, 'ootDiff'] = abs(train_gini - oot_gini)\n",
    "        xgb_gs_train.loc[i, 'avgDiff'] = (abs(train_gini - test_gini) + abs(train_gini - oot_gini))/2\n",
    "\n",
    "    del i, iter_, train_gini, test_gini, oot_gini\n",
    "    gc.collect()\n",
    "\n",
    "    xgb_gs_train_base = xgb_gs_train.copy()\n",
    "    xgb_gs_train = xgb_gs_train.loc[xgb_gs_train['gini'] > 0].copy()\n",
    "    minAvgDiff = xgb_gs_train['avgDiff'].min()\n",
    "\n",
    "    if minAvgDiff <= diff_threshold:\n",
    "        xgb_gs_train_f = xgb_gs_train.loc[xgb_gs_train['avgDiff'] <= diff_threshold].copy()\n",
    "        max_train_gini = xgb_gs_train_f['gini'].max()\n",
    "        \n",
    "        xgb_gs_train_f['StdDev'] = np.nan\n",
    "        xgb_gs_train_f['trainGiniPrevious'] = max_train_gini\n",
    "        xgb_gs_train_f['trainGiniPreviousDiff'] = np.nan\n",
    "        xgb_gs_train_f['finalEvaluationScore'] = np.nan\n",
    "        \n",
    "        for i in xgb_gs_train_f.index: \n",
    "            train_gini = xgb_gs_train_f.loc[i, 'trainGini']\n",
    "            test_gini = xgb_gs_train_f.loc[i, 'testGini']\n",
    "            oot_gini = xgb_gs_train_f.loc[i, 'ootGini']\n",
    "            xgb_gs_train_f.loc[i, 'StdDev'] = stdev([train_gini,test_gini,oot_gini])\n",
    "            xgb_gs_train_f.loc[i, 'trainGiniPreviousDiff'] = max_train_gini - train_gini\n",
    "            xgb_gs_train_f.loc[i, 'finalEvaluationScore'] = ((0.50 * xgb_gs_train_f.loc[i, 'trainGiniPreviousDiff']) + (0.25 * xgb_gs_train_f.loc[i, 'avgDiff']) + (0.25 * xgb_gs_train_f.loc[i, 'StdDev']))\n",
    "            \n",
    "            \n",
    "        xgb_gs_train = pd.merge(xgb_gs_train,xgb_gs_train_f[['grid_iter','StdDev', 'trainGiniPrevious', 'trainGiniPreviousDiff','finalEvaluationScore']],on='grid_iter', how='left')\n",
    "        min_final_eva_score = copy.copy(xgb_gs_train_f['finalEvaluationScore'].min())\n",
    "        best_gs_iter = xgb_gs_train_f.loc[xgb_gs_train_f['finalEvaluationScore'] <= min_final_eva_score, 'grid_iter'].iloc[0]\n",
    "        xgb_gs_train = pd.merge(xgb_gs_train_base,xgb_gs_train[['grid_iter','StdDev', 'trainGiniPrevious', 'trainGiniPreviousDiff','finalEvaluationScore']],on='grid_iter', how='left')\n",
    "        del i, train_gini, test_gini, oot_gini\n",
    "        gc.collect()\n",
    "    else:\n",
    "        min_diff = xgb_gs_train['avgDiff'].min()\n",
    "        min_diff_gini = xgb_gs_train.loc[xgb_gs_train['avgDiff'] <= minAvgDiff, 'gini'].iloc[0]\n",
    "        for i in xgb_gs_train.index:\n",
    "            #iter_ = j['grid_iter']\n",
    "            diff_increase = xgb_gs_train.loc[i, 'avgDiff'] - min_diff\n",
    "            gini_decrease = xgb_gs_train.loc[i, 'gini'] - min_diff_gini\n",
    "            xgb_gs_train.loc[i, 'finalEvaluationScore'] = 5*diff_increase - gini_decrease\n",
    "        \n",
    "        min_final_eva_score = xgb_gs_train['finalEvaluationScore'].min()\n",
    "        best_gs_iter = xgb_gs_train.loc[xgb_gs_train['finalEvaluationScore'] <= min_final_eva_score, 'grid_iter'].iloc[0]\n",
    "        xgb_gs_train = xgb_gs_train.reset_index(drop=True)\n",
    "        xgb_gs_train = pd.merge(xgb_gs_train_base,xgb_gs_train[['grid_iter','finalEvaluationScore']],on='grid_iter', how='left')\n",
    "        del i, diff_increase, gini_decrease, min_diff, min_diff_gini\n",
    "        gc.collect()\n",
    "    print(\"best grid iteration:\", best_gs_iter)\n",
    "    \n",
    "    params = {\n",
    "    # Parameters that we are going to tune.\n",
    "    'eta' : xgb_gs_train.loc[xgb_gs_train['grid_iter'] == best_gs_iter,'eta'].iloc[0],\n",
    "    'max_depth': xgb_gs_train.loc[xgb_gs_train['grid_iter'] == best_gs_iter,'max_depth'].iloc[0],\n",
    "    'min_child_weight': xgb_gs_train.loc[xgb_gs_train['grid_iter'] == best_gs_iter,'min_child_weight'].iloc[0],\n",
    "    'subsample': xgb_gs_train.loc[xgb_gs_train['grid_iter'] == best_gs_iter,'subsample'].iloc[0],\n",
    "    'colsample_bytree': xgb_gs_train.loc[xgb_gs_train['grid_iter'] == best_gs_iter,'colsample_bytree'].iloc[0],\n",
    "    'gamma' : xgb_gs_train.loc[xgb_gs_train['grid_iter'] == best_gs_iter,'gamma'].iloc[0],\n",
    "    'reg_lambda' : xgb_gs_train.loc[xgb_gs_train['grid_iter'] == best_gs_iter,'reg_lambda'].iloc[0],\n",
    "    # Other parameters\n",
    "    'objective': xgb_gs_train.loc[xgb_gs_train['grid_iter'] == best_gs_iter,'objective'].iloc[0],\n",
    "    'eval_metric' : xgb_gs_train.loc[xgb_gs_train['grid_iter'] == best_gs_iter,'eval_metric'].iloc[0],\n",
    "    'booster' : xgb_gs_train.loc[xgb_gs_train['grid_iter'] == best_gs_iter,'booster'].iloc[0],\n",
    "    'seed' : seed\n",
    "    }\n",
    "    xgb_gs_train[['actual', 'predicted']] = xgb_gs_train[['actual', 'predicted']].apply(lambda x: round(x, 2))\n",
    "    end_time = datetime.now()\n",
    "    print('Grid Search duration: {}'.format(end_time - start_time))\n",
    "    return xgb_gs_train, best_gs_iter, params"
   ]
  },
  {
   "cell_type": "code",
   "execution_count": 271,
   "id": "df7639af",
   "metadata": {},
   "outputs": [],
   "source": [
    "def execute_final_model(df, key_var, params, splitting_perc, seed, num_boost_round, early_stopping_rounds, verbose_eval):\n",
    "    print(\"\\n----final model----\")\n",
    "    train_index, test_index, oot_index = set_split_index(df, splitting_perc, seed, min_date)\n",
    "    dtrain, dtest, doot, y_train, y_test, y_oot, train_keys, test_keys, oot_keys = split_df_by_index(df, key_var, train_index, test_index, oot_index)\n",
    "    print(\"\\n\")\n",
    "    \n",
    "    evallist = [(dtrain, 'train'),(dtest, 'eval')]\n",
    "    \n",
    "    bst = xgb.train(params=params, dtrain=dtrain, num_boost_round=num_boost_round, evals=evallist, early_stopping_rounds=early_stopping_rounds, verbose_eval=verbose_eval )\n",
    "    \n",
    "    pred_train = bst.predict(dtrain, ntree_limit=bst.best_ntree_limit)\n",
    "    pred_test = bst.predict(dtest, ntree_limit=bst.best_ntree_limit) \n",
    "    pred_oot = bst.predict(doot, ntree_limit=bst.best_ntree_limit)\n",
    "    \n",
    "    train_df = pd.DataFrame({'sample': 'train', \n",
    "                              'actual': y_train, \n",
    "                              'predicted' : pred_train,\n",
    "                              'APP_ID': train_keys[\"APP_ID\"], \n",
    "                              'APPLICATION_DATE': train_keys[\"APPLICATION_DATE\"] \n",
    "                              })\n",
    "    \n",
    "    test_df = pd.DataFrame({'sample': 'test', \n",
    "                             'actual': y_test, \n",
    "                             'predicted' : pred_test,\n",
    "                             'APP_ID': test_keys[\"APP_ID\"], \n",
    "                             'APPLICATION_DATE': test_keys[\"APPLICATION_DATE\"] \n",
    "                              })\n",
    "    oot_df = pd.DataFrame({'sample': 'oot', \n",
    "                            'actual': y_oot, \n",
    "                            'predicted' : pred_oot,\n",
    "                            'APP_ID': oot_keys[\"APP_ID\"], \n",
    "                             'APPLICATION_DATE': oot_keys[\"APPLICATION_DATE\"]\n",
    "                              })\n",
    "    predictions = train_df.append([test_df, oot_df])\n",
    "    del train_df, test_df, oot_df, pred_train, pred_test, pred_oot\n",
    "    gc.collect()\n",
    "    perf_sum = predictions.groupby(\"sample\").agg(\"mean\").reset_index().drop(columns='APP_ID')\n",
    "    perf_sum[['actual', 'predicted']] = perf_sum[['actual', 'predicted']].apply(lambda x: round(100*x, 2))\n",
    "    \n",
    "    ### Calibration ###\n",
    "    \n",
    "    divide_by_score = np.arange(0, 1001, 10)\n",
    "    divide_by_pd = 10\n",
    "    divide_by_cnt = 10\n",
    "    factor = 20/np.log(2)\n",
    "    offset = 500 - factor*np.log(50)\n",
    "    \n",
    "    train_sum = create_calibration_df(predictions, sample='train')\n",
    "    test_sum = create_calibration_df(predictions, sample='test')\n",
    "    oot_sum = create_calibration_df(predictions, sample='oot')\n",
    "    \n",
    "    calibration_model = sm.GLM(train_sum.actual, sm.add_constant(train_sum.row_score), family=sm.families.Binomial()).fit()\n",
    "    \n",
    "    train_sum = apply_calibration(train_sum, calibration_model, divide_by_score, divide_by_pd, divide_by_cnt, factor, offset)\n",
    "    test_sum = apply_calibration(test_sum, calibration_model, divide_by_score, divide_by_pd, divide_by_cnt, factor, offset)\n",
    "    oot_sum = apply_calibration(oot_sum, calibration_model, divide_by_score, divide_by_pd, divide_by_cnt, factor, offset)\n",
    "    \n",
    "    predictions_calb = train_sum.append([test_sum, oot_sum])\n",
    "    \n",
    "    auc_train, gini_train = cal_auc_and_gini(train_sum, sample='train', pred_name='predicted')\n",
    "    auc_test, gini_test = cal_auc_and_gini(test_sum, sample='test', pred_name='predicted')\n",
    "    auc_oot, gini_oot = cal_auc_and_gini(oot_sum, sample='oot', pred_name='predicted')\n",
    "    auc_train_calb, gini_train_calb = cal_auc_and_gini(train_sum, sample='train',pred_name='calb_pd')\n",
    "    auc_test_calb, gini_test_calb = cal_auc_and_gini(test_sum, sample='test',pred_name='calb_pd')\n",
    "    auc_oot_calb, gini_oot_calb = cal_auc_and_gini(oot_sum, sample='oot',pred_name='calb_pd')\n",
    "    \n",
    "    \n",
    "    ### Performance Summary ###\n",
    "    perf_sum[\"calibrated\"] = np.nan\n",
    "    # case_when\n",
    "    conditions = [(perf_sum['sample'].eq(\"train\")), \n",
    "                  (perf_sum['sample'].eq(\"test\")),\n",
    "                  (perf_sum['sample'].eq(\"oot\"))]\n",
    "    choices = [np.mean(train_sum['calb_pd']), np.mean(test_sum['calb_pd']), np.mean(oot_sum['calb_pd'])]\n",
    "    perf_sum[\"calibrated\"] = np.select(conditions, choices)\n",
    "    \n",
    "    perf_sum[\"calibrated\"] = perf_sum[\"calibrated\"].apply(lambda x: round(100*x, 2))\n",
    "    \n",
    "    perf_sum['auc'] = 0\n",
    "    perf_sum['auc_calb'] = 0\n",
    "    perf_sum.loc[perf_sum['sample'] == 'train', 'auc'] = auc_train\n",
    "    perf_sum.loc[perf_sum['sample'] == 'test', 'auc'] = auc_test\n",
    "    perf_sum.loc[perf_sum['sample'] == 'oot', 'auc'] = auc_oot\n",
    "    perf_sum.loc[perf_sum['sample'] == 'train', 'gini'] = gini_train\n",
    "    perf_sum.loc[perf_sum['sample'] == 'test', 'gini'] = gini_test\n",
    "    perf_sum.loc[perf_sum['sample'] == 'oot', 'gini'] = gini_oot\n",
    "    \n",
    "    perf_sum.loc[perf_sum['sample'] == 'train', 'auc_calb'] = auc_train_calb\n",
    "    perf_sum.loc[perf_sum['sample'] == 'test', 'auc_calb'] = auc_test_calb\n",
    "    perf_sum.loc[perf_sum['sample'] == 'oot', 'auc_calb'] = auc_oot_calb\n",
    "    perf_sum.loc[perf_sum['sample'] == 'train', 'gini_calb'] = gini_train_calb\n",
    "    perf_sum.loc[perf_sum['sample'] == 'test', 'gini_calb'] = gini_test_calb\n",
    "    perf_sum.loc[perf_sum['sample'] == 'oot', 'gini_calb'] = gini_oot_calb\n",
    "    \n",
    "    save_params = params.copy()\n",
    "    save_params[\"num_boost_round\"] = num_boost_round\n",
    "    save_params[\"early_stopping_rounds\"] = early_stopping_rounds\n",
    "    save_params[\"verbose_eval\"] = verbose_eval\n",
    "    perf_sum[\"parameters\"] = str(save_params)\n",
    "    \n",
    "    ## feature importance \n",
    "    \n",
    "    # ‘weight’: the number of times a feature is used to split the data across all trees.\n",
    "    # ‘gain’: the average gain across all splits the feature is used in.\n",
    "    # ‘cover’: the average coverage across all splits the feature is used in.\n",
    "    # ‘total_gain’: the total gain across all splits the feature is used in.\n",
    "    # ‘total_cover’: the total coverage across all splits the feature is used in.\n",
    "    \n",
    "    importance_xgb = pd.DataFrame.from_dict(data=bst.get_score(importance_type='weight'), orient='index')\n",
    "    importance_xgb = importance_xgb.reset_index()\n",
    "    importance_xgb.columns = [\"features\",\"weight\"]\n",
    "    \n",
    "    for i in ['gain', 'cover', 'total_gain', 'total_cover']:\n",
    "        temp_imp = pd.DataFrame.from_dict(data=bst.get_score(importance_type=i), orient='index')\n",
    "        temp_imp.columns = [i]\n",
    "        importance_xgb = importance_xgb.merge(temp_imp, left_on=\"features\", right_index=True)\n",
    "        del temp_imp\n",
    "        gc.collect()\n",
    "        \n",
    "    importance_xgb[\"total_gain_score\"] =  importance_xgb[\"total_gain\"] / importance_xgb[\"total_gain\"].sum()\n",
    "    importance_xgb = importance_xgb.sort_values('total_gain_score', ascending=False)\n",
    "    del auc_train, auc_test, auc_oot, gini_train, gini_test, gini_oot, save_params\n",
    "    del auc_train_calb, auc_test_calb, auc_oot_calb, gini_train_calb, gini_test_calb, gini_oot_calb\n",
    "    gc.collect()\n",
    "    return bst, predictions, predictions_calb, train_sum, test_sum, oot_sum, perf_sum, importance_xgb,calibration_model\n"
   ]
  },
  {
   "cell_type": "code",
   "execution_count": 272,
   "id": "5746d4cf",
   "metadata": {},
   "outputs": [],
   "source": [
    "def performance_measurement():\n",
    "    # performance measurement\n",
    "    train_sum_by_calb_score, train_sum_by_calb_row, fig_train_score, fig_train_row = create_performance_measurement_results(train_sum, title=\"Train\")\n",
    "    test_sum_by_calb_score, test_sum_by_calb_row, fig_test_score, fig_test_row = create_performance_measurement_results(test_sum, title=\"Test\")\n",
    "    oot_sum_by_calb_score, oot_sum_by_calb_row, fig_oot_score, fig_oot_row = create_performance_measurement_results(oot_sum, title=\"Oot\")\n",
    "    return train_sum_by_calb_score, train_sum_by_calb_row, fig_train_score, fig_train_row, test_sum_by_calb_score, test_sum_by_calb_row, fig_test_score, fig_test_row, oot_sum_by_calb_score, oot_sum_by_calb_row, fig_oot_score, fig_oot_row\n",
    "\n"
   ]
  },
  {
   "cell_type": "code",
   "execution_count": 273,
   "id": "01715634",
   "metadata": {},
   "outputs": [],
   "source": [
    "def calculate_auc_gini_for_segment(dfPredictions, segmentType, segmentTypeGroup, pred_name):\n",
    "  \n",
    "    try:\n",
    "        temp = dfPredictions.copy()\n",
    "        \n",
    "        if segmentType == \"all\":\n",
    "           auc_ = roc_auc_score(temp['actual'], temp[pred_name])\n",
    "        else:\n",
    "           auc_ = roc_auc_score(temp.loc[temp[segmentType] == segmentTypeGroup]['actual'], temp.loc[temp[segmentType] == segmentTypeGroup][pred_name])\n",
    "           \n",
    "        gini_ = round((2*auc_ - 1)*100, 2)\n",
    "        auc_ = round(auc_*100, 2)\n",
    "    except:    \n",
    "        print('Gini is not calculated for:' , segmentType, segmentTypeGroup)\n",
    "        gini_ = \"not calculated\"\n",
    "        auc_ = \"not calculated\"\n",
    "\n",
    "    del temp\n",
    "    gc.collect()\n",
    "    \n",
    "    return auc_,gini_\n"
   ]
  },
  {
   "cell_type": "code",
   "execution_count": 274,
   "id": "eadaf3e7",
   "metadata": {},
   "outputs": [],
   "source": [
    "def evaluate_performance_by_segment():\n",
    "    # performance measurement by different segmentation scenarios    \n",
    "    \n",
    "    dfSegmentEvaluation = predictions_calb.merge(dfSegmentation, on=['APP_ID','APPLICATION_DATE'], how='left')\n",
    "    \n",
    "    segment_summary_all_sample = dfSegmentEvaluation.groupby(\"count\", observed=True )[\"actual\", \"predicted\", \"calb_pd\", \"count\"].agg(\"sum\")\n",
    "    segment_summary_all_sample.insert(loc = 0, column = 'segmentType', value = \"all\")\n",
    "    segment_summary_all_sample.insert(loc = 0, column = 'segmentTypeGroup', value = \"all\")\n",
    "    \n",
    "    segment_summary_customer_type = dfSegmentEvaluation.groupby(\"segmentCustomerType\", observed=True )[\"actual\", \"predicted\", \"calb_pd\", \"count\"].agg(\"sum\").reset_index() \n",
    "    segment_summary_customer_type.insert(loc = 0, column = 'segmentType', value = \"segmentCustomerType\")\n",
    "    segment_summary_customer_type.rename(columns={'segmentCustomerType':'segmentTypeGroup'}, inplace = True) \n",
    "\n",
    "    segment_summary_financial_type = dfSegmentEvaluation.groupby(\"segmentFinancialAvailable\", observed=True )[\"actual\", \"predicted\", \"calb_pd\", \"count\"].agg(\"sum\").reset_index() \n",
    "    segment_summary_financial_type.insert(loc = 0, column = 'segmentType', value = \"segmentFinancialAvailable\")\n",
    "    segment_summary_financial_type.rename(columns={'segmentFinancialAvailable':'segmentTypeGroup'}, inplace = True)\n",
    "\n",
    "    segment_summary_customer_tenure = dfSegmentEvaluation.groupby(\"segmentCustomerTenure\", observed=True )[\"actual\", \"predicted\", \"calb_pd\", \"count\"].agg(\"sum\").reset_index() \n",
    "    segment_summary_customer_tenure.insert(loc = 0, column = 'segmentType', value = \"segmentCustomerTenure\")\n",
    "    segment_summary_customer_tenure.rename(columns={'segmentCustomerTenure':'segmentTypeGroup'}, inplace = True)\n",
    "\n",
    "    segment_summary_credit_tenure = dfSegmentEvaluation.groupby(\"segmentCreditTenure\", observed=True )[\"actual\", \"predicted\", \"calb_pd\", \"count\"].agg(\"sum\").reset_index() \n",
    "    segment_summary_credit_tenure.insert(loc = 0, column = 'segmentType', value = \"segmentCreditTenure\")\n",
    "    segment_summary_credit_tenure.rename(columns={'segmentCreditTenure':'segmentTypeGroup'}, inplace = True)\n",
    "\n",
    "    segment_summary_sector_type = dfSegmentEvaluation.groupby(\"segmentSectorType\", observed=True )[\"actual\", \"predicted\", \"calb_pd\", \"count\"].agg(\"sum\").reset_index() \n",
    "    segment_summary_sector_type.insert(loc = 0, column = 'segmentType', value = \"segmentSectorType\")\n",
    "    segment_summary_sector_type.rename(columns={'segmentSectorType':'segmentTypeGroup'}, inplace = True)\n",
    "\n",
    "    segment_summary_limit_level = dfSegmentEvaluation.groupby(\"segmentLimitLevel\", observed=True )[\"actual\", \"predicted\", \"calb_pd\", \"count\"].agg(\"sum\").reset_index() \n",
    "    segment_summary_limit_level.insert(loc = 0, column = 'segmentType', value = \"segmentLimitLevel\")\n",
    "    segment_summary_limit_level.rename(columns={'segmentLimitLevel':'segmentTypeGroup'}, inplace = True)\n",
    "\n",
    "    segment_summary_netsales_level = dfSegmentEvaluation.groupby(\"segmentNetSalesLevel\", observed=True )[\"actual\", \"predicted\", \"calb_pd\", \"count\"].agg(\"sum\").reset_index() \n",
    "    segment_summary_netsales_level.insert(loc = 0, column = 'segmentType', value = \"segmentNetSalesLevel\")\n",
    "    segment_summary_netsales_level.rename(columns={'segmentNetSalesLevel':'segmentTypeGroup'}, inplace = True)\n",
    "\n",
    "    segment_summary_bireysel_mrt = dfSegmentEvaluation.groupby(\"segmentBireyselMrt\", observed=True )[\"actual\", \"predicted\", \"calb_pd\", \"count\"].agg(\"sum\").reset_index() \n",
    "    segment_summary_bireysel_mrt.insert(loc = 0, column = 'segmentType', value = \"segmentBireyselMrt\")\n",
    "    segment_summary_bireysel_mrt.rename(columns={'segmentBireyselMrt':'segmentTypeGroup'}, inplace = True)\n",
    "\n",
    "    segment_summary_bireysel_veh = dfSegmentEvaluation.groupby(\"segmentBireyselVeh\", observed=True )[\"actual\", \"predicted\", \"calb_pd\", \"count\"].agg(\"sum\").reset_index() \n",
    "    segment_summary_bireysel_veh.insert(loc = 0, column = 'segmentType', value = \"segmentBireyselVeh\")\n",
    "    segment_summary_bireysel_veh.rename(columns={'segmentBireyselVeh':'segmentTypeGroup'}, inplace = True)\n",
    "\n",
    "    segment_summary_bireysel_gpl = dfSegmentEvaluation.groupby(\"segmentBireyselGpl\", observed=True )[\"actual\", \"predicted\", \"calb_pd\", \"count\"].agg(\"sum\").reset_index() \n",
    "    segment_summary_bireysel_gpl.insert(loc = 0, column = 'segmentType', value = \"segmentBireyselGpl\")\n",
    "    segment_summary_bireysel_gpl.rename(columns={'segmentBireyselGpl':'segmentTypeGroup'}, inplace = True)\n",
    "\n",
    "    segment_summary_bireysel_cc = dfSegmentEvaluation.groupby(\"segmentBireyselCC\", observed=True )[\"actual\", \"predicted\", \"calb_pd\", \"count\"].agg(\"sum\").reset_index() \n",
    "    segment_summary_bireysel_cc.insert(loc = 0, column = 'segmentType', value = \"segmentBireyselCC\")\n",
    "    segment_summary_bireysel_cc.rename(columns={'segmentBireyselCC':'segmentTypeGroup'}, inplace = True)\n",
    "\n",
    "    segment_summary_bireysel_od = dfSegmentEvaluation.groupby(\"segmentBireyselOD\", observed=True )[\"actual\", \"predicted\", \"calb_pd\", \"count\"].agg(\"sum\").reset_index() \n",
    "    segment_summary_bireysel_od.insert(loc = 0, column = 'segmentType', value = \"segmentBireyselOD\")\n",
    "    segment_summary_bireysel_od.rename(columns={'segmentBireyselOD':'segmentTypeGroup'}, inplace = True)\n",
    "\n",
    "    segment_summary_bireysel_kkb = dfSegmentEvaluation.groupby(\"segmentFMBireyselKKB\", observed=True )[\"actual\", \"predicted\", \"calb_pd\", \"count\"].agg(\"sum\").reset_index() \n",
    "    segment_summary_bireysel_kkb.insert(loc = 0, column = 'segmentType', value = \"segmentFMBireyselKKB\")\n",
    "    segment_summary_bireysel_kkb.rename(columns={'segmentFMBireyselKKB':'segmentTypeGroup'}, inplace = True)\n",
    "\n",
    "    segment_summary_kurumsal_kkb = dfSegmentEvaluation.groupby(\"segmentFMKurumsalKKB\", observed=True )[\"actual\", \"predicted\", \"calb_pd\", \"count\"].agg(\"sum\").reset_index() \n",
    "    segment_summary_kurumsal_kkb.insert(loc = 0, column = 'segmentType', value = \"segmentFMKurumsalKKB\")\n",
    "    segment_summary_kurumsal_kkb.rename(columns={'segmentFMKurumsalKKB':'segmentTypeGroup'}, inplace = True)\n",
    "\n",
    "    dfSegmentEvaluation['segmentCleanDirty'] = np.where(dfSegmentEvaluation['segmentPaymHistoryL12M']==0, 'clean', 'dirty')\n",
    "    segment_summary_clean_dirty = dfSegmentEvaluation.groupby(\"segmentCleanDirty\", observed=True )[\"actual\", \"predicted\", \"calb_pd\", \"count\"].agg(\"sum\").reset_index() \n",
    "    segment_summary_clean_dirty.insert(loc = 0, column = 'segmentType', value = \"segmentCleanDirty\")\n",
    "    segment_summary_clean_dirty.rename(columns={'segmentCleanDirty':'segmentTypeGroup'}, inplace = True)\n",
    "\n",
    "    segment_summary_all = segment_summary_all_sample.append([segment_summary_customer_type, segment_summary_financial_type,segment_summary_customer_tenure,segment_summary_credit_tenure,segment_summary_sector_type, segment_summary_limit_level,segment_summary_netsales_level,segment_summary_bireysel_mrt,segment_summary_bireysel_veh,segment_summary_bireysel_gpl, segment_summary_bireysel_cc, segment_summary_bireysel_od, segment_summary_bireysel_kkb, segment_summary_kurumsal_kkb, segment_summary_clean_dirty])\n",
    "    del segment_summary_all_sample, segment_summary_customer_type, segment_summary_financial_type,segment_summary_customer_tenure,segment_summary_credit_tenure,segment_summary_sector_type, segment_summary_limit_level,segment_summary_netsales_level,segment_summary_bireysel_mrt,segment_summary_bireysel_veh,segment_summary_bireysel_gpl, segment_summary_bireysel_cc, segment_summary_bireysel_od, segment_summary_bireysel_kkb, segment_summary_kurumsal_kkb,segment_summary_clean_dirty\n",
    "    \n",
    "    segment_summary_all[\"avg_pd\"] = segment_summary_all[\"predicted\"]/segment_summary_all[\"count\"]\n",
    "    segment_summary_all[\"avg_calb_pd\"] = segment_summary_all[\"calb_pd\"]/segment_summary_all[\"count\"]\n",
    "    \n",
    "    segment_summary_all[\"auc\"] = np.nan\n",
    "    segment_summary_all[\"auc_calb\"] = np.nan\n",
    "    segment_summary_all[\"gini\"] = np.nan\n",
    "    segment_summary_all[\"gini_calb\"] = np.nan\n",
    "    \n",
    "    for segmentType in pd.unique(segment_summary_all['segmentType']):\n",
    "        for segmentTypeGroup in pd.unique(segment_summary_all.loc[segment_summary_all['segmentType']== segmentType]['segmentTypeGroup']):\n",
    "            aucSegment,giniSegment = calculate_auc_gini_for_segment(dfSegmentEvaluation, segmentType, segmentTypeGroup, \"predicted\")\n",
    "            aucSegment_calb, giniSegment_calb = calculate_auc_gini_for_segment(dfSegmentEvaluation, segmentType, segmentTypeGroup, \"calb_pd\")\n",
    "            segment_summary_all.loc[(segment_summary_all['segmentType'] == segmentType) & (segment_summary_all['segmentTypeGroup'] == segmentTypeGroup), 'auc'] = aucSegment\n",
    "            segment_summary_all.loc[(segment_summary_all['segmentType'] == segmentType) & (segment_summary_all['segmentTypeGroup'] == segmentTypeGroup), 'auc_calb'] = aucSegment_calb\n",
    "            segment_summary_all.loc[(segment_summary_all['segmentType'] == segmentType) & (segment_summary_all['segmentTypeGroup'] == segmentTypeGroup), 'gini'] = giniSegment\n",
    "            segment_summary_all.loc[(segment_summary_all['segmentType'] == segmentType) & (segment_summary_all['segmentTypeGroup'] == segmentTypeGroup), 'gini_calb'] = giniSegment_calb\n",
    "    \n",
    "    return segment_summary_all\n",
    "\n"
   ]
  },
  {
   "cell_type": "code",
   "execution_count": 275,
   "id": "a1866627",
   "metadata": {},
   "outputs": [],
   "source": [
    "####################\n",
    "### Save Results ###\n",
    "####################\n",
    "\n",
    "def save_results(path):\n",
    "    print(\"\\nSaving Results...\")\n",
    "    # create folder\n",
    "    if not os.path.exists(path):\n",
    "        os.mkdir(path)\n",
    "    \n",
    "    # save grid search results\n",
    "    xgb_gs_train.to_excel(path + \"fullgrid.xlsx\" )\n",
    "    \n",
    "    # save predictions\n",
    "    predictions_calb.to_csv(path + \"predictions_calb.csv\" )\n",
    "    \n",
    "    # save performance results\n",
    "    perf_sum.to_excel(path + \"performance_summary.xlsx\" )\n",
    "    \n",
    "    # save comparison plot - actual vs predicted\n",
    "    with matplotlib.backends.backend_pdf.PdfPages(path +'Performance_Details.pdf') as pdf:\n",
    "        for i in [fig_train_score, fig_train_row, fig_test_score, fig_test_row, fig_oot_score, fig_oot_row]:\n",
    "            pdf.savefig(i)\n",
    "        \n",
    "    # save importance features' information\n",
    "    importance_xgb.to_excel(path +\"importance_xgb.xlsx\")   \n",
    "    \n",
    "    \n",
    "    # save model performance summary data\n",
    "    perf_dict = {'train_score': train_sum_by_calb_score, 'train_count': train_sum_by_calb_row,\n",
    "                 'test_score': test_sum_by_calb_score, 'test_count': test_sum_by_calb_row,\n",
    "                 'oot_score': oot_sum_by_calb_score, 'oot_count': oot_sum_by_calb_row}\n",
    "    \n",
    "    with pd.ExcelWriter(path +'Performance_Details_data.xlsx') as writer:\n",
    "        for name_ in perf_dict:\n",
    "            perf_dict[name_].to_excel(writer, sheet_name=name_)\n",
    "    \n",
    "    del perf_dict\n",
    "    gc.collect()\n",
    "    \n",
    "    # save gini performance by various segment breakdown\n",
    "    #segment_summary_all.to_excel(path +\"segment_breakdown.xlsx\")\n",
    "\n",
    "            \n",
    "    # save xgb model object\n",
    "    pickle.dump(bst, open(path +\"model_xgb.pkl\", 'wb'))\n",
    "    # load the xgb model from disk\n",
    "    #loaded_model = pickle.load(open(path+filename, 'rb'))\n",
    "    \n",
    "    # save initial calibration object\n",
    "    #calibration_model.save(path /\"calibration_model.pkl\")\n",
    "    pickle.dump(calibration_model, open(path +\"calibration_model.pkl\", 'wb'))\n",
    "    \n",
    "    #sklearn2pmml(pipeline, path + str(\"xgboost_model.pmml\"), with_repr = True)\n",
    "    # load the calibration model from disk\n",
    "    #loaded_calb = sm.load(path+\"calibration_model.pkl\")\n",
    "\n",
    "    # save character encoding matrix\n",
    "    #encoding_matrix.to_excel(path +\"encoding_matrix.xlsx\")\n",
    "    #encoding_matrix.to_pickle(path +\"encoding_matrix.pkl\")\n"
   ]
  },
  {
   "cell_type": "code",
   "execution_count": 276,
   "id": "d157e642",
   "metadata": {},
   "outputs": [],
   "source": [
    "def execute_preprocess(df, max_threshold):\n",
    "    '''\n",
    "    execute all functions defined for preprocessing\n",
    "    '''\n",
    "    na_report = create_na_report(df)\n",
    "    num_cols, char_cols = create_dtype_report(df)\n",
    "    new_df = eliminate_missing(df, na_report, max_threshold)\n",
    "    new_df = eliminate_single_unique(new_df)\n",
    "    #enc_df = create_encoding_matrix(new_df)\n",
    "    #new_df = encode_from_matrix(new_df, enc_df)\n",
    "    \n",
    "    #save enc_df for later use in prediction code\n",
    "    gc.collect()\n",
    "    print(\"\\nPreprocess is done...\")\n",
    "    return new_df#, enc_df"
   ]
  },
  {
   "cell_type": "code",
   "execution_count": 277,
   "id": "994d943e",
   "metadata": {},
   "outputs": [],
   "source": [
    "key_var = [\"APP_ID\", \"APPLICATION_DATE\", \"TARGET\"]"
   ]
  },
  {
   "cell_type": "code",
   "execution_count": 278,
   "id": "700cf3ef",
   "metadata": {},
   "outputs": [
    {
     "data": {
      "text/html": [
       "<div>\n",
       "<style scoped>\n",
       "    .dataframe tbody tr th:only-of-type {\n",
       "        vertical-align: middle;\n",
       "    }\n",
       "\n",
       "    .dataframe tbody tr th {\n",
       "        vertical-align: top;\n",
       "    }\n",
       "\n",
       "    .dataframe thead th {\n",
       "        text-align: right;\n",
       "    }\n",
       "</style>\n",
       "<table border=\"1\" class=\"dataframe\">\n",
       "  <thead>\n",
       "    <tr style=\"text-align: right;\">\n",
       "      <th></th>\n",
       "      <th>APPLICATION_DATE</th>\n",
       "      <th>Unnamed: 0</th>\n",
       "      <th>APP_ID</th>\n",
       "      <th>age</th>\n",
       "      <th>bp</th>\n",
       "      <th>sg</th>\n",
       "      <th>al</th>\n",
       "      <th>su</th>\n",
       "      <th>rbc</th>\n",
       "      <th>pc</th>\n",
       "      <th>...</th>\n",
       "      <th>pcv</th>\n",
       "      <th>wc</th>\n",
       "      <th>rc</th>\n",
       "      <th>htn</th>\n",
       "      <th>dm</th>\n",
       "      <th>cad</th>\n",
       "      <th>appet</th>\n",
       "      <th>pe</th>\n",
       "      <th>ane</th>\n",
       "      <th>TARGET</th>\n",
       "    </tr>\n",
       "  </thead>\n",
       "  <tbody>\n",
       "    <tr>\n",
       "      <th>0</th>\n",
       "      <td>2021-06-01</td>\n",
       "      <td>0</td>\n",
       "      <td>0</td>\n",
       "      <td>48.0</td>\n",
       "      <td>80.0</td>\n",
       "      <td>1.020</td>\n",
       "      <td>1.0</td>\n",
       "      <td>0.0</td>\n",
       "      <td>2</td>\n",
       "      <td>1</td>\n",
       "      <td>...</td>\n",
       "      <td>32</td>\n",
       "      <td>72</td>\n",
       "      <td>34</td>\n",
       "      <td>1</td>\n",
       "      <td>4</td>\n",
       "      <td>1</td>\n",
       "      <td>0</td>\n",
       "      <td>0</td>\n",
       "      <td>0</td>\n",
       "      <td>0</td>\n",
       "    </tr>\n",
       "    <tr>\n",
       "      <th>1</th>\n",
       "      <td>2021-06-02</td>\n",
       "      <td>1</td>\n",
       "      <td>1</td>\n",
       "      <td>7.0</td>\n",
       "      <td>50.0</td>\n",
       "      <td>1.020</td>\n",
       "      <td>4.0</td>\n",
       "      <td>0.0</td>\n",
       "      <td>2</td>\n",
       "      <td>1</td>\n",
       "      <td>...</td>\n",
       "      <td>26</td>\n",
       "      <td>56</td>\n",
       "      <td>49</td>\n",
       "      <td>0</td>\n",
       "      <td>3</td>\n",
       "      <td>1</td>\n",
       "      <td>0</td>\n",
       "      <td>0</td>\n",
       "      <td>0</td>\n",
       "      <td>1</td>\n",
       "    </tr>\n",
       "    <tr>\n",
       "      <th>2</th>\n",
       "      <td>2021-06-03</td>\n",
       "      <td>2</td>\n",
       "      <td>2</td>\n",
       "      <td>62.0</td>\n",
       "      <td>80.0</td>\n",
       "      <td>1.010</td>\n",
       "      <td>2.0</td>\n",
       "      <td>3.0</td>\n",
       "      <td>1</td>\n",
       "      <td>1</td>\n",
       "      <td>...</td>\n",
       "      <td>19</td>\n",
       "      <td>70</td>\n",
       "      <td>49</td>\n",
       "      <td>0</td>\n",
       "      <td>4</td>\n",
       "      <td>1</td>\n",
       "      <td>1</td>\n",
       "      <td>0</td>\n",
       "      <td>1</td>\n",
       "      <td>1</td>\n",
       "    </tr>\n",
       "    <tr>\n",
       "      <th>3</th>\n",
       "      <td>2021-06-04</td>\n",
       "      <td>3</td>\n",
       "      <td>3</td>\n",
       "      <td>48.0</td>\n",
       "      <td>70.0</td>\n",
       "      <td>1.005</td>\n",
       "      <td>4.0</td>\n",
       "      <td>0.0</td>\n",
       "      <td>1</td>\n",
       "      <td>0</td>\n",
       "      <td>...</td>\n",
       "      <td>20</td>\n",
       "      <td>62</td>\n",
       "      <td>19</td>\n",
       "      <td>1</td>\n",
       "      <td>3</td>\n",
       "      <td>1</td>\n",
       "      <td>1</td>\n",
       "      <td>1</td>\n",
       "      <td>1</td>\n",
       "      <td>1</td>\n",
       "    </tr>\n",
       "    <tr>\n",
       "      <th>4</th>\n",
       "      <td>2021-06-05</td>\n",
       "      <td>4</td>\n",
       "      <td>4</td>\n",
       "      <td>51.0</td>\n",
       "      <td>80.0</td>\n",
       "      <td>1.010</td>\n",
       "      <td>2.0</td>\n",
       "      <td>0.0</td>\n",
       "      <td>1</td>\n",
       "      <td>1</td>\n",
       "      <td>...</td>\n",
       "      <td>23</td>\n",
       "      <td>68</td>\n",
       "      <td>27</td>\n",
       "      <td>0</td>\n",
       "      <td>3</td>\n",
       "      <td>1</td>\n",
       "      <td>0</td>\n",
       "      <td>0</td>\n",
       "      <td>0</td>\n",
       "      <td>0</td>\n",
       "    </tr>\n",
       "    <tr>\n",
       "      <th>...</th>\n",
       "      <td>...</td>\n",
       "      <td>...</td>\n",
       "      <td>...</td>\n",
       "      <td>...</td>\n",
       "      <td>...</td>\n",
       "      <td>...</td>\n",
       "      <td>...</td>\n",
       "      <td>...</td>\n",
       "      <td>...</td>\n",
       "      <td>...</td>\n",
       "      <td>...</td>\n",
       "      <td>...</td>\n",
       "      <td>...</td>\n",
       "      <td>...</td>\n",
       "      <td>...</td>\n",
       "      <td>...</td>\n",
       "      <td>...</td>\n",
       "      <td>...</td>\n",
       "      <td>...</td>\n",
       "      <td>...</td>\n",
       "      <td>...</td>\n",
       "    </tr>\n",
       "    <tr>\n",
       "      <th>393</th>\n",
       "      <td>2022-06-29</td>\n",
       "      <td>395</td>\n",
       "      <td>395</td>\n",
       "      <td>55.0</td>\n",
       "      <td>80.0</td>\n",
       "      <td>1.020</td>\n",
       "      <td>0.0</td>\n",
       "      <td>0.0</td>\n",
       "      <td>1</td>\n",
       "      <td>1</td>\n",
       "      <td>...</td>\n",
       "      <td>35</td>\n",
       "      <td>62</td>\n",
       "      <td>30</td>\n",
       "      <td>0</td>\n",
       "      <td>3</td>\n",
       "      <td>1</td>\n",
       "      <td>0</td>\n",
       "      <td>0</td>\n",
       "      <td>0</td>\n",
       "      <td>1</td>\n",
       "    </tr>\n",
       "    <tr>\n",
       "      <th>394</th>\n",
       "      <td>2022-06-30</td>\n",
       "      <td>396</td>\n",
       "      <td>396</td>\n",
       "      <td>42.0</td>\n",
       "      <td>70.0</td>\n",
       "      <td>1.025</td>\n",
       "      <td>0.0</td>\n",
       "      <td>0.0</td>\n",
       "      <td>1</td>\n",
       "      <td>1</td>\n",
       "      <td>...</td>\n",
       "      <td>42</td>\n",
       "      <td>72</td>\n",
       "      <td>44</td>\n",
       "      <td>0</td>\n",
       "      <td>3</td>\n",
       "      <td>1</td>\n",
       "      <td>0</td>\n",
       "      <td>0</td>\n",
       "      <td>0</td>\n",
       "      <td>1</td>\n",
       "    </tr>\n",
       "    <tr>\n",
       "      <th>395</th>\n",
       "      <td>2022-07-01</td>\n",
       "      <td>397</td>\n",
       "      <td>397</td>\n",
       "      <td>12.0</td>\n",
       "      <td>80.0</td>\n",
       "      <td>1.020</td>\n",
       "      <td>0.0</td>\n",
       "      <td>0.0</td>\n",
       "      <td>1</td>\n",
       "      <td>1</td>\n",
       "      <td>...</td>\n",
       "      <td>37</td>\n",
       "      <td>61</td>\n",
       "      <td>36</td>\n",
       "      <td>0</td>\n",
       "      <td>3</td>\n",
       "      <td>1</td>\n",
       "      <td>0</td>\n",
       "      <td>0</td>\n",
       "      <td>0</td>\n",
       "      <td>0</td>\n",
       "    </tr>\n",
       "    <tr>\n",
       "      <th>396</th>\n",
       "      <td>2022-07-02</td>\n",
       "      <td>398</td>\n",
       "      <td>398</td>\n",
       "      <td>17.0</td>\n",
       "      <td>60.0</td>\n",
       "      <td>1.025</td>\n",
       "      <td>0.0</td>\n",
       "      <td>0.0</td>\n",
       "      <td>1</td>\n",
       "      <td>1</td>\n",
       "      <td>...</td>\n",
       "      <td>39</td>\n",
       "      <td>67</td>\n",
       "      <td>41</td>\n",
       "      <td>0</td>\n",
       "      <td>3</td>\n",
       "      <td>1</td>\n",
       "      <td>0</td>\n",
       "      <td>0</td>\n",
       "      <td>0</td>\n",
       "      <td>1</td>\n",
       "    </tr>\n",
       "    <tr>\n",
       "      <th>397</th>\n",
       "      <td>2022-07-03</td>\n",
       "      <td>399</td>\n",
       "      <td>399</td>\n",
       "      <td>58.0</td>\n",
       "      <td>80.0</td>\n",
       "      <td>1.025</td>\n",
       "      <td>0.0</td>\n",
       "      <td>0.0</td>\n",
       "      <td>1</td>\n",
       "      <td>1</td>\n",
       "      <td>...</td>\n",
       "      <td>41</td>\n",
       "      <td>63</td>\n",
       "      <td>43</td>\n",
       "      <td>0</td>\n",
       "      <td>3</td>\n",
       "      <td>1</td>\n",
       "      <td>0</td>\n",
       "      <td>0</td>\n",
       "      <td>0</td>\n",
       "      <td>1</td>\n",
       "    </tr>\n",
       "  </tbody>\n",
       "</table>\n",
       "<p>398 rows × 28 columns</p>\n",
       "</div>"
      ],
      "text/plain": [
       "    APPLICATION_DATE  Unnamed: 0  APP_ID   age    bp     sg   al   su  rbc  \\\n",
       "0         2021-06-01           0       0  48.0  80.0  1.020  1.0  0.0    2   \n",
       "1         2021-06-02           1       1   7.0  50.0  1.020  4.0  0.0    2   \n",
       "2         2021-06-03           2       2  62.0  80.0  1.010  2.0  3.0    1   \n",
       "3         2021-06-04           3       3  48.0  70.0  1.005  4.0  0.0    1   \n",
       "4         2021-06-05           4       4  51.0  80.0  1.010  2.0  0.0    1   \n",
       "..               ...         ...     ...   ...   ...    ...  ...  ...  ...   \n",
       "393       2022-06-29         395     395  55.0  80.0  1.020  0.0  0.0    1   \n",
       "394       2022-06-30         396     396  42.0  70.0  1.025  0.0  0.0    1   \n",
       "395       2022-07-01         397     397  12.0  80.0  1.020  0.0  0.0    1   \n",
       "396       2022-07-02         398     398  17.0  60.0  1.025  0.0  0.0    1   \n",
       "397       2022-07-03         399     399  58.0  80.0  1.025  0.0  0.0    1   \n",
       "\n",
       "     pc  ...  pcv  wc  rc  htn  dm  cad  appet  pe  ane  TARGET  \n",
       "0     1  ...   32  72  34    1   4    1      0   0    0       0  \n",
       "1     1  ...   26  56  49    0   3    1      0   0    0       1  \n",
       "2     1  ...   19  70  49    0   4    1      1   0    1       1  \n",
       "3     0  ...   20  62  19    1   3    1      1   1    1       1  \n",
       "4     1  ...   23  68  27    0   3    1      0   0    0       0  \n",
       "..   ..  ...  ...  ..  ..  ...  ..  ...    ...  ..  ...     ...  \n",
       "393   1  ...   35  62  30    0   3    1      0   0    0       1  \n",
       "394   1  ...   42  72  44    0   3    1      0   0    0       1  \n",
       "395   1  ...   37  61  36    0   3    1      0   0    0       0  \n",
       "396   1  ...   39  67  41    0   3    1      0   0    0       1  \n",
       "397   1  ...   41  63  43    0   3    1      0   0    0       1  \n",
       "\n",
       "[398 rows x 28 columns]"
      ]
     },
     "execution_count": 278,
     "metadata": {},
     "output_type": "execute_result"
    }
   ],
   "source": [
    "data"
   ]
  },
  {
   "cell_type": "code",
   "execution_count": 286,
   "id": "9472985b",
   "metadata": {},
   "outputs": [
    {
     "name": "stdout",
     "output_type": "stream",
     "text": [
      "\n",
      "Dataset has 398 entries and 27 features\n",
      "0 columns eliminated due to missing values\n",
      "0 columns eliminated due to single unique values, namely: []\n",
      "\n",
      "Preprocess is done...\n",
      "\n",
      "Shape of dataframes; train: (291,), test: (73,), oot: (34,)\n",
      "\n",
      "Percentage of dataframes; train: 73.12%, test: 18.34%, oot: 8.54%\n",
      "\n",
      "Shape of dataframes; train: (291,), test: (73,), oot: (34,)\n",
      "\n",
      "Percentage of dataframes; train: 73.12%, test: 18.34%, oot: 8.54%\n",
      "\n",
      "iteration: 1\n",
      "[0]\ttrain-auc:0.50000\teval-auc:0.50000\n",
      "[9]\ttrain-auc:0.50000\teval-auc:0.50000\n"
     ]
    },
    {
     "name": "stderr",
     "output_type": "stream",
     "text": [
      "C:\\Users\\ENES\\anaconda3\\lib\\site-packages\\xgboost\\core.py:90: UserWarning: ntree_limit is deprecated, use `iteration_range` or model slicing instead.\n",
      "  warnings.warn(\n"
     ]
    },
    {
     "name": "stdout",
     "output_type": "stream",
     "text": [
      "\n",
      "iteration: 2\n",
      "[0]\ttrain-auc:0.50000\teval-auc:0.50000\n",
      "[10]\ttrain-auc:0.50000\teval-auc:0.50000\n"
     ]
    },
    {
     "name": "stderr",
     "output_type": "stream",
     "text": [
      "C:\\Users\\ENES\\anaconda3\\lib\\site-packages\\xgboost\\core.py:90: UserWarning: ntree_limit is deprecated, use `iteration_range` or model slicing instead.\n",
      "  warnings.warn(\n"
     ]
    },
    {
     "name": "stdout",
     "output_type": "stream",
     "text": [
      "\n",
      "iteration: 3\n",
      "[0]\ttrain-auc:0.50000\teval-auc:0.50000\n",
      "[9]\ttrain-auc:0.50000\teval-auc:0.50000\n"
     ]
    },
    {
     "name": "stderr",
     "output_type": "stream",
     "text": [
      "C:\\Users\\ENES\\anaconda3\\lib\\site-packages\\xgboost\\core.py:90: UserWarning: ntree_limit is deprecated, use `iteration_range` or model slicing instead.\n",
      "  warnings.warn(\n"
     ]
    },
    {
     "name": "stdout",
     "output_type": "stream",
     "text": [
      "\n",
      "iteration: 4\n",
      "[0]\ttrain-auc:0.50000\teval-auc:0.50000\n",
      "[9]\ttrain-auc:0.50000\teval-auc:0.50000\n"
     ]
    },
    {
     "name": "stderr",
     "output_type": "stream",
     "text": [
      "C:\\Users\\ENES\\anaconda3\\lib\\site-packages\\xgboost\\core.py:90: UserWarning: ntree_limit is deprecated, use `iteration_range` or model slicing instead.\n",
      "  warnings.warn(\n"
     ]
    },
    {
     "name": "stdout",
     "output_type": "stream",
     "text": [
      "\n",
      "iteration: 5\n",
      "[0]\ttrain-auc:0.50000\teval-auc:0.50000\n",
      "[10]\ttrain-auc:0.50000\teval-auc:0.50000\n"
     ]
    },
    {
     "name": "stderr",
     "output_type": "stream",
     "text": [
      "C:\\Users\\ENES\\anaconda3\\lib\\site-packages\\xgboost\\core.py:90: UserWarning: ntree_limit is deprecated, use `iteration_range` or model slicing instead.\n",
      "  warnings.warn(\n"
     ]
    },
    {
     "name": "stdout",
     "output_type": "stream",
     "text": [
      "\n",
      "iteration: 6\n",
      "[0]\ttrain-auc:0.50000\teval-auc:0.50000\n",
      "[10]\ttrain-auc:0.50000\teval-auc:0.50000\n"
     ]
    },
    {
     "name": "stderr",
     "output_type": "stream",
     "text": [
      "C:\\Users\\ENES\\anaconda3\\lib\\site-packages\\xgboost\\core.py:90: UserWarning: ntree_limit is deprecated, use `iteration_range` or model slicing instead.\n",
      "  warnings.warn(\n"
     ]
    },
    {
     "name": "stdout",
     "output_type": "stream",
     "text": [
      "\n",
      "iteration: 7\n",
      "[0]\ttrain-auc:0.50000\teval-auc:0.50000\n",
      "[10]\ttrain-auc:0.50000\teval-auc:0.50000\n"
     ]
    },
    {
     "name": "stderr",
     "output_type": "stream",
     "text": [
      "C:\\Users\\ENES\\anaconda3\\lib\\site-packages\\xgboost\\core.py:90: UserWarning: ntree_limit is deprecated, use `iteration_range` or model slicing instead.\n",
      "  warnings.warn(\n"
     ]
    },
    {
     "name": "stdout",
     "output_type": "stream",
     "text": [
      "\n",
      "iteration: 8\n",
      "[0]\ttrain-auc:0.50000\teval-auc:0.50000\n",
      "[9]\ttrain-auc:0.50000\teval-auc:0.50000\n"
     ]
    },
    {
     "name": "stderr",
     "output_type": "stream",
     "text": [
      "C:\\Users\\ENES\\anaconda3\\lib\\site-packages\\xgboost\\core.py:90: UserWarning: ntree_limit is deprecated, use `iteration_range` or model slicing instead.\n",
      "  warnings.warn(\n"
     ]
    },
    {
     "name": "stdout",
     "output_type": "stream",
     "text": [
      "\n",
      "iteration: 9\n",
      "[0]\ttrain-auc:0.50000\teval-auc:0.50000\n",
      "[9]\ttrain-auc:0.50000\teval-auc:0.50000\n"
     ]
    },
    {
     "name": "stderr",
     "output_type": "stream",
     "text": [
      "C:\\Users\\ENES\\anaconda3\\lib\\site-packages\\xgboost\\core.py:90: UserWarning: ntree_limit is deprecated, use `iteration_range` or model slicing instead.\n",
      "  warnings.warn(\n"
     ]
    },
    {
     "name": "stdout",
     "output_type": "stream",
     "text": [
      "\n",
      "iteration: 10\n",
      "[0]\ttrain-auc:0.50000\teval-auc:0.50000\n",
      "[10]\ttrain-auc:0.50000\teval-auc:0.50000\n"
     ]
    },
    {
     "name": "stderr",
     "output_type": "stream",
     "text": [
      "C:\\Users\\ENES\\anaconda3\\lib\\site-packages\\xgboost\\core.py:90: UserWarning: ntree_limit is deprecated, use `iteration_range` or model slicing instead.\n",
      "  warnings.warn(\n"
     ]
    },
    {
     "name": "stdout",
     "output_type": "stream",
     "text": [
      "\n",
      "iteration: 11\n",
      "[0]\ttrain-auc:0.50000\teval-auc:0.50000\n",
      "[10]\ttrain-auc:0.50000\teval-auc:0.50000\n"
     ]
    },
    {
     "name": "stderr",
     "output_type": "stream",
     "text": [
      "C:\\Users\\ENES\\anaconda3\\lib\\site-packages\\xgboost\\core.py:90: UserWarning: ntree_limit is deprecated, use `iteration_range` or model slicing instead.\n",
      "  warnings.warn(\n"
     ]
    },
    {
     "name": "stdout",
     "output_type": "stream",
     "text": [
      "\n",
      "iteration: 12\n",
      "[0]\ttrain-auc:0.50000\teval-auc:0.50000\n",
      "[9]\ttrain-auc:0.50000\teval-auc:0.50000\n"
     ]
    },
    {
     "name": "stderr",
     "output_type": "stream",
     "text": [
      "C:\\Users\\ENES\\anaconda3\\lib\\site-packages\\xgboost\\core.py:90: UserWarning: ntree_limit is deprecated, use `iteration_range` or model slicing instead.\n",
      "  warnings.warn(\n"
     ]
    },
    {
     "name": "stdout",
     "output_type": "stream",
     "text": [
      "\n",
      "iteration: 13\n",
      "[0]\ttrain-auc:0.50000\teval-auc:0.50000\n",
      "[10]\ttrain-auc:0.50000\teval-auc:0.50000\n"
     ]
    },
    {
     "name": "stderr",
     "output_type": "stream",
     "text": [
      "C:\\Users\\ENES\\anaconda3\\lib\\site-packages\\xgboost\\core.py:90: UserWarning: ntree_limit is deprecated, use `iteration_range` or model slicing instead.\n",
      "  warnings.warn(\n"
     ]
    },
    {
     "name": "stdout",
     "output_type": "stream",
     "text": [
      "\n",
      "iteration: 14\n",
      "[0]\ttrain-auc:0.50000\teval-auc:0.50000\n",
      "[10]\ttrain-auc:0.50000\teval-auc:0.50000\n"
     ]
    },
    {
     "name": "stderr",
     "output_type": "stream",
     "text": [
      "C:\\Users\\ENES\\anaconda3\\lib\\site-packages\\xgboost\\core.py:90: UserWarning: ntree_limit is deprecated, use `iteration_range` or model slicing instead.\n",
      "  warnings.warn(\n"
     ]
    },
    {
     "name": "stdout",
     "output_type": "stream",
     "text": [
      "\n",
      "iteration: 15\n",
      "[0]\ttrain-auc:0.50000\teval-auc:0.50000\n",
      "[9]\ttrain-auc:0.50000\teval-auc:0.50000\n"
     ]
    },
    {
     "name": "stderr",
     "output_type": "stream",
     "text": [
      "C:\\Users\\ENES\\anaconda3\\lib\\site-packages\\xgboost\\core.py:90: UserWarning: ntree_limit is deprecated, use `iteration_range` or model slicing instead.\n",
      "  warnings.warn(\n"
     ]
    },
    {
     "name": "stdout",
     "output_type": "stream",
     "text": [
      "\n",
      "iteration: 16\n",
      "[0]\ttrain-auc:0.50000\teval-auc:0.50000\n",
      "[10]\ttrain-auc:0.50000\teval-auc:0.50000\n"
     ]
    },
    {
     "name": "stderr",
     "output_type": "stream",
     "text": [
      "C:\\Users\\ENES\\anaconda3\\lib\\site-packages\\xgboost\\core.py:90: UserWarning: ntree_limit is deprecated, use `iteration_range` or model slicing instead.\n",
      "  warnings.warn(\n"
     ]
    },
    {
     "name": "stdout",
     "output_type": "stream",
     "text": [
      "\n",
      "iteration: 17\n",
      "[0]\ttrain-auc:0.50000\teval-auc:0.50000\n",
      "[9]\ttrain-auc:0.50000\teval-auc:0.50000\n"
     ]
    },
    {
     "name": "stderr",
     "output_type": "stream",
     "text": [
      "C:\\Users\\ENES\\anaconda3\\lib\\site-packages\\xgboost\\core.py:90: UserWarning: ntree_limit is deprecated, use `iteration_range` or model slicing instead.\n",
      "  warnings.warn(\n"
     ]
    },
    {
     "name": "stdout",
     "output_type": "stream",
     "text": [
      "\n",
      "iteration: 18\n",
      "[0]\ttrain-auc:0.50000\teval-auc:0.50000\n",
      "[10]\ttrain-auc:0.50000\teval-auc:0.50000\n"
     ]
    },
    {
     "name": "stderr",
     "output_type": "stream",
     "text": [
      "C:\\Users\\ENES\\anaconda3\\lib\\site-packages\\xgboost\\core.py:90: UserWarning: ntree_limit is deprecated, use `iteration_range` or model slicing instead.\n",
      "  warnings.warn(\n"
     ]
    },
    {
     "name": "stdout",
     "output_type": "stream",
     "text": [
      "\n",
      "iteration: 19\n",
      "[0]\ttrain-auc:0.50000\teval-auc:0.50000\n",
      "[10]\ttrain-auc:0.50000\teval-auc:0.50000\n"
     ]
    },
    {
     "name": "stderr",
     "output_type": "stream",
     "text": [
      "C:\\Users\\ENES\\anaconda3\\lib\\site-packages\\xgboost\\core.py:90: UserWarning: ntree_limit is deprecated, use `iteration_range` or model slicing instead.\n",
      "  warnings.warn(\n"
     ]
    },
    {
     "name": "stdout",
     "output_type": "stream",
     "text": [
      "\n",
      "iteration: 20\n",
      "[0]\ttrain-auc:0.50000\teval-auc:0.50000\n",
      "[10]\ttrain-auc:0.50000\teval-auc:0.50000\n"
     ]
    },
    {
     "name": "stderr",
     "output_type": "stream",
     "text": [
      "C:\\Users\\ENES\\anaconda3\\lib\\site-packages\\xgboost\\core.py:90: UserWarning: ntree_limit is deprecated, use `iteration_range` or model slicing instead.\n",
      "  warnings.warn(\n"
     ]
    },
    {
     "name": "stdout",
     "output_type": "stream",
     "text": [
      "\n",
      "iteration: 21\n",
      "[0]\ttrain-auc:0.50000\teval-auc:0.50000\n",
      "[10]\ttrain-auc:0.50000\teval-auc:0.50000\n"
     ]
    },
    {
     "name": "stderr",
     "output_type": "stream",
     "text": [
      "C:\\Users\\ENES\\anaconda3\\lib\\site-packages\\xgboost\\core.py:90: UserWarning: ntree_limit is deprecated, use `iteration_range` or model slicing instead.\n",
      "  warnings.warn(\n"
     ]
    },
    {
     "name": "stdout",
     "output_type": "stream",
     "text": [
      "\n",
      "iteration: 22\n",
      "[0]\ttrain-auc:0.50000\teval-auc:0.50000\n",
      "[10]\ttrain-auc:0.50000\teval-auc:0.50000\n"
     ]
    },
    {
     "name": "stderr",
     "output_type": "stream",
     "text": [
      "C:\\Users\\ENES\\anaconda3\\lib\\site-packages\\xgboost\\core.py:90: UserWarning: ntree_limit is deprecated, use `iteration_range` or model slicing instead.\n",
      "  warnings.warn(\n"
     ]
    },
    {
     "name": "stdout",
     "output_type": "stream",
     "text": [
      "\n",
      "iteration: 23\n",
      "[0]\ttrain-auc:0.50000\teval-auc:0.50000\n",
      "[9]\ttrain-auc:0.50000\teval-auc:0.50000\n"
     ]
    },
    {
     "name": "stderr",
     "output_type": "stream",
     "text": [
      "C:\\Users\\ENES\\anaconda3\\lib\\site-packages\\xgboost\\core.py:90: UserWarning: ntree_limit is deprecated, use `iteration_range` or model slicing instead.\n",
      "  warnings.warn(\n"
     ]
    },
    {
     "name": "stdout",
     "output_type": "stream",
     "text": [
      "\n",
      "iteration: 24\n",
      "[0]\ttrain-auc:0.50000\teval-auc:0.50000\n",
      "[10]\ttrain-auc:0.50000\teval-auc:0.50000\n"
     ]
    },
    {
     "name": "stderr",
     "output_type": "stream",
     "text": [
      "C:\\Users\\ENES\\anaconda3\\lib\\site-packages\\xgboost\\core.py:90: UserWarning: ntree_limit is deprecated, use `iteration_range` or model slicing instead.\n",
      "  warnings.warn(\n"
     ]
    },
    {
     "name": "stdout",
     "output_type": "stream",
     "text": [
      "\n",
      "iteration: 25\n",
      "[0]\ttrain-auc:0.50000\teval-auc:0.50000\n",
      "[9]\ttrain-auc:0.50000\teval-auc:0.50000\n"
     ]
    },
    {
     "name": "stderr",
     "output_type": "stream",
     "text": [
      "C:\\Users\\ENES\\anaconda3\\lib\\site-packages\\xgboost\\core.py:90: UserWarning: ntree_limit is deprecated, use `iteration_range` or model slicing instead.\n",
      "  warnings.warn(\n"
     ]
    },
    {
     "name": "stdout",
     "output_type": "stream",
     "text": [
      "\n",
      "iteration: 26\n",
      "[0]\ttrain-auc:0.50000\teval-auc:0.50000\n",
      "[9]\ttrain-auc:0.50000\teval-auc:0.50000\n"
     ]
    },
    {
     "name": "stderr",
     "output_type": "stream",
     "text": [
      "C:\\Users\\ENES\\anaconda3\\lib\\site-packages\\xgboost\\core.py:90: UserWarning: ntree_limit is deprecated, use `iteration_range` or model slicing instead.\n",
      "  warnings.warn(\n"
     ]
    },
    {
     "name": "stdout",
     "output_type": "stream",
     "text": [
      "\n",
      "iteration: 27\n",
      "[0]\ttrain-auc:0.50000\teval-auc:0.50000\n",
      "[10]\ttrain-auc:0.50000\teval-auc:0.50000\n"
     ]
    },
    {
     "name": "stderr",
     "output_type": "stream",
     "text": [
      "C:\\Users\\ENES\\anaconda3\\lib\\site-packages\\xgboost\\core.py:90: UserWarning: ntree_limit is deprecated, use `iteration_range` or model slicing instead.\n",
      "  warnings.warn(\n"
     ]
    },
    {
     "name": "stdout",
     "output_type": "stream",
     "text": [
      "\n",
      "iteration: 28\n",
      "[0]\ttrain-auc:0.50000\teval-auc:0.50000\n",
      "[9]\ttrain-auc:0.50000\teval-auc:0.50000\n"
     ]
    },
    {
     "name": "stderr",
     "output_type": "stream",
     "text": [
      "C:\\Users\\ENES\\anaconda3\\lib\\site-packages\\xgboost\\core.py:90: UserWarning: ntree_limit is deprecated, use `iteration_range` or model slicing instead.\n",
      "  warnings.warn(\n"
     ]
    },
    {
     "name": "stdout",
     "output_type": "stream",
     "text": [
      "\n",
      "iteration: 29\n",
      "[0]\ttrain-auc:0.50000\teval-auc:0.50000\n",
      "[9]\ttrain-auc:0.50000\teval-auc:0.50000\n"
     ]
    },
    {
     "name": "stderr",
     "output_type": "stream",
     "text": [
      "C:\\Users\\ENES\\anaconda3\\lib\\site-packages\\xgboost\\core.py:90: UserWarning: ntree_limit is deprecated, use `iteration_range` or model slicing instead.\n",
      "  warnings.warn(\n"
     ]
    },
    {
     "name": "stdout",
     "output_type": "stream",
     "text": [
      "\n",
      "iteration: 30\n",
      "[0]\ttrain-auc:0.50000\teval-auc:0.50000\n",
      "[9]\ttrain-auc:0.50000\teval-auc:0.50000\n"
     ]
    },
    {
     "name": "stderr",
     "output_type": "stream",
     "text": [
      "C:\\Users\\ENES\\anaconda3\\lib\\site-packages\\xgboost\\core.py:90: UserWarning: ntree_limit is deprecated, use `iteration_range` or model slicing instead.\n",
      "  warnings.warn(\n"
     ]
    },
    {
     "name": "stdout",
     "output_type": "stream",
     "text": [
      "\n",
      "iteration: 31\n",
      "[0]\ttrain-auc:0.50000\teval-auc:0.50000\n",
      "[9]\ttrain-auc:0.50000\teval-auc:0.50000\n"
     ]
    },
    {
     "name": "stderr",
     "output_type": "stream",
     "text": [
      "C:\\Users\\ENES\\anaconda3\\lib\\site-packages\\xgboost\\core.py:90: UserWarning: ntree_limit is deprecated, use `iteration_range` or model slicing instead.\n",
      "  warnings.warn(\n"
     ]
    },
    {
     "name": "stdout",
     "output_type": "stream",
     "text": [
      "\n",
      "iteration: 32\n",
      "[0]\ttrain-auc:0.50000\teval-auc:0.50000\n",
      "[9]\ttrain-auc:0.50000\teval-auc:0.50000\n"
     ]
    },
    {
     "name": "stderr",
     "output_type": "stream",
     "text": [
      "C:\\Users\\ENES\\anaconda3\\lib\\site-packages\\xgboost\\core.py:90: UserWarning: ntree_limit is deprecated, use `iteration_range` or model slicing instead.\n",
      "  warnings.warn(\n"
     ]
    },
    {
     "name": "stdout",
     "output_type": "stream",
     "text": [
      "\n",
      "iteration: 33\n",
      "[0]\ttrain-auc:0.50000\teval-auc:0.50000\n",
      "[9]\ttrain-auc:0.50000\teval-auc:0.50000\n"
     ]
    },
    {
     "name": "stderr",
     "output_type": "stream",
     "text": [
      "C:\\Users\\ENES\\anaconda3\\lib\\site-packages\\xgboost\\core.py:90: UserWarning: ntree_limit is deprecated, use `iteration_range` or model slicing instead.\n",
      "  warnings.warn(\n"
     ]
    },
    {
     "name": "stdout",
     "output_type": "stream",
     "text": [
      "\n",
      "iteration: 34\n",
      "[0]\ttrain-auc:0.50000\teval-auc:0.50000\n",
      "[9]\ttrain-auc:0.50000\teval-auc:0.50000\n"
     ]
    },
    {
     "name": "stderr",
     "output_type": "stream",
     "text": [
      "C:\\Users\\ENES\\anaconda3\\lib\\site-packages\\xgboost\\core.py:90: UserWarning: ntree_limit is deprecated, use `iteration_range` or model slicing instead.\n",
      "  warnings.warn(\n"
     ]
    },
    {
     "name": "stdout",
     "output_type": "stream",
     "text": [
      "\n",
      "iteration: 35\n",
      "[0]\ttrain-auc:0.50000\teval-auc:0.50000\n",
      "[10]\ttrain-auc:0.50000\teval-auc:0.50000\n"
     ]
    },
    {
     "name": "stderr",
     "output_type": "stream",
     "text": [
      "C:\\Users\\ENES\\anaconda3\\lib\\site-packages\\xgboost\\core.py:90: UserWarning: ntree_limit is deprecated, use `iteration_range` or model slicing instead.\n",
      "  warnings.warn(\n"
     ]
    },
    {
     "name": "stdout",
     "output_type": "stream",
     "text": [
      "\n",
      "iteration: 36\n",
      "[0]\ttrain-auc:0.50000\teval-auc:0.50000\n",
      "[9]\ttrain-auc:0.50000\teval-auc:0.50000\n"
     ]
    },
    {
     "name": "stderr",
     "output_type": "stream",
     "text": [
      "C:\\Users\\ENES\\anaconda3\\lib\\site-packages\\xgboost\\core.py:90: UserWarning: ntree_limit is deprecated, use `iteration_range` or model slicing instead.\n",
      "  warnings.warn(\n"
     ]
    },
    {
     "name": "stdout",
     "output_type": "stream",
     "text": [
      "\n",
      "iteration: 37\n",
      "[0]\ttrain-auc:0.50000\teval-auc:0.50000\n",
      "[10]\ttrain-auc:0.50000\teval-auc:0.50000\n"
     ]
    },
    {
     "name": "stderr",
     "output_type": "stream",
     "text": [
      "C:\\Users\\ENES\\anaconda3\\lib\\site-packages\\xgboost\\core.py:90: UserWarning: ntree_limit is deprecated, use `iteration_range` or model slicing instead.\n",
      "  warnings.warn(\n"
     ]
    },
    {
     "name": "stdout",
     "output_type": "stream",
     "text": [
      "\n",
      "iteration: 38\n",
      "[0]\ttrain-auc:0.50000\teval-auc:0.50000\n",
      "[9]\ttrain-auc:0.50000\teval-auc:0.50000\n"
     ]
    },
    {
     "name": "stderr",
     "output_type": "stream",
     "text": [
      "C:\\Users\\ENES\\anaconda3\\lib\\site-packages\\xgboost\\core.py:90: UserWarning: ntree_limit is deprecated, use `iteration_range` or model slicing instead.\n",
      "  warnings.warn(\n"
     ]
    },
    {
     "name": "stdout",
     "output_type": "stream",
     "text": [
      "\n",
      "iteration: 39\n",
      "[0]\ttrain-auc:0.50000\teval-auc:0.50000\n",
      "[9]\ttrain-auc:0.50000\teval-auc:0.50000\n"
     ]
    },
    {
     "name": "stderr",
     "output_type": "stream",
     "text": [
      "C:\\Users\\ENES\\anaconda3\\lib\\site-packages\\xgboost\\core.py:90: UserWarning: ntree_limit is deprecated, use `iteration_range` or model slicing instead.\n",
      "  warnings.warn(\n"
     ]
    },
    {
     "name": "stdout",
     "output_type": "stream",
     "text": [
      "\n",
      "iteration: 40\n",
      "[0]\ttrain-auc:0.50000\teval-auc:0.50000\n",
      "[10]\ttrain-auc:0.50000\teval-auc:0.50000\n"
     ]
    },
    {
     "name": "stderr",
     "output_type": "stream",
     "text": [
      "C:\\Users\\ENES\\anaconda3\\lib\\site-packages\\xgboost\\core.py:90: UserWarning: ntree_limit is deprecated, use `iteration_range` or model slicing instead.\n",
      "  warnings.warn(\n"
     ]
    },
    {
     "name": "stdout",
     "output_type": "stream",
     "text": [
      "\n",
      "iteration: 41\n",
      "[0]\ttrain-auc:0.50000\teval-auc:0.50000\n",
      "[10]\ttrain-auc:0.50000\teval-auc:0.50000\n"
     ]
    },
    {
     "name": "stderr",
     "output_type": "stream",
     "text": [
      "C:\\Users\\ENES\\anaconda3\\lib\\site-packages\\xgboost\\core.py:90: UserWarning: ntree_limit is deprecated, use `iteration_range` or model slicing instead.\n",
      "  warnings.warn(\n"
     ]
    },
    {
     "name": "stdout",
     "output_type": "stream",
     "text": [
      "\n",
      "iteration: 42\n",
      "[0]\ttrain-auc:0.50000\teval-auc:0.50000\n",
      "[10]\ttrain-auc:0.50000\teval-auc:0.50000\n"
     ]
    },
    {
     "name": "stderr",
     "output_type": "stream",
     "text": [
      "C:\\Users\\ENES\\anaconda3\\lib\\site-packages\\xgboost\\core.py:90: UserWarning: ntree_limit is deprecated, use `iteration_range` or model slicing instead.\n",
      "  warnings.warn(\n"
     ]
    },
    {
     "name": "stdout",
     "output_type": "stream",
     "text": [
      "\n",
      "iteration: 43\n",
      "[0]\ttrain-auc:0.50000\teval-auc:0.50000\n",
      "[9]\ttrain-auc:0.50000\teval-auc:0.50000\n"
     ]
    },
    {
     "name": "stderr",
     "output_type": "stream",
     "text": [
      "C:\\Users\\ENES\\anaconda3\\lib\\site-packages\\xgboost\\core.py:90: UserWarning: ntree_limit is deprecated, use `iteration_range` or model slicing instead.\n",
      "  warnings.warn(\n"
     ]
    },
    {
     "name": "stdout",
     "output_type": "stream",
     "text": [
      "\n",
      "iteration: 44\n",
      "[0]\ttrain-auc:0.50000\teval-auc:0.50000\n",
      "[9]\ttrain-auc:0.50000\teval-auc:0.50000\n"
     ]
    },
    {
     "name": "stderr",
     "output_type": "stream",
     "text": [
      "C:\\Users\\ENES\\anaconda3\\lib\\site-packages\\xgboost\\core.py:90: UserWarning: ntree_limit is deprecated, use `iteration_range` or model slicing instead.\n",
      "  warnings.warn(\n"
     ]
    },
    {
     "name": "stdout",
     "output_type": "stream",
     "text": [
      "\n",
      "iteration: 45\n",
      "[0]\ttrain-auc:0.50000\teval-auc:0.50000\n",
      "[10]\ttrain-auc:0.50000\teval-auc:0.50000\n"
     ]
    },
    {
     "name": "stderr",
     "output_type": "stream",
     "text": [
      "C:\\Users\\ENES\\anaconda3\\lib\\site-packages\\xgboost\\core.py:90: UserWarning: ntree_limit is deprecated, use `iteration_range` or model slicing instead.\n",
      "  warnings.warn(\n"
     ]
    },
    {
     "name": "stdout",
     "output_type": "stream",
     "text": [
      "\n",
      "iteration: 46\n",
      "[0]\ttrain-auc:0.50000\teval-auc:0.50000\n",
      "[10]\ttrain-auc:0.50000\teval-auc:0.50000\n"
     ]
    },
    {
     "name": "stderr",
     "output_type": "stream",
     "text": [
      "C:\\Users\\ENES\\anaconda3\\lib\\site-packages\\xgboost\\core.py:90: UserWarning: ntree_limit is deprecated, use `iteration_range` or model slicing instead.\n",
      "  warnings.warn(\n"
     ]
    },
    {
     "name": "stdout",
     "output_type": "stream",
     "text": [
      "\n",
      "iteration: 47\n",
      "[0]\ttrain-auc:0.50000\teval-auc:0.50000\n",
      "[10]\ttrain-auc:0.50000\teval-auc:0.50000\n"
     ]
    },
    {
     "name": "stderr",
     "output_type": "stream",
     "text": [
      "C:\\Users\\ENES\\anaconda3\\lib\\site-packages\\xgboost\\core.py:90: UserWarning: ntree_limit is deprecated, use `iteration_range` or model slicing instead.\n",
      "  warnings.warn(\n"
     ]
    },
    {
     "name": "stdout",
     "output_type": "stream",
     "text": [
      "\n",
      "iteration: 48\n",
      "[0]\ttrain-auc:0.50000\teval-auc:0.50000\n",
      "[9]\ttrain-auc:0.50000\teval-auc:0.50000\n"
     ]
    },
    {
     "name": "stderr",
     "output_type": "stream",
     "text": [
      "C:\\Users\\ENES\\anaconda3\\lib\\site-packages\\xgboost\\core.py:90: UserWarning: ntree_limit is deprecated, use `iteration_range` or model slicing instead.\n",
      "  warnings.warn(\n"
     ]
    },
    {
     "name": "stdout",
     "output_type": "stream",
     "text": [
      "\n",
      "iteration: 49\n",
      "[0]\ttrain-auc:0.70541\teval-auc:0.49808\n",
      "[9]\ttrain-auc:0.70541\teval-auc:0.49808\n"
     ]
    },
    {
     "name": "stderr",
     "output_type": "stream",
     "text": [
      "C:\\Users\\ENES\\anaconda3\\lib\\site-packages\\xgboost\\core.py:90: UserWarning: ntree_limit is deprecated, use `iteration_range` or model slicing instead.\n",
      "  warnings.warn(\n"
     ]
    },
    {
     "name": "stdout",
     "output_type": "stream",
     "text": [
      "\n",
      "iteration: 50\n",
      "[0]\ttrain-auc:0.50000\teval-auc:0.50000\n",
      "[9]\ttrain-auc:0.50000\teval-auc:0.50000\n"
     ]
    },
    {
     "name": "stderr",
     "output_type": "stream",
     "text": [
      "C:\\Users\\ENES\\anaconda3\\lib\\site-packages\\xgboost\\core.py:90: UserWarning: ntree_limit is deprecated, use `iteration_range` or model slicing instead.\n",
      "  warnings.warn(\n"
     ]
    },
    {
     "name": "stdout",
     "output_type": "stream",
     "text": [
      "\n",
      "iteration: 51\n",
      "[0]\ttrain-auc:0.50000\teval-auc:0.50000\n",
      "[10]\ttrain-auc:0.50000\teval-auc:0.50000\n"
     ]
    },
    {
     "name": "stderr",
     "output_type": "stream",
     "text": [
      "C:\\Users\\ENES\\anaconda3\\lib\\site-packages\\xgboost\\core.py:90: UserWarning: ntree_limit is deprecated, use `iteration_range` or model slicing instead.\n",
      "  warnings.warn(\n"
     ]
    },
    {
     "name": "stdout",
     "output_type": "stream",
     "text": [
      "\n",
      "iteration: 52\n",
      "[0]\ttrain-auc:0.50000\teval-auc:0.50000\n",
      "[9]\ttrain-auc:0.50000\teval-auc:0.50000\n"
     ]
    },
    {
     "name": "stderr",
     "output_type": "stream",
     "text": [
      "C:\\Users\\ENES\\anaconda3\\lib\\site-packages\\xgboost\\core.py:90: UserWarning: ntree_limit is deprecated, use `iteration_range` or model slicing instead.\n",
      "  warnings.warn(\n"
     ]
    },
    {
     "name": "stdout",
     "output_type": "stream",
     "text": [
      "\n",
      "iteration: 53\n",
      "[0]\ttrain-auc:0.50000\teval-auc:0.50000\n",
      "[9]\ttrain-auc:0.50000\teval-auc:0.50000\n"
     ]
    },
    {
     "name": "stderr",
     "output_type": "stream",
     "text": [
      "C:\\Users\\ENES\\anaconda3\\lib\\site-packages\\xgboost\\core.py:90: UserWarning: ntree_limit is deprecated, use `iteration_range` or model slicing instead.\n",
      "  warnings.warn(\n"
     ]
    },
    {
     "name": "stdout",
     "output_type": "stream",
     "text": [
      "\n",
      "iteration: 54\n",
      "[0]\ttrain-auc:0.50000\teval-auc:0.50000\n",
      "[10]\ttrain-auc:0.50000\teval-auc:0.50000\n"
     ]
    },
    {
     "name": "stderr",
     "output_type": "stream",
     "text": [
      "C:\\Users\\ENES\\anaconda3\\lib\\site-packages\\xgboost\\core.py:90: UserWarning: ntree_limit is deprecated, use `iteration_range` or model slicing instead.\n",
      "  warnings.warn(\n"
     ]
    },
    {
     "name": "stdout",
     "output_type": "stream",
     "text": [
      "\n",
      "iteration: 55\n",
      "[0]\ttrain-auc:0.50000\teval-auc:0.50000\n",
      "[10]\ttrain-auc:0.50000\teval-auc:0.50000\n"
     ]
    },
    {
     "name": "stderr",
     "output_type": "stream",
     "text": [
      "C:\\Users\\ENES\\anaconda3\\lib\\site-packages\\xgboost\\core.py:90: UserWarning: ntree_limit is deprecated, use `iteration_range` or model slicing instead.\n",
      "  warnings.warn(\n"
     ]
    },
    {
     "name": "stdout",
     "output_type": "stream",
     "text": [
      "\n",
      "iteration: 56\n",
      "[0]\ttrain-auc:0.50000\teval-auc:0.50000\n",
      "[10]\ttrain-auc:0.50000\teval-auc:0.50000\n"
     ]
    },
    {
     "name": "stderr",
     "output_type": "stream",
     "text": [
      "C:\\Users\\ENES\\anaconda3\\lib\\site-packages\\xgboost\\core.py:90: UserWarning: ntree_limit is deprecated, use `iteration_range` or model slicing instead.\n",
      "  warnings.warn(\n"
     ]
    },
    {
     "name": "stdout",
     "output_type": "stream",
     "text": [
      "\n",
      "iteration: 57\n",
      "[0]\ttrain-auc:0.70541\teval-auc:0.49808\n",
      "[9]\ttrain-auc:0.70541\teval-auc:0.49808\n"
     ]
    },
    {
     "name": "stderr",
     "output_type": "stream",
     "text": [
      "C:\\Users\\ENES\\anaconda3\\lib\\site-packages\\xgboost\\core.py:90: UserWarning: ntree_limit is deprecated, use `iteration_range` or model slicing instead.\n",
      "  warnings.warn(\n"
     ]
    },
    {
     "name": "stdout",
     "output_type": "stream",
     "text": [
      "\n",
      "iteration: 58\n",
      "[0]\ttrain-auc:0.50000\teval-auc:0.50000\n",
      "[10]\ttrain-auc:0.50000\teval-auc:0.50000\n"
     ]
    },
    {
     "name": "stderr",
     "output_type": "stream",
     "text": [
      "C:\\Users\\ENES\\anaconda3\\lib\\site-packages\\xgboost\\core.py:90: UserWarning: ntree_limit is deprecated, use `iteration_range` or model slicing instead.\n",
      "  warnings.warn(\n"
     ]
    },
    {
     "name": "stdout",
     "output_type": "stream",
     "text": [
      "\n",
      "iteration: 59\n",
      "[0]\ttrain-auc:0.50000\teval-auc:0.50000\n",
      "[10]\ttrain-auc:0.50000\teval-auc:0.50000\n"
     ]
    },
    {
     "name": "stderr",
     "output_type": "stream",
     "text": [
      "C:\\Users\\ENES\\anaconda3\\lib\\site-packages\\xgboost\\core.py:90: UserWarning: ntree_limit is deprecated, use `iteration_range` or model slicing instead.\n",
      "  warnings.warn(\n"
     ]
    },
    {
     "name": "stdout",
     "output_type": "stream",
     "text": [
      "\n",
      "iteration: 60\n",
      "[0]\ttrain-auc:0.50000\teval-auc:0.50000\n",
      "[9]\ttrain-auc:0.50000\teval-auc:0.50000\n"
     ]
    },
    {
     "name": "stderr",
     "output_type": "stream",
     "text": [
      "C:\\Users\\ENES\\anaconda3\\lib\\site-packages\\xgboost\\core.py:90: UserWarning: ntree_limit is deprecated, use `iteration_range` or model slicing instead.\n",
      "  warnings.warn(\n"
     ]
    },
    {
     "name": "stdout",
     "output_type": "stream",
     "text": [
      "\n",
      "iteration: 61\n",
      "[0]\ttrain-auc:0.50000\teval-auc:0.50000\n",
      "[9]\ttrain-auc:0.50000\teval-auc:0.50000\n"
     ]
    },
    {
     "name": "stderr",
     "output_type": "stream",
     "text": [
      "C:\\Users\\ENES\\anaconda3\\lib\\site-packages\\xgboost\\core.py:90: UserWarning: ntree_limit is deprecated, use `iteration_range` or model slicing instead.\n",
      "  warnings.warn(\n"
     ]
    },
    {
     "name": "stdout",
     "output_type": "stream",
     "text": [
      "\n",
      "iteration: 62\n",
      "[0]\ttrain-auc:0.50000\teval-auc:0.50000\n",
      "[9]\ttrain-auc:0.50000\teval-auc:0.50000\n"
     ]
    },
    {
     "name": "stderr",
     "output_type": "stream",
     "text": [
      "C:\\Users\\ENES\\anaconda3\\lib\\site-packages\\xgboost\\core.py:90: UserWarning: ntree_limit is deprecated, use `iteration_range` or model slicing instead.\n",
      "  warnings.warn(\n"
     ]
    },
    {
     "name": "stdout",
     "output_type": "stream",
     "text": [
      "\n",
      "iteration: 63\n",
      "[0]\ttrain-auc:0.50000\teval-auc:0.50000\n",
      "[10]\ttrain-auc:0.50000\teval-auc:0.50000\n"
     ]
    },
    {
     "name": "stderr",
     "output_type": "stream",
     "text": [
      "C:\\Users\\ENES\\anaconda3\\lib\\site-packages\\xgboost\\core.py:90: UserWarning: ntree_limit is deprecated, use `iteration_range` or model slicing instead.\n",
      "  warnings.warn(\n"
     ]
    },
    {
     "name": "stdout",
     "output_type": "stream",
     "text": [
      "\n",
      "iteration: 64\n",
      "[0]\ttrain-auc:0.50000\teval-auc:0.50000\n",
      "[9]\ttrain-auc:0.50000\teval-auc:0.50000\n"
     ]
    },
    {
     "name": "stderr",
     "output_type": "stream",
     "text": [
      "C:\\Users\\ENES\\anaconda3\\lib\\site-packages\\xgboost\\core.py:90: UserWarning: ntree_limit is deprecated, use `iteration_range` or model slicing instead.\n",
      "  warnings.warn(\n"
     ]
    },
    {
     "name": "stdout",
     "output_type": "stream",
     "text": [
      "\n",
      "iteration: 65\n",
      "[0]\ttrain-auc:0.70541\teval-auc:0.49808\n",
      "[9]\ttrain-auc:0.70541\teval-auc:0.49808\n"
     ]
    },
    {
     "name": "stderr",
     "output_type": "stream",
     "text": [
      "C:\\Users\\ENES\\anaconda3\\lib\\site-packages\\xgboost\\core.py:90: UserWarning: ntree_limit is deprecated, use `iteration_range` or model slicing instead.\n",
      "  warnings.warn(\n"
     ]
    },
    {
     "name": "stdout",
     "output_type": "stream",
     "text": [
      "\n",
      "iteration: 66\n",
      "[0]\ttrain-auc:0.50000\teval-auc:0.50000\n",
      "[9]\ttrain-auc:0.50000\teval-auc:0.50000\n"
     ]
    },
    {
     "name": "stderr",
     "output_type": "stream",
     "text": [
      "C:\\Users\\ENES\\anaconda3\\lib\\site-packages\\xgboost\\core.py:90: UserWarning: ntree_limit is deprecated, use `iteration_range` or model slicing instead.\n",
      "  warnings.warn(\n"
     ]
    },
    {
     "name": "stdout",
     "output_type": "stream",
     "text": [
      "\n",
      "iteration: 67\n",
      "[0]\ttrain-auc:0.50000\teval-auc:0.50000\n",
      "[9]\ttrain-auc:0.50000\teval-auc:0.50000\n"
     ]
    },
    {
     "name": "stderr",
     "output_type": "stream",
     "text": [
      "C:\\Users\\ENES\\anaconda3\\lib\\site-packages\\xgboost\\core.py:90: UserWarning: ntree_limit is deprecated, use `iteration_range` or model slicing instead.\n",
      "  warnings.warn(\n"
     ]
    },
    {
     "name": "stdout",
     "output_type": "stream",
     "text": [
      "\n",
      "iteration: 68\n",
      "[0]\ttrain-auc:0.50000\teval-auc:0.50000\n",
      "[9]\ttrain-auc:0.50000\teval-auc:0.50000\n"
     ]
    },
    {
     "name": "stderr",
     "output_type": "stream",
     "text": [
      "C:\\Users\\ENES\\anaconda3\\lib\\site-packages\\xgboost\\core.py:90: UserWarning: ntree_limit is deprecated, use `iteration_range` or model slicing instead.\n",
      "  warnings.warn(\n"
     ]
    },
    {
     "name": "stdout",
     "output_type": "stream",
     "text": [
      "\n",
      "iteration: 69\n",
      "[0]\ttrain-auc:0.50000\teval-auc:0.50000\n",
      "[10]\ttrain-auc:0.50000\teval-auc:0.50000\n"
     ]
    },
    {
     "name": "stderr",
     "output_type": "stream",
     "text": [
      "C:\\Users\\ENES\\anaconda3\\lib\\site-packages\\xgboost\\core.py:90: UserWarning: ntree_limit is deprecated, use `iteration_range` or model slicing instead.\n",
      "  warnings.warn(\n"
     ]
    },
    {
     "name": "stdout",
     "output_type": "stream",
     "text": [
      "\n",
      "iteration: 70\n",
      "[0]\ttrain-auc:0.50000\teval-auc:0.50000\n",
      "[10]\ttrain-auc:0.50000\teval-auc:0.50000\n"
     ]
    },
    {
     "name": "stderr",
     "output_type": "stream",
     "text": [
      "C:\\Users\\ENES\\anaconda3\\lib\\site-packages\\xgboost\\core.py:90: UserWarning: ntree_limit is deprecated, use `iteration_range` or model slicing instead.\n",
      "  warnings.warn(\n"
     ]
    },
    {
     "name": "stdout",
     "output_type": "stream",
     "text": [
      "\n",
      "iteration: 71\n",
      "[0]\ttrain-auc:0.50000\teval-auc:0.50000\n",
      "[9]\ttrain-auc:0.50000\teval-auc:0.50000\n"
     ]
    },
    {
     "name": "stderr",
     "output_type": "stream",
     "text": [
      "C:\\Users\\ENES\\anaconda3\\lib\\site-packages\\xgboost\\core.py:90: UserWarning: ntree_limit is deprecated, use `iteration_range` or model slicing instead.\n",
      "  warnings.warn(\n"
     ]
    },
    {
     "name": "stdout",
     "output_type": "stream",
     "text": [
      "\n",
      "iteration: 72\n",
      "[0]\ttrain-auc:0.50000\teval-auc:0.50000\n",
      "[10]\ttrain-auc:0.50000\teval-auc:0.50000\n"
     ]
    },
    {
     "name": "stderr",
     "output_type": "stream",
     "text": [
      "C:\\Users\\ENES\\anaconda3\\lib\\site-packages\\xgboost\\core.py:90: UserWarning: ntree_limit is deprecated, use `iteration_range` or model slicing instead.\n",
      "  warnings.warn(\n"
     ]
    },
    {
     "name": "stdout",
     "output_type": "stream",
     "text": [
      "\n",
      "iteration: 73\n",
      "[0]\ttrain-auc:0.70541\teval-auc:0.49808\n",
      "[9]\ttrain-auc:0.70541\teval-auc:0.49808\n"
     ]
    },
    {
     "name": "stderr",
     "output_type": "stream",
     "text": [
      "C:\\Users\\ENES\\anaconda3\\lib\\site-packages\\xgboost\\core.py:90: UserWarning: ntree_limit is deprecated, use `iteration_range` or model slicing instead.\n",
      "  warnings.warn(\n"
     ]
    },
    {
     "name": "stdout",
     "output_type": "stream",
     "text": [
      "\n",
      "iteration: 74\n",
      "[0]\ttrain-auc:0.50000\teval-auc:0.50000\n",
      "[9]\ttrain-auc:0.50000\teval-auc:0.50000\n"
     ]
    },
    {
     "name": "stderr",
     "output_type": "stream",
     "text": [
      "C:\\Users\\ENES\\anaconda3\\lib\\site-packages\\xgboost\\core.py:90: UserWarning: ntree_limit is deprecated, use `iteration_range` or model slicing instead.\n",
      "  warnings.warn(\n"
     ]
    },
    {
     "name": "stdout",
     "output_type": "stream",
     "text": [
      "\n",
      "iteration: 75\n",
      "[0]\ttrain-auc:0.50000\teval-auc:0.50000\n",
      "[9]\ttrain-auc:0.50000\teval-auc:0.50000\n"
     ]
    },
    {
     "name": "stderr",
     "output_type": "stream",
     "text": [
      "C:\\Users\\ENES\\anaconda3\\lib\\site-packages\\xgboost\\core.py:90: UserWarning: ntree_limit is deprecated, use `iteration_range` or model slicing instead.\n",
      "  warnings.warn(\n"
     ]
    },
    {
     "name": "stdout",
     "output_type": "stream",
     "text": [
      "\n",
      "iteration: 76\n",
      "[0]\ttrain-auc:0.50000\teval-auc:0.50000\n",
      "[10]\ttrain-auc:0.50000\teval-auc:0.50000\n"
     ]
    },
    {
     "name": "stderr",
     "output_type": "stream",
     "text": [
      "C:\\Users\\ENES\\anaconda3\\lib\\site-packages\\xgboost\\core.py:90: UserWarning: ntree_limit is deprecated, use `iteration_range` or model slicing instead.\n",
      "  warnings.warn(\n"
     ]
    },
    {
     "name": "stdout",
     "output_type": "stream",
     "text": [
      "\n",
      "iteration: 77\n",
      "[0]\ttrain-auc:0.50000\teval-auc:0.50000\n",
      "[10]\ttrain-auc:0.50000\teval-auc:0.50000\n"
     ]
    },
    {
     "name": "stderr",
     "output_type": "stream",
     "text": [
      "C:\\Users\\ENES\\anaconda3\\lib\\site-packages\\xgboost\\core.py:90: UserWarning: ntree_limit is deprecated, use `iteration_range` or model slicing instead.\n",
      "  warnings.warn(\n"
     ]
    },
    {
     "name": "stdout",
     "output_type": "stream",
     "text": [
      "\n",
      "iteration: 78\n",
      "[0]\ttrain-auc:0.50000\teval-auc:0.50000\n",
      "[10]\ttrain-auc:0.50000\teval-auc:0.50000\n"
     ]
    },
    {
     "name": "stderr",
     "output_type": "stream",
     "text": [
      "C:\\Users\\ENES\\anaconda3\\lib\\site-packages\\xgboost\\core.py:90: UserWarning: ntree_limit is deprecated, use `iteration_range` or model slicing instead.\n",
      "  warnings.warn(\n"
     ]
    },
    {
     "name": "stdout",
     "output_type": "stream",
     "text": [
      "\n",
      "iteration: 79\n",
      "[0]\ttrain-auc:0.50000\teval-auc:0.50000\n",
      "[9]\ttrain-auc:0.50000\teval-auc:0.50000\n"
     ]
    },
    {
     "name": "stderr",
     "output_type": "stream",
     "text": [
      "C:\\Users\\ENES\\anaconda3\\lib\\site-packages\\xgboost\\core.py:90: UserWarning: ntree_limit is deprecated, use `iteration_range` or model slicing instead.\n",
      "  warnings.warn(\n"
     ]
    },
    {
     "name": "stdout",
     "output_type": "stream",
     "text": [
      "\n",
      "iteration: 80\n",
      "[0]\ttrain-auc:0.50000\teval-auc:0.50000\n",
      "[9]\ttrain-auc:0.50000\teval-auc:0.50000\n"
     ]
    },
    {
     "name": "stderr",
     "output_type": "stream",
     "text": [
      "C:\\Users\\ENES\\anaconda3\\lib\\site-packages\\xgboost\\core.py:90: UserWarning: ntree_limit is deprecated, use `iteration_range` or model slicing instead.\n",
      "  warnings.warn(\n"
     ]
    },
    {
     "name": "stdout",
     "output_type": "stream",
     "text": [
      "\n",
      "iteration: 81\n",
      "[0]\ttrain-auc:0.70541\teval-auc:0.49808\n",
      "[10]\ttrain-auc:0.70541\teval-auc:0.49808\n"
     ]
    },
    {
     "name": "stderr",
     "output_type": "stream",
     "text": [
      "C:\\Users\\ENES\\anaconda3\\lib\\site-packages\\xgboost\\core.py:90: UserWarning: ntree_limit is deprecated, use `iteration_range` or model slicing instead.\n",
      "  warnings.warn(\n"
     ]
    },
    {
     "name": "stdout",
     "output_type": "stream",
     "text": [
      "\n",
      "iteration: 82\n",
      "[0]\ttrain-auc:0.50000\teval-auc:0.50000\n",
      "[9]\ttrain-auc:0.50000\teval-auc:0.50000\n"
     ]
    },
    {
     "name": "stderr",
     "output_type": "stream",
     "text": [
      "C:\\Users\\ENES\\anaconda3\\lib\\site-packages\\xgboost\\core.py:90: UserWarning: ntree_limit is deprecated, use `iteration_range` or model slicing instead.\n",
      "  warnings.warn(\n"
     ]
    },
    {
     "name": "stdout",
     "output_type": "stream",
     "text": [
      "\n",
      "iteration: 83\n",
      "[0]\ttrain-auc:0.50000\teval-auc:0.50000\n",
      "[9]\ttrain-auc:0.50000\teval-auc:0.50000\n"
     ]
    },
    {
     "name": "stderr",
     "output_type": "stream",
     "text": [
      "C:\\Users\\ENES\\anaconda3\\lib\\site-packages\\xgboost\\core.py:90: UserWarning: ntree_limit is deprecated, use `iteration_range` or model slicing instead.\n",
      "  warnings.warn(\n"
     ]
    },
    {
     "name": "stdout",
     "output_type": "stream",
     "text": [
      "\n",
      "iteration: 84\n",
      "[0]\ttrain-auc:0.50000\teval-auc:0.50000\n",
      "[10]\ttrain-auc:0.50000\teval-auc:0.50000\n"
     ]
    },
    {
     "name": "stderr",
     "output_type": "stream",
     "text": [
      "C:\\Users\\ENES\\anaconda3\\lib\\site-packages\\xgboost\\core.py:90: UserWarning: ntree_limit is deprecated, use `iteration_range` or model slicing instead.\n",
      "  warnings.warn(\n"
     ]
    },
    {
     "name": "stdout",
     "output_type": "stream",
     "text": [
      "\n",
      "iteration: 85\n",
      "[0]\ttrain-auc:0.50000\teval-auc:0.50000\n",
      "[10]\ttrain-auc:0.50000\teval-auc:0.50000\n"
     ]
    },
    {
     "name": "stderr",
     "output_type": "stream",
     "text": [
      "C:\\Users\\ENES\\anaconda3\\lib\\site-packages\\xgboost\\core.py:90: UserWarning: ntree_limit is deprecated, use `iteration_range` or model slicing instead.\n",
      "  warnings.warn(\n"
     ]
    },
    {
     "name": "stdout",
     "output_type": "stream",
     "text": [
      "\n",
      "iteration: 86\n",
      "[0]\ttrain-auc:0.50000\teval-auc:0.50000\n",
      "[9]\ttrain-auc:0.50000\teval-auc:0.50000\n"
     ]
    },
    {
     "name": "stderr",
     "output_type": "stream",
     "text": [
      "C:\\Users\\ENES\\anaconda3\\lib\\site-packages\\xgboost\\core.py:90: UserWarning: ntree_limit is deprecated, use `iteration_range` or model slicing instead.\n",
      "  warnings.warn(\n"
     ]
    },
    {
     "name": "stdout",
     "output_type": "stream",
     "text": [
      "\n",
      "iteration: 87\n",
      "[0]\ttrain-auc:0.50000\teval-auc:0.50000\n",
      "[9]\ttrain-auc:0.50000\teval-auc:0.50000\n"
     ]
    },
    {
     "name": "stderr",
     "output_type": "stream",
     "text": [
      "C:\\Users\\ENES\\anaconda3\\lib\\site-packages\\xgboost\\core.py:90: UserWarning: ntree_limit is deprecated, use `iteration_range` or model slicing instead.\n",
      "  warnings.warn(\n"
     ]
    },
    {
     "name": "stdout",
     "output_type": "stream",
     "text": [
      "\n",
      "iteration: 88\n",
      "[0]\ttrain-auc:0.50000\teval-auc:0.50000\n",
      "[10]\ttrain-auc:0.50000\teval-auc:0.50000\n"
     ]
    },
    {
     "name": "stderr",
     "output_type": "stream",
     "text": [
      "C:\\Users\\ENES\\anaconda3\\lib\\site-packages\\xgboost\\core.py:90: UserWarning: ntree_limit is deprecated, use `iteration_range` or model slicing instead.\n",
      "  warnings.warn(\n"
     ]
    },
    {
     "name": "stdout",
     "output_type": "stream",
     "text": [
      "\n",
      "iteration: 89\n",
      "[0]\ttrain-auc:0.50000\teval-auc:0.50000\n",
      "[10]\ttrain-auc:0.50000\teval-auc:0.50000\n"
     ]
    },
    {
     "name": "stderr",
     "output_type": "stream",
     "text": [
      "C:\\Users\\ENES\\anaconda3\\lib\\site-packages\\xgboost\\core.py:90: UserWarning: ntree_limit is deprecated, use `iteration_range` or model slicing instead.\n",
      "  warnings.warn(\n"
     ]
    },
    {
     "name": "stdout",
     "output_type": "stream",
     "text": [
      "\n",
      "iteration: 90\n",
      "[0]\ttrain-auc:0.50000\teval-auc:0.50000\n",
      "[10]\ttrain-auc:0.50000\teval-auc:0.50000\n"
     ]
    },
    {
     "name": "stderr",
     "output_type": "stream",
     "text": [
      "C:\\Users\\ENES\\anaconda3\\lib\\site-packages\\xgboost\\core.py:90: UserWarning: ntree_limit is deprecated, use `iteration_range` or model slicing instead.\n",
      "  warnings.warn(\n"
     ]
    },
    {
     "name": "stdout",
     "output_type": "stream",
     "text": [
      "\n",
      "iteration: 91\n",
      "[0]\ttrain-auc:0.50000\teval-auc:0.50000\n",
      "[10]\ttrain-auc:0.50000\teval-auc:0.50000\n"
     ]
    },
    {
     "name": "stderr",
     "output_type": "stream",
     "text": [
      "C:\\Users\\ENES\\anaconda3\\lib\\site-packages\\xgboost\\core.py:90: UserWarning: ntree_limit is deprecated, use `iteration_range` or model slicing instead.\n",
      "  warnings.warn(\n"
     ]
    },
    {
     "name": "stdout",
     "output_type": "stream",
     "text": [
      "\n",
      "iteration: 92\n",
      "[0]\ttrain-auc:0.50000\teval-auc:0.50000\n",
      "[10]\ttrain-auc:0.50000\teval-auc:0.50000\n"
     ]
    },
    {
     "name": "stderr",
     "output_type": "stream",
     "text": [
      "C:\\Users\\ENES\\anaconda3\\lib\\site-packages\\xgboost\\core.py:90: UserWarning: ntree_limit is deprecated, use `iteration_range` or model slicing instead.\n",
      "  warnings.warn(\n"
     ]
    },
    {
     "name": "stdout",
     "output_type": "stream",
     "text": [
      "\n",
      "iteration: 93\n",
      "[0]\ttrain-auc:0.50000\teval-auc:0.50000\n",
      "[9]\ttrain-auc:0.50000\teval-auc:0.50000\n"
     ]
    },
    {
     "name": "stderr",
     "output_type": "stream",
     "text": [
      "C:\\Users\\ENES\\anaconda3\\lib\\site-packages\\xgboost\\core.py:90: UserWarning: ntree_limit is deprecated, use `iteration_range` or model slicing instead.\n",
      "  warnings.warn(\n"
     ]
    },
    {
     "name": "stdout",
     "output_type": "stream",
     "text": [
      "\n",
      "iteration: 94\n",
      "[0]\ttrain-auc:0.50000\teval-auc:0.50000\n",
      "[10]\ttrain-auc:0.50000\teval-auc:0.50000\n"
     ]
    },
    {
     "name": "stderr",
     "output_type": "stream",
     "text": [
      "C:\\Users\\ENES\\anaconda3\\lib\\site-packages\\xgboost\\core.py:90: UserWarning: ntree_limit is deprecated, use `iteration_range` or model slicing instead.\n",
      "  warnings.warn(\n"
     ]
    },
    {
     "name": "stdout",
     "output_type": "stream",
     "text": [
      "\n",
      "iteration: 95\n",
      "[0]\ttrain-auc:0.50000\teval-auc:0.50000\n",
      "[9]\ttrain-auc:0.50000\teval-auc:0.50000\n"
     ]
    },
    {
     "name": "stderr",
     "output_type": "stream",
     "text": [
      "C:\\Users\\ENES\\anaconda3\\lib\\site-packages\\xgboost\\core.py:90: UserWarning: ntree_limit is deprecated, use `iteration_range` or model slicing instead.\n",
      "  warnings.warn(\n"
     ]
    },
    {
     "name": "stdout",
     "output_type": "stream",
     "text": [
      "\n",
      "iteration: 96\n",
      "[0]\ttrain-auc:0.50000\teval-auc:0.50000\n",
      "[9]\ttrain-auc:0.50000\teval-auc:0.50000\n"
     ]
    },
    {
     "name": "stderr",
     "output_type": "stream",
     "text": [
      "C:\\Users\\ENES\\anaconda3\\lib\\site-packages\\xgboost\\core.py:90: UserWarning: ntree_limit is deprecated, use `iteration_range` or model slicing instead.\n",
      "  warnings.warn(\n"
     ]
    },
    {
     "name": "stdout",
     "output_type": "stream",
     "text": [
      "\n",
      "iteration: 97\n",
      "[0]\ttrain-auc:0.70541\teval-auc:0.49808\n",
      "[10]\ttrain-auc:0.70541\teval-auc:0.49808\n"
     ]
    },
    {
     "name": "stderr",
     "output_type": "stream",
     "text": [
      "C:\\Users\\ENES\\anaconda3\\lib\\site-packages\\xgboost\\core.py:90: UserWarning: ntree_limit is deprecated, use `iteration_range` or model slicing instead.\n",
      "  warnings.warn(\n"
     ]
    },
    {
     "name": "stdout",
     "output_type": "stream",
     "text": [
      "\n",
      "iteration: 98\n",
      "[0]\ttrain-auc:0.50000\teval-auc:0.50000\n",
      "[9]\ttrain-auc:0.50000\teval-auc:0.50000\n"
     ]
    },
    {
     "name": "stderr",
     "output_type": "stream",
     "text": [
      "C:\\Users\\ENES\\anaconda3\\lib\\site-packages\\xgboost\\core.py:90: UserWarning: ntree_limit is deprecated, use `iteration_range` or model slicing instead.\n",
      "  warnings.warn(\n"
     ]
    },
    {
     "name": "stdout",
     "output_type": "stream",
     "text": [
      "\n",
      "iteration: 99\n",
      "[0]\ttrain-auc:0.50000\teval-auc:0.50000\n",
      "[9]\ttrain-auc:0.50000\teval-auc:0.50000\n"
     ]
    },
    {
     "name": "stderr",
     "output_type": "stream",
     "text": [
      "C:\\Users\\ENES\\anaconda3\\lib\\site-packages\\xgboost\\core.py:90: UserWarning: ntree_limit is deprecated, use `iteration_range` or model slicing instead.\n",
      "  warnings.warn(\n"
     ]
    },
    {
     "name": "stdout",
     "output_type": "stream",
     "text": [
      "\n",
      "iteration: 100\n",
      "[0]\ttrain-auc:0.50000\teval-auc:0.50000\n",
      "[9]\ttrain-auc:0.50000\teval-auc:0.50000\n"
     ]
    },
    {
     "name": "stderr",
     "output_type": "stream",
     "text": [
      "C:\\Users\\ENES\\anaconda3\\lib\\site-packages\\xgboost\\core.py:90: UserWarning: ntree_limit is deprecated, use `iteration_range` or model slicing instead.\n",
      "  warnings.warn(\n"
     ]
    },
    {
     "name": "stdout",
     "output_type": "stream",
     "text": [
      "\n",
      "iteration: 101\n",
      "[0]\ttrain-auc:0.50000\teval-auc:0.50000\n",
      "[9]\ttrain-auc:0.50000\teval-auc:0.50000\n"
     ]
    },
    {
     "name": "stderr",
     "output_type": "stream",
     "text": [
      "C:\\Users\\ENES\\anaconda3\\lib\\site-packages\\xgboost\\core.py:90: UserWarning: ntree_limit is deprecated, use `iteration_range` or model slicing instead.\n",
      "  warnings.warn(\n"
     ]
    },
    {
     "name": "stdout",
     "output_type": "stream",
     "text": [
      "\n",
      "iteration: 102\n",
      "[0]\ttrain-auc:0.50000\teval-auc:0.50000\n",
      "[9]\ttrain-auc:0.50000\teval-auc:0.50000\n"
     ]
    },
    {
     "name": "stderr",
     "output_type": "stream",
     "text": [
      "C:\\Users\\ENES\\anaconda3\\lib\\site-packages\\xgboost\\core.py:90: UserWarning: ntree_limit is deprecated, use `iteration_range` or model slicing instead.\n",
      "  warnings.warn(\n"
     ]
    },
    {
     "name": "stdout",
     "output_type": "stream",
     "text": [
      "\n",
      "iteration: 103\n",
      "[0]\ttrain-auc:0.50000\teval-auc:0.50000\n",
      "[9]\ttrain-auc:0.50000\teval-auc:0.50000\n"
     ]
    },
    {
     "name": "stderr",
     "output_type": "stream",
     "text": [
      "C:\\Users\\ENES\\anaconda3\\lib\\site-packages\\xgboost\\core.py:90: UserWarning: ntree_limit is deprecated, use `iteration_range` or model slicing instead.\n",
      "  warnings.warn(\n"
     ]
    },
    {
     "name": "stdout",
     "output_type": "stream",
     "text": [
      "\n",
      "iteration: 104\n",
      "[0]\ttrain-auc:0.50000\teval-auc:0.50000\n",
      "[9]\ttrain-auc:0.50000\teval-auc:0.50000\n"
     ]
    },
    {
     "name": "stderr",
     "output_type": "stream",
     "text": [
      "C:\\Users\\ENES\\anaconda3\\lib\\site-packages\\xgboost\\core.py:90: UserWarning: ntree_limit is deprecated, use `iteration_range` or model slicing instead.\n",
      "  warnings.warn(\n"
     ]
    },
    {
     "name": "stdout",
     "output_type": "stream",
     "text": [
      "\n",
      "iteration: 105\n",
      "[0]\ttrain-auc:0.70541\teval-auc:0.49808\n",
      "[10]\ttrain-auc:0.70541\teval-auc:0.49808\n"
     ]
    },
    {
     "name": "stderr",
     "output_type": "stream",
     "text": [
      "C:\\Users\\ENES\\anaconda3\\lib\\site-packages\\xgboost\\core.py:90: UserWarning: ntree_limit is deprecated, use `iteration_range` or model slicing instead.\n",
      "  warnings.warn(\n"
     ]
    },
    {
     "name": "stdout",
     "output_type": "stream",
     "text": [
      "\n",
      "iteration: 106\n",
      "[0]\ttrain-auc:0.50000\teval-auc:0.50000\n",
      "[10]\ttrain-auc:0.50000\teval-auc:0.50000\n"
     ]
    },
    {
     "name": "stderr",
     "output_type": "stream",
     "text": [
      "C:\\Users\\ENES\\anaconda3\\lib\\site-packages\\xgboost\\core.py:90: UserWarning: ntree_limit is deprecated, use `iteration_range` or model slicing instead.\n",
      "  warnings.warn(\n"
     ]
    },
    {
     "name": "stdout",
     "output_type": "stream",
     "text": [
      "\n",
      "iteration: 107\n",
      "[0]\ttrain-auc:0.50000\teval-auc:0.50000\n",
      "[9]\ttrain-auc:0.50000\teval-auc:0.50000\n"
     ]
    },
    {
     "name": "stderr",
     "output_type": "stream",
     "text": [
      "C:\\Users\\ENES\\anaconda3\\lib\\site-packages\\xgboost\\core.py:90: UserWarning: ntree_limit is deprecated, use `iteration_range` or model slicing instead.\n",
      "  warnings.warn(\n"
     ]
    },
    {
     "name": "stdout",
     "output_type": "stream",
     "text": [
      "\n",
      "iteration: 108\n",
      "[0]\ttrain-auc:0.50000\teval-auc:0.50000\n",
      "[10]\ttrain-auc:0.50000\teval-auc:0.50000\n"
     ]
    },
    {
     "name": "stderr",
     "output_type": "stream",
     "text": [
      "C:\\Users\\ENES\\anaconda3\\lib\\site-packages\\xgboost\\core.py:90: UserWarning: ntree_limit is deprecated, use `iteration_range` or model slicing instead.\n",
      "  warnings.warn(\n"
     ]
    },
    {
     "name": "stdout",
     "output_type": "stream",
     "text": [
      "\n",
      "iteration: 109\n",
      "[0]\ttrain-auc:0.50000\teval-auc:0.50000\n",
      "[9]\ttrain-auc:0.50000\teval-auc:0.50000\n"
     ]
    },
    {
     "name": "stderr",
     "output_type": "stream",
     "text": [
      "C:\\Users\\ENES\\anaconda3\\lib\\site-packages\\xgboost\\core.py:90: UserWarning: ntree_limit is deprecated, use `iteration_range` or model slicing instead.\n",
      "  warnings.warn(\n"
     ]
    },
    {
     "name": "stdout",
     "output_type": "stream",
     "text": [
      "\n",
      "iteration: 110\n",
      "[0]\ttrain-auc:0.50000\teval-auc:0.50000\n",
      "[10]\ttrain-auc:0.50000\teval-auc:0.50000\n"
     ]
    },
    {
     "name": "stderr",
     "output_type": "stream",
     "text": [
      "C:\\Users\\ENES\\anaconda3\\lib\\site-packages\\xgboost\\core.py:90: UserWarning: ntree_limit is deprecated, use `iteration_range` or model slicing instead.\n",
      "  warnings.warn(\n"
     ]
    },
    {
     "name": "stdout",
     "output_type": "stream",
     "text": [
      "\n",
      "iteration: 111\n",
      "[0]\ttrain-auc:0.50000\teval-auc:0.50000\n",
      "[10]\ttrain-auc:0.50000\teval-auc:0.50000\n"
     ]
    },
    {
     "name": "stderr",
     "output_type": "stream",
     "text": [
      "C:\\Users\\ENES\\anaconda3\\lib\\site-packages\\xgboost\\core.py:90: UserWarning: ntree_limit is deprecated, use `iteration_range` or model slicing instead.\n",
      "  warnings.warn(\n"
     ]
    },
    {
     "name": "stdout",
     "output_type": "stream",
     "text": [
      "\n",
      "iteration: 112\n",
      "[0]\ttrain-auc:0.50000\teval-auc:0.50000\n",
      "[10]\ttrain-auc:0.50000\teval-auc:0.50000\n"
     ]
    },
    {
     "name": "stderr",
     "output_type": "stream",
     "text": [
      "C:\\Users\\ENES\\anaconda3\\lib\\site-packages\\xgboost\\core.py:90: UserWarning: ntree_limit is deprecated, use `iteration_range` or model slicing instead.\n",
      "  warnings.warn(\n"
     ]
    },
    {
     "name": "stdout",
     "output_type": "stream",
     "text": [
      "\n",
      "iteration: 113\n",
      "[0]\ttrain-auc:0.70541\teval-auc:0.49808\n",
      "[10]\ttrain-auc:0.70541\teval-auc:0.49808\n"
     ]
    },
    {
     "name": "stderr",
     "output_type": "stream",
     "text": [
      "C:\\Users\\ENES\\anaconda3\\lib\\site-packages\\xgboost\\core.py:90: UserWarning: ntree_limit is deprecated, use `iteration_range` or model slicing instead.\n",
      "  warnings.warn(\n"
     ]
    },
    {
     "name": "stdout",
     "output_type": "stream",
     "text": [
      "\n",
      "iteration: 114\n",
      "[0]\ttrain-auc:0.50000\teval-auc:0.50000\n",
      "[10]\ttrain-auc:0.50000\teval-auc:0.50000\n"
     ]
    },
    {
     "name": "stderr",
     "output_type": "stream",
     "text": [
      "C:\\Users\\ENES\\anaconda3\\lib\\site-packages\\xgboost\\core.py:90: UserWarning: ntree_limit is deprecated, use `iteration_range` or model slicing instead.\n",
      "  warnings.warn(\n"
     ]
    },
    {
     "name": "stdout",
     "output_type": "stream",
     "text": [
      "\n",
      "iteration: 115\n",
      "[0]\ttrain-auc:0.50000\teval-auc:0.50000\n",
      "[10]\ttrain-auc:0.50000\teval-auc:0.50000\n"
     ]
    },
    {
     "name": "stderr",
     "output_type": "stream",
     "text": [
      "C:\\Users\\ENES\\anaconda3\\lib\\site-packages\\xgboost\\core.py:90: UserWarning: ntree_limit is deprecated, use `iteration_range` or model slicing instead.\n",
      "  warnings.warn(\n"
     ]
    },
    {
     "name": "stdout",
     "output_type": "stream",
     "text": [
      "\n",
      "iteration: 116\n",
      "[0]\ttrain-auc:0.50000\teval-auc:0.50000\n",
      "[10]\ttrain-auc:0.50000\teval-auc:0.50000\n"
     ]
    },
    {
     "name": "stderr",
     "output_type": "stream",
     "text": [
      "C:\\Users\\ENES\\anaconda3\\lib\\site-packages\\xgboost\\core.py:90: UserWarning: ntree_limit is deprecated, use `iteration_range` or model slicing instead.\n",
      "  warnings.warn(\n"
     ]
    },
    {
     "name": "stdout",
     "output_type": "stream",
     "text": [
      "\n",
      "iteration: 117\n",
      "[0]\ttrain-auc:0.50000\teval-auc:0.50000\n",
      "[9]\ttrain-auc:0.50000\teval-auc:0.50000\n"
     ]
    },
    {
     "name": "stderr",
     "output_type": "stream",
     "text": [
      "C:\\Users\\ENES\\anaconda3\\lib\\site-packages\\xgboost\\core.py:90: UserWarning: ntree_limit is deprecated, use `iteration_range` or model slicing instead.\n",
      "  warnings.warn(\n"
     ]
    },
    {
     "name": "stdout",
     "output_type": "stream",
     "text": [
      "\n",
      "iteration: 118\n",
      "[0]\ttrain-auc:0.50000\teval-auc:0.50000\n",
      "[9]\ttrain-auc:0.50000\teval-auc:0.50000\n"
     ]
    },
    {
     "name": "stderr",
     "output_type": "stream",
     "text": [
      "C:\\Users\\ENES\\anaconda3\\lib\\site-packages\\xgboost\\core.py:90: UserWarning: ntree_limit is deprecated, use `iteration_range` or model slicing instead.\n",
      "  warnings.warn(\n"
     ]
    },
    {
     "name": "stdout",
     "output_type": "stream",
     "text": [
      "\n",
      "iteration: 119\n",
      "[0]\ttrain-auc:0.50000\teval-auc:0.50000\n",
      "[9]\ttrain-auc:0.50000\teval-auc:0.50000\n"
     ]
    },
    {
     "name": "stderr",
     "output_type": "stream",
     "text": [
      "C:\\Users\\ENES\\anaconda3\\lib\\site-packages\\xgboost\\core.py:90: UserWarning: ntree_limit is deprecated, use `iteration_range` or model slicing instead.\n",
      "  warnings.warn(\n"
     ]
    },
    {
     "name": "stdout",
     "output_type": "stream",
     "text": [
      "\n",
      "iteration: 120\n",
      "[0]\ttrain-auc:0.50000\teval-auc:0.50000\n",
      "[10]\ttrain-auc:0.50000\teval-auc:0.50000\n"
     ]
    },
    {
     "name": "stderr",
     "output_type": "stream",
     "text": [
      "C:\\Users\\ENES\\anaconda3\\lib\\site-packages\\xgboost\\core.py:90: UserWarning: ntree_limit is deprecated, use `iteration_range` or model slicing instead.\n",
      "  warnings.warn(\n"
     ]
    },
    {
     "name": "stdout",
     "output_type": "stream",
     "text": [
      "\n",
      "iteration: 121\n",
      "[0]\ttrain-auc:0.70541\teval-auc:0.49808\n",
      "[10]\ttrain-auc:0.70541\teval-auc:0.49808\n"
     ]
    },
    {
     "name": "stderr",
     "output_type": "stream",
     "text": [
      "C:\\Users\\ENES\\anaconda3\\lib\\site-packages\\xgboost\\core.py:90: UserWarning: ntree_limit is deprecated, use `iteration_range` or model slicing instead.\n",
      "  warnings.warn(\n"
     ]
    },
    {
     "name": "stdout",
     "output_type": "stream",
     "text": [
      "\n",
      "iteration: 122\n",
      "[0]\ttrain-auc:0.50000\teval-auc:0.50000\n",
      "[10]\ttrain-auc:0.50000\teval-auc:0.50000\n"
     ]
    },
    {
     "name": "stderr",
     "output_type": "stream",
     "text": [
      "C:\\Users\\ENES\\anaconda3\\lib\\site-packages\\xgboost\\core.py:90: UserWarning: ntree_limit is deprecated, use `iteration_range` or model slicing instead.\n",
      "  warnings.warn(\n"
     ]
    },
    {
     "name": "stdout",
     "output_type": "stream",
     "text": [
      "\n",
      "iteration: 123\n",
      "[0]\ttrain-auc:0.50000\teval-auc:0.50000\n",
      "[10]\ttrain-auc:0.50000\teval-auc:0.50000\n"
     ]
    },
    {
     "name": "stderr",
     "output_type": "stream",
     "text": [
      "C:\\Users\\ENES\\anaconda3\\lib\\site-packages\\xgboost\\core.py:90: UserWarning: ntree_limit is deprecated, use `iteration_range` or model slicing instead.\n",
      "  warnings.warn(\n"
     ]
    },
    {
     "name": "stdout",
     "output_type": "stream",
     "text": [
      "\n",
      "iteration: 124\n",
      "[0]\ttrain-auc:0.50000\teval-auc:0.50000\n",
      "[9]\ttrain-auc:0.50000\teval-auc:0.50000\n"
     ]
    },
    {
     "name": "stderr",
     "output_type": "stream",
     "text": [
      "C:\\Users\\ENES\\anaconda3\\lib\\site-packages\\xgboost\\core.py:90: UserWarning: ntree_limit is deprecated, use `iteration_range` or model slicing instead.\n",
      "  warnings.warn(\n"
     ]
    },
    {
     "name": "stdout",
     "output_type": "stream",
     "text": [
      "\n",
      "iteration: 125\n",
      "[0]\ttrain-auc:0.50000\teval-auc:0.50000\n",
      "[9]\ttrain-auc:0.50000\teval-auc:0.50000\n"
     ]
    },
    {
     "name": "stderr",
     "output_type": "stream",
     "text": [
      "C:\\Users\\ENES\\anaconda3\\lib\\site-packages\\xgboost\\core.py:90: UserWarning: ntree_limit is deprecated, use `iteration_range` or model slicing instead.\n",
      "  warnings.warn(\n"
     ]
    },
    {
     "name": "stdout",
     "output_type": "stream",
     "text": [
      "\n",
      "iteration: 126\n",
      "[0]\ttrain-auc:0.50000\teval-auc:0.50000\n",
      "[9]\ttrain-auc:0.50000\teval-auc:0.50000\n"
     ]
    },
    {
     "name": "stderr",
     "output_type": "stream",
     "text": [
      "C:\\Users\\ENES\\anaconda3\\lib\\site-packages\\xgboost\\core.py:90: UserWarning: ntree_limit is deprecated, use `iteration_range` or model slicing instead.\n",
      "  warnings.warn(\n"
     ]
    },
    {
     "name": "stdout",
     "output_type": "stream",
     "text": [
      "\n",
      "iteration: 127\n",
      "[0]\ttrain-auc:0.50000\teval-auc:0.50000\n",
      "[10]\ttrain-auc:0.50000\teval-auc:0.50000\n"
     ]
    },
    {
     "name": "stderr",
     "output_type": "stream",
     "text": [
      "C:\\Users\\ENES\\anaconda3\\lib\\site-packages\\xgboost\\core.py:90: UserWarning: ntree_limit is deprecated, use `iteration_range` or model slicing instead.\n",
      "  warnings.warn(\n"
     ]
    },
    {
     "name": "stdout",
     "output_type": "stream",
     "text": [
      "\n",
      "iteration: 128\n",
      "[0]\ttrain-auc:0.50000\teval-auc:0.50000\n",
      "[10]\ttrain-auc:0.50000\teval-auc:0.50000\n"
     ]
    },
    {
     "name": "stderr",
     "output_type": "stream",
     "text": [
      "C:\\Users\\ENES\\anaconda3\\lib\\site-packages\\xgboost\\core.py:90: UserWarning: ntree_limit is deprecated, use `iteration_range` or model slicing instead.\n",
      "  warnings.warn(\n"
     ]
    },
    {
     "name": "stdout",
     "output_type": "stream",
     "text": [
      "\n",
      "iteration: 129\n",
      "[0]\ttrain-auc:0.70541\teval-auc:0.49808\n",
      "[9]\ttrain-auc:0.70541\teval-auc:0.49808\n"
     ]
    },
    {
     "name": "stderr",
     "output_type": "stream",
     "text": [
      "C:\\Users\\ENES\\anaconda3\\lib\\site-packages\\xgboost\\core.py:90: UserWarning: ntree_limit is deprecated, use `iteration_range` or model slicing instead.\n",
      "  warnings.warn(\n"
     ]
    },
    {
     "name": "stdout",
     "output_type": "stream",
     "text": [
      "\n",
      "iteration: 130\n",
      "[0]\ttrain-auc:0.50000\teval-auc:0.50000\n",
      "[9]\ttrain-auc:0.50000\teval-auc:0.50000\n"
     ]
    },
    {
     "name": "stderr",
     "output_type": "stream",
     "text": [
      "C:\\Users\\ENES\\anaconda3\\lib\\site-packages\\xgboost\\core.py:90: UserWarning: ntree_limit is deprecated, use `iteration_range` or model slicing instead.\n",
      "  warnings.warn(\n"
     ]
    },
    {
     "name": "stdout",
     "output_type": "stream",
     "text": [
      "\n",
      "iteration: 131\n",
      "[0]\ttrain-auc:0.50000\teval-auc:0.50000\n",
      "[9]\ttrain-auc:0.50000\teval-auc:0.50000\n"
     ]
    },
    {
     "name": "stderr",
     "output_type": "stream",
     "text": [
      "C:\\Users\\ENES\\anaconda3\\lib\\site-packages\\xgboost\\core.py:90: UserWarning: ntree_limit is deprecated, use `iteration_range` or model slicing instead.\n",
      "  warnings.warn(\n"
     ]
    },
    {
     "name": "stdout",
     "output_type": "stream",
     "text": [
      "\n",
      "iteration: 132\n",
      "[0]\ttrain-auc:0.50000\teval-auc:0.50000\n",
      "[9]\ttrain-auc:0.50000\teval-auc:0.50000\n"
     ]
    },
    {
     "name": "stderr",
     "output_type": "stream",
     "text": [
      "C:\\Users\\ENES\\anaconda3\\lib\\site-packages\\xgboost\\core.py:90: UserWarning: ntree_limit is deprecated, use `iteration_range` or model slicing instead.\n",
      "  warnings.warn(\n"
     ]
    },
    {
     "name": "stdout",
     "output_type": "stream",
     "text": [
      "\n",
      "iteration: 133\n",
      "[0]\ttrain-auc:0.50000\teval-auc:0.50000\n",
      "[10]\ttrain-auc:0.50000\teval-auc:0.50000\n"
     ]
    },
    {
     "name": "stderr",
     "output_type": "stream",
     "text": [
      "C:\\Users\\ENES\\anaconda3\\lib\\site-packages\\xgboost\\core.py:90: UserWarning: ntree_limit is deprecated, use `iteration_range` or model slicing instead.\n",
      "  warnings.warn(\n"
     ]
    },
    {
     "name": "stdout",
     "output_type": "stream",
     "text": [
      "\n",
      "iteration: 134\n",
      "[0]\ttrain-auc:0.50000\teval-auc:0.50000\n",
      "[9]\ttrain-auc:0.50000\teval-auc:0.50000\n"
     ]
    },
    {
     "name": "stderr",
     "output_type": "stream",
     "text": [
      "C:\\Users\\ENES\\anaconda3\\lib\\site-packages\\xgboost\\core.py:90: UserWarning: ntree_limit is deprecated, use `iteration_range` or model slicing instead.\n",
      "  warnings.warn(\n"
     ]
    },
    {
     "name": "stdout",
     "output_type": "stream",
     "text": [
      "\n",
      "iteration: 135\n",
      "[0]\ttrain-auc:0.50000\teval-auc:0.50000\n",
      "[10]\ttrain-auc:0.50000\teval-auc:0.50000\n"
     ]
    },
    {
     "name": "stderr",
     "output_type": "stream",
     "text": [
      "C:\\Users\\ENES\\anaconda3\\lib\\site-packages\\xgboost\\core.py:90: UserWarning: ntree_limit is deprecated, use `iteration_range` or model slicing instead.\n",
      "  warnings.warn(\n"
     ]
    },
    {
     "name": "stdout",
     "output_type": "stream",
     "text": [
      "\n",
      "iteration: 136\n",
      "[0]\ttrain-auc:0.50000\teval-auc:0.50000\n",
      "[10]\ttrain-auc:0.50000\teval-auc:0.50000\n"
     ]
    },
    {
     "name": "stderr",
     "output_type": "stream",
     "text": [
      "C:\\Users\\ENES\\anaconda3\\lib\\site-packages\\xgboost\\core.py:90: UserWarning: ntree_limit is deprecated, use `iteration_range` or model slicing instead.\n",
      "  warnings.warn(\n"
     ]
    },
    {
     "name": "stdout",
     "output_type": "stream",
     "text": [
      "\n",
      "iteration: 137\n",
      "[0]\ttrain-auc:0.50000\teval-auc:0.50000\n",
      "[9]\ttrain-auc:0.50000\teval-auc:0.50000\n"
     ]
    },
    {
     "name": "stderr",
     "output_type": "stream",
     "text": [
      "C:\\Users\\ENES\\anaconda3\\lib\\site-packages\\xgboost\\core.py:90: UserWarning: ntree_limit is deprecated, use `iteration_range` or model slicing instead.\n",
      "  warnings.warn(\n"
     ]
    },
    {
     "name": "stdout",
     "output_type": "stream",
     "text": [
      "\n",
      "iteration: 138\n",
      "[0]\ttrain-auc:0.50000\teval-auc:0.50000\n",
      "[9]\ttrain-auc:0.50000\teval-auc:0.50000\n"
     ]
    },
    {
     "name": "stderr",
     "output_type": "stream",
     "text": [
      "C:\\Users\\ENES\\anaconda3\\lib\\site-packages\\xgboost\\core.py:90: UserWarning: ntree_limit is deprecated, use `iteration_range` or model slicing instead.\n",
      "  warnings.warn(\n"
     ]
    },
    {
     "name": "stdout",
     "output_type": "stream",
     "text": [
      "\n",
      "iteration: 139\n",
      "[0]\ttrain-auc:0.50000\teval-auc:0.50000\n",
      "[9]\ttrain-auc:0.50000\teval-auc:0.50000\n"
     ]
    },
    {
     "name": "stderr",
     "output_type": "stream",
     "text": [
      "C:\\Users\\ENES\\anaconda3\\lib\\site-packages\\xgboost\\core.py:90: UserWarning: ntree_limit is deprecated, use `iteration_range` or model slicing instead.\n",
      "  warnings.warn(\n"
     ]
    },
    {
     "name": "stdout",
     "output_type": "stream",
     "text": [
      "\n",
      "iteration: 140\n",
      "[0]\ttrain-auc:0.50000\teval-auc:0.50000\n",
      "[9]\ttrain-auc:0.50000\teval-auc:0.50000\n"
     ]
    },
    {
     "name": "stderr",
     "output_type": "stream",
     "text": [
      "C:\\Users\\ENES\\anaconda3\\lib\\site-packages\\xgboost\\core.py:90: UserWarning: ntree_limit is deprecated, use `iteration_range` or model slicing instead.\n",
      "  warnings.warn(\n"
     ]
    },
    {
     "name": "stdout",
     "output_type": "stream",
     "text": [
      "\n",
      "iteration: 141\n",
      "[0]\ttrain-auc:0.50000\teval-auc:0.50000\n",
      "[9]\ttrain-auc:0.50000\teval-auc:0.50000\n"
     ]
    },
    {
     "name": "stderr",
     "output_type": "stream",
     "text": [
      "C:\\Users\\ENES\\anaconda3\\lib\\site-packages\\xgboost\\core.py:90: UserWarning: ntree_limit is deprecated, use `iteration_range` or model slicing instead.\n",
      "  warnings.warn(\n"
     ]
    },
    {
     "name": "stdout",
     "output_type": "stream",
     "text": [
      "\n",
      "iteration: 142\n",
      "[0]\ttrain-auc:0.50000\teval-auc:0.50000\n",
      "[9]\ttrain-auc:0.50000\teval-auc:0.50000\n"
     ]
    },
    {
     "name": "stderr",
     "output_type": "stream",
     "text": [
      "C:\\Users\\ENES\\anaconda3\\lib\\site-packages\\xgboost\\core.py:90: UserWarning: ntree_limit is deprecated, use `iteration_range` or model slicing instead.\n",
      "  warnings.warn(\n"
     ]
    },
    {
     "name": "stdout",
     "output_type": "stream",
     "text": [
      "\n",
      "iteration: 143\n",
      "[0]\ttrain-auc:0.50000\teval-auc:0.50000\n",
      "[10]\ttrain-auc:0.50000\teval-auc:0.50000\n"
     ]
    },
    {
     "name": "stderr",
     "output_type": "stream",
     "text": [
      "C:\\Users\\ENES\\anaconda3\\lib\\site-packages\\xgboost\\core.py:90: UserWarning: ntree_limit is deprecated, use `iteration_range` or model slicing instead.\n",
      "  warnings.warn(\n"
     ]
    },
    {
     "name": "stdout",
     "output_type": "stream",
     "text": [
      "\n",
      "iteration: 144\n",
      "[0]\ttrain-auc:0.50000\teval-auc:0.50000\n",
      "[9]\ttrain-auc:0.50000\teval-auc:0.50000\n"
     ]
    },
    {
     "name": "stderr",
     "output_type": "stream",
     "text": [
      "C:\\Users\\ENES\\anaconda3\\lib\\site-packages\\xgboost\\core.py:90: UserWarning: ntree_limit is deprecated, use `iteration_range` or model slicing instead.\n",
      "  warnings.warn(\n"
     ]
    },
    {
     "name": "stdout",
     "output_type": "stream",
     "text": [
      "\n",
      "iteration: 145\n",
      "[0]\ttrain-auc:0.70541\teval-auc:0.49808\n",
      "[10]\ttrain-auc:0.70541\teval-auc:0.49808\n"
     ]
    },
    {
     "name": "stderr",
     "output_type": "stream",
     "text": [
      "C:\\Users\\ENES\\anaconda3\\lib\\site-packages\\xgboost\\core.py:90: UserWarning: ntree_limit is deprecated, use `iteration_range` or model slicing instead.\n",
      "  warnings.warn(\n"
     ]
    },
    {
     "name": "stdout",
     "output_type": "stream",
     "text": [
      "\n",
      "iteration: 146\n",
      "[0]\ttrain-auc:0.50000\teval-auc:0.50000\n",
      "[10]\ttrain-auc:0.50000\teval-auc:0.50000\n"
     ]
    },
    {
     "name": "stderr",
     "output_type": "stream",
     "text": [
      "C:\\Users\\ENES\\anaconda3\\lib\\site-packages\\xgboost\\core.py:90: UserWarning: ntree_limit is deprecated, use `iteration_range` or model slicing instead.\n",
      "  warnings.warn(\n"
     ]
    },
    {
     "name": "stdout",
     "output_type": "stream",
     "text": [
      "\n",
      "iteration: 147\n",
      "[0]\ttrain-auc:0.50000\teval-auc:0.50000\n",
      "[9]\ttrain-auc:0.50000\teval-auc:0.50000\n"
     ]
    },
    {
     "name": "stderr",
     "output_type": "stream",
     "text": [
      "C:\\Users\\ENES\\anaconda3\\lib\\site-packages\\xgboost\\core.py:90: UserWarning: ntree_limit is deprecated, use `iteration_range` or model slicing instead.\n",
      "  warnings.warn(\n"
     ]
    },
    {
     "name": "stdout",
     "output_type": "stream",
     "text": [
      "\n",
      "iteration: 148\n",
      "[0]\ttrain-auc:0.50000\teval-auc:0.50000\n",
      "[10]\ttrain-auc:0.50000\teval-auc:0.50000\n"
     ]
    },
    {
     "name": "stderr",
     "output_type": "stream",
     "text": [
      "C:\\Users\\ENES\\anaconda3\\lib\\site-packages\\xgboost\\core.py:90: UserWarning: ntree_limit is deprecated, use `iteration_range` or model slicing instead.\n",
      "  warnings.warn(\n"
     ]
    },
    {
     "name": "stdout",
     "output_type": "stream",
     "text": [
      "\n",
      "iteration: 149\n",
      "[0]\ttrain-auc:0.50000\teval-auc:0.50000\n",
      "[10]\ttrain-auc:0.50000\teval-auc:0.50000\n"
     ]
    },
    {
     "name": "stderr",
     "output_type": "stream",
     "text": [
      "C:\\Users\\ENES\\anaconda3\\lib\\site-packages\\xgboost\\core.py:90: UserWarning: ntree_limit is deprecated, use `iteration_range` or model slicing instead.\n",
      "  warnings.warn(\n"
     ]
    },
    {
     "name": "stdout",
     "output_type": "stream",
     "text": [
      "\n",
      "iteration: 150\n",
      "[0]\ttrain-auc:0.50000\teval-auc:0.50000\n",
      "[9]\ttrain-auc:0.50000\teval-auc:0.50000\n"
     ]
    },
    {
     "name": "stderr",
     "output_type": "stream",
     "text": [
      "C:\\Users\\ENES\\anaconda3\\lib\\site-packages\\xgboost\\core.py:90: UserWarning: ntree_limit is deprecated, use `iteration_range` or model slicing instead.\n",
      "  warnings.warn(\n"
     ]
    },
    {
     "name": "stdout",
     "output_type": "stream",
     "text": [
      "\n",
      "iteration: 151\n",
      "[0]\ttrain-auc:0.50000\teval-auc:0.50000\n",
      "[10]\ttrain-auc:0.50000\teval-auc:0.50000\n"
     ]
    },
    {
     "name": "stderr",
     "output_type": "stream",
     "text": [
      "C:\\Users\\ENES\\anaconda3\\lib\\site-packages\\xgboost\\core.py:90: UserWarning: ntree_limit is deprecated, use `iteration_range` or model slicing instead.\n",
      "  warnings.warn(\n"
     ]
    },
    {
     "name": "stdout",
     "output_type": "stream",
     "text": [
      "\n",
      "iteration: 152\n",
      "[0]\ttrain-auc:0.50000\teval-auc:0.50000\n",
      "[9]\ttrain-auc:0.50000\teval-auc:0.50000\n"
     ]
    },
    {
     "name": "stderr",
     "output_type": "stream",
     "text": [
      "C:\\Users\\ENES\\anaconda3\\lib\\site-packages\\xgboost\\core.py:90: UserWarning: ntree_limit is deprecated, use `iteration_range` or model slicing instead.\n",
      "  warnings.warn(\n"
     ]
    },
    {
     "name": "stdout",
     "output_type": "stream",
     "text": [
      "\n",
      "iteration: 153\n",
      "[0]\ttrain-auc:0.70541\teval-auc:0.49808\n",
      "[10]\ttrain-auc:0.70541\teval-auc:0.49808\n"
     ]
    },
    {
     "name": "stderr",
     "output_type": "stream",
     "text": [
      "C:\\Users\\ENES\\anaconda3\\lib\\site-packages\\xgboost\\core.py:90: UserWarning: ntree_limit is deprecated, use `iteration_range` or model slicing instead.\n",
      "  warnings.warn(\n"
     ]
    },
    {
     "name": "stdout",
     "output_type": "stream",
     "text": [
      "\n",
      "iteration: 154\n",
      "[0]\ttrain-auc:0.50000\teval-auc:0.50000\n",
      "[10]\ttrain-auc:0.50000\teval-auc:0.50000\n"
     ]
    },
    {
     "name": "stderr",
     "output_type": "stream",
     "text": [
      "C:\\Users\\ENES\\anaconda3\\lib\\site-packages\\xgboost\\core.py:90: UserWarning: ntree_limit is deprecated, use `iteration_range` or model slicing instead.\n",
      "  warnings.warn(\n"
     ]
    },
    {
     "name": "stdout",
     "output_type": "stream",
     "text": [
      "\n",
      "iteration: 155\n",
      "[0]\ttrain-auc:0.50000\teval-auc:0.50000\n",
      "[10]\ttrain-auc:0.50000\teval-auc:0.50000\n"
     ]
    },
    {
     "name": "stderr",
     "output_type": "stream",
     "text": [
      "C:\\Users\\ENES\\anaconda3\\lib\\site-packages\\xgboost\\core.py:90: UserWarning: ntree_limit is deprecated, use `iteration_range` or model slicing instead.\n",
      "  warnings.warn(\n"
     ]
    },
    {
     "name": "stdout",
     "output_type": "stream",
     "text": [
      "\n",
      "iteration: 156\n",
      "[0]\ttrain-auc:0.50000\teval-auc:0.50000\n",
      "[10]\ttrain-auc:0.50000\teval-auc:0.50000\n"
     ]
    },
    {
     "name": "stderr",
     "output_type": "stream",
     "text": [
      "C:\\Users\\ENES\\anaconda3\\lib\\site-packages\\xgboost\\core.py:90: UserWarning: ntree_limit is deprecated, use `iteration_range` or model slicing instead.\n",
      "  warnings.warn(\n"
     ]
    },
    {
     "name": "stdout",
     "output_type": "stream",
     "text": [
      "\n",
      "iteration: 157\n",
      "[0]\ttrain-auc:0.50000\teval-auc:0.50000\n",
      "[9]\ttrain-auc:0.50000\teval-auc:0.50000\n"
     ]
    },
    {
     "name": "stderr",
     "output_type": "stream",
     "text": [
      "C:\\Users\\ENES\\anaconda3\\lib\\site-packages\\xgboost\\core.py:90: UserWarning: ntree_limit is deprecated, use `iteration_range` or model slicing instead.\n",
      "  warnings.warn(\n"
     ]
    },
    {
     "name": "stdout",
     "output_type": "stream",
     "text": [
      "\n",
      "iteration: 158\n",
      "[0]\ttrain-auc:0.50000\teval-auc:0.50000\n",
      "[10]\ttrain-auc:0.50000\teval-auc:0.50000\n"
     ]
    },
    {
     "name": "stderr",
     "output_type": "stream",
     "text": [
      "C:\\Users\\ENES\\anaconda3\\lib\\site-packages\\xgboost\\core.py:90: UserWarning: ntree_limit is deprecated, use `iteration_range` or model slicing instead.\n",
      "  warnings.warn(\n"
     ]
    },
    {
     "name": "stdout",
     "output_type": "stream",
     "text": [
      "\n",
      "iteration: 159\n",
      "[0]\ttrain-auc:0.50000\teval-auc:0.50000\n",
      "[10]\ttrain-auc:0.50000\teval-auc:0.50000\n"
     ]
    },
    {
     "name": "stderr",
     "output_type": "stream",
     "text": [
      "C:\\Users\\ENES\\anaconda3\\lib\\site-packages\\xgboost\\core.py:90: UserWarning: ntree_limit is deprecated, use `iteration_range` or model slicing instead.\n",
      "  warnings.warn(\n"
     ]
    },
    {
     "name": "stdout",
     "output_type": "stream",
     "text": [
      "\n",
      "iteration: 160\n",
      "[0]\ttrain-auc:0.50000\teval-auc:0.50000\n",
      "[9]\ttrain-auc:0.50000\teval-auc:0.50000\n"
     ]
    },
    {
     "name": "stderr",
     "output_type": "stream",
     "text": [
      "C:\\Users\\ENES\\anaconda3\\lib\\site-packages\\xgboost\\core.py:90: UserWarning: ntree_limit is deprecated, use `iteration_range` or model slicing instead.\n",
      "  warnings.warn(\n"
     ]
    },
    {
     "name": "stdout",
     "output_type": "stream",
     "text": [
      "\n",
      "iteration: 161\n",
      "[0]\ttrain-auc:0.70541\teval-auc:0.49808\n",
      "[9]\ttrain-auc:0.70541\teval-auc:0.49808\n"
     ]
    },
    {
     "name": "stderr",
     "output_type": "stream",
     "text": [
      "C:\\Users\\ENES\\anaconda3\\lib\\site-packages\\xgboost\\core.py:90: UserWarning: ntree_limit is deprecated, use `iteration_range` or model slicing instead.\n",
      "  warnings.warn(\n"
     ]
    },
    {
     "name": "stdout",
     "output_type": "stream",
     "text": [
      "\n",
      "iteration: 162\n",
      "[0]\ttrain-auc:0.50000\teval-auc:0.50000\n",
      "[10]\ttrain-auc:0.50000\teval-auc:0.50000\n"
     ]
    },
    {
     "name": "stderr",
     "output_type": "stream",
     "text": [
      "C:\\Users\\ENES\\anaconda3\\lib\\site-packages\\xgboost\\core.py:90: UserWarning: ntree_limit is deprecated, use `iteration_range` or model slicing instead.\n",
      "  warnings.warn(\n"
     ]
    },
    {
     "name": "stdout",
     "output_type": "stream",
     "text": [
      "\n",
      "iteration: 163\n",
      "[0]\ttrain-auc:0.50000\teval-auc:0.50000\n",
      "[10]\ttrain-auc:0.50000\teval-auc:0.50000\n"
     ]
    },
    {
     "name": "stderr",
     "output_type": "stream",
     "text": [
      "C:\\Users\\ENES\\anaconda3\\lib\\site-packages\\xgboost\\core.py:90: UserWarning: ntree_limit is deprecated, use `iteration_range` or model slicing instead.\n",
      "  warnings.warn(\n"
     ]
    },
    {
     "name": "stdout",
     "output_type": "stream",
     "text": [
      "\n",
      "iteration: 164\n",
      "[0]\ttrain-auc:0.50000\teval-auc:0.50000\n",
      "[9]\ttrain-auc:0.50000\teval-auc:0.50000\n"
     ]
    },
    {
     "name": "stderr",
     "output_type": "stream",
     "text": [
      "C:\\Users\\ENES\\anaconda3\\lib\\site-packages\\xgboost\\core.py:90: UserWarning: ntree_limit is deprecated, use `iteration_range` or model slicing instead.\n",
      "  warnings.warn(\n"
     ]
    },
    {
     "name": "stdout",
     "output_type": "stream",
     "text": [
      "\n",
      "iteration: 165\n",
      "[0]\ttrain-auc:0.50000\teval-auc:0.50000\n",
      "[9]\ttrain-auc:0.50000\teval-auc:0.50000\n"
     ]
    },
    {
     "name": "stderr",
     "output_type": "stream",
     "text": [
      "C:\\Users\\ENES\\anaconda3\\lib\\site-packages\\xgboost\\core.py:90: UserWarning: ntree_limit is deprecated, use `iteration_range` or model slicing instead.\n",
      "  warnings.warn(\n"
     ]
    },
    {
     "name": "stdout",
     "output_type": "stream",
     "text": [
      "\n",
      "iteration: 166\n",
      "[0]\ttrain-auc:0.50000\teval-auc:0.50000\n",
      "[9]\ttrain-auc:0.50000\teval-auc:0.50000\n"
     ]
    },
    {
     "name": "stderr",
     "output_type": "stream",
     "text": [
      "C:\\Users\\ENES\\anaconda3\\lib\\site-packages\\xgboost\\core.py:90: UserWarning: ntree_limit is deprecated, use `iteration_range` or model slicing instead.\n",
      "  warnings.warn(\n"
     ]
    },
    {
     "name": "stdout",
     "output_type": "stream",
     "text": [
      "\n",
      "iteration: 167\n",
      "[0]\ttrain-auc:0.50000\teval-auc:0.50000\n",
      "[9]\ttrain-auc:0.50000\teval-auc:0.50000\n"
     ]
    },
    {
     "name": "stderr",
     "output_type": "stream",
     "text": [
      "C:\\Users\\ENES\\anaconda3\\lib\\site-packages\\xgboost\\core.py:90: UserWarning: ntree_limit is deprecated, use `iteration_range` or model slicing instead.\n",
      "  warnings.warn(\n"
     ]
    },
    {
     "name": "stdout",
     "output_type": "stream",
     "text": [
      "\n",
      "iteration: 168\n",
      "[0]\ttrain-auc:0.50000\teval-auc:0.50000\n",
      "[9]\ttrain-auc:0.50000\teval-auc:0.50000\n"
     ]
    },
    {
     "name": "stderr",
     "output_type": "stream",
     "text": [
      "C:\\Users\\ENES\\anaconda3\\lib\\site-packages\\xgboost\\core.py:90: UserWarning: ntree_limit is deprecated, use `iteration_range` or model slicing instead.\n",
      "  warnings.warn(\n"
     ]
    },
    {
     "name": "stdout",
     "output_type": "stream",
     "text": [
      "\n",
      "iteration: 169\n",
      "[0]\ttrain-auc:0.70541\teval-auc:0.49808\n",
      "[9]\ttrain-auc:0.70541\teval-auc:0.49808\n"
     ]
    },
    {
     "name": "stderr",
     "output_type": "stream",
     "text": [
      "C:\\Users\\ENES\\anaconda3\\lib\\site-packages\\xgboost\\core.py:90: UserWarning: ntree_limit is deprecated, use `iteration_range` or model slicing instead.\n",
      "  warnings.warn(\n"
     ]
    },
    {
     "name": "stdout",
     "output_type": "stream",
     "text": [
      "\n",
      "iteration: 170\n",
      "[0]\ttrain-auc:0.50000\teval-auc:0.50000\n",
      "[10]\ttrain-auc:0.50000\teval-auc:0.50000\n"
     ]
    },
    {
     "name": "stderr",
     "output_type": "stream",
     "text": [
      "C:\\Users\\ENES\\anaconda3\\lib\\site-packages\\xgboost\\core.py:90: UserWarning: ntree_limit is deprecated, use `iteration_range` or model slicing instead.\n",
      "  warnings.warn(\n"
     ]
    },
    {
     "name": "stdout",
     "output_type": "stream",
     "text": [
      "\n",
      "iteration: 171\n",
      "[0]\ttrain-auc:0.50000\teval-auc:0.50000\n",
      "[10]\ttrain-auc:0.50000\teval-auc:0.50000\n"
     ]
    },
    {
     "name": "stderr",
     "output_type": "stream",
     "text": [
      "C:\\Users\\ENES\\anaconda3\\lib\\site-packages\\xgboost\\core.py:90: UserWarning: ntree_limit is deprecated, use `iteration_range` or model slicing instead.\n",
      "  warnings.warn(\n"
     ]
    },
    {
     "name": "stdout",
     "output_type": "stream",
     "text": [
      "\n",
      "iteration: 172\n",
      "[0]\ttrain-auc:0.50000\teval-auc:0.50000\n",
      "[9]\ttrain-auc:0.50000\teval-auc:0.50000\n"
     ]
    },
    {
     "name": "stderr",
     "output_type": "stream",
     "text": [
      "C:\\Users\\ENES\\anaconda3\\lib\\site-packages\\xgboost\\core.py:90: UserWarning: ntree_limit is deprecated, use `iteration_range` or model slicing instead.\n",
      "  warnings.warn(\n"
     ]
    },
    {
     "name": "stdout",
     "output_type": "stream",
     "text": [
      "\n",
      "iteration: 173\n",
      "[0]\ttrain-auc:0.50000\teval-auc:0.50000\n",
      "[9]\ttrain-auc:0.50000\teval-auc:0.50000\n"
     ]
    },
    {
     "name": "stderr",
     "output_type": "stream",
     "text": [
      "C:\\Users\\ENES\\anaconda3\\lib\\site-packages\\xgboost\\core.py:90: UserWarning: ntree_limit is deprecated, use `iteration_range` or model slicing instead.\n",
      "  warnings.warn(\n"
     ]
    },
    {
     "name": "stdout",
     "output_type": "stream",
     "text": [
      "\n",
      "iteration: 174\n",
      "[0]\ttrain-auc:0.50000\teval-auc:0.50000\n",
      "[9]\ttrain-auc:0.50000\teval-auc:0.50000\n"
     ]
    },
    {
     "name": "stderr",
     "output_type": "stream",
     "text": [
      "C:\\Users\\ENES\\anaconda3\\lib\\site-packages\\xgboost\\core.py:90: UserWarning: ntree_limit is deprecated, use `iteration_range` or model slicing instead.\n",
      "  warnings.warn(\n"
     ]
    },
    {
     "name": "stdout",
     "output_type": "stream",
     "text": [
      "\n",
      "iteration: 175\n",
      "[0]\ttrain-auc:0.50000\teval-auc:0.50000\n",
      "[10]\ttrain-auc:0.50000\teval-auc:0.50000\n"
     ]
    },
    {
     "name": "stderr",
     "output_type": "stream",
     "text": [
      "C:\\Users\\ENES\\anaconda3\\lib\\site-packages\\xgboost\\core.py:90: UserWarning: ntree_limit is deprecated, use `iteration_range` or model slicing instead.\n",
      "  warnings.warn(\n"
     ]
    },
    {
     "name": "stdout",
     "output_type": "stream",
     "text": [
      "\n",
      "iteration: 176\n",
      "[0]\ttrain-auc:0.50000\teval-auc:0.50000\n",
      "[10]\ttrain-auc:0.50000\teval-auc:0.50000\n"
     ]
    },
    {
     "name": "stderr",
     "output_type": "stream",
     "text": [
      "C:\\Users\\ENES\\anaconda3\\lib\\site-packages\\xgboost\\core.py:90: UserWarning: ntree_limit is deprecated, use `iteration_range` or model slicing instead.\n",
      "  warnings.warn(\n"
     ]
    },
    {
     "name": "stdout",
     "output_type": "stream",
     "text": [
      "\n",
      "iteration: 177\n",
      "[0]\ttrain-auc:0.70541\teval-auc:0.49808\n",
      "[9]\ttrain-auc:0.70541\teval-auc:0.49808\n"
     ]
    },
    {
     "name": "stderr",
     "output_type": "stream",
     "text": [
      "C:\\Users\\ENES\\anaconda3\\lib\\site-packages\\xgboost\\core.py:90: UserWarning: ntree_limit is deprecated, use `iteration_range` or model slicing instead.\n",
      "  warnings.warn(\n"
     ]
    },
    {
     "name": "stdout",
     "output_type": "stream",
     "text": [
      "\n",
      "iteration: 178\n",
      "[0]\ttrain-auc:0.50000\teval-auc:0.50000\n",
      "[9]\ttrain-auc:0.50000\teval-auc:0.50000\n"
     ]
    },
    {
     "name": "stderr",
     "output_type": "stream",
     "text": [
      "C:\\Users\\ENES\\anaconda3\\lib\\site-packages\\xgboost\\core.py:90: UserWarning: ntree_limit is deprecated, use `iteration_range` or model slicing instead.\n",
      "  warnings.warn(\n"
     ]
    },
    {
     "name": "stdout",
     "output_type": "stream",
     "text": [
      "\n",
      "iteration: 179\n",
      "[0]\ttrain-auc:0.50000\teval-auc:0.50000\n",
      "[9]\ttrain-auc:0.50000\teval-auc:0.50000\n"
     ]
    },
    {
     "name": "stderr",
     "output_type": "stream",
     "text": [
      "C:\\Users\\ENES\\anaconda3\\lib\\site-packages\\xgboost\\core.py:90: UserWarning: ntree_limit is deprecated, use `iteration_range` or model slicing instead.\n",
      "  warnings.warn(\n"
     ]
    },
    {
     "name": "stdout",
     "output_type": "stream",
     "text": [
      "\n",
      "iteration: 180\n",
      "[0]\ttrain-auc:0.50000\teval-auc:0.50000\n",
      "[10]\ttrain-auc:0.50000\teval-auc:0.50000\n"
     ]
    },
    {
     "name": "stderr",
     "output_type": "stream",
     "text": [
      "C:\\Users\\ENES\\anaconda3\\lib\\site-packages\\xgboost\\core.py:90: UserWarning: ntree_limit is deprecated, use `iteration_range` or model slicing instead.\n",
      "  warnings.warn(\n"
     ]
    },
    {
     "name": "stdout",
     "output_type": "stream",
     "text": [
      "\n",
      "iteration: 181\n",
      "[0]\ttrain-auc:0.50000\teval-auc:0.50000\n",
      "[9]\ttrain-auc:0.50000\teval-auc:0.50000\n"
     ]
    },
    {
     "name": "stderr",
     "output_type": "stream",
     "text": [
      "C:\\Users\\ENES\\anaconda3\\lib\\site-packages\\xgboost\\core.py:90: UserWarning: ntree_limit is deprecated, use `iteration_range` or model slicing instead.\n",
      "  warnings.warn(\n"
     ]
    },
    {
     "name": "stdout",
     "output_type": "stream",
     "text": [
      "\n",
      "iteration: 182\n",
      "[0]\ttrain-auc:0.50000\teval-auc:0.50000\n",
      "[10]\ttrain-auc:0.50000\teval-auc:0.50000\n"
     ]
    },
    {
     "name": "stderr",
     "output_type": "stream",
     "text": [
      "C:\\Users\\ENES\\anaconda3\\lib\\site-packages\\xgboost\\core.py:90: UserWarning: ntree_limit is deprecated, use `iteration_range` or model slicing instead.\n",
      "  warnings.warn(\n"
     ]
    },
    {
     "name": "stdout",
     "output_type": "stream",
     "text": [
      "\n",
      "iteration: 183\n",
      "[0]\ttrain-auc:0.50000\teval-auc:0.50000\n",
      "[10]\ttrain-auc:0.50000\teval-auc:0.50000\n"
     ]
    },
    {
     "name": "stderr",
     "output_type": "stream",
     "text": [
      "C:\\Users\\ENES\\anaconda3\\lib\\site-packages\\xgboost\\core.py:90: UserWarning: ntree_limit is deprecated, use `iteration_range` or model slicing instead.\n",
      "  warnings.warn(\n"
     ]
    },
    {
     "name": "stdout",
     "output_type": "stream",
     "text": [
      "\n",
      "iteration: 184\n",
      "[0]\ttrain-auc:0.50000\teval-auc:0.50000\n",
      "[10]\ttrain-auc:0.50000\teval-auc:0.50000\n"
     ]
    },
    {
     "name": "stderr",
     "output_type": "stream",
     "text": [
      "C:\\Users\\ENES\\anaconda3\\lib\\site-packages\\xgboost\\core.py:90: UserWarning: ntree_limit is deprecated, use `iteration_range` or model slicing instead.\n",
      "  warnings.warn(\n"
     ]
    },
    {
     "name": "stdout",
     "output_type": "stream",
     "text": [
      "\n",
      "iteration: 185\n",
      "[0]\ttrain-auc:0.50000\teval-auc:0.50000\n",
      "[10]\ttrain-auc:0.50000\teval-auc:0.50000\n"
     ]
    },
    {
     "name": "stderr",
     "output_type": "stream",
     "text": [
      "C:\\Users\\ENES\\anaconda3\\lib\\site-packages\\xgboost\\core.py:90: UserWarning: ntree_limit is deprecated, use `iteration_range` or model slicing instead.\n",
      "  warnings.warn(\n"
     ]
    },
    {
     "name": "stdout",
     "output_type": "stream",
     "text": [
      "\n",
      "iteration: 186\n",
      "[0]\ttrain-auc:0.50000\teval-auc:0.50000\n",
      "[9]\ttrain-auc:0.50000\teval-auc:0.50000\n"
     ]
    },
    {
     "name": "stderr",
     "output_type": "stream",
     "text": [
      "C:\\Users\\ENES\\anaconda3\\lib\\site-packages\\xgboost\\core.py:90: UserWarning: ntree_limit is deprecated, use `iteration_range` or model slicing instead.\n",
      "  warnings.warn(\n"
     ]
    },
    {
     "name": "stdout",
     "output_type": "stream",
     "text": [
      "\n",
      "iteration: 187\n",
      "[0]\ttrain-auc:0.50000\teval-auc:0.50000\n",
      "[9]\ttrain-auc:0.50000\teval-auc:0.50000\n"
     ]
    },
    {
     "name": "stderr",
     "output_type": "stream",
     "text": [
      "C:\\Users\\ENES\\anaconda3\\lib\\site-packages\\xgboost\\core.py:90: UserWarning: ntree_limit is deprecated, use `iteration_range` or model slicing instead.\n",
      "  warnings.warn(\n"
     ]
    },
    {
     "name": "stdout",
     "output_type": "stream",
     "text": [
      "\n",
      "iteration: 188\n",
      "[0]\ttrain-auc:0.50000\teval-auc:0.50000\n",
      "[9]\ttrain-auc:0.50000\teval-auc:0.50000\n"
     ]
    },
    {
     "name": "stderr",
     "output_type": "stream",
     "text": [
      "C:\\Users\\ENES\\anaconda3\\lib\\site-packages\\xgboost\\core.py:90: UserWarning: ntree_limit is deprecated, use `iteration_range` or model slicing instead.\n",
      "  warnings.warn(\n"
     ]
    },
    {
     "name": "stdout",
     "output_type": "stream",
     "text": [
      "\n",
      "iteration: 189\n",
      "[0]\ttrain-auc:0.50000\teval-auc:0.50000\n",
      "[9]\ttrain-auc:0.50000\teval-auc:0.50000\n"
     ]
    },
    {
     "name": "stderr",
     "output_type": "stream",
     "text": [
      "C:\\Users\\ENES\\anaconda3\\lib\\site-packages\\xgboost\\core.py:90: UserWarning: ntree_limit is deprecated, use `iteration_range` or model slicing instead.\n",
      "  warnings.warn(\n"
     ]
    },
    {
     "name": "stdout",
     "output_type": "stream",
     "text": [
      "\n",
      "iteration: 190\n",
      "[0]\ttrain-auc:0.50000\teval-auc:0.50000\n",
      "[9]\ttrain-auc:0.50000\teval-auc:0.50000\n"
     ]
    },
    {
     "name": "stderr",
     "output_type": "stream",
     "text": [
      "C:\\Users\\ENES\\anaconda3\\lib\\site-packages\\xgboost\\core.py:90: UserWarning: ntree_limit is deprecated, use `iteration_range` or model slicing instead.\n",
      "  warnings.warn(\n"
     ]
    },
    {
     "name": "stdout",
     "output_type": "stream",
     "text": [
      "\n",
      "iteration: 191\n",
      "[0]\ttrain-auc:0.50000\teval-auc:0.50000\n",
      "[10]\ttrain-auc:0.50000\teval-auc:0.50000\n"
     ]
    },
    {
     "name": "stderr",
     "output_type": "stream",
     "text": [
      "C:\\Users\\ENES\\anaconda3\\lib\\site-packages\\xgboost\\core.py:90: UserWarning: ntree_limit is deprecated, use `iteration_range` or model slicing instead.\n",
      "  warnings.warn(\n"
     ]
    },
    {
     "name": "stdout",
     "output_type": "stream",
     "text": [
      "\n",
      "iteration: 192\n",
      "[0]\ttrain-auc:0.50000\teval-auc:0.50000\n",
      "[10]\ttrain-auc:0.50000\teval-auc:0.50000\n"
     ]
    },
    {
     "name": "stderr",
     "output_type": "stream",
     "text": [
      "C:\\Users\\ENES\\anaconda3\\lib\\site-packages\\xgboost\\core.py:90: UserWarning: ntree_limit is deprecated, use `iteration_range` or model slicing instead.\n",
      "  warnings.warn(\n"
     ]
    },
    {
     "name": "stdout",
     "output_type": "stream",
     "text": [
      "\n",
      "iteration: 193\n",
      "[0]\ttrain-auc:0.50000\teval-auc:0.50000\n",
      "[9]\ttrain-auc:0.50000\teval-auc:0.50000\n"
     ]
    },
    {
     "name": "stderr",
     "output_type": "stream",
     "text": [
      "C:\\Users\\ENES\\anaconda3\\lib\\site-packages\\xgboost\\core.py:90: UserWarning: ntree_limit is deprecated, use `iteration_range` or model slicing instead.\n",
      "  warnings.warn(\n"
     ]
    },
    {
     "name": "stdout",
     "output_type": "stream",
     "text": [
      "\n",
      "iteration: 194\n",
      "[0]\ttrain-auc:0.50000\teval-auc:0.50000\n",
      "[9]\ttrain-auc:0.50000\teval-auc:0.50000\n"
     ]
    },
    {
     "name": "stderr",
     "output_type": "stream",
     "text": [
      "C:\\Users\\ENES\\anaconda3\\lib\\site-packages\\xgboost\\core.py:90: UserWarning: ntree_limit is deprecated, use `iteration_range` or model slicing instead.\n",
      "  warnings.warn(\n"
     ]
    },
    {
     "name": "stdout",
     "output_type": "stream",
     "text": [
      "\n",
      "iteration: 195\n",
      "[0]\ttrain-auc:0.50000\teval-auc:0.50000\n",
      "[9]\ttrain-auc:0.50000\teval-auc:0.50000\n"
     ]
    },
    {
     "name": "stderr",
     "output_type": "stream",
     "text": [
      "C:\\Users\\ENES\\anaconda3\\lib\\site-packages\\xgboost\\core.py:90: UserWarning: ntree_limit is deprecated, use `iteration_range` or model slicing instead.\n",
      "  warnings.warn(\n"
     ]
    },
    {
     "name": "stdout",
     "output_type": "stream",
     "text": [
      "\n",
      "iteration: 196\n",
      "[0]\ttrain-auc:0.50000\teval-auc:0.50000\n",
      "[9]\ttrain-auc:0.50000\teval-auc:0.50000\n"
     ]
    },
    {
     "name": "stderr",
     "output_type": "stream",
     "text": [
      "C:\\Users\\ENES\\anaconda3\\lib\\site-packages\\xgboost\\core.py:90: UserWarning: ntree_limit is deprecated, use `iteration_range` or model slicing instead.\n",
      "  warnings.warn(\n"
     ]
    },
    {
     "name": "stdout",
     "output_type": "stream",
     "text": [
      "\n",
      "iteration: 197\n",
      "[0]\ttrain-auc:0.50000\teval-auc:0.50000\n",
      "[10]\ttrain-auc:0.50000\teval-auc:0.50000\n"
     ]
    },
    {
     "name": "stderr",
     "output_type": "stream",
     "text": [
      "C:\\Users\\ENES\\anaconda3\\lib\\site-packages\\xgboost\\core.py:90: UserWarning: ntree_limit is deprecated, use `iteration_range` or model slicing instead.\n",
      "  warnings.warn(\n"
     ]
    },
    {
     "name": "stdout",
     "output_type": "stream",
     "text": [
      "\n",
      "iteration: 198\n",
      "[0]\ttrain-auc:0.50000\teval-auc:0.50000\n",
      "[9]\ttrain-auc:0.50000\teval-auc:0.50000\n"
     ]
    },
    {
     "name": "stderr",
     "output_type": "stream",
     "text": [
      "C:\\Users\\ENES\\anaconda3\\lib\\site-packages\\xgboost\\core.py:90: UserWarning: ntree_limit is deprecated, use `iteration_range` or model slicing instead.\n",
      "  warnings.warn(\n"
     ]
    },
    {
     "name": "stdout",
     "output_type": "stream",
     "text": [
      "\n",
      "iteration: 199\n",
      "[0]\ttrain-auc:0.50000\teval-auc:0.50000\n",
      "[10]\ttrain-auc:0.50000\teval-auc:0.50000\n"
     ]
    },
    {
     "name": "stderr",
     "output_type": "stream",
     "text": [
      "C:\\Users\\ENES\\anaconda3\\lib\\site-packages\\xgboost\\core.py:90: UserWarning: ntree_limit is deprecated, use `iteration_range` or model slicing instead.\n",
      "  warnings.warn(\n"
     ]
    },
    {
     "name": "stdout",
     "output_type": "stream",
     "text": [
      "\n",
      "iteration: 200\n",
      "[0]\ttrain-auc:0.50000\teval-auc:0.50000\n",
      "[10]\ttrain-auc:0.50000\teval-auc:0.50000\n"
     ]
    },
    {
     "name": "stderr",
     "output_type": "stream",
     "text": [
      "C:\\Users\\ENES\\anaconda3\\lib\\site-packages\\xgboost\\core.py:90: UserWarning: ntree_limit is deprecated, use `iteration_range` or model slicing instead.\n",
      "  warnings.warn(\n"
     ]
    },
    {
     "name": "stdout",
     "output_type": "stream",
     "text": [
      "\n",
      "iteration: 201\n",
      "[0]\ttrain-auc:0.50000\teval-auc:0.50000\n",
      "[9]\ttrain-auc:0.50000\teval-auc:0.50000\n"
     ]
    },
    {
     "name": "stderr",
     "output_type": "stream",
     "text": [
      "C:\\Users\\ENES\\anaconda3\\lib\\site-packages\\xgboost\\core.py:90: UserWarning: ntree_limit is deprecated, use `iteration_range` or model slicing instead.\n",
      "  warnings.warn(\n"
     ]
    },
    {
     "name": "stdout",
     "output_type": "stream",
     "text": [
      "\n",
      "iteration: 202\n",
      "[0]\ttrain-auc:0.50000\teval-auc:0.50000\n",
      "[9]\ttrain-auc:0.50000\teval-auc:0.50000\n"
     ]
    },
    {
     "name": "stderr",
     "output_type": "stream",
     "text": [
      "C:\\Users\\ENES\\anaconda3\\lib\\site-packages\\xgboost\\core.py:90: UserWarning: ntree_limit is deprecated, use `iteration_range` or model slicing instead.\n",
      "  warnings.warn(\n"
     ]
    },
    {
     "name": "stdout",
     "output_type": "stream",
     "text": [
      "\n",
      "iteration: 203\n",
      "[0]\ttrain-auc:0.50000\teval-auc:0.50000\n",
      "[10]\ttrain-auc:0.50000\teval-auc:0.50000\n"
     ]
    },
    {
     "name": "stderr",
     "output_type": "stream",
     "text": [
      "C:\\Users\\ENES\\anaconda3\\lib\\site-packages\\xgboost\\core.py:90: UserWarning: ntree_limit is deprecated, use `iteration_range` or model slicing instead.\n",
      "  warnings.warn(\n"
     ]
    },
    {
     "name": "stdout",
     "output_type": "stream",
     "text": [
      "\n",
      "iteration: 204\n",
      "[0]\ttrain-auc:0.50000\teval-auc:0.50000\n",
      "[10]\ttrain-auc:0.50000\teval-auc:0.50000\n"
     ]
    },
    {
     "name": "stderr",
     "output_type": "stream",
     "text": [
      "C:\\Users\\ENES\\anaconda3\\lib\\site-packages\\xgboost\\core.py:90: UserWarning: ntree_limit is deprecated, use `iteration_range` or model slicing instead.\n",
      "  warnings.warn(\n"
     ]
    },
    {
     "name": "stdout",
     "output_type": "stream",
     "text": [
      "\n",
      "iteration: 205\n",
      "[0]\ttrain-auc:0.50000\teval-auc:0.50000\n",
      "[9]\ttrain-auc:0.50000\teval-auc:0.50000\n"
     ]
    },
    {
     "name": "stderr",
     "output_type": "stream",
     "text": [
      "C:\\Users\\ENES\\anaconda3\\lib\\site-packages\\xgboost\\core.py:90: UserWarning: ntree_limit is deprecated, use `iteration_range` or model slicing instead.\n",
      "  warnings.warn(\n"
     ]
    },
    {
     "name": "stdout",
     "output_type": "stream",
     "text": [
      "\n",
      "iteration: 206\n",
      "[0]\ttrain-auc:0.50000\teval-auc:0.50000\n",
      "[10]\ttrain-auc:0.50000\teval-auc:0.50000\n"
     ]
    },
    {
     "name": "stderr",
     "output_type": "stream",
     "text": [
      "C:\\Users\\ENES\\anaconda3\\lib\\site-packages\\xgboost\\core.py:90: UserWarning: ntree_limit is deprecated, use `iteration_range` or model slicing instead.\n",
      "  warnings.warn(\n"
     ]
    },
    {
     "name": "stdout",
     "output_type": "stream",
     "text": [
      "\n",
      "iteration: 207\n",
      "[0]\ttrain-auc:0.50000\teval-auc:0.50000\n",
      "[9]\ttrain-auc:0.50000\teval-auc:0.50000\n"
     ]
    },
    {
     "name": "stderr",
     "output_type": "stream",
     "text": [
      "C:\\Users\\ENES\\anaconda3\\lib\\site-packages\\xgboost\\core.py:90: UserWarning: ntree_limit is deprecated, use `iteration_range` or model slicing instead.\n",
      "  warnings.warn(\n"
     ]
    },
    {
     "name": "stdout",
     "output_type": "stream",
     "text": [
      "\n",
      "iteration: 208\n",
      "[0]\ttrain-auc:0.50000\teval-auc:0.50000\n",
      "[9]\ttrain-auc:0.50000\teval-auc:0.50000\n"
     ]
    },
    {
     "name": "stderr",
     "output_type": "stream",
     "text": [
      "C:\\Users\\ENES\\anaconda3\\lib\\site-packages\\xgboost\\core.py:90: UserWarning: ntree_limit is deprecated, use `iteration_range` or model slicing instead.\n",
      "  warnings.warn(\n"
     ]
    },
    {
     "name": "stdout",
     "output_type": "stream",
     "text": [
      "\n",
      "iteration: 209\n",
      "[0]\ttrain-auc:0.50000\teval-auc:0.50000\n",
      "[9]\ttrain-auc:0.50000\teval-auc:0.50000\n"
     ]
    },
    {
     "name": "stderr",
     "output_type": "stream",
     "text": [
      "C:\\Users\\ENES\\anaconda3\\lib\\site-packages\\xgboost\\core.py:90: UserWarning: ntree_limit is deprecated, use `iteration_range` or model slicing instead.\n",
      "  warnings.warn(\n"
     ]
    },
    {
     "name": "stdout",
     "output_type": "stream",
     "text": [
      "\n",
      "iteration: 210\n",
      "[0]\ttrain-auc:0.50000\teval-auc:0.50000\n",
      "[10]\ttrain-auc:0.50000\teval-auc:0.50000\n"
     ]
    },
    {
     "name": "stderr",
     "output_type": "stream",
     "text": [
      "C:\\Users\\ENES\\anaconda3\\lib\\site-packages\\xgboost\\core.py:90: UserWarning: ntree_limit is deprecated, use `iteration_range` or model slicing instead.\n",
      "  warnings.warn(\n"
     ]
    },
    {
     "name": "stdout",
     "output_type": "stream",
     "text": [
      "\n",
      "iteration: 211\n",
      "[0]\ttrain-auc:0.50000\teval-auc:0.50000\n",
      "[9]\ttrain-auc:0.50000\teval-auc:0.50000\n"
     ]
    },
    {
     "name": "stderr",
     "output_type": "stream",
     "text": [
      "C:\\Users\\ENES\\anaconda3\\lib\\site-packages\\xgboost\\core.py:90: UserWarning: ntree_limit is deprecated, use `iteration_range` or model slicing instead.\n",
      "  warnings.warn(\n"
     ]
    },
    {
     "name": "stdout",
     "output_type": "stream",
     "text": [
      "\n",
      "iteration: 212\n",
      "[0]\ttrain-auc:0.50000\teval-auc:0.50000\n",
      "[9]\ttrain-auc:0.50000\teval-auc:0.50000\n"
     ]
    },
    {
     "name": "stderr",
     "output_type": "stream",
     "text": [
      "C:\\Users\\ENES\\anaconda3\\lib\\site-packages\\xgboost\\core.py:90: UserWarning: ntree_limit is deprecated, use `iteration_range` or model slicing instead.\n",
      "  warnings.warn(\n"
     ]
    },
    {
     "name": "stdout",
     "output_type": "stream",
     "text": [
      "\n",
      "iteration: 213\n",
      "[0]\ttrain-auc:0.50000\teval-auc:0.50000\n",
      "[10]\ttrain-auc:0.50000\teval-auc:0.50000\n"
     ]
    },
    {
     "name": "stderr",
     "output_type": "stream",
     "text": [
      "C:\\Users\\ENES\\anaconda3\\lib\\site-packages\\xgboost\\core.py:90: UserWarning: ntree_limit is deprecated, use `iteration_range` or model slicing instead.\n",
      "  warnings.warn(\n"
     ]
    },
    {
     "name": "stdout",
     "output_type": "stream",
     "text": [
      "\n",
      "iteration: 214\n",
      "[0]\ttrain-auc:0.50000\teval-auc:0.50000\n",
      "[9]\ttrain-auc:0.50000\teval-auc:0.50000\n"
     ]
    },
    {
     "name": "stderr",
     "output_type": "stream",
     "text": [
      "C:\\Users\\ENES\\anaconda3\\lib\\site-packages\\xgboost\\core.py:90: UserWarning: ntree_limit is deprecated, use `iteration_range` or model slicing instead.\n",
      "  warnings.warn(\n"
     ]
    },
    {
     "name": "stdout",
     "output_type": "stream",
     "text": [
      "\n",
      "iteration: 215\n",
      "[0]\ttrain-auc:0.50000\teval-auc:0.50000\n",
      "[10]\ttrain-auc:0.50000\teval-auc:0.50000\n"
     ]
    },
    {
     "name": "stderr",
     "output_type": "stream",
     "text": [
      "C:\\Users\\ENES\\anaconda3\\lib\\site-packages\\xgboost\\core.py:90: UserWarning: ntree_limit is deprecated, use `iteration_range` or model slicing instead.\n",
      "  warnings.warn(\n"
     ]
    },
    {
     "name": "stdout",
     "output_type": "stream",
     "text": [
      "\n",
      "iteration: 216\n",
      "[0]\ttrain-auc:0.50000\teval-auc:0.50000\n",
      "[9]\ttrain-auc:0.50000\teval-auc:0.50000\n"
     ]
    },
    {
     "name": "stderr",
     "output_type": "stream",
     "text": [
      "C:\\Users\\ENES\\anaconda3\\lib\\site-packages\\xgboost\\core.py:90: UserWarning: ntree_limit is deprecated, use `iteration_range` or model slicing instead.\n",
      "  warnings.warn(\n"
     ]
    },
    {
     "name": "stdout",
     "output_type": "stream",
     "text": [
      "\n",
      "iteration: 217\n",
      "[0]\ttrain-auc:0.50000\teval-auc:0.50000\n",
      "[10]\ttrain-auc:0.50000\teval-auc:0.50000\n"
     ]
    },
    {
     "name": "stderr",
     "output_type": "stream",
     "text": [
      "C:\\Users\\ENES\\anaconda3\\lib\\site-packages\\xgboost\\core.py:90: UserWarning: ntree_limit is deprecated, use `iteration_range` or model slicing instead.\n",
      "  warnings.warn(\n"
     ]
    },
    {
     "name": "stdout",
     "output_type": "stream",
     "text": [
      "\n",
      "iteration: 218\n",
      "[0]\ttrain-auc:0.50000\teval-auc:0.50000\n",
      "[10]\ttrain-auc:0.50000\teval-auc:0.50000\n"
     ]
    },
    {
     "name": "stderr",
     "output_type": "stream",
     "text": [
      "C:\\Users\\ENES\\anaconda3\\lib\\site-packages\\xgboost\\core.py:90: UserWarning: ntree_limit is deprecated, use `iteration_range` or model slicing instead.\n",
      "  warnings.warn(\n"
     ]
    },
    {
     "name": "stdout",
     "output_type": "stream",
     "text": [
      "\n",
      "iteration: 219\n",
      "[0]\ttrain-auc:0.50000\teval-auc:0.50000\n",
      "[10]\ttrain-auc:0.50000\teval-auc:0.50000\n"
     ]
    },
    {
     "name": "stderr",
     "output_type": "stream",
     "text": [
      "C:\\Users\\ENES\\anaconda3\\lib\\site-packages\\xgboost\\core.py:90: UserWarning: ntree_limit is deprecated, use `iteration_range` or model slicing instead.\n",
      "  warnings.warn(\n"
     ]
    },
    {
     "name": "stdout",
     "output_type": "stream",
     "text": [
      "\n",
      "iteration: 220\n",
      "[0]\ttrain-auc:0.50000\teval-auc:0.50000\n",
      "[10]\ttrain-auc:0.50000\teval-auc:0.50000\n"
     ]
    },
    {
     "name": "stderr",
     "output_type": "stream",
     "text": [
      "C:\\Users\\ENES\\anaconda3\\lib\\site-packages\\xgboost\\core.py:90: UserWarning: ntree_limit is deprecated, use `iteration_range` or model slicing instead.\n",
      "  warnings.warn(\n"
     ]
    },
    {
     "name": "stdout",
     "output_type": "stream",
     "text": [
      "\n",
      "iteration: 221\n",
      "[0]\ttrain-auc:0.50000\teval-auc:0.50000\n",
      "[10]\ttrain-auc:0.50000\teval-auc:0.50000\n"
     ]
    },
    {
     "name": "stderr",
     "output_type": "stream",
     "text": [
      "C:\\Users\\ENES\\anaconda3\\lib\\site-packages\\xgboost\\core.py:90: UserWarning: ntree_limit is deprecated, use `iteration_range` or model slicing instead.\n",
      "  warnings.warn(\n"
     ]
    },
    {
     "name": "stdout",
     "output_type": "stream",
     "text": [
      "\n",
      "iteration: 222\n",
      "[0]\ttrain-auc:0.50000\teval-auc:0.50000\n",
      "[9]\ttrain-auc:0.50000\teval-auc:0.50000\n"
     ]
    },
    {
     "name": "stderr",
     "output_type": "stream",
     "text": [
      "C:\\Users\\ENES\\anaconda3\\lib\\site-packages\\xgboost\\core.py:90: UserWarning: ntree_limit is deprecated, use `iteration_range` or model slicing instead.\n",
      "  warnings.warn(\n"
     ]
    },
    {
     "name": "stdout",
     "output_type": "stream",
     "text": [
      "\n",
      "iteration: 223\n",
      "[0]\ttrain-auc:0.50000\teval-auc:0.50000\n",
      "[9]\ttrain-auc:0.50000\teval-auc:0.50000\n"
     ]
    },
    {
     "name": "stderr",
     "output_type": "stream",
     "text": [
      "C:\\Users\\ENES\\anaconda3\\lib\\site-packages\\xgboost\\core.py:90: UserWarning: ntree_limit is deprecated, use `iteration_range` or model slicing instead.\n",
      "  warnings.warn(\n"
     ]
    },
    {
     "name": "stdout",
     "output_type": "stream",
     "text": [
      "\n",
      "iteration: 224\n",
      "[0]\ttrain-auc:0.50000\teval-auc:0.50000\n",
      "[9]\ttrain-auc:0.50000\teval-auc:0.50000\n"
     ]
    },
    {
     "name": "stderr",
     "output_type": "stream",
     "text": [
      "C:\\Users\\ENES\\anaconda3\\lib\\site-packages\\xgboost\\core.py:90: UserWarning: ntree_limit is deprecated, use `iteration_range` or model slicing instead.\n",
      "  warnings.warn(\n"
     ]
    },
    {
     "name": "stdout",
     "output_type": "stream",
     "text": [
      "\n",
      "iteration: 225\n",
      "[0]\ttrain-auc:0.50000\teval-auc:0.50000\n",
      "[10]\ttrain-auc:0.50000\teval-auc:0.50000\n"
     ]
    },
    {
     "name": "stderr",
     "output_type": "stream",
     "text": [
      "C:\\Users\\ENES\\anaconda3\\lib\\site-packages\\xgboost\\core.py:90: UserWarning: ntree_limit is deprecated, use `iteration_range` or model slicing instead.\n",
      "  warnings.warn(\n"
     ]
    },
    {
     "name": "stdout",
     "output_type": "stream",
     "text": [
      "\n",
      "iteration: 226\n",
      "[0]\ttrain-auc:0.50000\teval-auc:0.50000\n",
      "[9]\ttrain-auc:0.50000\teval-auc:0.50000\n"
     ]
    },
    {
     "name": "stderr",
     "output_type": "stream",
     "text": [
      "C:\\Users\\ENES\\anaconda3\\lib\\site-packages\\xgboost\\core.py:90: UserWarning: ntree_limit is deprecated, use `iteration_range` or model slicing instead.\n",
      "  warnings.warn(\n"
     ]
    },
    {
     "name": "stdout",
     "output_type": "stream",
     "text": [
      "\n",
      "iteration: 227\n",
      "[0]\ttrain-auc:0.50000\teval-auc:0.50000\n",
      "[10]\ttrain-auc:0.50000\teval-auc:0.50000\n"
     ]
    },
    {
     "name": "stderr",
     "output_type": "stream",
     "text": [
      "C:\\Users\\ENES\\anaconda3\\lib\\site-packages\\xgboost\\core.py:90: UserWarning: ntree_limit is deprecated, use `iteration_range` or model slicing instead.\n",
      "  warnings.warn(\n"
     ]
    },
    {
     "name": "stdout",
     "output_type": "stream",
     "text": [
      "\n",
      "iteration: 228\n",
      "[0]\ttrain-auc:0.50000\teval-auc:0.50000\n",
      "[10]\ttrain-auc:0.50000\teval-auc:0.50000\n"
     ]
    },
    {
     "name": "stderr",
     "output_type": "stream",
     "text": [
      "C:\\Users\\ENES\\anaconda3\\lib\\site-packages\\xgboost\\core.py:90: UserWarning: ntree_limit is deprecated, use `iteration_range` or model slicing instead.\n",
      "  warnings.warn(\n"
     ]
    },
    {
     "name": "stdout",
     "output_type": "stream",
     "text": [
      "\n",
      "iteration: 229\n",
      "[0]\ttrain-auc:0.50000\teval-auc:0.50000\n",
      "[9]\ttrain-auc:0.50000\teval-auc:0.50000\n"
     ]
    },
    {
     "name": "stderr",
     "output_type": "stream",
     "text": [
      "C:\\Users\\ENES\\anaconda3\\lib\\site-packages\\xgboost\\core.py:90: UserWarning: ntree_limit is deprecated, use `iteration_range` or model slicing instead.\n",
      "  warnings.warn(\n"
     ]
    },
    {
     "name": "stdout",
     "output_type": "stream",
     "text": [
      "\n",
      "iteration: 230\n",
      "[0]\ttrain-auc:0.50000\teval-auc:0.50000\n",
      "[9]\ttrain-auc:0.50000\teval-auc:0.50000\n"
     ]
    },
    {
     "name": "stderr",
     "output_type": "stream",
     "text": [
      "C:\\Users\\ENES\\anaconda3\\lib\\site-packages\\xgboost\\core.py:90: UserWarning: ntree_limit is deprecated, use `iteration_range` or model slicing instead.\n",
      "  warnings.warn(\n"
     ]
    },
    {
     "name": "stdout",
     "output_type": "stream",
     "text": [
      "\n",
      "iteration: 231\n",
      "[0]\ttrain-auc:0.50000\teval-auc:0.50000\n",
      "[10]\ttrain-auc:0.50000\teval-auc:0.50000\n"
     ]
    },
    {
     "name": "stderr",
     "output_type": "stream",
     "text": [
      "C:\\Users\\ENES\\anaconda3\\lib\\site-packages\\xgboost\\core.py:90: UserWarning: ntree_limit is deprecated, use `iteration_range` or model slicing instead.\n",
      "  warnings.warn(\n"
     ]
    },
    {
     "name": "stdout",
     "output_type": "stream",
     "text": [
      "\n",
      "iteration: 232\n",
      "[0]\ttrain-auc:0.50000\teval-auc:0.50000\n",
      "[10]\ttrain-auc:0.50000\teval-auc:0.50000\n"
     ]
    },
    {
     "name": "stderr",
     "output_type": "stream",
     "text": [
      "C:\\Users\\ENES\\anaconda3\\lib\\site-packages\\xgboost\\core.py:90: UserWarning: ntree_limit is deprecated, use `iteration_range` or model slicing instead.\n",
      "  warnings.warn(\n"
     ]
    },
    {
     "name": "stdout",
     "output_type": "stream",
     "text": [
      "\n",
      "iteration: 233\n",
      "[0]\ttrain-auc:0.50000\teval-auc:0.50000\n",
      "[9]\ttrain-auc:0.50000\teval-auc:0.50000\n"
     ]
    },
    {
     "name": "stderr",
     "output_type": "stream",
     "text": [
      "C:\\Users\\ENES\\anaconda3\\lib\\site-packages\\xgboost\\core.py:90: UserWarning: ntree_limit is deprecated, use `iteration_range` or model slicing instead.\n",
      "  warnings.warn(\n"
     ]
    },
    {
     "name": "stdout",
     "output_type": "stream",
     "text": [
      "\n",
      "iteration: 234\n",
      "[0]\ttrain-auc:0.50000\teval-auc:0.50000\n",
      "[10]\ttrain-auc:0.50000\teval-auc:0.50000\n"
     ]
    },
    {
     "name": "stderr",
     "output_type": "stream",
     "text": [
      "C:\\Users\\ENES\\anaconda3\\lib\\site-packages\\xgboost\\core.py:90: UserWarning: ntree_limit is deprecated, use `iteration_range` or model slicing instead.\n",
      "  warnings.warn(\n"
     ]
    },
    {
     "name": "stdout",
     "output_type": "stream",
     "text": [
      "\n",
      "iteration: 235\n",
      "[0]\ttrain-auc:0.50000\teval-auc:0.50000\n",
      "[9]\ttrain-auc:0.50000\teval-auc:0.50000\n"
     ]
    },
    {
     "name": "stderr",
     "output_type": "stream",
     "text": [
      "C:\\Users\\ENES\\anaconda3\\lib\\site-packages\\xgboost\\core.py:90: UserWarning: ntree_limit is deprecated, use `iteration_range` or model slicing instead.\n",
      "  warnings.warn(\n"
     ]
    },
    {
     "name": "stdout",
     "output_type": "stream",
     "text": [
      "\n",
      "iteration: 236\n",
      "[0]\ttrain-auc:0.50000\teval-auc:0.50000\n",
      "[10]\ttrain-auc:0.50000\teval-auc:0.50000\n"
     ]
    },
    {
     "name": "stderr",
     "output_type": "stream",
     "text": [
      "C:\\Users\\ENES\\anaconda3\\lib\\site-packages\\xgboost\\core.py:90: UserWarning: ntree_limit is deprecated, use `iteration_range` or model slicing instead.\n",
      "  warnings.warn(\n"
     ]
    },
    {
     "name": "stdout",
     "output_type": "stream",
     "text": [
      "\n",
      "iteration: 237\n",
      "[0]\ttrain-auc:0.50000\teval-auc:0.50000\n",
      "[10]\ttrain-auc:0.50000\teval-auc:0.50000\n"
     ]
    },
    {
     "name": "stderr",
     "output_type": "stream",
     "text": [
      "C:\\Users\\ENES\\anaconda3\\lib\\site-packages\\xgboost\\core.py:90: UserWarning: ntree_limit is deprecated, use `iteration_range` or model slicing instead.\n",
      "  warnings.warn(\n"
     ]
    },
    {
     "name": "stdout",
     "output_type": "stream",
     "text": [
      "\n",
      "iteration: 238\n",
      "[0]\ttrain-auc:0.50000\teval-auc:0.50000\n",
      "[9]\ttrain-auc:0.50000\teval-auc:0.50000\n"
     ]
    },
    {
     "name": "stderr",
     "output_type": "stream",
     "text": [
      "C:\\Users\\ENES\\anaconda3\\lib\\site-packages\\xgboost\\core.py:90: UserWarning: ntree_limit is deprecated, use `iteration_range` or model slicing instead.\n",
      "  warnings.warn(\n"
     ]
    },
    {
     "name": "stdout",
     "output_type": "stream",
     "text": [
      "\n",
      "iteration: 239\n",
      "[0]\ttrain-auc:0.50000\teval-auc:0.50000\n",
      "[9]\ttrain-auc:0.50000\teval-auc:0.50000\n"
     ]
    },
    {
     "name": "stderr",
     "output_type": "stream",
     "text": [
      "C:\\Users\\ENES\\anaconda3\\lib\\site-packages\\xgboost\\core.py:90: UserWarning: ntree_limit is deprecated, use `iteration_range` or model slicing instead.\n",
      "  warnings.warn(\n"
     ]
    },
    {
     "name": "stdout",
     "output_type": "stream",
     "text": [
      "\n",
      "iteration: 240\n",
      "[0]\ttrain-auc:0.50000\teval-auc:0.50000\n",
      "[9]\ttrain-auc:0.50000\teval-auc:0.50000\n"
     ]
    },
    {
     "name": "stderr",
     "output_type": "stream",
     "text": [
      "C:\\Users\\ENES\\anaconda3\\lib\\site-packages\\xgboost\\core.py:90: UserWarning: ntree_limit is deprecated, use `iteration_range` or model slicing instead.\n",
      "  warnings.warn(\n"
     ]
    },
    {
     "name": "stdout",
     "output_type": "stream",
     "text": [
      "\n",
      "iteration: 241\n",
      "[0]\ttrain-auc:0.70541\teval-auc:0.49808\n",
      "[10]\ttrain-auc:0.70541\teval-auc:0.49808\n"
     ]
    },
    {
     "name": "stderr",
     "output_type": "stream",
     "text": [
      "C:\\Users\\ENES\\anaconda3\\lib\\site-packages\\xgboost\\core.py:90: UserWarning: ntree_limit is deprecated, use `iteration_range` or model slicing instead.\n",
      "  warnings.warn(\n"
     ]
    },
    {
     "name": "stdout",
     "output_type": "stream",
     "text": [
      "\n",
      "iteration: 242\n",
      "[0]\ttrain-auc:0.50000\teval-auc:0.50000\n",
      "[10]\ttrain-auc:0.50000\teval-auc:0.50000\n"
     ]
    },
    {
     "name": "stderr",
     "output_type": "stream",
     "text": [
      "C:\\Users\\ENES\\anaconda3\\lib\\site-packages\\xgboost\\core.py:90: UserWarning: ntree_limit is deprecated, use `iteration_range` or model slicing instead.\n",
      "  warnings.warn(\n"
     ]
    },
    {
     "name": "stdout",
     "output_type": "stream",
     "text": [
      "\n",
      "iteration: 243\n",
      "[0]\ttrain-auc:0.50000\teval-auc:0.50000\n",
      "[10]\ttrain-auc:0.50000\teval-auc:0.50000\n"
     ]
    },
    {
     "name": "stderr",
     "output_type": "stream",
     "text": [
      "C:\\Users\\ENES\\anaconda3\\lib\\site-packages\\xgboost\\core.py:90: UserWarning: ntree_limit is deprecated, use `iteration_range` or model slicing instead.\n",
      "  warnings.warn(\n"
     ]
    },
    {
     "name": "stdout",
     "output_type": "stream",
     "text": [
      "\n",
      "iteration: 244\n",
      "[0]\ttrain-auc:0.50000\teval-auc:0.50000\n",
      "[9]\ttrain-auc:0.50000\teval-auc:0.50000\n"
     ]
    },
    {
     "name": "stderr",
     "output_type": "stream",
     "text": [
      "C:\\Users\\ENES\\anaconda3\\lib\\site-packages\\xgboost\\core.py:90: UserWarning: ntree_limit is deprecated, use `iteration_range` or model slicing instead.\n",
      "  warnings.warn(\n"
     ]
    },
    {
     "name": "stdout",
     "output_type": "stream",
     "text": [
      "\n",
      "iteration: 245\n",
      "[0]\ttrain-auc:0.50000\teval-auc:0.50000\n",
      "[9]\ttrain-auc:0.50000\teval-auc:0.50000\n"
     ]
    },
    {
     "name": "stderr",
     "output_type": "stream",
     "text": [
      "C:\\Users\\ENES\\anaconda3\\lib\\site-packages\\xgboost\\core.py:90: UserWarning: ntree_limit is deprecated, use `iteration_range` or model slicing instead.\n",
      "  warnings.warn(\n"
     ]
    },
    {
     "name": "stdout",
     "output_type": "stream",
     "text": [
      "\n",
      "iteration: 246\n",
      "[0]\ttrain-auc:0.50000\teval-auc:0.50000\n",
      "[9]\ttrain-auc:0.50000\teval-auc:0.50000\n"
     ]
    },
    {
     "name": "stderr",
     "output_type": "stream",
     "text": [
      "C:\\Users\\ENES\\anaconda3\\lib\\site-packages\\xgboost\\core.py:90: UserWarning: ntree_limit is deprecated, use `iteration_range` or model slicing instead.\n",
      "  warnings.warn(\n"
     ]
    },
    {
     "name": "stdout",
     "output_type": "stream",
     "text": [
      "\n",
      "iteration: 247\n",
      "[0]\ttrain-auc:0.50000\teval-auc:0.50000\n",
      "[10]\ttrain-auc:0.50000\teval-auc:0.50000\n"
     ]
    },
    {
     "name": "stderr",
     "output_type": "stream",
     "text": [
      "C:\\Users\\ENES\\anaconda3\\lib\\site-packages\\xgboost\\core.py:90: UserWarning: ntree_limit is deprecated, use `iteration_range` or model slicing instead.\n",
      "  warnings.warn(\n"
     ]
    },
    {
     "name": "stdout",
     "output_type": "stream",
     "text": [
      "\n",
      "iteration: 248\n",
      "[0]\ttrain-auc:0.50000\teval-auc:0.50000\n",
      "[10]\ttrain-auc:0.50000\teval-auc:0.50000\n"
     ]
    },
    {
     "name": "stderr",
     "output_type": "stream",
     "text": [
      "C:\\Users\\ENES\\anaconda3\\lib\\site-packages\\xgboost\\core.py:90: UserWarning: ntree_limit is deprecated, use `iteration_range` or model slicing instead.\n",
      "  warnings.warn(\n"
     ]
    },
    {
     "name": "stdout",
     "output_type": "stream",
     "text": [
      "\n",
      "iteration: 249\n",
      "[0]\ttrain-auc:0.70541\teval-auc:0.49808\n",
      "[10]\ttrain-auc:0.70541\teval-auc:0.49808\n"
     ]
    },
    {
     "name": "stderr",
     "output_type": "stream",
     "text": [
      "C:\\Users\\ENES\\anaconda3\\lib\\site-packages\\xgboost\\core.py:90: UserWarning: ntree_limit is deprecated, use `iteration_range` or model slicing instead.\n",
      "  warnings.warn(\n"
     ]
    },
    {
     "name": "stdout",
     "output_type": "stream",
     "text": [
      "\n",
      "iteration: 250\n",
      "[0]\ttrain-auc:0.50000\teval-auc:0.50000\n",
      "[10]\ttrain-auc:0.50000\teval-auc:0.50000\n"
     ]
    },
    {
     "name": "stderr",
     "output_type": "stream",
     "text": [
      "C:\\Users\\ENES\\anaconda3\\lib\\site-packages\\xgboost\\core.py:90: UserWarning: ntree_limit is deprecated, use `iteration_range` or model slicing instead.\n",
      "  warnings.warn(\n"
     ]
    },
    {
     "name": "stdout",
     "output_type": "stream",
     "text": [
      "\n",
      "iteration: 251\n",
      "[0]\ttrain-auc:0.50000\teval-auc:0.50000\n",
      "[10]\ttrain-auc:0.50000\teval-auc:0.50000\n"
     ]
    },
    {
     "name": "stderr",
     "output_type": "stream",
     "text": [
      "C:\\Users\\ENES\\anaconda3\\lib\\site-packages\\xgboost\\core.py:90: UserWarning: ntree_limit is deprecated, use `iteration_range` or model slicing instead.\n",
      "  warnings.warn(\n"
     ]
    },
    {
     "name": "stdout",
     "output_type": "stream",
     "text": [
      "\n",
      "iteration: 252\n",
      "[0]\ttrain-auc:0.50000\teval-auc:0.50000\n",
      "[10]\ttrain-auc:0.50000\teval-auc:0.50000\n"
     ]
    },
    {
     "name": "stderr",
     "output_type": "stream",
     "text": [
      "C:\\Users\\ENES\\anaconda3\\lib\\site-packages\\xgboost\\core.py:90: UserWarning: ntree_limit is deprecated, use `iteration_range` or model slicing instead.\n",
      "  warnings.warn(\n"
     ]
    },
    {
     "name": "stdout",
     "output_type": "stream",
     "text": [
      "\n",
      "iteration: 253\n",
      "[0]\ttrain-auc:0.50000\teval-auc:0.50000\n",
      "[10]\ttrain-auc:0.50000\teval-auc:0.50000\n"
     ]
    },
    {
     "name": "stderr",
     "output_type": "stream",
     "text": [
      "C:\\Users\\ENES\\anaconda3\\lib\\site-packages\\xgboost\\core.py:90: UserWarning: ntree_limit is deprecated, use `iteration_range` or model slicing instead.\n",
      "  warnings.warn(\n"
     ]
    },
    {
     "name": "stdout",
     "output_type": "stream",
     "text": [
      "\n",
      "iteration: 254\n",
      "[0]\ttrain-auc:0.50000\teval-auc:0.50000\n",
      "[9]\ttrain-auc:0.50000\teval-auc:0.50000\n"
     ]
    },
    {
     "name": "stderr",
     "output_type": "stream",
     "text": [
      "C:\\Users\\ENES\\anaconda3\\lib\\site-packages\\xgboost\\core.py:90: UserWarning: ntree_limit is deprecated, use `iteration_range` or model slicing instead.\n",
      "  warnings.warn(\n"
     ]
    },
    {
     "name": "stdout",
     "output_type": "stream",
     "text": [
      "\n",
      "iteration: 255\n",
      "[0]\ttrain-auc:0.50000\teval-auc:0.50000\n",
      "[10]\ttrain-auc:0.50000\teval-auc:0.50000\n"
     ]
    },
    {
     "name": "stderr",
     "output_type": "stream",
     "text": [
      "C:\\Users\\ENES\\anaconda3\\lib\\site-packages\\xgboost\\core.py:90: UserWarning: ntree_limit is deprecated, use `iteration_range` or model slicing instead.\n",
      "  warnings.warn(\n"
     ]
    },
    {
     "name": "stdout",
     "output_type": "stream",
     "text": [
      "\n",
      "iteration: 256\n",
      "[0]\ttrain-auc:0.50000\teval-auc:0.50000\n",
      "[10]\ttrain-auc:0.50000\teval-auc:0.50000\n"
     ]
    },
    {
     "name": "stderr",
     "output_type": "stream",
     "text": [
      "C:\\Users\\ENES\\anaconda3\\lib\\site-packages\\xgboost\\core.py:90: UserWarning: ntree_limit is deprecated, use `iteration_range` or model slicing instead.\n",
      "  warnings.warn(\n"
     ]
    },
    {
     "name": "stdout",
     "output_type": "stream",
     "text": [
      "\n",
      "iteration: 257\n",
      "[0]\ttrain-auc:0.70541\teval-auc:0.49808\n",
      "[9]\ttrain-auc:0.70541\teval-auc:0.49808\n"
     ]
    },
    {
     "name": "stderr",
     "output_type": "stream",
     "text": [
      "C:\\Users\\ENES\\anaconda3\\lib\\site-packages\\xgboost\\core.py:90: UserWarning: ntree_limit is deprecated, use `iteration_range` or model slicing instead.\n",
      "  warnings.warn(\n"
     ]
    },
    {
     "name": "stdout",
     "output_type": "stream",
     "text": [
      "\n",
      "iteration: 258\n",
      "[0]\ttrain-auc:0.50000\teval-auc:0.50000\n",
      "[10]\ttrain-auc:0.50000\teval-auc:0.50000\n"
     ]
    },
    {
     "name": "stderr",
     "output_type": "stream",
     "text": [
      "C:\\Users\\ENES\\anaconda3\\lib\\site-packages\\xgboost\\core.py:90: UserWarning: ntree_limit is deprecated, use `iteration_range` or model slicing instead.\n",
      "  warnings.warn(\n"
     ]
    },
    {
     "name": "stdout",
     "output_type": "stream",
     "text": [
      "\n",
      "iteration: 259\n",
      "[0]\ttrain-auc:0.50000\teval-auc:0.50000\n",
      "[9]\ttrain-auc:0.50000\teval-auc:0.50000\n"
     ]
    },
    {
     "name": "stderr",
     "output_type": "stream",
     "text": [
      "C:\\Users\\ENES\\anaconda3\\lib\\site-packages\\xgboost\\core.py:90: UserWarning: ntree_limit is deprecated, use `iteration_range` or model slicing instead.\n",
      "  warnings.warn(\n"
     ]
    },
    {
     "name": "stdout",
     "output_type": "stream",
     "text": [
      "\n",
      "iteration: 260\n",
      "[0]\ttrain-auc:0.50000\teval-auc:0.50000\n",
      "[9]\ttrain-auc:0.50000\teval-auc:0.50000\n"
     ]
    },
    {
     "name": "stderr",
     "output_type": "stream",
     "text": [
      "C:\\Users\\ENES\\anaconda3\\lib\\site-packages\\xgboost\\core.py:90: UserWarning: ntree_limit is deprecated, use `iteration_range` or model slicing instead.\n",
      "  warnings.warn(\n"
     ]
    },
    {
     "name": "stdout",
     "output_type": "stream",
     "text": [
      "\n",
      "iteration: 261\n",
      "[0]\ttrain-auc:0.50000\teval-auc:0.50000\n",
      "[10]\ttrain-auc:0.50000\teval-auc:0.50000\n"
     ]
    },
    {
     "name": "stderr",
     "output_type": "stream",
     "text": [
      "C:\\Users\\ENES\\anaconda3\\lib\\site-packages\\xgboost\\core.py:90: UserWarning: ntree_limit is deprecated, use `iteration_range` or model slicing instead.\n",
      "  warnings.warn(\n"
     ]
    },
    {
     "name": "stdout",
     "output_type": "stream",
     "text": [
      "\n",
      "iteration: 262\n",
      "[0]\ttrain-auc:0.50000\teval-auc:0.50000\n",
      "[10]\ttrain-auc:0.50000\teval-auc:0.50000\n"
     ]
    },
    {
     "name": "stderr",
     "output_type": "stream",
     "text": [
      "C:\\Users\\ENES\\anaconda3\\lib\\site-packages\\xgboost\\core.py:90: UserWarning: ntree_limit is deprecated, use `iteration_range` or model slicing instead.\n",
      "  warnings.warn(\n"
     ]
    },
    {
     "name": "stdout",
     "output_type": "stream",
     "text": [
      "\n",
      "iteration: 263\n",
      "[0]\ttrain-auc:0.50000\teval-auc:0.50000\n",
      "[9]\ttrain-auc:0.50000\teval-auc:0.50000\n"
     ]
    },
    {
     "name": "stderr",
     "output_type": "stream",
     "text": [
      "C:\\Users\\ENES\\anaconda3\\lib\\site-packages\\xgboost\\core.py:90: UserWarning: ntree_limit is deprecated, use `iteration_range` or model slicing instead.\n",
      "  warnings.warn(\n"
     ]
    },
    {
     "name": "stdout",
     "output_type": "stream",
     "text": [
      "\n",
      "iteration: 264\n",
      "[0]\ttrain-auc:0.50000\teval-auc:0.50000\n",
      "[10]\ttrain-auc:0.50000\teval-auc:0.50000\n"
     ]
    },
    {
     "name": "stderr",
     "output_type": "stream",
     "text": [
      "C:\\Users\\ENES\\anaconda3\\lib\\site-packages\\xgboost\\core.py:90: UserWarning: ntree_limit is deprecated, use `iteration_range` or model slicing instead.\n",
      "  warnings.warn(\n"
     ]
    },
    {
     "name": "stdout",
     "output_type": "stream",
     "text": [
      "\n",
      "iteration: 265\n",
      "[0]\ttrain-auc:0.70541\teval-auc:0.49808\n",
      "[10]\ttrain-auc:0.70541\teval-auc:0.49808\n"
     ]
    },
    {
     "name": "stderr",
     "output_type": "stream",
     "text": [
      "C:\\Users\\ENES\\anaconda3\\lib\\site-packages\\xgboost\\core.py:90: UserWarning: ntree_limit is deprecated, use `iteration_range` or model slicing instead.\n",
      "  warnings.warn(\n"
     ]
    },
    {
     "name": "stdout",
     "output_type": "stream",
     "text": [
      "\n",
      "iteration: 266\n",
      "[0]\ttrain-auc:0.50000\teval-auc:0.50000\n",
      "[9]\ttrain-auc:0.50000\teval-auc:0.50000\n"
     ]
    },
    {
     "name": "stderr",
     "output_type": "stream",
     "text": [
      "C:\\Users\\ENES\\anaconda3\\lib\\site-packages\\xgboost\\core.py:90: UserWarning: ntree_limit is deprecated, use `iteration_range` or model slicing instead.\n",
      "  warnings.warn(\n"
     ]
    },
    {
     "name": "stdout",
     "output_type": "stream",
     "text": [
      "\n",
      "iteration: 267\n",
      "[0]\ttrain-auc:0.50000\teval-auc:0.50000\n",
      "[10]\ttrain-auc:0.50000\teval-auc:0.50000\n"
     ]
    },
    {
     "name": "stderr",
     "output_type": "stream",
     "text": [
      "C:\\Users\\ENES\\anaconda3\\lib\\site-packages\\xgboost\\core.py:90: UserWarning: ntree_limit is deprecated, use `iteration_range` or model slicing instead.\n",
      "  warnings.warn(\n"
     ]
    },
    {
     "name": "stdout",
     "output_type": "stream",
     "text": [
      "\n",
      "iteration: 268\n",
      "[0]\ttrain-auc:0.50000\teval-auc:0.50000\n",
      "[10]\ttrain-auc:0.50000\teval-auc:0.50000\n"
     ]
    },
    {
     "name": "stderr",
     "output_type": "stream",
     "text": [
      "C:\\Users\\ENES\\anaconda3\\lib\\site-packages\\xgboost\\core.py:90: UserWarning: ntree_limit is deprecated, use `iteration_range` or model slicing instead.\n",
      "  warnings.warn(\n"
     ]
    },
    {
     "name": "stdout",
     "output_type": "stream",
     "text": [
      "\n",
      "iteration: 269\n",
      "[0]\ttrain-auc:0.50000\teval-auc:0.50000\n",
      "[9]\ttrain-auc:0.50000\teval-auc:0.50000\n"
     ]
    },
    {
     "name": "stderr",
     "output_type": "stream",
     "text": [
      "C:\\Users\\ENES\\anaconda3\\lib\\site-packages\\xgboost\\core.py:90: UserWarning: ntree_limit is deprecated, use `iteration_range` or model slicing instead.\n",
      "  warnings.warn(\n"
     ]
    },
    {
     "name": "stdout",
     "output_type": "stream",
     "text": [
      "\n",
      "iteration: 270\n",
      "[0]\ttrain-auc:0.50000\teval-auc:0.50000\n",
      "[10]\ttrain-auc:0.50000\teval-auc:0.50000\n"
     ]
    },
    {
     "name": "stderr",
     "output_type": "stream",
     "text": [
      "C:\\Users\\ENES\\anaconda3\\lib\\site-packages\\xgboost\\core.py:90: UserWarning: ntree_limit is deprecated, use `iteration_range` or model slicing instead.\n",
      "  warnings.warn(\n"
     ]
    },
    {
     "name": "stdout",
     "output_type": "stream",
     "text": [
      "\n",
      "iteration: 271\n",
      "[0]\ttrain-auc:0.50000\teval-auc:0.50000\n",
      "[10]\ttrain-auc:0.50000\teval-auc:0.50000\n"
     ]
    },
    {
     "name": "stderr",
     "output_type": "stream",
     "text": [
      "C:\\Users\\ENES\\anaconda3\\lib\\site-packages\\xgboost\\core.py:90: UserWarning: ntree_limit is deprecated, use `iteration_range` or model slicing instead.\n",
      "  warnings.warn(\n"
     ]
    },
    {
     "name": "stdout",
     "output_type": "stream",
     "text": [
      "\n",
      "iteration: 272\n",
      "[0]\ttrain-auc:0.50000\teval-auc:0.50000\n",
      "[9]\ttrain-auc:0.50000\teval-auc:0.50000\n"
     ]
    },
    {
     "name": "stderr",
     "output_type": "stream",
     "text": [
      "C:\\Users\\ENES\\anaconda3\\lib\\site-packages\\xgboost\\core.py:90: UserWarning: ntree_limit is deprecated, use `iteration_range` or model slicing instead.\n",
      "  warnings.warn(\n"
     ]
    },
    {
     "name": "stdout",
     "output_type": "stream",
     "text": [
      "\n",
      "iteration: 273\n",
      "[0]\ttrain-auc:0.70541\teval-auc:0.49808\n",
      "[9]\ttrain-auc:0.70541\teval-auc:0.49808\n"
     ]
    },
    {
     "name": "stderr",
     "output_type": "stream",
     "text": [
      "C:\\Users\\ENES\\anaconda3\\lib\\site-packages\\xgboost\\core.py:90: UserWarning: ntree_limit is deprecated, use `iteration_range` or model slicing instead.\n",
      "  warnings.warn(\n"
     ]
    },
    {
     "name": "stdout",
     "output_type": "stream",
     "text": [
      "\n",
      "iteration: 274\n",
      "[0]\ttrain-auc:0.50000\teval-auc:0.50000\n",
      "[9]\ttrain-auc:0.50000\teval-auc:0.50000\n"
     ]
    },
    {
     "name": "stderr",
     "output_type": "stream",
     "text": [
      "C:\\Users\\ENES\\anaconda3\\lib\\site-packages\\xgboost\\core.py:90: UserWarning: ntree_limit is deprecated, use `iteration_range` or model slicing instead.\n",
      "  warnings.warn(\n"
     ]
    },
    {
     "name": "stdout",
     "output_type": "stream",
     "text": [
      "\n",
      "iteration: 275\n",
      "[0]\ttrain-auc:0.50000\teval-auc:0.50000\n",
      "[10]\ttrain-auc:0.50000\teval-auc:0.50000\n"
     ]
    },
    {
     "name": "stderr",
     "output_type": "stream",
     "text": [
      "C:\\Users\\ENES\\anaconda3\\lib\\site-packages\\xgboost\\core.py:90: UserWarning: ntree_limit is deprecated, use `iteration_range` or model slicing instead.\n",
      "  warnings.warn(\n"
     ]
    },
    {
     "name": "stdout",
     "output_type": "stream",
     "text": [
      "\n",
      "iteration: 276\n",
      "[0]\ttrain-auc:0.50000\teval-auc:0.50000\n",
      "[9]\ttrain-auc:0.50000\teval-auc:0.50000\n"
     ]
    },
    {
     "name": "stderr",
     "output_type": "stream",
     "text": [
      "C:\\Users\\ENES\\anaconda3\\lib\\site-packages\\xgboost\\core.py:90: UserWarning: ntree_limit is deprecated, use `iteration_range` or model slicing instead.\n",
      "  warnings.warn(\n"
     ]
    },
    {
     "name": "stdout",
     "output_type": "stream",
     "text": [
      "\n",
      "iteration: 277\n",
      "[0]\ttrain-auc:0.50000\teval-auc:0.50000\n",
      "[10]\ttrain-auc:0.50000\teval-auc:0.50000\n"
     ]
    },
    {
     "name": "stderr",
     "output_type": "stream",
     "text": [
      "C:\\Users\\ENES\\anaconda3\\lib\\site-packages\\xgboost\\core.py:90: UserWarning: ntree_limit is deprecated, use `iteration_range` or model slicing instead.\n",
      "  warnings.warn(\n"
     ]
    },
    {
     "name": "stdout",
     "output_type": "stream",
     "text": [
      "\n",
      "iteration: 278\n",
      "[0]\ttrain-auc:0.50000\teval-auc:0.50000\n",
      "[10]\ttrain-auc:0.50000\teval-auc:0.50000\n"
     ]
    },
    {
     "name": "stderr",
     "output_type": "stream",
     "text": [
      "C:\\Users\\ENES\\anaconda3\\lib\\site-packages\\xgboost\\core.py:90: UserWarning: ntree_limit is deprecated, use `iteration_range` or model slicing instead.\n",
      "  warnings.warn(\n"
     ]
    },
    {
     "name": "stdout",
     "output_type": "stream",
     "text": [
      "\n",
      "iteration: 279\n",
      "[0]\ttrain-auc:0.50000\teval-auc:0.50000\n",
      "[9]\ttrain-auc:0.50000\teval-auc:0.50000\n"
     ]
    },
    {
     "name": "stderr",
     "output_type": "stream",
     "text": [
      "C:\\Users\\ENES\\anaconda3\\lib\\site-packages\\xgboost\\core.py:90: UserWarning: ntree_limit is deprecated, use `iteration_range` or model slicing instead.\n",
      "  warnings.warn(\n"
     ]
    },
    {
     "name": "stdout",
     "output_type": "stream",
     "text": [
      "\n",
      "iteration: 280\n",
      "[0]\ttrain-auc:0.50000\teval-auc:0.50000\n",
      "[10]\ttrain-auc:0.50000\teval-auc:0.50000\n"
     ]
    },
    {
     "name": "stderr",
     "output_type": "stream",
     "text": [
      "C:\\Users\\ENES\\anaconda3\\lib\\site-packages\\xgboost\\core.py:90: UserWarning: ntree_limit is deprecated, use `iteration_range` or model slicing instead.\n",
      "  warnings.warn(\n"
     ]
    },
    {
     "name": "stdout",
     "output_type": "stream",
     "text": [
      "\n",
      "iteration: 281\n",
      "[0]\ttrain-auc:0.50000\teval-auc:0.50000\n",
      "[9]\ttrain-auc:0.50000\teval-auc:0.50000\n"
     ]
    },
    {
     "name": "stderr",
     "output_type": "stream",
     "text": [
      "C:\\Users\\ENES\\anaconda3\\lib\\site-packages\\xgboost\\core.py:90: UserWarning: ntree_limit is deprecated, use `iteration_range` or model slicing instead.\n",
      "  warnings.warn(\n"
     ]
    },
    {
     "name": "stdout",
     "output_type": "stream",
     "text": [
      "\n",
      "iteration: 282\n",
      "[0]\ttrain-auc:0.50000\teval-auc:0.50000\n",
      "[10]\ttrain-auc:0.50000\teval-auc:0.50000\n"
     ]
    },
    {
     "name": "stderr",
     "output_type": "stream",
     "text": [
      "C:\\Users\\ENES\\anaconda3\\lib\\site-packages\\xgboost\\core.py:90: UserWarning: ntree_limit is deprecated, use `iteration_range` or model slicing instead.\n",
      "  warnings.warn(\n"
     ]
    },
    {
     "name": "stdout",
     "output_type": "stream",
     "text": [
      "\n",
      "iteration: 283\n",
      "[0]\ttrain-auc:0.50000\teval-auc:0.50000\n",
      "[10]\ttrain-auc:0.50000\teval-auc:0.50000\n"
     ]
    },
    {
     "name": "stderr",
     "output_type": "stream",
     "text": [
      "C:\\Users\\ENES\\anaconda3\\lib\\site-packages\\xgboost\\core.py:90: UserWarning: ntree_limit is deprecated, use `iteration_range` or model slicing instead.\n",
      "  warnings.warn(\n"
     ]
    },
    {
     "name": "stdout",
     "output_type": "stream",
     "text": [
      "\n",
      "iteration: 284\n",
      "[0]\ttrain-auc:0.50000\teval-auc:0.50000\n",
      "[10]\ttrain-auc:0.50000\teval-auc:0.50000\n"
     ]
    },
    {
     "name": "stderr",
     "output_type": "stream",
     "text": [
      "C:\\Users\\ENES\\anaconda3\\lib\\site-packages\\xgboost\\core.py:90: UserWarning: ntree_limit is deprecated, use `iteration_range` or model slicing instead.\n",
      "  warnings.warn(\n"
     ]
    },
    {
     "name": "stdout",
     "output_type": "stream",
     "text": [
      "\n",
      "iteration: 285\n",
      "[0]\ttrain-auc:0.50000\teval-auc:0.50000\n",
      "[10]\ttrain-auc:0.50000\teval-auc:0.50000\n"
     ]
    },
    {
     "name": "stderr",
     "output_type": "stream",
     "text": [
      "C:\\Users\\ENES\\anaconda3\\lib\\site-packages\\xgboost\\core.py:90: UserWarning: ntree_limit is deprecated, use `iteration_range` or model slicing instead.\n",
      "  warnings.warn(\n"
     ]
    },
    {
     "name": "stdout",
     "output_type": "stream",
     "text": [
      "\n",
      "iteration: 286\n",
      "[0]\ttrain-auc:0.50000\teval-auc:0.50000\n",
      "[9]\ttrain-auc:0.50000\teval-auc:0.50000\n"
     ]
    },
    {
     "name": "stderr",
     "output_type": "stream",
     "text": [
      "C:\\Users\\ENES\\anaconda3\\lib\\site-packages\\xgboost\\core.py:90: UserWarning: ntree_limit is deprecated, use `iteration_range` or model slicing instead.\n",
      "  warnings.warn(\n"
     ]
    },
    {
     "name": "stdout",
     "output_type": "stream",
     "text": [
      "\n",
      "iteration: 287\n",
      "[0]\ttrain-auc:0.50000\teval-auc:0.50000\n",
      "[10]\ttrain-auc:0.50000\teval-auc:0.50000\n"
     ]
    },
    {
     "name": "stderr",
     "output_type": "stream",
     "text": [
      "C:\\Users\\ENES\\anaconda3\\lib\\site-packages\\xgboost\\core.py:90: UserWarning: ntree_limit is deprecated, use `iteration_range` or model slicing instead.\n",
      "  warnings.warn(\n"
     ]
    },
    {
     "name": "stdout",
     "output_type": "stream",
     "text": [
      "\n",
      "iteration: 288\n",
      "[0]\ttrain-auc:0.50000\teval-auc:0.50000\n",
      "[10]\ttrain-auc:0.50000\teval-auc:0.50000\n"
     ]
    },
    {
     "name": "stderr",
     "output_type": "stream",
     "text": [
      "C:\\Users\\ENES\\anaconda3\\lib\\site-packages\\xgboost\\core.py:90: UserWarning: ntree_limit is deprecated, use `iteration_range` or model slicing instead.\n",
      "  warnings.warn(\n"
     ]
    },
    {
     "name": "stdout",
     "output_type": "stream",
     "text": [
      "\n",
      "iteration: 289\n",
      "[0]\ttrain-auc:0.70541\teval-auc:0.49808\n",
      "[10]\ttrain-auc:0.70541\teval-auc:0.49808\n"
     ]
    },
    {
     "name": "stderr",
     "output_type": "stream",
     "text": [
      "C:\\Users\\ENES\\anaconda3\\lib\\site-packages\\xgboost\\core.py:90: UserWarning: ntree_limit is deprecated, use `iteration_range` or model slicing instead.\n",
      "  warnings.warn(\n"
     ]
    },
    {
     "name": "stdout",
     "output_type": "stream",
     "text": [
      "\n",
      "iteration: 290\n",
      "[0]\ttrain-auc:0.50000\teval-auc:0.50000\n",
      "[10]\ttrain-auc:0.50000\teval-auc:0.50000\n"
     ]
    },
    {
     "name": "stderr",
     "output_type": "stream",
     "text": [
      "C:\\Users\\ENES\\anaconda3\\lib\\site-packages\\xgboost\\core.py:90: UserWarning: ntree_limit is deprecated, use `iteration_range` or model slicing instead.\n",
      "  warnings.warn(\n"
     ]
    },
    {
     "name": "stdout",
     "output_type": "stream",
     "text": [
      "\n",
      "iteration: 291\n",
      "[0]\ttrain-auc:0.50000\teval-auc:0.50000\n",
      "[10]\ttrain-auc:0.50000\teval-auc:0.50000\n"
     ]
    },
    {
     "name": "stderr",
     "output_type": "stream",
     "text": [
      "C:\\Users\\ENES\\anaconda3\\lib\\site-packages\\xgboost\\core.py:90: UserWarning: ntree_limit is deprecated, use `iteration_range` or model slicing instead.\n",
      "  warnings.warn(\n"
     ]
    },
    {
     "name": "stdout",
     "output_type": "stream",
     "text": [
      "\n",
      "iteration: 292\n",
      "[0]\ttrain-auc:0.50000\teval-auc:0.50000\n",
      "[9]\ttrain-auc:0.50000\teval-auc:0.50000\n"
     ]
    },
    {
     "name": "stderr",
     "output_type": "stream",
     "text": [
      "C:\\Users\\ENES\\anaconda3\\lib\\site-packages\\xgboost\\core.py:90: UserWarning: ntree_limit is deprecated, use `iteration_range` or model slicing instead.\n",
      "  warnings.warn(\n"
     ]
    },
    {
     "name": "stdout",
     "output_type": "stream",
     "text": [
      "\n",
      "iteration: 293\n",
      "[0]\ttrain-auc:0.50000\teval-auc:0.50000\n",
      "[9]\ttrain-auc:0.50000\teval-auc:0.50000\n"
     ]
    },
    {
     "name": "stderr",
     "output_type": "stream",
     "text": [
      "C:\\Users\\ENES\\anaconda3\\lib\\site-packages\\xgboost\\core.py:90: UserWarning: ntree_limit is deprecated, use `iteration_range` or model slicing instead.\n",
      "  warnings.warn(\n"
     ]
    },
    {
     "name": "stdout",
     "output_type": "stream",
     "text": [
      "\n",
      "iteration: 294\n",
      "[0]\ttrain-auc:0.50000\teval-auc:0.50000\n",
      "[10]\ttrain-auc:0.50000\teval-auc:0.50000\n"
     ]
    },
    {
     "name": "stderr",
     "output_type": "stream",
     "text": [
      "C:\\Users\\ENES\\anaconda3\\lib\\site-packages\\xgboost\\core.py:90: UserWarning: ntree_limit is deprecated, use `iteration_range` or model slicing instead.\n",
      "  warnings.warn(\n"
     ]
    },
    {
     "name": "stdout",
     "output_type": "stream",
     "text": [
      "\n",
      "iteration: 295\n",
      "[0]\ttrain-auc:0.50000\teval-auc:0.50000\n",
      "[10]\ttrain-auc:0.50000\teval-auc:0.50000\n"
     ]
    },
    {
     "name": "stderr",
     "output_type": "stream",
     "text": [
      "C:\\Users\\ENES\\anaconda3\\lib\\site-packages\\xgboost\\core.py:90: UserWarning: ntree_limit is deprecated, use `iteration_range` or model slicing instead.\n",
      "  warnings.warn(\n"
     ]
    },
    {
     "name": "stdout",
     "output_type": "stream",
     "text": [
      "\n",
      "iteration: 296\n",
      "[0]\ttrain-auc:0.50000\teval-auc:0.50000\n",
      "[10]\ttrain-auc:0.50000\teval-auc:0.50000\n"
     ]
    },
    {
     "name": "stderr",
     "output_type": "stream",
     "text": [
      "C:\\Users\\ENES\\anaconda3\\lib\\site-packages\\xgboost\\core.py:90: UserWarning: ntree_limit is deprecated, use `iteration_range` or model slicing instead.\n",
      "  warnings.warn(\n"
     ]
    },
    {
     "name": "stdout",
     "output_type": "stream",
     "text": [
      "\n",
      "iteration: 297\n",
      "[0]\ttrain-auc:0.70541\teval-auc:0.49808\n",
      "[10]\ttrain-auc:0.70541\teval-auc:0.49808\n"
     ]
    },
    {
     "name": "stderr",
     "output_type": "stream",
     "text": [
      "C:\\Users\\ENES\\anaconda3\\lib\\site-packages\\xgboost\\core.py:90: UserWarning: ntree_limit is deprecated, use `iteration_range` or model slicing instead.\n",
      "  warnings.warn(\n"
     ]
    },
    {
     "name": "stdout",
     "output_type": "stream",
     "text": [
      "\n",
      "iteration: 298\n",
      "[0]\ttrain-auc:0.50000\teval-auc:0.50000\n",
      "[10]\ttrain-auc:0.50000\teval-auc:0.50000\n"
     ]
    },
    {
     "name": "stderr",
     "output_type": "stream",
     "text": [
      "C:\\Users\\ENES\\anaconda3\\lib\\site-packages\\xgboost\\core.py:90: UserWarning: ntree_limit is deprecated, use `iteration_range` or model slicing instead.\n",
      "  warnings.warn(\n"
     ]
    },
    {
     "name": "stdout",
     "output_type": "stream",
     "text": [
      "\n",
      "iteration: 299\n",
      "[0]\ttrain-auc:0.50000\teval-auc:0.50000\n",
      "[10]\ttrain-auc:0.50000\teval-auc:0.50000\n"
     ]
    },
    {
     "name": "stderr",
     "output_type": "stream",
     "text": [
      "C:\\Users\\ENES\\anaconda3\\lib\\site-packages\\xgboost\\core.py:90: UserWarning: ntree_limit is deprecated, use `iteration_range` or model slicing instead.\n",
      "  warnings.warn(\n"
     ]
    },
    {
     "name": "stdout",
     "output_type": "stream",
     "text": [
      "\n",
      "iteration: 300\n",
      "[0]\ttrain-auc:0.50000\teval-auc:0.50000\n",
      "[9]\ttrain-auc:0.50000\teval-auc:0.50000\n"
     ]
    },
    {
     "name": "stderr",
     "output_type": "stream",
     "text": [
      "C:\\Users\\ENES\\anaconda3\\lib\\site-packages\\xgboost\\core.py:90: UserWarning: ntree_limit is deprecated, use `iteration_range` or model slicing instead.\n",
      "  warnings.warn(\n"
     ]
    },
    {
     "name": "stdout",
     "output_type": "stream",
     "text": [
      "\n",
      "iteration: 301\n",
      "[0]\ttrain-auc:0.50000\teval-auc:0.50000\n",
      "[10]\ttrain-auc:0.50000\teval-auc:0.50000\n"
     ]
    },
    {
     "name": "stderr",
     "output_type": "stream",
     "text": [
      "C:\\Users\\ENES\\anaconda3\\lib\\site-packages\\xgboost\\core.py:90: UserWarning: ntree_limit is deprecated, use `iteration_range` or model slicing instead.\n",
      "  warnings.warn(\n"
     ]
    },
    {
     "name": "stdout",
     "output_type": "stream",
     "text": [
      "\n",
      "iteration: 302\n",
      "[0]\ttrain-auc:0.50000\teval-auc:0.50000\n",
      "[9]\ttrain-auc:0.50000\teval-auc:0.50000\n"
     ]
    },
    {
     "name": "stderr",
     "output_type": "stream",
     "text": [
      "C:\\Users\\ENES\\anaconda3\\lib\\site-packages\\xgboost\\core.py:90: UserWarning: ntree_limit is deprecated, use `iteration_range` or model slicing instead.\n",
      "  warnings.warn(\n"
     ]
    },
    {
     "name": "stdout",
     "output_type": "stream",
     "text": [
      "\n",
      "iteration: 303\n",
      "[0]\ttrain-auc:0.50000\teval-auc:0.50000\n",
      "[9]\ttrain-auc:0.50000\teval-auc:0.50000\n"
     ]
    },
    {
     "name": "stderr",
     "output_type": "stream",
     "text": [
      "C:\\Users\\ENES\\anaconda3\\lib\\site-packages\\xgboost\\core.py:90: UserWarning: ntree_limit is deprecated, use `iteration_range` or model slicing instead.\n",
      "  warnings.warn(\n"
     ]
    },
    {
     "name": "stdout",
     "output_type": "stream",
     "text": [
      "\n",
      "iteration: 304\n",
      "[0]\ttrain-auc:0.50000\teval-auc:0.50000\n",
      "[9]\ttrain-auc:0.50000\teval-auc:0.50000\n"
     ]
    },
    {
     "name": "stderr",
     "output_type": "stream",
     "text": [
      "C:\\Users\\ENES\\anaconda3\\lib\\site-packages\\xgboost\\core.py:90: UserWarning: ntree_limit is deprecated, use `iteration_range` or model slicing instead.\n",
      "  warnings.warn(\n"
     ]
    },
    {
     "name": "stdout",
     "output_type": "stream",
     "text": [
      "\n",
      "iteration: 305\n",
      "[0]\ttrain-auc:0.70541\teval-auc:0.49808\n",
      "[10]\ttrain-auc:0.70541\teval-auc:0.49808\n"
     ]
    },
    {
     "name": "stderr",
     "output_type": "stream",
     "text": [
      "C:\\Users\\ENES\\anaconda3\\lib\\site-packages\\xgboost\\core.py:90: UserWarning: ntree_limit is deprecated, use `iteration_range` or model slicing instead.\n",
      "  warnings.warn(\n"
     ]
    },
    {
     "name": "stdout",
     "output_type": "stream",
     "text": [
      "\n",
      "iteration: 306\n",
      "[0]\ttrain-auc:0.50000\teval-auc:0.50000\n",
      "[9]\ttrain-auc:0.50000\teval-auc:0.50000\n"
     ]
    },
    {
     "name": "stderr",
     "output_type": "stream",
     "text": [
      "C:\\Users\\ENES\\anaconda3\\lib\\site-packages\\xgboost\\core.py:90: UserWarning: ntree_limit is deprecated, use `iteration_range` or model slicing instead.\n",
      "  warnings.warn(\n"
     ]
    },
    {
     "name": "stdout",
     "output_type": "stream",
     "text": [
      "\n",
      "iteration: 307\n",
      "[0]\ttrain-auc:0.50000\teval-auc:0.50000\n",
      "[10]\ttrain-auc:0.50000\teval-auc:0.50000\n"
     ]
    },
    {
     "name": "stderr",
     "output_type": "stream",
     "text": [
      "C:\\Users\\ENES\\anaconda3\\lib\\site-packages\\xgboost\\core.py:90: UserWarning: ntree_limit is deprecated, use `iteration_range` or model slicing instead.\n",
      "  warnings.warn(\n"
     ]
    },
    {
     "name": "stdout",
     "output_type": "stream",
     "text": [
      "\n",
      "iteration: 308\n",
      "[0]\ttrain-auc:0.50000\teval-auc:0.50000\n",
      "[10]\ttrain-auc:0.50000\teval-auc:0.50000\n"
     ]
    },
    {
     "name": "stderr",
     "output_type": "stream",
     "text": [
      "C:\\Users\\ENES\\anaconda3\\lib\\site-packages\\xgboost\\core.py:90: UserWarning: ntree_limit is deprecated, use `iteration_range` or model slicing instead.\n",
      "  warnings.warn(\n"
     ]
    },
    {
     "name": "stdout",
     "output_type": "stream",
     "text": [
      "\n",
      "iteration: 309\n",
      "[0]\ttrain-auc:0.50000\teval-auc:0.50000\n",
      "[10]\ttrain-auc:0.50000\teval-auc:0.50000\n"
     ]
    },
    {
     "name": "stderr",
     "output_type": "stream",
     "text": [
      "C:\\Users\\ENES\\anaconda3\\lib\\site-packages\\xgboost\\core.py:90: UserWarning: ntree_limit is deprecated, use `iteration_range` or model slicing instead.\n",
      "  warnings.warn(\n"
     ]
    },
    {
     "name": "stdout",
     "output_type": "stream",
     "text": [
      "\n",
      "iteration: 310\n",
      "[0]\ttrain-auc:0.50000\teval-auc:0.50000\n",
      "[10]\ttrain-auc:0.50000\teval-auc:0.50000\n"
     ]
    },
    {
     "name": "stderr",
     "output_type": "stream",
     "text": [
      "C:\\Users\\ENES\\anaconda3\\lib\\site-packages\\xgboost\\core.py:90: UserWarning: ntree_limit is deprecated, use `iteration_range` or model slicing instead.\n",
      "  warnings.warn(\n"
     ]
    },
    {
     "name": "stdout",
     "output_type": "stream",
     "text": [
      "\n",
      "iteration: 311\n",
      "[0]\ttrain-auc:0.50000\teval-auc:0.50000\n",
      "[10]\ttrain-auc:0.50000\teval-auc:0.50000\n"
     ]
    },
    {
     "name": "stderr",
     "output_type": "stream",
     "text": [
      "C:\\Users\\ENES\\anaconda3\\lib\\site-packages\\xgboost\\core.py:90: UserWarning: ntree_limit is deprecated, use `iteration_range` or model slicing instead.\n",
      "  warnings.warn(\n"
     ]
    },
    {
     "name": "stdout",
     "output_type": "stream",
     "text": [
      "\n",
      "iteration: 312\n",
      "[0]\ttrain-auc:0.50000\teval-auc:0.50000\n",
      "[10]\ttrain-auc:0.50000\teval-auc:0.50000\n"
     ]
    },
    {
     "name": "stderr",
     "output_type": "stream",
     "text": [
      "C:\\Users\\ENES\\anaconda3\\lib\\site-packages\\xgboost\\core.py:90: UserWarning: ntree_limit is deprecated, use `iteration_range` or model slicing instead.\n",
      "  warnings.warn(\n"
     ]
    },
    {
     "name": "stdout",
     "output_type": "stream",
     "text": [
      "\n",
      "iteration: 313\n",
      "[0]\ttrain-auc:0.70541\teval-auc:0.49808\n",
      "[9]\ttrain-auc:0.70541\teval-auc:0.49808\n"
     ]
    },
    {
     "name": "stderr",
     "output_type": "stream",
     "text": [
      "C:\\Users\\ENES\\anaconda3\\lib\\site-packages\\xgboost\\core.py:90: UserWarning: ntree_limit is deprecated, use `iteration_range` or model slicing instead.\n",
      "  warnings.warn(\n"
     ]
    },
    {
     "name": "stdout",
     "output_type": "stream",
     "text": [
      "\n",
      "iteration: 314\n",
      "[0]\ttrain-auc:0.50000\teval-auc:0.50000\n",
      "[9]\ttrain-auc:0.50000\teval-auc:0.50000\n"
     ]
    },
    {
     "name": "stderr",
     "output_type": "stream",
     "text": [
      "C:\\Users\\ENES\\anaconda3\\lib\\site-packages\\xgboost\\core.py:90: UserWarning: ntree_limit is deprecated, use `iteration_range` or model slicing instead.\n",
      "  warnings.warn(\n"
     ]
    },
    {
     "name": "stdout",
     "output_type": "stream",
     "text": [
      "\n",
      "iteration: 315\n",
      "[0]\ttrain-auc:0.50000\teval-auc:0.50000\n",
      "[10]\ttrain-auc:0.50000\teval-auc:0.50000\n"
     ]
    },
    {
     "name": "stderr",
     "output_type": "stream",
     "text": [
      "C:\\Users\\ENES\\anaconda3\\lib\\site-packages\\xgboost\\core.py:90: UserWarning: ntree_limit is deprecated, use `iteration_range` or model slicing instead.\n",
      "  warnings.warn(\n"
     ]
    },
    {
     "name": "stdout",
     "output_type": "stream",
     "text": [
      "\n",
      "iteration: 316\n",
      "[0]\ttrain-auc:0.50000\teval-auc:0.50000\n",
      "[9]\ttrain-auc:0.50000\teval-auc:0.50000\n"
     ]
    },
    {
     "name": "stderr",
     "output_type": "stream",
     "text": [
      "C:\\Users\\ENES\\anaconda3\\lib\\site-packages\\xgboost\\core.py:90: UserWarning: ntree_limit is deprecated, use `iteration_range` or model slicing instead.\n",
      "  warnings.warn(\n"
     ]
    },
    {
     "name": "stdout",
     "output_type": "stream",
     "text": [
      "\n",
      "iteration: 317\n",
      "[0]\ttrain-auc:0.50000\teval-auc:0.50000\n",
      "[10]\ttrain-auc:0.50000\teval-auc:0.50000\n"
     ]
    },
    {
     "name": "stderr",
     "output_type": "stream",
     "text": [
      "C:\\Users\\ENES\\anaconda3\\lib\\site-packages\\xgboost\\core.py:90: UserWarning: ntree_limit is deprecated, use `iteration_range` or model slicing instead.\n",
      "  warnings.warn(\n"
     ]
    },
    {
     "name": "stdout",
     "output_type": "stream",
     "text": [
      "\n",
      "iteration: 318\n",
      "[0]\ttrain-auc:0.50000\teval-auc:0.50000\n",
      "[10]\ttrain-auc:0.50000\teval-auc:0.50000\n"
     ]
    },
    {
     "name": "stderr",
     "output_type": "stream",
     "text": [
      "C:\\Users\\ENES\\anaconda3\\lib\\site-packages\\xgboost\\core.py:90: UserWarning: ntree_limit is deprecated, use `iteration_range` or model slicing instead.\n",
      "  warnings.warn(\n"
     ]
    },
    {
     "name": "stdout",
     "output_type": "stream",
     "text": [
      "\n",
      "iteration: 319\n",
      "[0]\ttrain-auc:0.50000\teval-auc:0.50000\n",
      "[10]\ttrain-auc:0.50000\teval-auc:0.50000\n"
     ]
    },
    {
     "name": "stderr",
     "output_type": "stream",
     "text": [
      "C:\\Users\\ENES\\anaconda3\\lib\\site-packages\\xgboost\\core.py:90: UserWarning: ntree_limit is deprecated, use `iteration_range` or model slicing instead.\n",
      "  warnings.warn(\n"
     ]
    },
    {
     "name": "stdout",
     "output_type": "stream",
     "text": [
      "\n",
      "iteration: 320\n",
      "[0]\ttrain-auc:0.50000\teval-auc:0.50000\n",
      "[9]\ttrain-auc:0.50000\teval-auc:0.50000\n"
     ]
    },
    {
     "name": "stderr",
     "output_type": "stream",
     "text": [
      "C:\\Users\\ENES\\anaconda3\\lib\\site-packages\\xgboost\\core.py:90: UserWarning: ntree_limit is deprecated, use `iteration_range` or model slicing instead.\n",
      "  warnings.warn(\n"
     ]
    },
    {
     "name": "stdout",
     "output_type": "stream",
     "text": [
      "\n",
      "iteration: 321\n",
      "[0]\ttrain-auc:0.70541\teval-auc:0.49808\n",
      "[9]\ttrain-auc:0.70541\teval-auc:0.49808\n"
     ]
    },
    {
     "name": "stderr",
     "output_type": "stream",
     "text": [
      "C:\\Users\\ENES\\anaconda3\\lib\\site-packages\\xgboost\\core.py:90: UserWarning: ntree_limit is deprecated, use `iteration_range` or model slicing instead.\n",
      "  warnings.warn(\n"
     ]
    },
    {
     "name": "stdout",
     "output_type": "stream",
     "text": [
      "\n",
      "iteration: 322\n",
      "[0]\ttrain-auc:0.50000\teval-auc:0.50000\n",
      "[9]\ttrain-auc:0.50000\teval-auc:0.50000\n"
     ]
    },
    {
     "name": "stderr",
     "output_type": "stream",
     "text": [
      "C:\\Users\\ENES\\anaconda3\\lib\\site-packages\\xgboost\\core.py:90: UserWarning: ntree_limit is deprecated, use `iteration_range` or model slicing instead.\n",
      "  warnings.warn(\n"
     ]
    },
    {
     "name": "stdout",
     "output_type": "stream",
     "text": [
      "\n",
      "iteration: 323\n",
      "[0]\ttrain-auc:0.50000\teval-auc:0.50000\n",
      "[9]\ttrain-auc:0.50000\teval-auc:0.50000\n"
     ]
    },
    {
     "name": "stderr",
     "output_type": "stream",
     "text": [
      "C:\\Users\\ENES\\anaconda3\\lib\\site-packages\\xgboost\\core.py:90: UserWarning: ntree_limit is deprecated, use `iteration_range` or model slicing instead.\n",
      "  warnings.warn(\n"
     ]
    },
    {
     "name": "stdout",
     "output_type": "stream",
     "text": [
      "\n",
      "iteration: 324\n",
      "[0]\ttrain-auc:0.50000\teval-auc:0.50000\n",
      "[9]\ttrain-auc:0.50000\teval-auc:0.50000\n"
     ]
    },
    {
     "name": "stderr",
     "output_type": "stream",
     "text": [
      "C:\\Users\\ENES\\anaconda3\\lib\\site-packages\\xgboost\\core.py:90: UserWarning: ntree_limit is deprecated, use `iteration_range` or model slicing instead.\n",
      "  warnings.warn(\n"
     ]
    },
    {
     "name": "stdout",
     "output_type": "stream",
     "text": [
      "\n",
      "iteration: 325\n",
      "[0]\ttrain-auc:0.50000\teval-auc:0.50000\n",
      "[10]\ttrain-auc:0.50000\teval-auc:0.50000\n"
     ]
    },
    {
     "name": "stderr",
     "output_type": "stream",
     "text": [
      "C:\\Users\\ENES\\anaconda3\\lib\\site-packages\\xgboost\\core.py:90: UserWarning: ntree_limit is deprecated, use `iteration_range` or model slicing instead.\n",
      "  warnings.warn(\n"
     ]
    },
    {
     "name": "stdout",
     "output_type": "stream",
     "text": [
      "\n",
      "iteration: 326\n",
      "[0]\ttrain-auc:0.50000\teval-auc:0.50000\n",
      "[9]\ttrain-auc:0.50000\teval-auc:0.50000\n"
     ]
    },
    {
     "name": "stderr",
     "output_type": "stream",
     "text": [
      "C:\\Users\\ENES\\anaconda3\\lib\\site-packages\\xgboost\\core.py:90: UserWarning: ntree_limit is deprecated, use `iteration_range` or model slicing instead.\n",
      "  warnings.warn(\n"
     ]
    },
    {
     "name": "stdout",
     "output_type": "stream",
     "text": [
      "\n",
      "iteration: 327\n",
      "[0]\ttrain-auc:0.50000\teval-auc:0.50000\n",
      "[9]\ttrain-auc:0.50000\teval-auc:0.50000\n"
     ]
    },
    {
     "name": "stderr",
     "output_type": "stream",
     "text": [
      "C:\\Users\\ENES\\anaconda3\\lib\\site-packages\\xgboost\\core.py:90: UserWarning: ntree_limit is deprecated, use `iteration_range` or model slicing instead.\n",
      "  warnings.warn(\n"
     ]
    },
    {
     "name": "stdout",
     "output_type": "stream",
     "text": [
      "\n",
      "iteration: 328\n",
      "[0]\ttrain-auc:0.50000\teval-auc:0.50000\n",
      "[10]\ttrain-auc:0.50000\teval-auc:0.50000\n"
     ]
    },
    {
     "name": "stderr",
     "output_type": "stream",
     "text": [
      "C:\\Users\\ENES\\anaconda3\\lib\\site-packages\\xgboost\\core.py:90: UserWarning: ntree_limit is deprecated, use `iteration_range` or model slicing instead.\n",
      "  warnings.warn(\n"
     ]
    },
    {
     "name": "stdout",
     "output_type": "stream",
     "text": [
      "\n",
      "iteration: 329\n",
      "[0]\ttrain-auc:0.50000\teval-auc:0.50000\n",
      "[10]\ttrain-auc:0.50000\teval-auc:0.50000\n"
     ]
    },
    {
     "name": "stderr",
     "output_type": "stream",
     "text": [
      "C:\\Users\\ENES\\anaconda3\\lib\\site-packages\\xgboost\\core.py:90: UserWarning: ntree_limit is deprecated, use `iteration_range` or model slicing instead.\n",
      "  warnings.warn(\n"
     ]
    },
    {
     "name": "stdout",
     "output_type": "stream",
     "text": [
      "\n",
      "iteration: 330\n",
      "[0]\ttrain-auc:0.50000\teval-auc:0.50000\n",
      "[10]\ttrain-auc:0.50000\teval-auc:0.50000\n"
     ]
    },
    {
     "name": "stderr",
     "output_type": "stream",
     "text": [
      "C:\\Users\\ENES\\anaconda3\\lib\\site-packages\\xgboost\\core.py:90: UserWarning: ntree_limit is deprecated, use `iteration_range` or model slicing instead.\n",
      "  warnings.warn(\n"
     ]
    },
    {
     "name": "stdout",
     "output_type": "stream",
     "text": [
      "\n",
      "iteration: 331\n",
      "[0]\ttrain-auc:0.50000\teval-auc:0.50000\n",
      "[9]\ttrain-auc:0.50000\teval-auc:0.50000\n"
     ]
    },
    {
     "name": "stderr",
     "output_type": "stream",
     "text": [
      "C:\\Users\\ENES\\anaconda3\\lib\\site-packages\\xgboost\\core.py:90: UserWarning: ntree_limit is deprecated, use `iteration_range` or model slicing instead.\n",
      "  warnings.warn(\n"
     ]
    },
    {
     "name": "stdout",
     "output_type": "stream",
     "text": [
      "\n",
      "iteration: 332\n",
      "[0]\ttrain-auc:0.50000\teval-auc:0.50000\n",
      "[9]\ttrain-auc:0.50000\teval-auc:0.50000\n"
     ]
    },
    {
     "name": "stderr",
     "output_type": "stream",
     "text": [
      "C:\\Users\\ENES\\anaconda3\\lib\\site-packages\\xgboost\\core.py:90: UserWarning: ntree_limit is deprecated, use `iteration_range` or model slicing instead.\n",
      "  warnings.warn(\n"
     ]
    },
    {
     "name": "stdout",
     "output_type": "stream",
     "text": [
      "\n",
      "iteration: 333\n",
      "[0]\ttrain-auc:0.50000\teval-auc:0.50000\n",
      "[10]\ttrain-auc:0.50000\teval-auc:0.50000\n"
     ]
    },
    {
     "name": "stderr",
     "output_type": "stream",
     "text": [
      "C:\\Users\\ENES\\anaconda3\\lib\\site-packages\\xgboost\\core.py:90: UserWarning: ntree_limit is deprecated, use `iteration_range` or model slicing instead.\n",
      "  warnings.warn(\n"
     ]
    },
    {
     "name": "stdout",
     "output_type": "stream",
     "text": [
      "\n",
      "iteration: 334\n",
      "[0]\ttrain-auc:0.50000\teval-auc:0.50000\n",
      "[9]\ttrain-auc:0.50000\teval-auc:0.50000\n"
     ]
    },
    {
     "name": "stderr",
     "output_type": "stream",
     "text": [
      "C:\\Users\\ENES\\anaconda3\\lib\\site-packages\\xgboost\\core.py:90: UserWarning: ntree_limit is deprecated, use `iteration_range` or model slicing instead.\n",
      "  warnings.warn(\n"
     ]
    },
    {
     "name": "stdout",
     "output_type": "stream",
     "text": [
      "\n",
      "iteration: 335\n",
      "[0]\ttrain-auc:0.50000\teval-auc:0.50000\n",
      "[10]\ttrain-auc:0.50000\teval-auc:0.50000\n"
     ]
    },
    {
     "name": "stderr",
     "output_type": "stream",
     "text": [
      "C:\\Users\\ENES\\anaconda3\\lib\\site-packages\\xgboost\\core.py:90: UserWarning: ntree_limit is deprecated, use `iteration_range` or model slicing instead.\n",
      "  warnings.warn(\n"
     ]
    },
    {
     "name": "stdout",
     "output_type": "stream",
     "text": [
      "\n",
      "iteration: 336\n",
      "[0]\ttrain-auc:0.50000\teval-auc:0.50000\n",
      "[9]\ttrain-auc:0.50000\teval-auc:0.50000\n"
     ]
    },
    {
     "name": "stderr",
     "output_type": "stream",
     "text": [
      "C:\\Users\\ENES\\anaconda3\\lib\\site-packages\\xgboost\\core.py:90: UserWarning: ntree_limit is deprecated, use `iteration_range` or model slicing instead.\n",
      "  warnings.warn(\n"
     ]
    },
    {
     "name": "stdout",
     "output_type": "stream",
     "text": [
      "\n",
      "iteration: 337\n",
      "[0]\ttrain-auc:0.70541\teval-auc:0.49808\n",
      "[10]\ttrain-auc:0.70541\teval-auc:0.49808\n"
     ]
    },
    {
     "name": "stderr",
     "output_type": "stream",
     "text": [
      "C:\\Users\\ENES\\anaconda3\\lib\\site-packages\\xgboost\\core.py:90: UserWarning: ntree_limit is deprecated, use `iteration_range` or model slicing instead.\n",
      "  warnings.warn(\n"
     ]
    },
    {
     "name": "stdout",
     "output_type": "stream",
     "text": [
      "\n",
      "iteration: 338\n",
      "[0]\ttrain-auc:0.50000\teval-auc:0.50000\n",
      "[9]\ttrain-auc:0.50000\teval-auc:0.50000\n"
     ]
    },
    {
     "name": "stderr",
     "output_type": "stream",
     "text": [
      "C:\\Users\\ENES\\anaconda3\\lib\\site-packages\\xgboost\\core.py:90: UserWarning: ntree_limit is deprecated, use `iteration_range` or model slicing instead.\n",
      "  warnings.warn(\n"
     ]
    },
    {
     "name": "stdout",
     "output_type": "stream",
     "text": [
      "\n",
      "iteration: 339\n",
      "[0]\ttrain-auc:0.50000\teval-auc:0.50000\n",
      "[9]\ttrain-auc:0.50000\teval-auc:0.50000\n"
     ]
    },
    {
     "name": "stderr",
     "output_type": "stream",
     "text": [
      "C:\\Users\\ENES\\anaconda3\\lib\\site-packages\\xgboost\\core.py:90: UserWarning: ntree_limit is deprecated, use `iteration_range` or model slicing instead.\n",
      "  warnings.warn(\n"
     ]
    },
    {
     "name": "stdout",
     "output_type": "stream",
     "text": [
      "\n",
      "iteration: 340\n",
      "[0]\ttrain-auc:0.50000\teval-auc:0.50000\n",
      "[10]\ttrain-auc:0.50000\teval-auc:0.50000\n"
     ]
    },
    {
     "name": "stderr",
     "output_type": "stream",
     "text": [
      "C:\\Users\\ENES\\anaconda3\\lib\\site-packages\\xgboost\\core.py:90: UserWarning: ntree_limit is deprecated, use `iteration_range` or model slicing instead.\n",
      "  warnings.warn(\n"
     ]
    },
    {
     "name": "stdout",
     "output_type": "stream",
     "text": [
      "\n",
      "iteration: 341\n",
      "[0]\ttrain-auc:0.50000\teval-auc:0.50000\n",
      "[10]\ttrain-auc:0.50000\teval-auc:0.50000\n"
     ]
    },
    {
     "name": "stderr",
     "output_type": "stream",
     "text": [
      "C:\\Users\\ENES\\anaconda3\\lib\\site-packages\\xgboost\\core.py:90: UserWarning: ntree_limit is deprecated, use `iteration_range` or model slicing instead.\n",
      "  warnings.warn(\n"
     ]
    },
    {
     "name": "stdout",
     "output_type": "stream",
     "text": [
      "\n",
      "iteration: 342\n",
      "[0]\ttrain-auc:0.50000\teval-auc:0.50000\n",
      "[9]\ttrain-auc:0.50000\teval-auc:0.50000\n"
     ]
    },
    {
     "name": "stderr",
     "output_type": "stream",
     "text": [
      "C:\\Users\\ENES\\anaconda3\\lib\\site-packages\\xgboost\\core.py:90: UserWarning: ntree_limit is deprecated, use `iteration_range` or model slicing instead.\n",
      "  warnings.warn(\n"
     ]
    },
    {
     "name": "stdout",
     "output_type": "stream",
     "text": [
      "\n",
      "iteration: 343\n",
      "[0]\ttrain-auc:0.50000\teval-auc:0.50000\n",
      "[9]\ttrain-auc:0.50000\teval-auc:0.50000\n"
     ]
    },
    {
     "name": "stderr",
     "output_type": "stream",
     "text": [
      "C:\\Users\\ENES\\anaconda3\\lib\\site-packages\\xgboost\\core.py:90: UserWarning: ntree_limit is deprecated, use `iteration_range` or model slicing instead.\n",
      "  warnings.warn(\n"
     ]
    },
    {
     "name": "stdout",
     "output_type": "stream",
     "text": [
      "\n",
      "iteration: 344\n",
      "[0]\ttrain-auc:0.50000\teval-auc:0.50000\n",
      "[10]\ttrain-auc:0.50000\teval-auc:0.50000\n"
     ]
    },
    {
     "name": "stderr",
     "output_type": "stream",
     "text": [
      "C:\\Users\\ENES\\anaconda3\\lib\\site-packages\\xgboost\\core.py:90: UserWarning: ntree_limit is deprecated, use `iteration_range` or model slicing instead.\n",
      "  warnings.warn(\n"
     ]
    },
    {
     "name": "stdout",
     "output_type": "stream",
     "text": [
      "\n",
      "iteration: 345\n",
      "[0]\ttrain-auc:0.70541\teval-auc:0.49808\n",
      "[9]\ttrain-auc:0.70541\teval-auc:0.49808\n"
     ]
    },
    {
     "name": "stderr",
     "output_type": "stream",
     "text": [
      "C:\\Users\\ENES\\anaconda3\\lib\\site-packages\\xgboost\\core.py:90: UserWarning: ntree_limit is deprecated, use `iteration_range` or model slicing instead.\n",
      "  warnings.warn(\n"
     ]
    },
    {
     "name": "stdout",
     "output_type": "stream",
     "text": [
      "\n",
      "iteration: 346\n",
      "[0]\ttrain-auc:0.50000\teval-auc:0.50000\n",
      "[10]\ttrain-auc:0.50000\teval-auc:0.50000\n"
     ]
    },
    {
     "name": "stderr",
     "output_type": "stream",
     "text": [
      "C:\\Users\\ENES\\anaconda3\\lib\\site-packages\\xgboost\\core.py:90: UserWarning: ntree_limit is deprecated, use `iteration_range` or model slicing instead.\n",
      "  warnings.warn(\n"
     ]
    },
    {
     "name": "stdout",
     "output_type": "stream",
     "text": [
      "\n",
      "iteration: 347\n",
      "[0]\ttrain-auc:0.50000\teval-auc:0.50000\n",
      "[9]\ttrain-auc:0.50000\teval-auc:0.50000\n"
     ]
    },
    {
     "name": "stderr",
     "output_type": "stream",
     "text": [
      "C:\\Users\\ENES\\anaconda3\\lib\\site-packages\\xgboost\\core.py:90: UserWarning: ntree_limit is deprecated, use `iteration_range` or model slicing instead.\n",
      "  warnings.warn(\n"
     ]
    },
    {
     "name": "stdout",
     "output_type": "stream",
     "text": [
      "\n",
      "iteration: 348\n",
      "[0]\ttrain-auc:0.50000\teval-auc:0.50000\n",
      "[10]\ttrain-auc:0.50000\teval-auc:0.50000\n"
     ]
    },
    {
     "name": "stderr",
     "output_type": "stream",
     "text": [
      "C:\\Users\\ENES\\anaconda3\\lib\\site-packages\\xgboost\\core.py:90: UserWarning: ntree_limit is deprecated, use `iteration_range` or model slicing instead.\n",
      "  warnings.warn(\n"
     ]
    },
    {
     "name": "stdout",
     "output_type": "stream",
     "text": [
      "\n",
      "iteration: 349\n",
      "[0]\ttrain-auc:0.50000\teval-auc:0.50000\n",
      "[10]\ttrain-auc:0.50000\teval-auc:0.50000\n"
     ]
    },
    {
     "name": "stderr",
     "output_type": "stream",
     "text": [
      "C:\\Users\\ENES\\anaconda3\\lib\\site-packages\\xgboost\\core.py:90: UserWarning: ntree_limit is deprecated, use `iteration_range` or model slicing instead.\n",
      "  warnings.warn(\n"
     ]
    },
    {
     "name": "stdout",
     "output_type": "stream",
     "text": [
      "\n",
      "iteration: 350\n",
      "[0]\ttrain-auc:0.50000\teval-auc:0.50000\n",
      "[9]\ttrain-auc:0.50000\teval-auc:0.50000\n"
     ]
    },
    {
     "name": "stderr",
     "output_type": "stream",
     "text": [
      "C:\\Users\\ENES\\anaconda3\\lib\\site-packages\\xgboost\\core.py:90: UserWarning: ntree_limit is deprecated, use `iteration_range` or model slicing instead.\n",
      "  warnings.warn(\n"
     ]
    },
    {
     "name": "stdout",
     "output_type": "stream",
     "text": [
      "\n",
      "iteration: 351\n",
      "[0]\ttrain-auc:0.50000\teval-auc:0.50000\n",
      "[9]\ttrain-auc:0.50000\teval-auc:0.50000\n"
     ]
    },
    {
     "name": "stderr",
     "output_type": "stream",
     "text": [
      "C:\\Users\\ENES\\anaconda3\\lib\\site-packages\\xgboost\\core.py:90: UserWarning: ntree_limit is deprecated, use `iteration_range` or model slicing instead.\n",
      "  warnings.warn(\n"
     ]
    },
    {
     "name": "stdout",
     "output_type": "stream",
     "text": [
      "\n",
      "iteration: 352\n",
      "[0]\ttrain-auc:0.50000\teval-auc:0.50000\n",
      "[10]\ttrain-auc:0.50000\teval-auc:0.50000\n"
     ]
    },
    {
     "name": "stderr",
     "output_type": "stream",
     "text": [
      "C:\\Users\\ENES\\anaconda3\\lib\\site-packages\\xgboost\\core.py:90: UserWarning: ntree_limit is deprecated, use `iteration_range` or model slicing instead.\n",
      "  warnings.warn(\n"
     ]
    },
    {
     "name": "stdout",
     "output_type": "stream",
     "text": [
      "\n",
      "iteration: 353\n",
      "[0]\ttrain-auc:0.70541\teval-auc:0.49808\n",
      "[10]\ttrain-auc:0.70541\teval-auc:0.49808\n"
     ]
    },
    {
     "name": "stderr",
     "output_type": "stream",
     "text": [
      "C:\\Users\\ENES\\anaconda3\\lib\\site-packages\\xgboost\\core.py:90: UserWarning: ntree_limit is deprecated, use `iteration_range` or model slicing instead.\n",
      "  warnings.warn(\n"
     ]
    },
    {
     "name": "stdout",
     "output_type": "stream",
     "text": [
      "\n",
      "iteration: 354\n",
      "[0]\ttrain-auc:0.50000\teval-auc:0.50000\n",
      "[9]\ttrain-auc:0.50000\teval-auc:0.50000\n"
     ]
    },
    {
     "name": "stderr",
     "output_type": "stream",
     "text": [
      "C:\\Users\\ENES\\anaconda3\\lib\\site-packages\\xgboost\\core.py:90: UserWarning: ntree_limit is deprecated, use `iteration_range` or model slicing instead.\n",
      "  warnings.warn(\n"
     ]
    },
    {
     "name": "stdout",
     "output_type": "stream",
     "text": [
      "\n",
      "iteration: 355\n",
      "[0]\ttrain-auc:0.50000\teval-auc:0.50000\n",
      "[9]\ttrain-auc:0.50000\teval-auc:0.50000\n"
     ]
    },
    {
     "name": "stderr",
     "output_type": "stream",
     "text": [
      "C:\\Users\\ENES\\anaconda3\\lib\\site-packages\\xgboost\\core.py:90: UserWarning: ntree_limit is deprecated, use `iteration_range` or model slicing instead.\n",
      "  warnings.warn(\n"
     ]
    },
    {
     "name": "stdout",
     "output_type": "stream",
     "text": [
      "\n",
      "iteration: 356\n",
      "[0]\ttrain-auc:0.50000\teval-auc:0.50000\n",
      "[9]\ttrain-auc:0.50000\teval-auc:0.50000\n"
     ]
    },
    {
     "name": "stderr",
     "output_type": "stream",
     "text": [
      "C:\\Users\\ENES\\anaconda3\\lib\\site-packages\\xgboost\\core.py:90: UserWarning: ntree_limit is deprecated, use `iteration_range` or model slicing instead.\n",
      "  warnings.warn(\n"
     ]
    },
    {
     "name": "stdout",
     "output_type": "stream",
     "text": [
      "\n",
      "iteration: 357\n",
      "[0]\ttrain-auc:0.50000\teval-auc:0.50000\n",
      "[10]\ttrain-auc:0.50000\teval-auc:0.50000\n"
     ]
    },
    {
     "name": "stderr",
     "output_type": "stream",
     "text": [
      "C:\\Users\\ENES\\anaconda3\\lib\\site-packages\\xgboost\\core.py:90: UserWarning: ntree_limit is deprecated, use `iteration_range` or model slicing instead.\n",
      "  warnings.warn(\n"
     ]
    },
    {
     "name": "stdout",
     "output_type": "stream",
     "text": [
      "\n",
      "iteration: 358\n",
      "[0]\ttrain-auc:0.50000\teval-auc:0.50000\n",
      "[10]\ttrain-auc:0.50000\teval-auc:0.50000\n"
     ]
    },
    {
     "name": "stderr",
     "output_type": "stream",
     "text": [
      "C:\\Users\\ENES\\anaconda3\\lib\\site-packages\\xgboost\\core.py:90: UserWarning: ntree_limit is deprecated, use `iteration_range` or model slicing instead.\n",
      "  warnings.warn(\n"
     ]
    },
    {
     "name": "stdout",
     "output_type": "stream",
     "text": [
      "\n",
      "iteration: 359\n",
      "[0]\ttrain-auc:0.50000\teval-auc:0.50000\n",
      "[9]\ttrain-auc:0.50000\teval-auc:0.50000\n"
     ]
    },
    {
     "name": "stderr",
     "output_type": "stream",
     "text": [
      "C:\\Users\\ENES\\anaconda3\\lib\\site-packages\\xgboost\\core.py:90: UserWarning: ntree_limit is deprecated, use `iteration_range` or model slicing instead.\n",
      "  warnings.warn(\n"
     ]
    },
    {
     "name": "stdout",
     "output_type": "stream",
     "text": [
      "\n",
      "iteration: 360\n",
      "[0]\ttrain-auc:0.50000\teval-auc:0.50000\n",
      "[9]\ttrain-auc:0.50000\teval-auc:0.50000\n"
     ]
    },
    {
     "name": "stderr",
     "output_type": "stream",
     "text": [
      "C:\\Users\\ENES\\anaconda3\\lib\\site-packages\\xgboost\\core.py:90: UserWarning: ntree_limit is deprecated, use `iteration_range` or model slicing instead.\n",
      "  warnings.warn(\n"
     ]
    },
    {
     "name": "stdout",
     "output_type": "stream",
     "text": [
      "\n",
      "iteration: 361\n",
      "[0]\ttrain-auc:0.70541\teval-auc:0.49808\n",
      "[9]\ttrain-auc:0.70541\teval-auc:0.49808\n"
     ]
    },
    {
     "name": "stderr",
     "output_type": "stream",
     "text": [
      "C:\\Users\\ENES\\anaconda3\\lib\\site-packages\\xgboost\\core.py:90: UserWarning: ntree_limit is deprecated, use `iteration_range` or model slicing instead.\n",
      "  warnings.warn(\n"
     ]
    },
    {
     "name": "stdout",
     "output_type": "stream",
     "text": [
      "\n",
      "iteration: 362\n",
      "[0]\ttrain-auc:0.50000\teval-auc:0.50000\n",
      "[9]\ttrain-auc:0.50000\teval-auc:0.50000\n"
     ]
    },
    {
     "name": "stderr",
     "output_type": "stream",
     "text": [
      "C:\\Users\\ENES\\anaconda3\\lib\\site-packages\\xgboost\\core.py:90: UserWarning: ntree_limit is deprecated, use `iteration_range` or model slicing instead.\n",
      "  warnings.warn(\n"
     ]
    },
    {
     "name": "stdout",
     "output_type": "stream",
     "text": [
      "\n",
      "iteration: 363\n",
      "[0]\ttrain-auc:0.50000\teval-auc:0.50000\n",
      "[10]\ttrain-auc:0.50000\teval-auc:0.50000\n"
     ]
    },
    {
     "name": "stderr",
     "output_type": "stream",
     "text": [
      "C:\\Users\\ENES\\anaconda3\\lib\\site-packages\\xgboost\\core.py:90: UserWarning: ntree_limit is deprecated, use `iteration_range` or model slicing instead.\n",
      "  warnings.warn(\n"
     ]
    },
    {
     "name": "stdout",
     "output_type": "stream",
     "text": [
      "\n",
      "iteration: 364\n",
      "[0]\ttrain-auc:0.50000\teval-auc:0.50000\n",
      "[10]\ttrain-auc:0.50000\teval-auc:0.50000\n"
     ]
    },
    {
     "name": "stderr",
     "output_type": "stream",
     "text": [
      "C:\\Users\\ENES\\anaconda3\\lib\\site-packages\\xgboost\\core.py:90: UserWarning: ntree_limit is deprecated, use `iteration_range` or model slicing instead.\n",
      "  warnings.warn(\n"
     ]
    },
    {
     "name": "stdout",
     "output_type": "stream",
     "text": [
      "\n",
      "iteration: 365\n",
      "[0]\ttrain-auc:0.50000\teval-auc:0.50000\n",
      "[9]\ttrain-auc:0.50000\teval-auc:0.50000\n"
     ]
    },
    {
     "name": "stderr",
     "output_type": "stream",
     "text": [
      "C:\\Users\\ENES\\anaconda3\\lib\\site-packages\\xgboost\\core.py:90: UserWarning: ntree_limit is deprecated, use `iteration_range` or model slicing instead.\n",
      "  warnings.warn(\n"
     ]
    },
    {
     "name": "stdout",
     "output_type": "stream",
     "text": [
      "\n",
      "iteration: 366\n",
      "[0]\ttrain-auc:0.50000\teval-auc:0.50000\n",
      "[10]\ttrain-auc:0.50000\teval-auc:0.50000\n"
     ]
    },
    {
     "name": "stderr",
     "output_type": "stream",
     "text": [
      "C:\\Users\\ENES\\anaconda3\\lib\\site-packages\\xgboost\\core.py:90: UserWarning: ntree_limit is deprecated, use `iteration_range` or model slicing instead.\n",
      "  warnings.warn(\n"
     ]
    },
    {
     "name": "stdout",
     "output_type": "stream",
     "text": [
      "\n",
      "iteration: 367\n",
      "[0]\ttrain-auc:0.50000\teval-auc:0.50000\n",
      "[10]\ttrain-auc:0.50000\teval-auc:0.50000\n"
     ]
    },
    {
     "name": "stderr",
     "output_type": "stream",
     "text": [
      "C:\\Users\\ENES\\anaconda3\\lib\\site-packages\\xgboost\\core.py:90: UserWarning: ntree_limit is deprecated, use `iteration_range` or model slicing instead.\n",
      "  warnings.warn(\n"
     ]
    },
    {
     "name": "stdout",
     "output_type": "stream",
     "text": [
      "\n",
      "iteration: 368\n",
      "[0]\ttrain-auc:0.50000\teval-auc:0.50000\n",
      "[10]\ttrain-auc:0.50000\teval-auc:0.50000\n"
     ]
    },
    {
     "name": "stderr",
     "output_type": "stream",
     "text": [
      "C:\\Users\\ENES\\anaconda3\\lib\\site-packages\\xgboost\\core.py:90: UserWarning: ntree_limit is deprecated, use `iteration_range` or model slicing instead.\n",
      "  warnings.warn(\n"
     ]
    },
    {
     "name": "stdout",
     "output_type": "stream",
     "text": [
      "\n",
      "iteration: 369\n",
      "[0]\ttrain-auc:0.70541\teval-auc:0.49808\n",
      "[9]\ttrain-auc:0.70541\teval-auc:0.49808\n"
     ]
    },
    {
     "name": "stderr",
     "output_type": "stream",
     "text": [
      "C:\\Users\\ENES\\anaconda3\\lib\\site-packages\\xgboost\\core.py:90: UserWarning: ntree_limit is deprecated, use `iteration_range` or model slicing instead.\n",
      "  warnings.warn(\n"
     ]
    },
    {
     "name": "stdout",
     "output_type": "stream",
     "text": [
      "\n",
      "iteration: 370\n",
      "[0]\ttrain-auc:0.50000\teval-auc:0.50000\n",
      "[9]\ttrain-auc:0.50000\teval-auc:0.50000\n"
     ]
    },
    {
     "name": "stderr",
     "output_type": "stream",
     "text": [
      "C:\\Users\\ENES\\anaconda3\\lib\\site-packages\\xgboost\\core.py:90: UserWarning: ntree_limit is deprecated, use `iteration_range` or model slicing instead.\n",
      "  warnings.warn(\n"
     ]
    },
    {
     "name": "stdout",
     "output_type": "stream",
     "text": [
      "\n",
      "iteration: 371\n",
      "[0]\ttrain-auc:0.50000\teval-auc:0.50000\n",
      "[10]\ttrain-auc:0.50000\teval-auc:0.50000\n"
     ]
    },
    {
     "name": "stderr",
     "output_type": "stream",
     "text": [
      "C:\\Users\\ENES\\anaconda3\\lib\\site-packages\\xgboost\\core.py:90: UserWarning: ntree_limit is deprecated, use `iteration_range` or model slicing instead.\n",
      "  warnings.warn(\n"
     ]
    },
    {
     "name": "stdout",
     "output_type": "stream",
     "text": [
      "\n",
      "iteration: 372\n",
      "[0]\ttrain-auc:0.50000\teval-auc:0.50000\n",
      "[10]\ttrain-auc:0.50000\teval-auc:0.50000\n"
     ]
    },
    {
     "name": "stderr",
     "output_type": "stream",
     "text": [
      "C:\\Users\\ENES\\anaconda3\\lib\\site-packages\\xgboost\\core.py:90: UserWarning: ntree_limit is deprecated, use `iteration_range` or model slicing instead.\n",
      "  warnings.warn(\n"
     ]
    },
    {
     "name": "stdout",
     "output_type": "stream",
     "text": [
      "\n",
      "iteration: 373\n",
      "[0]\ttrain-auc:0.50000\teval-auc:0.50000\n",
      "[9]\ttrain-auc:0.50000\teval-auc:0.50000\n"
     ]
    },
    {
     "name": "stderr",
     "output_type": "stream",
     "text": [
      "C:\\Users\\ENES\\anaconda3\\lib\\site-packages\\xgboost\\core.py:90: UserWarning: ntree_limit is deprecated, use `iteration_range` or model slicing instead.\n",
      "  warnings.warn(\n"
     ]
    },
    {
     "name": "stdout",
     "output_type": "stream",
     "text": [
      "\n",
      "iteration: 374\n",
      "[0]\ttrain-auc:0.50000\teval-auc:0.50000\n",
      "[10]\ttrain-auc:0.50000\teval-auc:0.50000\n"
     ]
    },
    {
     "name": "stderr",
     "output_type": "stream",
     "text": [
      "C:\\Users\\ENES\\anaconda3\\lib\\site-packages\\xgboost\\core.py:90: UserWarning: ntree_limit is deprecated, use `iteration_range` or model slicing instead.\n",
      "  warnings.warn(\n"
     ]
    },
    {
     "name": "stdout",
     "output_type": "stream",
     "text": [
      "\n",
      "iteration: 375\n",
      "[0]\ttrain-auc:0.50000\teval-auc:0.50000\n",
      "[10]\ttrain-auc:0.50000\teval-auc:0.50000\n"
     ]
    },
    {
     "name": "stderr",
     "output_type": "stream",
     "text": [
      "C:\\Users\\ENES\\anaconda3\\lib\\site-packages\\xgboost\\core.py:90: UserWarning: ntree_limit is deprecated, use `iteration_range` or model slicing instead.\n",
      "  warnings.warn(\n"
     ]
    },
    {
     "name": "stdout",
     "output_type": "stream",
     "text": [
      "\n",
      "iteration: 376\n",
      "[0]\ttrain-auc:0.50000\teval-auc:0.50000\n",
      "[10]\ttrain-auc:0.50000\teval-auc:0.50000\n"
     ]
    },
    {
     "name": "stderr",
     "output_type": "stream",
     "text": [
      "C:\\Users\\ENES\\anaconda3\\lib\\site-packages\\xgboost\\core.py:90: UserWarning: ntree_limit is deprecated, use `iteration_range` or model slicing instead.\n",
      "  warnings.warn(\n"
     ]
    },
    {
     "name": "stdout",
     "output_type": "stream",
     "text": [
      "\n",
      "iteration: 377\n",
      "[0]\ttrain-auc:0.50000\teval-auc:0.50000\n",
      "[10]\ttrain-auc:0.50000\teval-auc:0.50000\n"
     ]
    },
    {
     "name": "stderr",
     "output_type": "stream",
     "text": [
      "C:\\Users\\ENES\\anaconda3\\lib\\site-packages\\xgboost\\core.py:90: UserWarning: ntree_limit is deprecated, use `iteration_range` or model slicing instead.\n",
      "  warnings.warn(\n"
     ]
    },
    {
     "name": "stdout",
     "output_type": "stream",
     "text": [
      "\n",
      "iteration: 378\n",
      "[0]\ttrain-auc:0.50000\teval-auc:0.50000\n",
      "[10]\ttrain-auc:0.50000\teval-auc:0.50000\n"
     ]
    },
    {
     "name": "stderr",
     "output_type": "stream",
     "text": [
      "C:\\Users\\ENES\\anaconda3\\lib\\site-packages\\xgboost\\core.py:90: UserWarning: ntree_limit is deprecated, use `iteration_range` or model slicing instead.\n",
      "  warnings.warn(\n"
     ]
    },
    {
     "name": "stdout",
     "output_type": "stream",
     "text": [
      "\n",
      "iteration: 379\n",
      "[0]\ttrain-auc:0.50000\teval-auc:0.50000\n",
      "[9]\ttrain-auc:0.50000\teval-auc:0.50000\n"
     ]
    },
    {
     "name": "stderr",
     "output_type": "stream",
     "text": [
      "C:\\Users\\ENES\\anaconda3\\lib\\site-packages\\xgboost\\core.py:90: UserWarning: ntree_limit is deprecated, use `iteration_range` or model slicing instead.\n",
      "  warnings.warn(\n"
     ]
    },
    {
     "name": "stdout",
     "output_type": "stream",
     "text": [
      "\n",
      "iteration: 380\n",
      "[0]\ttrain-auc:0.50000\teval-auc:0.50000\n",
      "[10]\ttrain-auc:0.50000\teval-auc:0.50000\n"
     ]
    },
    {
     "name": "stderr",
     "output_type": "stream",
     "text": [
      "C:\\Users\\ENES\\anaconda3\\lib\\site-packages\\xgboost\\core.py:90: UserWarning: ntree_limit is deprecated, use `iteration_range` or model slicing instead.\n",
      "  warnings.warn(\n"
     ]
    },
    {
     "name": "stdout",
     "output_type": "stream",
     "text": [
      "\n",
      "iteration: 381\n",
      "[0]\ttrain-auc:0.50000\teval-auc:0.50000\n",
      "[9]\ttrain-auc:0.50000\teval-auc:0.50000\n"
     ]
    },
    {
     "name": "stderr",
     "output_type": "stream",
     "text": [
      "C:\\Users\\ENES\\anaconda3\\lib\\site-packages\\xgboost\\core.py:90: UserWarning: ntree_limit is deprecated, use `iteration_range` or model slicing instead.\n",
      "  warnings.warn(\n"
     ]
    },
    {
     "name": "stdout",
     "output_type": "stream",
     "text": [
      "\n",
      "iteration: 382\n",
      "[0]\ttrain-auc:0.50000\teval-auc:0.50000\n",
      "[9]\ttrain-auc:0.50000\teval-auc:0.50000\n"
     ]
    },
    {
     "name": "stderr",
     "output_type": "stream",
     "text": [
      "C:\\Users\\ENES\\anaconda3\\lib\\site-packages\\xgboost\\core.py:90: UserWarning: ntree_limit is deprecated, use `iteration_range` or model slicing instead.\n",
      "  warnings.warn(\n"
     ]
    },
    {
     "name": "stdout",
     "output_type": "stream",
     "text": [
      "\n",
      "iteration: 383\n",
      "[0]\ttrain-auc:0.50000\teval-auc:0.50000\n",
      "[10]\ttrain-auc:0.50000\teval-auc:0.50000\n"
     ]
    },
    {
     "name": "stderr",
     "output_type": "stream",
     "text": [
      "C:\\Users\\ENES\\anaconda3\\lib\\site-packages\\xgboost\\core.py:90: UserWarning: ntree_limit is deprecated, use `iteration_range` or model slicing instead.\n",
      "  warnings.warn(\n"
     ]
    },
    {
     "name": "stdout",
     "output_type": "stream",
     "text": [
      "\n",
      "iteration: 384\n",
      "[0]\ttrain-auc:0.50000\teval-auc:0.50000\n",
      "[9]\ttrain-auc:0.50000\teval-auc:0.50000\n"
     ]
    },
    {
     "name": "stderr",
     "output_type": "stream",
     "text": [
      "C:\\Users\\ENES\\anaconda3\\lib\\site-packages\\xgboost\\core.py:90: UserWarning: ntree_limit is deprecated, use `iteration_range` or model slicing instead.\n",
      "  warnings.warn(\n"
     ]
    },
    {
     "name": "stdout",
     "output_type": "stream",
     "text": [
      "\n",
      "iteration: 385\n",
      "[0]\ttrain-auc:0.50000\teval-auc:0.50000\n",
      "[10]\ttrain-auc:0.50000\teval-auc:0.50000\n"
     ]
    },
    {
     "name": "stderr",
     "output_type": "stream",
     "text": [
      "C:\\Users\\ENES\\anaconda3\\lib\\site-packages\\xgboost\\core.py:90: UserWarning: ntree_limit is deprecated, use `iteration_range` or model slicing instead.\n",
      "  warnings.warn(\n"
     ]
    },
    {
     "name": "stdout",
     "output_type": "stream",
     "text": [
      "\n",
      "iteration: 386\n",
      "[0]\ttrain-auc:0.50000\teval-auc:0.50000\n",
      "[10]\ttrain-auc:0.50000\teval-auc:0.50000\n"
     ]
    },
    {
     "name": "stderr",
     "output_type": "stream",
     "text": [
      "C:\\Users\\ENES\\anaconda3\\lib\\site-packages\\xgboost\\core.py:90: UserWarning: ntree_limit is deprecated, use `iteration_range` or model slicing instead.\n",
      "  warnings.warn(\n"
     ]
    },
    {
     "name": "stdout",
     "output_type": "stream",
     "text": [
      "\n",
      "iteration: 387\n",
      "[0]\ttrain-auc:0.50000\teval-auc:0.50000\n",
      "[9]\ttrain-auc:0.50000\teval-auc:0.50000\n"
     ]
    },
    {
     "name": "stderr",
     "output_type": "stream",
     "text": [
      "C:\\Users\\ENES\\anaconda3\\lib\\site-packages\\xgboost\\core.py:90: UserWarning: ntree_limit is deprecated, use `iteration_range` or model slicing instead.\n",
      "  warnings.warn(\n"
     ]
    },
    {
     "name": "stdout",
     "output_type": "stream",
     "text": [
      "\n",
      "iteration: 388\n",
      "[0]\ttrain-auc:0.50000\teval-auc:0.50000\n",
      "[10]\ttrain-auc:0.50000\teval-auc:0.50000\n"
     ]
    },
    {
     "name": "stderr",
     "output_type": "stream",
     "text": [
      "C:\\Users\\ENES\\anaconda3\\lib\\site-packages\\xgboost\\core.py:90: UserWarning: ntree_limit is deprecated, use `iteration_range` or model slicing instead.\n",
      "  warnings.warn(\n"
     ]
    },
    {
     "name": "stdout",
     "output_type": "stream",
     "text": [
      "\n",
      "iteration: 389\n",
      "[0]\ttrain-auc:0.50000\teval-auc:0.50000\n",
      "[10]\ttrain-auc:0.50000\teval-auc:0.50000\n"
     ]
    },
    {
     "name": "stderr",
     "output_type": "stream",
     "text": [
      "C:\\Users\\ENES\\anaconda3\\lib\\site-packages\\xgboost\\core.py:90: UserWarning: ntree_limit is deprecated, use `iteration_range` or model slicing instead.\n",
      "  warnings.warn(\n"
     ]
    },
    {
     "name": "stdout",
     "output_type": "stream",
     "text": [
      "\n",
      "iteration: 390\n",
      "[0]\ttrain-auc:0.50000\teval-auc:0.50000\n",
      "[9]\ttrain-auc:0.50000\teval-auc:0.50000\n"
     ]
    },
    {
     "name": "stderr",
     "output_type": "stream",
     "text": [
      "C:\\Users\\ENES\\anaconda3\\lib\\site-packages\\xgboost\\core.py:90: UserWarning: ntree_limit is deprecated, use `iteration_range` or model slicing instead.\n",
      "  warnings.warn(\n"
     ]
    },
    {
     "name": "stdout",
     "output_type": "stream",
     "text": [
      "\n",
      "iteration: 391\n",
      "[0]\ttrain-auc:0.50000\teval-auc:0.50000\n",
      "[10]\ttrain-auc:0.50000\teval-auc:0.50000\n"
     ]
    },
    {
     "name": "stderr",
     "output_type": "stream",
     "text": [
      "C:\\Users\\ENES\\anaconda3\\lib\\site-packages\\xgboost\\core.py:90: UserWarning: ntree_limit is deprecated, use `iteration_range` or model slicing instead.\n",
      "  warnings.warn(\n"
     ]
    },
    {
     "name": "stdout",
     "output_type": "stream",
     "text": [
      "\n",
      "iteration: 392\n",
      "[0]\ttrain-auc:0.50000\teval-auc:0.50000\n",
      "[9]\ttrain-auc:0.50000\teval-auc:0.50000\n"
     ]
    },
    {
     "name": "stderr",
     "output_type": "stream",
     "text": [
      "C:\\Users\\ENES\\anaconda3\\lib\\site-packages\\xgboost\\core.py:90: UserWarning: ntree_limit is deprecated, use `iteration_range` or model slicing instead.\n",
      "  warnings.warn(\n"
     ]
    },
    {
     "name": "stdout",
     "output_type": "stream",
     "text": [
      "\n",
      "iteration: 393\n",
      "[0]\ttrain-auc:0.50000\teval-auc:0.50000\n",
      "[9]\ttrain-auc:0.50000\teval-auc:0.50000\n"
     ]
    },
    {
     "name": "stderr",
     "output_type": "stream",
     "text": [
      "C:\\Users\\ENES\\anaconda3\\lib\\site-packages\\xgboost\\core.py:90: UserWarning: ntree_limit is deprecated, use `iteration_range` or model slicing instead.\n",
      "  warnings.warn(\n"
     ]
    },
    {
     "name": "stdout",
     "output_type": "stream",
     "text": [
      "\n",
      "iteration: 394\n",
      "[0]\ttrain-auc:0.50000\teval-auc:0.50000\n",
      "[10]\ttrain-auc:0.50000\teval-auc:0.50000\n"
     ]
    },
    {
     "name": "stderr",
     "output_type": "stream",
     "text": [
      "C:\\Users\\ENES\\anaconda3\\lib\\site-packages\\xgboost\\core.py:90: UserWarning: ntree_limit is deprecated, use `iteration_range` or model slicing instead.\n",
      "  warnings.warn(\n"
     ]
    },
    {
     "name": "stdout",
     "output_type": "stream",
     "text": [
      "\n",
      "iteration: 395\n",
      "[0]\ttrain-auc:0.50000\teval-auc:0.50000\n",
      "[9]\ttrain-auc:0.50000\teval-auc:0.50000\n"
     ]
    },
    {
     "name": "stderr",
     "output_type": "stream",
     "text": [
      "C:\\Users\\ENES\\anaconda3\\lib\\site-packages\\xgboost\\core.py:90: UserWarning: ntree_limit is deprecated, use `iteration_range` or model slicing instead.\n",
      "  warnings.warn(\n"
     ]
    },
    {
     "name": "stdout",
     "output_type": "stream",
     "text": [
      "\n",
      "iteration: 396\n",
      "[0]\ttrain-auc:0.50000\teval-auc:0.50000\n",
      "[9]\ttrain-auc:0.50000\teval-auc:0.50000\n"
     ]
    },
    {
     "name": "stderr",
     "output_type": "stream",
     "text": [
      "C:\\Users\\ENES\\anaconda3\\lib\\site-packages\\xgboost\\core.py:90: UserWarning: ntree_limit is deprecated, use `iteration_range` or model slicing instead.\n",
      "  warnings.warn(\n"
     ]
    },
    {
     "name": "stdout",
     "output_type": "stream",
     "text": [
      "\n",
      "iteration: 397\n",
      "[0]\ttrain-auc:0.50000\teval-auc:0.50000\n",
      "[9]\ttrain-auc:0.50000\teval-auc:0.50000\n"
     ]
    },
    {
     "name": "stderr",
     "output_type": "stream",
     "text": [
      "C:\\Users\\ENES\\anaconda3\\lib\\site-packages\\xgboost\\core.py:90: UserWarning: ntree_limit is deprecated, use `iteration_range` or model slicing instead.\n",
      "  warnings.warn(\n"
     ]
    },
    {
     "name": "stdout",
     "output_type": "stream",
     "text": [
      "\n",
      "iteration: 398\n",
      "[0]\ttrain-auc:0.50000\teval-auc:0.50000\n",
      "[9]\ttrain-auc:0.50000\teval-auc:0.50000\n"
     ]
    },
    {
     "name": "stderr",
     "output_type": "stream",
     "text": [
      "C:\\Users\\ENES\\anaconda3\\lib\\site-packages\\xgboost\\core.py:90: UserWarning: ntree_limit is deprecated, use `iteration_range` or model slicing instead.\n",
      "  warnings.warn(\n"
     ]
    },
    {
     "name": "stdout",
     "output_type": "stream",
     "text": [
      "\n",
      "iteration: 399\n",
      "[0]\ttrain-auc:0.50000\teval-auc:0.50000\n",
      "[9]\ttrain-auc:0.50000\teval-auc:0.50000\n"
     ]
    },
    {
     "name": "stderr",
     "output_type": "stream",
     "text": [
      "C:\\Users\\ENES\\anaconda3\\lib\\site-packages\\xgboost\\core.py:90: UserWarning: ntree_limit is deprecated, use `iteration_range` or model slicing instead.\n",
      "  warnings.warn(\n"
     ]
    },
    {
     "name": "stdout",
     "output_type": "stream",
     "text": [
      "\n",
      "iteration: 400\n",
      "[0]\ttrain-auc:0.50000\teval-auc:0.50000\n",
      "[9]\ttrain-auc:0.50000\teval-auc:0.50000\n"
     ]
    },
    {
     "name": "stderr",
     "output_type": "stream",
     "text": [
      "C:\\Users\\ENES\\anaconda3\\lib\\site-packages\\xgboost\\core.py:90: UserWarning: ntree_limit is deprecated, use `iteration_range` or model slicing instead.\n",
      "  warnings.warn(\n"
     ]
    },
    {
     "name": "stdout",
     "output_type": "stream",
     "text": [
      "\n",
      "iteration: 401\n",
      "[0]\ttrain-auc:0.50000\teval-auc:0.50000\n",
      "[10]\ttrain-auc:0.50000\teval-auc:0.50000\n"
     ]
    },
    {
     "name": "stderr",
     "output_type": "stream",
     "text": [
      "C:\\Users\\ENES\\anaconda3\\lib\\site-packages\\xgboost\\core.py:90: UserWarning: ntree_limit is deprecated, use `iteration_range` or model slicing instead.\n",
      "  warnings.warn(\n"
     ]
    },
    {
     "name": "stdout",
     "output_type": "stream",
     "text": [
      "\n",
      "iteration: 402\n",
      "[0]\ttrain-auc:0.50000\teval-auc:0.50000\n",
      "[10]\ttrain-auc:0.50000\teval-auc:0.50000\n"
     ]
    },
    {
     "name": "stderr",
     "output_type": "stream",
     "text": [
      "C:\\Users\\ENES\\anaconda3\\lib\\site-packages\\xgboost\\core.py:90: UserWarning: ntree_limit is deprecated, use `iteration_range` or model slicing instead.\n",
      "  warnings.warn(\n"
     ]
    },
    {
     "name": "stdout",
     "output_type": "stream",
     "text": [
      "\n",
      "iteration: 403\n",
      "[0]\ttrain-auc:0.50000\teval-auc:0.50000\n",
      "[9]\ttrain-auc:0.50000\teval-auc:0.50000\n"
     ]
    },
    {
     "name": "stderr",
     "output_type": "stream",
     "text": [
      "C:\\Users\\ENES\\anaconda3\\lib\\site-packages\\xgboost\\core.py:90: UserWarning: ntree_limit is deprecated, use `iteration_range` or model slicing instead.\n",
      "  warnings.warn(\n"
     ]
    },
    {
     "name": "stdout",
     "output_type": "stream",
     "text": [
      "\n",
      "iteration: 404\n",
      "[0]\ttrain-auc:0.50000\teval-auc:0.50000\n",
      "[9]\ttrain-auc:0.50000\teval-auc:0.50000\n"
     ]
    },
    {
     "name": "stderr",
     "output_type": "stream",
     "text": [
      "C:\\Users\\ENES\\anaconda3\\lib\\site-packages\\xgboost\\core.py:90: UserWarning: ntree_limit is deprecated, use `iteration_range` or model slicing instead.\n",
      "  warnings.warn(\n"
     ]
    },
    {
     "name": "stdout",
     "output_type": "stream",
     "text": [
      "\n",
      "iteration: 405\n",
      "[0]\ttrain-auc:0.50000\teval-auc:0.50000\n",
      "[9]\ttrain-auc:0.50000\teval-auc:0.50000\n"
     ]
    },
    {
     "name": "stderr",
     "output_type": "stream",
     "text": [
      "C:\\Users\\ENES\\anaconda3\\lib\\site-packages\\xgboost\\core.py:90: UserWarning: ntree_limit is deprecated, use `iteration_range` or model slicing instead.\n",
      "  warnings.warn(\n"
     ]
    },
    {
     "name": "stdout",
     "output_type": "stream",
     "text": [
      "\n",
      "iteration: 406\n",
      "[0]\ttrain-auc:0.50000\teval-auc:0.50000\n",
      "[10]\ttrain-auc:0.50000\teval-auc:0.50000\n"
     ]
    },
    {
     "name": "stderr",
     "output_type": "stream",
     "text": [
      "C:\\Users\\ENES\\anaconda3\\lib\\site-packages\\xgboost\\core.py:90: UserWarning: ntree_limit is deprecated, use `iteration_range` or model slicing instead.\n",
      "  warnings.warn(\n"
     ]
    },
    {
     "name": "stdout",
     "output_type": "stream",
     "text": [
      "\n",
      "iteration: 407\n",
      "[0]\ttrain-auc:0.50000\teval-auc:0.50000\n",
      "[9]\ttrain-auc:0.50000\teval-auc:0.50000\n"
     ]
    },
    {
     "name": "stderr",
     "output_type": "stream",
     "text": [
      "C:\\Users\\ENES\\anaconda3\\lib\\site-packages\\xgboost\\core.py:90: UserWarning: ntree_limit is deprecated, use `iteration_range` or model slicing instead.\n",
      "  warnings.warn(\n"
     ]
    },
    {
     "name": "stdout",
     "output_type": "stream",
     "text": [
      "\n",
      "iteration: 408\n",
      "[0]\ttrain-auc:0.50000\teval-auc:0.50000\n",
      "[10]\ttrain-auc:0.50000\teval-auc:0.50000\n"
     ]
    },
    {
     "name": "stderr",
     "output_type": "stream",
     "text": [
      "C:\\Users\\ENES\\anaconda3\\lib\\site-packages\\xgboost\\core.py:90: UserWarning: ntree_limit is deprecated, use `iteration_range` or model slicing instead.\n",
      "  warnings.warn(\n"
     ]
    },
    {
     "name": "stdout",
     "output_type": "stream",
     "text": [
      "\n",
      "iteration: 409\n",
      "[0]\ttrain-auc:0.50000\teval-auc:0.50000\n",
      "[9]\ttrain-auc:0.50000\teval-auc:0.50000\n"
     ]
    },
    {
     "name": "stderr",
     "output_type": "stream",
     "text": [
      "C:\\Users\\ENES\\anaconda3\\lib\\site-packages\\xgboost\\core.py:90: UserWarning: ntree_limit is deprecated, use `iteration_range` or model slicing instead.\n",
      "  warnings.warn(\n"
     ]
    },
    {
     "name": "stdout",
     "output_type": "stream",
     "text": [
      "\n",
      "iteration: 410\n",
      "[0]\ttrain-auc:0.50000\teval-auc:0.50000\n",
      "[10]\ttrain-auc:0.50000\teval-auc:0.50000\n"
     ]
    },
    {
     "name": "stderr",
     "output_type": "stream",
     "text": [
      "C:\\Users\\ENES\\anaconda3\\lib\\site-packages\\xgboost\\core.py:90: UserWarning: ntree_limit is deprecated, use `iteration_range` or model slicing instead.\n",
      "  warnings.warn(\n"
     ]
    },
    {
     "name": "stdout",
     "output_type": "stream",
     "text": [
      "\n",
      "iteration: 411\n",
      "[0]\ttrain-auc:0.50000\teval-auc:0.50000\n",
      "[10]\ttrain-auc:0.50000\teval-auc:0.50000\n"
     ]
    },
    {
     "name": "stderr",
     "output_type": "stream",
     "text": [
      "C:\\Users\\ENES\\anaconda3\\lib\\site-packages\\xgboost\\core.py:90: UserWarning: ntree_limit is deprecated, use `iteration_range` or model slicing instead.\n",
      "  warnings.warn(\n"
     ]
    },
    {
     "name": "stdout",
     "output_type": "stream",
     "text": [
      "\n",
      "iteration: 412\n",
      "[0]\ttrain-auc:0.50000\teval-auc:0.50000\n",
      "[10]\ttrain-auc:0.50000\teval-auc:0.50000\n"
     ]
    },
    {
     "name": "stderr",
     "output_type": "stream",
     "text": [
      "C:\\Users\\ENES\\anaconda3\\lib\\site-packages\\xgboost\\core.py:90: UserWarning: ntree_limit is deprecated, use `iteration_range` or model slicing instead.\n",
      "  warnings.warn(\n"
     ]
    },
    {
     "name": "stdout",
     "output_type": "stream",
     "text": [
      "\n",
      "iteration: 413\n",
      "[0]\ttrain-auc:0.50000\teval-auc:0.50000\n",
      "[10]\ttrain-auc:0.50000\teval-auc:0.50000\n"
     ]
    },
    {
     "name": "stderr",
     "output_type": "stream",
     "text": [
      "C:\\Users\\ENES\\anaconda3\\lib\\site-packages\\xgboost\\core.py:90: UserWarning: ntree_limit is deprecated, use `iteration_range` or model slicing instead.\n",
      "  warnings.warn(\n"
     ]
    },
    {
     "name": "stdout",
     "output_type": "stream",
     "text": [
      "\n",
      "iteration: 414\n",
      "[0]\ttrain-auc:0.50000\teval-auc:0.50000\n",
      "[10]\ttrain-auc:0.50000\teval-auc:0.50000\n"
     ]
    },
    {
     "name": "stderr",
     "output_type": "stream",
     "text": [
      "C:\\Users\\ENES\\anaconda3\\lib\\site-packages\\xgboost\\core.py:90: UserWarning: ntree_limit is deprecated, use `iteration_range` or model slicing instead.\n",
      "  warnings.warn(\n"
     ]
    },
    {
     "name": "stdout",
     "output_type": "stream",
     "text": [
      "\n",
      "iteration: 415\n",
      "[0]\ttrain-auc:0.50000\teval-auc:0.50000\n",
      "[10]\ttrain-auc:0.50000\teval-auc:0.50000\n"
     ]
    },
    {
     "name": "stderr",
     "output_type": "stream",
     "text": [
      "C:\\Users\\ENES\\anaconda3\\lib\\site-packages\\xgboost\\core.py:90: UserWarning: ntree_limit is deprecated, use `iteration_range` or model slicing instead.\n",
      "  warnings.warn(\n"
     ]
    },
    {
     "name": "stdout",
     "output_type": "stream",
     "text": [
      "\n",
      "iteration: 416\n",
      "[0]\ttrain-auc:0.50000\teval-auc:0.50000\n",
      "[9]\ttrain-auc:0.50000\teval-auc:0.50000\n"
     ]
    },
    {
     "name": "stderr",
     "output_type": "stream",
     "text": [
      "C:\\Users\\ENES\\anaconda3\\lib\\site-packages\\xgboost\\core.py:90: UserWarning: ntree_limit is deprecated, use `iteration_range` or model slicing instead.\n",
      "  warnings.warn(\n"
     ]
    },
    {
     "name": "stdout",
     "output_type": "stream",
     "text": [
      "\n",
      "iteration: 417\n",
      "[0]\ttrain-auc:0.50000\teval-auc:0.50000\n",
      "[9]\ttrain-auc:0.50000\teval-auc:0.50000\n"
     ]
    },
    {
     "name": "stderr",
     "output_type": "stream",
     "text": [
      "C:\\Users\\ENES\\anaconda3\\lib\\site-packages\\xgboost\\core.py:90: UserWarning: ntree_limit is deprecated, use `iteration_range` or model slicing instead.\n",
      "  warnings.warn(\n"
     ]
    },
    {
     "name": "stdout",
     "output_type": "stream",
     "text": [
      "\n",
      "iteration: 418\n",
      "[0]\ttrain-auc:0.50000\teval-auc:0.50000\n",
      "[10]\ttrain-auc:0.50000\teval-auc:0.50000\n"
     ]
    },
    {
     "name": "stderr",
     "output_type": "stream",
     "text": [
      "C:\\Users\\ENES\\anaconda3\\lib\\site-packages\\xgboost\\core.py:90: UserWarning: ntree_limit is deprecated, use `iteration_range` or model slicing instead.\n",
      "  warnings.warn(\n"
     ]
    },
    {
     "name": "stdout",
     "output_type": "stream",
     "text": [
      "\n",
      "iteration: 419\n",
      "[0]\ttrain-auc:0.50000\teval-auc:0.50000\n",
      "[9]\ttrain-auc:0.50000\teval-auc:0.50000\n"
     ]
    },
    {
     "name": "stderr",
     "output_type": "stream",
     "text": [
      "C:\\Users\\ENES\\anaconda3\\lib\\site-packages\\xgboost\\core.py:90: UserWarning: ntree_limit is deprecated, use `iteration_range` or model slicing instead.\n",
      "  warnings.warn(\n"
     ]
    },
    {
     "name": "stdout",
     "output_type": "stream",
     "text": [
      "\n",
      "iteration: 420\n",
      "[0]\ttrain-auc:0.50000\teval-auc:0.50000\n",
      "[9]\ttrain-auc:0.50000\teval-auc:0.50000\n"
     ]
    },
    {
     "name": "stderr",
     "output_type": "stream",
     "text": [
      "C:\\Users\\ENES\\anaconda3\\lib\\site-packages\\xgboost\\core.py:90: UserWarning: ntree_limit is deprecated, use `iteration_range` or model slicing instead.\n",
      "  warnings.warn(\n"
     ]
    },
    {
     "name": "stdout",
     "output_type": "stream",
     "text": [
      "\n",
      "iteration: 421\n",
      "[0]\ttrain-auc:0.50000\teval-auc:0.50000\n",
      "[10]\ttrain-auc:0.50000\teval-auc:0.50000\n"
     ]
    },
    {
     "name": "stderr",
     "output_type": "stream",
     "text": [
      "C:\\Users\\ENES\\anaconda3\\lib\\site-packages\\xgboost\\core.py:90: UserWarning: ntree_limit is deprecated, use `iteration_range` or model slicing instead.\n",
      "  warnings.warn(\n"
     ]
    },
    {
     "name": "stdout",
     "output_type": "stream",
     "text": [
      "\n",
      "iteration: 422\n",
      "[0]\ttrain-auc:0.50000\teval-auc:0.50000\n",
      "[10]\ttrain-auc:0.50000\teval-auc:0.50000\n"
     ]
    },
    {
     "name": "stderr",
     "output_type": "stream",
     "text": [
      "C:\\Users\\ENES\\anaconda3\\lib\\site-packages\\xgboost\\core.py:90: UserWarning: ntree_limit is deprecated, use `iteration_range` or model slicing instead.\n",
      "  warnings.warn(\n"
     ]
    },
    {
     "name": "stdout",
     "output_type": "stream",
     "text": [
      "\n",
      "iteration: 423\n",
      "[0]\ttrain-auc:0.50000\teval-auc:0.50000\n",
      "[9]\ttrain-auc:0.50000\teval-auc:0.50000\n"
     ]
    },
    {
     "name": "stderr",
     "output_type": "stream",
     "text": [
      "C:\\Users\\ENES\\anaconda3\\lib\\site-packages\\xgboost\\core.py:90: UserWarning: ntree_limit is deprecated, use `iteration_range` or model slicing instead.\n",
      "  warnings.warn(\n"
     ]
    },
    {
     "name": "stdout",
     "output_type": "stream",
     "text": [
      "\n",
      "iteration: 424\n",
      "[0]\ttrain-auc:0.50000\teval-auc:0.50000\n",
      "[9]\ttrain-auc:0.50000\teval-auc:0.50000\n"
     ]
    },
    {
     "name": "stderr",
     "output_type": "stream",
     "text": [
      "C:\\Users\\ENES\\anaconda3\\lib\\site-packages\\xgboost\\core.py:90: UserWarning: ntree_limit is deprecated, use `iteration_range` or model slicing instead.\n",
      "  warnings.warn(\n"
     ]
    },
    {
     "name": "stdout",
     "output_type": "stream",
     "text": [
      "\n",
      "iteration: 425\n",
      "[0]\ttrain-auc:0.50000\teval-auc:0.50000\n",
      "[9]\ttrain-auc:0.50000\teval-auc:0.50000\n"
     ]
    },
    {
     "name": "stderr",
     "output_type": "stream",
     "text": [
      "C:\\Users\\ENES\\anaconda3\\lib\\site-packages\\xgboost\\core.py:90: UserWarning: ntree_limit is deprecated, use `iteration_range` or model slicing instead.\n",
      "  warnings.warn(\n"
     ]
    },
    {
     "name": "stdout",
     "output_type": "stream",
     "text": [
      "\n",
      "iteration: 426\n",
      "[0]\ttrain-auc:0.50000\teval-auc:0.50000\n",
      "[10]\ttrain-auc:0.50000\teval-auc:0.50000\n"
     ]
    },
    {
     "name": "stderr",
     "output_type": "stream",
     "text": [
      "C:\\Users\\ENES\\anaconda3\\lib\\site-packages\\xgboost\\core.py:90: UserWarning: ntree_limit is deprecated, use `iteration_range` or model slicing instead.\n",
      "  warnings.warn(\n"
     ]
    },
    {
     "name": "stdout",
     "output_type": "stream",
     "text": [
      "\n",
      "iteration: 427\n",
      "[0]\ttrain-auc:0.50000\teval-auc:0.50000\n",
      "[10]\ttrain-auc:0.50000\teval-auc:0.50000\n"
     ]
    },
    {
     "name": "stderr",
     "output_type": "stream",
     "text": [
      "C:\\Users\\ENES\\anaconda3\\lib\\site-packages\\xgboost\\core.py:90: UserWarning: ntree_limit is deprecated, use `iteration_range` or model slicing instead.\n",
      "  warnings.warn(\n"
     ]
    },
    {
     "name": "stdout",
     "output_type": "stream",
     "text": [
      "\n",
      "iteration: 428\n",
      "[0]\ttrain-auc:0.50000\teval-auc:0.50000\n",
      "[10]\ttrain-auc:0.50000\teval-auc:0.50000\n"
     ]
    },
    {
     "name": "stderr",
     "output_type": "stream",
     "text": [
      "C:\\Users\\ENES\\anaconda3\\lib\\site-packages\\xgboost\\core.py:90: UserWarning: ntree_limit is deprecated, use `iteration_range` or model slicing instead.\n",
      "  warnings.warn(\n"
     ]
    },
    {
     "name": "stdout",
     "output_type": "stream",
     "text": [
      "\n",
      "iteration: 429\n",
      "[0]\ttrain-auc:0.50000\teval-auc:0.50000\n",
      "[9]\ttrain-auc:0.50000\teval-auc:0.50000\n"
     ]
    },
    {
     "name": "stderr",
     "output_type": "stream",
     "text": [
      "C:\\Users\\ENES\\anaconda3\\lib\\site-packages\\xgboost\\core.py:90: UserWarning: ntree_limit is deprecated, use `iteration_range` or model slicing instead.\n",
      "  warnings.warn(\n"
     ]
    },
    {
     "name": "stdout",
     "output_type": "stream",
     "text": [
      "\n",
      "iteration: 430\n",
      "[0]\ttrain-auc:0.50000\teval-auc:0.50000\n",
      "[10]\ttrain-auc:0.50000\teval-auc:0.50000\n"
     ]
    },
    {
     "name": "stderr",
     "output_type": "stream",
     "text": [
      "C:\\Users\\ENES\\anaconda3\\lib\\site-packages\\xgboost\\core.py:90: UserWarning: ntree_limit is deprecated, use `iteration_range` or model slicing instead.\n",
      "  warnings.warn(\n"
     ]
    },
    {
     "name": "stdout",
     "output_type": "stream",
     "text": [
      "\n",
      "iteration: 431\n",
      "[0]\ttrain-auc:0.50000\teval-auc:0.50000\n",
      "[10]\ttrain-auc:0.50000\teval-auc:0.50000\n"
     ]
    },
    {
     "name": "stderr",
     "output_type": "stream",
     "text": [
      "C:\\Users\\ENES\\anaconda3\\lib\\site-packages\\xgboost\\core.py:90: UserWarning: ntree_limit is deprecated, use `iteration_range` or model slicing instead.\n",
      "  warnings.warn(\n"
     ]
    },
    {
     "name": "stdout",
     "output_type": "stream",
     "text": [
      "\n",
      "iteration: 432\n",
      "[0]\ttrain-auc:0.50000\teval-auc:0.50000\n",
      "[10]\ttrain-auc:0.50000\teval-auc:0.50000\n"
     ]
    },
    {
     "name": "stderr",
     "output_type": "stream",
     "text": [
      "C:\\Users\\ENES\\anaconda3\\lib\\site-packages\\xgboost\\core.py:90: UserWarning: ntree_limit is deprecated, use `iteration_range` or model slicing instead.\n",
      "  warnings.warn(\n"
     ]
    },
    {
     "name": "stdout",
     "output_type": "stream",
     "text": [
      "\n",
      "iteration: 433\n",
      "[0]\ttrain-auc:0.70541\teval-auc:0.49808\n",
      "[9]\ttrain-auc:0.70541\teval-auc:0.49808\n"
     ]
    },
    {
     "name": "stderr",
     "output_type": "stream",
     "text": [
      "C:\\Users\\ENES\\anaconda3\\lib\\site-packages\\xgboost\\core.py:90: UserWarning: ntree_limit is deprecated, use `iteration_range` or model slicing instead.\n",
      "  warnings.warn(\n"
     ]
    },
    {
     "name": "stdout",
     "output_type": "stream",
     "text": [
      "\n",
      "iteration: 434\n",
      "[0]\ttrain-auc:0.50000\teval-auc:0.50000\n",
      "[9]\ttrain-auc:0.50000\teval-auc:0.50000\n"
     ]
    },
    {
     "name": "stderr",
     "output_type": "stream",
     "text": [
      "C:\\Users\\ENES\\anaconda3\\lib\\site-packages\\xgboost\\core.py:90: UserWarning: ntree_limit is deprecated, use `iteration_range` or model slicing instead.\n",
      "  warnings.warn(\n"
     ]
    },
    {
     "name": "stdout",
     "output_type": "stream",
     "text": [
      "\n",
      "iteration: 435\n",
      "[0]\ttrain-auc:0.50000\teval-auc:0.50000\n",
      "[10]\ttrain-auc:0.50000\teval-auc:0.50000\n"
     ]
    },
    {
     "name": "stderr",
     "output_type": "stream",
     "text": [
      "C:\\Users\\ENES\\anaconda3\\lib\\site-packages\\xgboost\\core.py:90: UserWarning: ntree_limit is deprecated, use `iteration_range` or model slicing instead.\n",
      "  warnings.warn(\n"
     ]
    },
    {
     "name": "stdout",
     "output_type": "stream",
     "text": [
      "\n",
      "iteration: 436\n",
      "[0]\ttrain-auc:0.50000\teval-auc:0.50000\n",
      "[10]\ttrain-auc:0.50000\teval-auc:0.50000\n"
     ]
    },
    {
     "name": "stderr",
     "output_type": "stream",
     "text": [
      "C:\\Users\\ENES\\anaconda3\\lib\\site-packages\\xgboost\\core.py:90: UserWarning: ntree_limit is deprecated, use `iteration_range` or model slicing instead.\n",
      "  warnings.warn(\n"
     ]
    },
    {
     "name": "stdout",
     "output_type": "stream",
     "text": [
      "\n",
      "iteration: 437\n",
      "[0]\ttrain-auc:0.50000\teval-auc:0.50000\n",
      "[9]\ttrain-auc:0.50000\teval-auc:0.50000\n"
     ]
    },
    {
     "name": "stderr",
     "output_type": "stream",
     "text": [
      "C:\\Users\\ENES\\anaconda3\\lib\\site-packages\\xgboost\\core.py:90: UserWarning: ntree_limit is deprecated, use `iteration_range` or model slicing instead.\n",
      "  warnings.warn(\n"
     ]
    },
    {
     "name": "stdout",
     "output_type": "stream",
     "text": [
      "\n",
      "iteration: 438\n",
      "[0]\ttrain-auc:0.50000\teval-auc:0.50000\n",
      "[10]\ttrain-auc:0.50000\teval-auc:0.50000\n"
     ]
    },
    {
     "name": "stderr",
     "output_type": "stream",
     "text": [
      "C:\\Users\\ENES\\anaconda3\\lib\\site-packages\\xgboost\\core.py:90: UserWarning: ntree_limit is deprecated, use `iteration_range` or model slicing instead.\n",
      "  warnings.warn(\n"
     ]
    },
    {
     "name": "stdout",
     "output_type": "stream",
     "text": [
      "\n",
      "iteration: 439\n",
      "[0]\ttrain-auc:0.50000\teval-auc:0.50000\n",
      "[10]\ttrain-auc:0.50000\teval-auc:0.50000\n"
     ]
    },
    {
     "name": "stderr",
     "output_type": "stream",
     "text": [
      "C:\\Users\\ENES\\anaconda3\\lib\\site-packages\\xgboost\\core.py:90: UserWarning: ntree_limit is deprecated, use `iteration_range` or model slicing instead.\n",
      "  warnings.warn(\n"
     ]
    },
    {
     "name": "stdout",
     "output_type": "stream",
     "text": [
      "\n",
      "iteration: 440\n",
      "[0]\ttrain-auc:0.50000\teval-auc:0.50000\n",
      "[10]\ttrain-auc:0.50000\teval-auc:0.50000\n"
     ]
    },
    {
     "name": "stderr",
     "output_type": "stream",
     "text": [
      "C:\\Users\\ENES\\anaconda3\\lib\\site-packages\\xgboost\\core.py:90: UserWarning: ntree_limit is deprecated, use `iteration_range` or model slicing instead.\n",
      "  warnings.warn(\n"
     ]
    },
    {
     "name": "stdout",
     "output_type": "stream",
     "text": [
      "\n",
      "iteration: 441\n",
      "[0]\ttrain-auc:0.70541\teval-auc:0.49808\n",
      "[10]\ttrain-auc:0.70541\teval-auc:0.49808\n"
     ]
    },
    {
     "name": "stderr",
     "output_type": "stream",
     "text": [
      "C:\\Users\\ENES\\anaconda3\\lib\\site-packages\\xgboost\\core.py:90: UserWarning: ntree_limit is deprecated, use `iteration_range` or model slicing instead.\n",
      "  warnings.warn(\n"
     ]
    },
    {
     "name": "stdout",
     "output_type": "stream",
     "text": [
      "\n",
      "iteration: 442\n",
      "[0]\ttrain-auc:0.50000\teval-auc:0.50000\n",
      "[10]\ttrain-auc:0.50000\teval-auc:0.50000\n"
     ]
    },
    {
     "name": "stderr",
     "output_type": "stream",
     "text": [
      "C:\\Users\\ENES\\anaconda3\\lib\\site-packages\\xgboost\\core.py:90: UserWarning: ntree_limit is deprecated, use `iteration_range` or model slicing instead.\n",
      "  warnings.warn(\n"
     ]
    },
    {
     "name": "stdout",
     "output_type": "stream",
     "text": [
      "\n",
      "iteration: 443\n",
      "[0]\ttrain-auc:0.50000\teval-auc:0.50000\n",
      "[9]\ttrain-auc:0.50000\teval-auc:0.50000\n"
     ]
    },
    {
     "name": "stderr",
     "output_type": "stream",
     "text": [
      "C:\\Users\\ENES\\anaconda3\\lib\\site-packages\\xgboost\\core.py:90: UserWarning: ntree_limit is deprecated, use `iteration_range` or model slicing instead.\n",
      "  warnings.warn(\n"
     ]
    },
    {
     "name": "stdout",
     "output_type": "stream",
     "text": [
      "\n",
      "iteration: 444\n",
      "[0]\ttrain-auc:0.50000\teval-auc:0.50000\n",
      "[9]\ttrain-auc:0.50000\teval-auc:0.50000\n"
     ]
    },
    {
     "name": "stderr",
     "output_type": "stream",
     "text": [
      "C:\\Users\\ENES\\anaconda3\\lib\\site-packages\\xgboost\\core.py:90: UserWarning: ntree_limit is deprecated, use `iteration_range` or model slicing instead.\n",
      "  warnings.warn(\n"
     ]
    },
    {
     "name": "stdout",
     "output_type": "stream",
     "text": [
      "\n",
      "iteration: 445\n",
      "[0]\ttrain-auc:0.50000\teval-auc:0.50000\n",
      "[10]\ttrain-auc:0.50000\teval-auc:0.50000\n"
     ]
    },
    {
     "name": "stderr",
     "output_type": "stream",
     "text": [
      "C:\\Users\\ENES\\anaconda3\\lib\\site-packages\\xgboost\\core.py:90: UserWarning: ntree_limit is deprecated, use `iteration_range` or model slicing instead.\n",
      "  warnings.warn(\n"
     ]
    },
    {
     "name": "stdout",
     "output_type": "stream",
     "text": [
      "\n",
      "iteration: 446\n",
      "[0]\ttrain-auc:0.50000\teval-auc:0.50000\n",
      "[9]\ttrain-auc:0.50000\teval-auc:0.50000\n"
     ]
    },
    {
     "name": "stderr",
     "output_type": "stream",
     "text": [
      "C:\\Users\\ENES\\anaconda3\\lib\\site-packages\\xgboost\\core.py:90: UserWarning: ntree_limit is deprecated, use `iteration_range` or model slicing instead.\n",
      "  warnings.warn(\n"
     ]
    },
    {
     "name": "stdout",
     "output_type": "stream",
     "text": [
      "\n",
      "iteration: 447\n",
      "[0]\ttrain-auc:0.50000\teval-auc:0.50000\n",
      "[10]\ttrain-auc:0.50000\teval-auc:0.50000\n"
     ]
    },
    {
     "name": "stderr",
     "output_type": "stream",
     "text": [
      "C:\\Users\\ENES\\anaconda3\\lib\\site-packages\\xgboost\\core.py:90: UserWarning: ntree_limit is deprecated, use `iteration_range` or model slicing instead.\n",
      "  warnings.warn(\n"
     ]
    },
    {
     "name": "stdout",
     "output_type": "stream",
     "text": [
      "\n",
      "iteration: 448\n",
      "[0]\ttrain-auc:0.50000\teval-auc:0.50000\n",
      "[10]\ttrain-auc:0.50000\teval-auc:0.50000\n"
     ]
    },
    {
     "name": "stderr",
     "output_type": "stream",
     "text": [
      "C:\\Users\\ENES\\anaconda3\\lib\\site-packages\\xgboost\\core.py:90: UserWarning: ntree_limit is deprecated, use `iteration_range` or model slicing instead.\n",
      "  warnings.warn(\n"
     ]
    },
    {
     "name": "stdout",
     "output_type": "stream",
     "text": [
      "\n",
      "iteration: 449\n",
      "[0]\ttrain-auc:0.70541\teval-auc:0.49808\n",
      "[10]\ttrain-auc:0.70541\teval-auc:0.49808\n"
     ]
    },
    {
     "name": "stderr",
     "output_type": "stream",
     "text": [
      "C:\\Users\\ENES\\anaconda3\\lib\\site-packages\\xgboost\\core.py:90: UserWarning: ntree_limit is deprecated, use `iteration_range` or model slicing instead.\n",
      "  warnings.warn(\n"
     ]
    },
    {
     "name": "stdout",
     "output_type": "stream",
     "text": [
      "\n",
      "iteration: 450\n",
      "[0]\ttrain-auc:0.50000\teval-auc:0.50000\n",
      "[9]\ttrain-auc:0.50000\teval-auc:0.50000\n"
     ]
    },
    {
     "name": "stderr",
     "output_type": "stream",
     "text": [
      "C:\\Users\\ENES\\anaconda3\\lib\\site-packages\\xgboost\\core.py:90: UserWarning: ntree_limit is deprecated, use `iteration_range` or model slicing instead.\n",
      "  warnings.warn(\n"
     ]
    },
    {
     "name": "stdout",
     "output_type": "stream",
     "text": [
      "\n",
      "iteration: 451\n",
      "[0]\ttrain-auc:0.50000\teval-auc:0.50000\n",
      "[10]\ttrain-auc:0.50000\teval-auc:0.50000\n"
     ]
    },
    {
     "name": "stderr",
     "output_type": "stream",
     "text": [
      "C:\\Users\\ENES\\anaconda3\\lib\\site-packages\\xgboost\\core.py:90: UserWarning: ntree_limit is deprecated, use `iteration_range` or model slicing instead.\n",
      "  warnings.warn(\n"
     ]
    },
    {
     "name": "stdout",
     "output_type": "stream",
     "text": [
      "\n",
      "iteration: 452\n",
      "[0]\ttrain-auc:0.50000\teval-auc:0.50000\n",
      "[9]\ttrain-auc:0.50000\teval-auc:0.50000\n"
     ]
    },
    {
     "name": "stderr",
     "output_type": "stream",
     "text": [
      "C:\\Users\\ENES\\anaconda3\\lib\\site-packages\\xgboost\\core.py:90: UserWarning: ntree_limit is deprecated, use `iteration_range` or model slicing instead.\n",
      "  warnings.warn(\n"
     ]
    },
    {
     "name": "stdout",
     "output_type": "stream",
     "text": [
      "\n",
      "iteration: 453\n",
      "[0]\ttrain-auc:0.50000\teval-auc:0.50000\n",
      "[9]\ttrain-auc:0.50000\teval-auc:0.50000\n"
     ]
    },
    {
     "name": "stderr",
     "output_type": "stream",
     "text": [
      "C:\\Users\\ENES\\anaconda3\\lib\\site-packages\\xgboost\\core.py:90: UserWarning: ntree_limit is deprecated, use `iteration_range` or model slicing instead.\n",
      "  warnings.warn(\n"
     ]
    },
    {
     "name": "stdout",
     "output_type": "stream",
     "text": [
      "\n",
      "iteration: 454\n",
      "[0]\ttrain-auc:0.50000\teval-auc:0.50000\n",
      "[9]\ttrain-auc:0.50000\teval-auc:0.50000\n"
     ]
    },
    {
     "name": "stderr",
     "output_type": "stream",
     "text": [
      "C:\\Users\\ENES\\anaconda3\\lib\\site-packages\\xgboost\\core.py:90: UserWarning: ntree_limit is deprecated, use `iteration_range` or model slicing instead.\n",
      "  warnings.warn(\n"
     ]
    },
    {
     "name": "stdout",
     "output_type": "stream",
     "text": [
      "\n",
      "iteration: 455\n",
      "[0]\ttrain-auc:0.50000\teval-auc:0.50000\n",
      "[9]\ttrain-auc:0.50000\teval-auc:0.50000\n"
     ]
    },
    {
     "name": "stderr",
     "output_type": "stream",
     "text": [
      "C:\\Users\\ENES\\anaconda3\\lib\\site-packages\\xgboost\\core.py:90: UserWarning: ntree_limit is deprecated, use `iteration_range` or model slicing instead.\n",
      "  warnings.warn(\n"
     ]
    },
    {
     "name": "stdout",
     "output_type": "stream",
     "text": [
      "\n",
      "iteration: 456\n",
      "[0]\ttrain-auc:0.50000\teval-auc:0.50000\n",
      "[10]\ttrain-auc:0.50000\teval-auc:0.50000\n"
     ]
    },
    {
     "name": "stderr",
     "output_type": "stream",
     "text": [
      "C:\\Users\\ENES\\anaconda3\\lib\\site-packages\\xgboost\\core.py:90: UserWarning: ntree_limit is deprecated, use `iteration_range` or model slicing instead.\n",
      "  warnings.warn(\n"
     ]
    },
    {
     "name": "stdout",
     "output_type": "stream",
     "text": [
      "\n",
      "iteration: 457\n",
      "[0]\ttrain-auc:0.70541\teval-auc:0.49808\n",
      "[10]\ttrain-auc:0.70541\teval-auc:0.49808\n"
     ]
    },
    {
     "name": "stderr",
     "output_type": "stream",
     "text": [
      "C:\\Users\\ENES\\anaconda3\\lib\\site-packages\\xgboost\\core.py:90: UserWarning: ntree_limit is deprecated, use `iteration_range` or model slicing instead.\n",
      "  warnings.warn(\n"
     ]
    },
    {
     "name": "stdout",
     "output_type": "stream",
     "text": [
      "\n",
      "iteration: 458\n",
      "[0]\ttrain-auc:0.50000\teval-auc:0.50000\n",
      "[10]\ttrain-auc:0.50000\teval-auc:0.50000\n"
     ]
    },
    {
     "name": "stderr",
     "output_type": "stream",
     "text": [
      "C:\\Users\\ENES\\anaconda3\\lib\\site-packages\\xgboost\\core.py:90: UserWarning: ntree_limit is deprecated, use `iteration_range` or model slicing instead.\n",
      "  warnings.warn(\n"
     ]
    },
    {
     "name": "stdout",
     "output_type": "stream",
     "text": [
      "\n",
      "iteration: 459\n",
      "[0]\ttrain-auc:0.50000\teval-auc:0.50000\n",
      "[10]\ttrain-auc:0.50000\teval-auc:0.50000\n"
     ]
    },
    {
     "name": "stderr",
     "output_type": "stream",
     "text": [
      "C:\\Users\\ENES\\anaconda3\\lib\\site-packages\\xgboost\\core.py:90: UserWarning: ntree_limit is deprecated, use `iteration_range` or model slicing instead.\n",
      "  warnings.warn(\n"
     ]
    },
    {
     "name": "stdout",
     "output_type": "stream",
     "text": [
      "\n",
      "iteration: 460\n",
      "[0]\ttrain-auc:0.50000\teval-auc:0.50000\n",
      "[9]\ttrain-auc:0.50000\teval-auc:0.50000\n"
     ]
    },
    {
     "name": "stderr",
     "output_type": "stream",
     "text": [
      "C:\\Users\\ENES\\anaconda3\\lib\\site-packages\\xgboost\\core.py:90: UserWarning: ntree_limit is deprecated, use `iteration_range` or model slicing instead.\n",
      "  warnings.warn(\n"
     ]
    },
    {
     "name": "stdout",
     "output_type": "stream",
     "text": [
      "\n",
      "iteration: 461\n",
      "[0]\ttrain-auc:0.50000\teval-auc:0.50000\n",
      "[10]\ttrain-auc:0.50000\teval-auc:0.50000\n"
     ]
    },
    {
     "name": "stderr",
     "output_type": "stream",
     "text": [
      "C:\\Users\\ENES\\anaconda3\\lib\\site-packages\\xgboost\\core.py:90: UserWarning: ntree_limit is deprecated, use `iteration_range` or model slicing instead.\n",
      "  warnings.warn(\n"
     ]
    },
    {
     "name": "stdout",
     "output_type": "stream",
     "text": [
      "\n",
      "iteration: 462\n",
      "[0]\ttrain-auc:0.50000\teval-auc:0.50000\n",
      "[10]\ttrain-auc:0.50000\teval-auc:0.50000\n"
     ]
    },
    {
     "name": "stderr",
     "output_type": "stream",
     "text": [
      "C:\\Users\\ENES\\anaconda3\\lib\\site-packages\\xgboost\\core.py:90: UserWarning: ntree_limit is deprecated, use `iteration_range` or model slicing instead.\n",
      "  warnings.warn(\n"
     ]
    },
    {
     "name": "stdout",
     "output_type": "stream",
     "text": [
      "\n",
      "iteration: 463\n",
      "[0]\ttrain-auc:0.50000\teval-auc:0.50000\n",
      "[10]\ttrain-auc:0.50000\teval-auc:0.50000\n"
     ]
    },
    {
     "name": "stderr",
     "output_type": "stream",
     "text": [
      "C:\\Users\\ENES\\anaconda3\\lib\\site-packages\\xgboost\\core.py:90: UserWarning: ntree_limit is deprecated, use `iteration_range` or model slicing instead.\n",
      "  warnings.warn(\n"
     ]
    },
    {
     "name": "stdout",
     "output_type": "stream",
     "text": [
      "\n",
      "iteration: 464\n",
      "[0]\ttrain-auc:0.50000\teval-auc:0.50000\n",
      "[10]\ttrain-auc:0.50000\teval-auc:0.50000\n"
     ]
    },
    {
     "name": "stderr",
     "output_type": "stream",
     "text": [
      "C:\\Users\\ENES\\anaconda3\\lib\\site-packages\\xgboost\\core.py:90: UserWarning: ntree_limit is deprecated, use `iteration_range` or model slicing instead.\n",
      "  warnings.warn(\n"
     ]
    },
    {
     "name": "stdout",
     "output_type": "stream",
     "text": [
      "\n",
      "iteration: 465\n",
      "[0]\ttrain-auc:0.70541\teval-auc:0.49808\n",
      "[9]\ttrain-auc:0.70541\teval-auc:0.49808\n"
     ]
    },
    {
     "name": "stderr",
     "output_type": "stream",
     "text": [
      "C:\\Users\\ENES\\anaconda3\\lib\\site-packages\\xgboost\\core.py:90: UserWarning: ntree_limit is deprecated, use `iteration_range` or model slicing instead.\n",
      "  warnings.warn(\n"
     ]
    },
    {
     "name": "stdout",
     "output_type": "stream",
     "text": [
      "\n",
      "iteration: 466\n",
      "[0]\ttrain-auc:0.50000\teval-auc:0.50000\n",
      "[9]\ttrain-auc:0.50000\teval-auc:0.50000\n"
     ]
    },
    {
     "name": "stderr",
     "output_type": "stream",
     "text": [
      "C:\\Users\\ENES\\anaconda3\\lib\\site-packages\\xgboost\\core.py:90: UserWarning: ntree_limit is deprecated, use `iteration_range` or model slicing instead.\n",
      "  warnings.warn(\n"
     ]
    },
    {
     "name": "stdout",
     "output_type": "stream",
     "text": [
      "\n",
      "iteration: 467\n",
      "[0]\ttrain-auc:0.50000\teval-auc:0.50000\n",
      "[10]\ttrain-auc:0.50000\teval-auc:0.50000\n"
     ]
    },
    {
     "name": "stderr",
     "output_type": "stream",
     "text": [
      "C:\\Users\\ENES\\anaconda3\\lib\\site-packages\\xgboost\\core.py:90: UserWarning: ntree_limit is deprecated, use `iteration_range` or model slicing instead.\n",
      "  warnings.warn(\n"
     ]
    },
    {
     "name": "stdout",
     "output_type": "stream",
     "text": [
      "\n",
      "iteration: 468\n",
      "[0]\ttrain-auc:0.50000\teval-auc:0.50000\n",
      "[10]\ttrain-auc:0.50000\teval-auc:0.50000\n"
     ]
    },
    {
     "name": "stderr",
     "output_type": "stream",
     "text": [
      "C:\\Users\\ENES\\anaconda3\\lib\\site-packages\\xgboost\\core.py:90: UserWarning: ntree_limit is deprecated, use `iteration_range` or model slicing instead.\n",
      "  warnings.warn(\n"
     ]
    },
    {
     "name": "stdout",
     "output_type": "stream",
     "text": [
      "\n",
      "iteration: 469\n",
      "[0]\ttrain-auc:0.50000\teval-auc:0.50000\n",
      "[9]\ttrain-auc:0.50000\teval-auc:0.50000\n"
     ]
    },
    {
     "name": "stderr",
     "output_type": "stream",
     "text": [
      "C:\\Users\\ENES\\anaconda3\\lib\\site-packages\\xgboost\\core.py:90: UserWarning: ntree_limit is deprecated, use `iteration_range` or model slicing instead.\n",
      "  warnings.warn(\n"
     ]
    },
    {
     "name": "stdout",
     "output_type": "stream",
     "text": [
      "\n",
      "iteration: 470\n",
      "[0]\ttrain-auc:0.50000\teval-auc:0.50000\n",
      "[9]\ttrain-auc:0.50000\teval-auc:0.50000\n"
     ]
    },
    {
     "name": "stderr",
     "output_type": "stream",
     "text": [
      "C:\\Users\\ENES\\anaconda3\\lib\\site-packages\\xgboost\\core.py:90: UserWarning: ntree_limit is deprecated, use `iteration_range` or model slicing instead.\n",
      "  warnings.warn(\n"
     ]
    },
    {
     "name": "stdout",
     "output_type": "stream",
     "text": [
      "\n",
      "iteration: 471\n",
      "[0]\ttrain-auc:0.50000\teval-auc:0.50000\n",
      "[10]\ttrain-auc:0.50000\teval-auc:0.50000\n"
     ]
    },
    {
     "name": "stderr",
     "output_type": "stream",
     "text": [
      "C:\\Users\\ENES\\anaconda3\\lib\\site-packages\\xgboost\\core.py:90: UserWarning: ntree_limit is deprecated, use `iteration_range` or model slicing instead.\n",
      "  warnings.warn(\n"
     ]
    },
    {
     "name": "stdout",
     "output_type": "stream",
     "text": [
      "\n",
      "iteration: 472\n",
      "[0]\ttrain-auc:0.50000\teval-auc:0.50000\n",
      "[10]\ttrain-auc:0.50000\teval-auc:0.50000\n"
     ]
    },
    {
     "name": "stderr",
     "output_type": "stream",
     "text": [
      "C:\\Users\\ENES\\anaconda3\\lib\\site-packages\\xgboost\\core.py:90: UserWarning: ntree_limit is deprecated, use `iteration_range` or model slicing instead.\n",
      "  warnings.warn(\n"
     ]
    },
    {
     "name": "stdout",
     "output_type": "stream",
     "text": [
      "\n",
      "iteration: 473\n",
      "[0]\ttrain-auc:0.50000\teval-auc:0.50000\n",
      "[9]\ttrain-auc:0.50000\teval-auc:0.50000\n"
     ]
    },
    {
     "name": "stderr",
     "output_type": "stream",
     "text": [
      "C:\\Users\\ENES\\anaconda3\\lib\\site-packages\\xgboost\\core.py:90: UserWarning: ntree_limit is deprecated, use `iteration_range` or model slicing instead.\n",
      "  warnings.warn(\n"
     ]
    },
    {
     "name": "stdout",
     "output_type": "stream",
     "text": [
      "\n",
      "iteration: 474\n",
      "[0]\ttrain-auc:0.50000\teval-auc:0.50000\n",
      "[10]\ttrain-auc:0.50000\teval-auc:0.50000\n"
     ]
    },
    {
     "name": "stderr",
     "output_type": "stream",
     "text": [
      "C:\\Users\\ENES\\anaconda3\\lib\\site-packages\\xgboost\\core.py:90: UserWarning: ntree_limit is deprecated, use `iteration_range` or model slicing instead.\n",
      "  warnings.warn(\n"
     ]
    },
    {
     "name": "stdout",
     "output_type": "stream",
     "text": [
      "\n",
      "iteration: 475\n",
      "[0]\ttrain-auc:0.50000\teval-auc:0.50000\n",
      "[10]\ttrain-auc:0.50000\teval-auc:0.50000\n"
     ]
    },
    {
     "name": "stderr",
     "output_type": "stream",
     "text": [
      "C:\\Users\\ENES\\anaconda3\\lib\\site-packages\\xgboost\\core.py:90: UserWarning: ntree_limit is deprecated, use `iteration_range` or model slicing instead.\n",
      "  warnings.warn(\n"
     ]
    },
    {
     "name": "stdout",
     "output_type": "stream",
     "text": [
      "\n",
      "iteration: 476\n",
      "[0]\ttrain-auc:0.50000\teval-auc:0.50000\n",
      "[10]\ttrain-auc:0.50000\teval-auc:0.50000\n"
     ]
    },
    {
     "name": "stderr",
     "output_type": "stream",
     "text": [
      "C:\\Users\\ENES\\anaconda3\\lib\\site-packages\\xgboost\\core.py:90: UserWarning: ntree_limit is deprecated, use `iteration_range` or model slicing instead.\n",
      "  warnings.warn(\n"
     ]
    },
    {
     "name": "stdout",
     "output_type": "stream",
     "text": [
      "\n",
      "iteration: 477\n",
      "[0]\ttrain-auc:0.50000\teval-auc:0.50000\n",
      "[10]\ttrain-auc:0.50000\teval-auc:0.50000\n"
     ]
    },
    {
     "name": "stderr",
     "output_type": "stream",
     "text": [
      "C:\\Users\\ENES\\anaconda3\\lib\\site-packages\\xgboost\\core.py:90: UserWarning: ntree_limit is deprecated, use `iteration_range` or model slicing instead.\n",
      "  warnings.warn(\n"
     ]
    },
    {
     "name": "stdout",
     "output_type": "stream",
     "text": [
      "\n",
      "iteration: 478\n",
      "[0]\ttrain-auc:0.50000\teval-auc:0.50000\n",
      "[10]\ttrain-auc:0.50000\teval-auc:0.50000\n"
     ]
    },
    {
     "name": "stderr",
     "output_type": "stream",
     "text": [
      "C:\\Users\\ENES\\anaconda3\\lib\\site-packages\\xgboost\\core.py:90: UserWarning: ntree_limit is deprecated, use `iteration_range` or model slicing instead.\n",
      "  warnings.warn(\n"
     ]
    },
    {
     "name": "stdout",
     "output_type": "stream",
     "text": [
      "\n",
      "iteration: 479\n",
      "[0]\ttrain-auc:0.50000\teval-auc:0.50000\n",
      "[9]\ttrain-auc:0.50000\teval-auc:0.50000\n"
     ]
    },
    {
     "name": "stderr",
     "output_type": "stream",
     "text": [
      "C:\\Users\\ENES\\anaconda3\\lib\\site-packages\\xgboost\\core.py:90: UserWarning: ntree_limit is deprecated, use `iteration_range` or model slicing instead.\n",
      "  warnings.warn(\n"
     ]
    },
    {
     "name": "stdout",
     "output_type": "stream",
     "text": [
      "\n",
      "iteration: 480\n",
      "[0]\ttrain-auc:0.50000\teval-auc:0.50000\n",
      "[9]\ttrain-auc:0.50000\teval-auc:0.50000\n"
     ]
    },
    {
     "name": "stderr",
     "output_type": "stream",
     "text": [
      "C:\\Users\\ENES\\anaconda3\\lib\\site-packages\\xgboost\\core.py:90: UserWarning: ntree_limit is deprecated, use `iteration_range` or model slicing instead.\n",
      "  warnings.warn(\n"
     ]
    },
    {
     "name": "stdout",
     "output_type": "stream",
     "text": [
      "\n",
      "iteration: 481\n",
      "[0]\ttrain-auc:0.70541\teval-auc:0.49808\n",
      "[10]\ttrain-auc:0.70541\teval-auc:0.49808\n"
     ]
    },
    {
     "name": "stderr",
     "output_type": "stream",
     "text": [
      "C:\\Users\\ENES\\anaconda3\\lib\\site-packages\\xgboost\\core.py:90: UserWarning: ntree_limit is deprecated, use `iteration_range` or model slicing instead.\n",
      "  warnings.warn(\n"
     ]
    },
    {
     "name": "stdout",
     "output_type": "stream",
     "text": [
      "\n",
      "iteration: 482\n",
      "[0]\ttrain-auc:0.50000\teval-auc:0.50000\n",
      "[9]\ttrain-auc:0.50000\teval-auc:0.50000\n"
     ]
    },
    {
     "name": "stderr",
     "output_type": "stream",
     "text": [
      "C:\\Users\\ENES\\anaconda3\\lib\\site-packages\\xgboost\\core.py:90: UserWarning: ntree_limit is deprecated, use `iteration_range` or model slicing instead.\n",
      "  warnings.warn(\n"
     ]
    },
    {
     "name": "stdout",
     "output_type": "stream",
     "text": [
      "\n",
      "iteration: 483\n",
      "[0]\ttrain-auc:0.50000\teval-auc:0.50000\n",
      "[10]\ttrain-auc:0.50000\teval-auc:0.50000\n"
     ]
    },
    {
     "name": "stderr",
     "output_type": "stream",
     "text": [
      "C:\\Users\\ENES\\anaconda3\\lib\\site-packages\\xgboost\\core.py:90: UserWarning: ntree_limit is deprecated, use `iteration_range` or model slicing instead.\n",
      "  warnings.warn(\n"
     ]
    },
    {
     "name": "stdout",
     "output_type": "stream",
     "text": [
      "\n",
      "iteration: 484\n",
      "[0]\ttrain-auc:0.50000\teval-auc:0.50000\n",
      "[9]\ttrain-auc:0.50000\teval-auc:0.50000\n"
     ]
    },
    {
     "name": "stderr",
     "output_type": "stream",
     "text": [
      "C:\\Users\\ENES\\anaconda3\\lib\\site-packages\\xgboost\\core.py:90: UserWarning: ntree_limit is deprecated, use `iteration_range` or model slicing instead.\n",
      "  warnings.warn(\n"
     ]
    },
    {
     "name": "stdout",
     "output_type": "stream",
     "text": [
      "\n",
      "iteration: 485\n",
      "[0]\ttrain-auc:0.50000\teval-auc:0.50000\n",
      "[10]\ttrain-auc:0.50000\teval-auc:0.50000\n"
     ]
    },
    {
     "name": "stderr",
     "output_type": "stream",
     "text": [
      "C:\\Users\\ENES\\anaconda3\\lib\\site-packages\\xgboost\\core.py:90: UserWarning: ntree_limit is deprecated, use `iteration_range` or model slicing instead.\n",
      "  warnings.warn(\n"
     ]
    },
    {
     "name": "stdout",
     "output_type": "stream",
     "text": [
      "\n",
      "iteration: 486\n",
      "[0]\ttrain-auc:0.50000\teval-auc:0.50000\n",
      "[9]\ttrain-auc:0.50000\teval-auc:0.50000\n"
     ]
    },
    {
     "name": "stderr",
     "output_type": "stream",
     "text": [
      "C:\\Users\\ENES\\anaconda3\\lib\\site-packages\\xgboost\\core.py:90: UserWarning: ntree_limit is deprecated, use `iteration_range` or model slicing instead.\n",
      "  warnings.warn(\n"
     ]
    },
    {
     "name": "stdout",
     "output_type": "stream",
     "text": [
      "\n",
      "iteration: 487\n",
      "[0]\ttrain-auc:0.50000\teval-auc:0.50000\n",
      "[10]\ttrain-auc:0.50000\teval-auc:0.50000\n"
     ]
    },
    {
     "name": "stderr",
     "output_type": "stream",
     "text": [
      "C:\\Users\\ENES\\anaconda3\\lib\\site-packages\\xgboost\\core.py:90: UserWarning: ntree_limit is deprecated, use `iteration_range` or model slicing instead.\n",
      "  warnings.warn(\n"
     ]
    },
    {
     "name": "stdout",
     "output_type": "stream",
     "text": [
      "\n",
      "iteration: 488\n",
      "[0]\ttrain-auc:0.50000\teval-auc:0.50000\n",
      "[9]\ttrain-auc:0.50000\teval-auc:0.50000\n"
     ]
    },
    {
     "name": "stderr",
     "output_type": "stream",
     "text": [
      "C:\\Users\\ENES\\anaconda3\\lib\\site-packages\\xgboost\\core.py:90: UserWarning: ntree_limit is deprecated, use `iteration_range` or model slicing instead.\n",
      "  warnings.warn(\n"
     ]
    },
    {
     "name": "stdout",
     "output_type": "stream",
     "text": [
      "\n",
      "iteration: 489\n",
      "[0]\ttrain-auc:0.70541\teval-auc:0.49808\n",
      "[9]\ttrain-auc:0.70541\teval-auc:0.49808\n"
     ]
    },
    {
     "name": "stderr",
     "output_type": "stream",
     "text": [
      "C:\\Users\\ENES\\anaconda3\\lib\\site-packages\\xgboost\\core.py:90: UserWarning: ntree_limit is deprecated, use `iteration_range` or model slicing instead.\n",
      "  warnings.warn(\n"
     ]
    },
    {
     "name": "stdout",
     "output_type": "stream",
     "text": [
      "\n",
      "iteration: 490\n",
      "[0]\ttrain-auc:0.50000\teval-auc:0.50000\n",
      "[10]\ttrain-auc:0.50000\teval-auc:0.50000\n"
     ]
    },
    {
     "name": "stderr",
     "output_type": "stream",
     "text": [
      "C:\\Users\\ENES\\anaconda3\\lib\\site-packages\\xgboost\\core.py:90: UserWarning: ntree_limit is deprecated, use `iteration_range` or model slicing instead.\n",
      "  warnings.warn(\n"
     ]
    },
    {
     "name": "stdout",
     "output_type": "stream",
     "text": [
      "\n",
      "iteration: 491\n",
      "[0]\ttrain-auc:0.50000\teval-auc:0.50000\n",
      "[10]\ttrain-auc:0.50000\teval-auc:0.50000\n"
     ]
    },
    {
     "name": "stderr",
     "output_type": "stream",
     "text": [
      "C:\\Users\\ENES\\anaconda3\\lib\\site-packages\\xgboost\\core.py:90: UserWarning: ntree_limit is deprecated, use `iteration_range` or model slicing instead.\n",
      "  warnings.warn(\n"
     ]
    },
    {
     "name": "stdout",
     "output_type": "stream",
     "text": [
      "\n",
      "iteration: 492\n",
      "[0]\ttrain-auc:0.50000\teval-auc:0.50000\n",
      "[9]\ttrain-auc:0.50000\teval-auc:0.50000\n"
     ]
    },
    {
     "name": "stderr",
     "output_type": "stream",
     "text": [
      "C:\\Users\\ENES\\anaconda3\\lib\\site-packages\\xgboost\\core.py:90: UserWarning: ntree_limit is deprecated, use `iteration_range` or model slicing instead.\n",
      "  warnings.warn(\n"
     ]
    },
    {
     "name": "stdout",
     "output_type": "stream",
     "text": [
      "\n",
      "iteration: 493\n",
      "[0]\ttrain-auc:0.50000\teval-auc:0.50000\n",
      "[10]\ttrain-auc:0.50000\teval-auc:0.50000\n"
     ]
    },
    {
     "name": "stderr",
     "output_type": "stream",
     "text": [
      "C:\\Users\\ENES\\anaconda3\\lib\\site-packages\\xgboost\\core.py:90: UserWarning: ntree_limit is deprecated, use `iteration_range` or model slicing instead.\n",
      "  warnings.warn(\n"
     ]
    },
    {
     "name": "stdout",
     "output_type": "stream",
     "text": [
      "\n",
      "iteration: 494\n",
      "[0]\ttrain-auc:0.50000\teval-auc:0.50000\n",
      "[9]\ttrain-auc:0.50000\teval-auc:0.50000\n"
     ]
    },
    {
     "name": "stderr",
     "output_type": "stream",
     "text": [
      "C:\\Users\\ENES\\anaconda3\\lib\\site-packages\\xgboost\\core.py:90: UserWarning: ntree_limit is deprecated, use `iteration_range` or model slicing instead.\n",
      "  warnings.warn(\n"
     ]
    },
    {
     "name": "stdout",
     "output_type": "stream",
     "text": [
      "\n",
      "iteration: 495\n",
      "[0]\ttrain-auc:0.50000\teval-auc:0.50000\n",
      "[10]\ttrain-auc:0.50000\teval-auc:0.50000\n"
     ]
    },
    {
     "name": "stderr",
     "output_type": "stream",
     "text": [
      "C:\\Users\\ENES\\anaconda3\\lib\\site-packages\\xgboost\\core.py:90: UserWarning: ntree_limit is deprecated, use `iteration_range` or model slicing instead.\n",
      "  warnings.warn(\n"
     ]
    },
    {
     "name": "stdout",
     "output_type": "stream",
     "text": [
      "\n",
      "iteration: 496\n",
      "[0]\ttrain-auc:0.50000\teval-auc:0.50000\n",
      "[9]\ttrain-auc:0.50000\teval-auc:0.50000\n"
     ]
    },
    {
     "name": "stderr",
     "output_type": "stream",
     "text": [
      "C:\\Users\\ENES\\anaconda3\\lib\\site-packages\\xgboost\\core.py:90: UserWarning: ntree_limit is deprecated, use `iteration_range` or model slicing instead.\n",
      "  warnings.warn(\n"
     ]
    },
    {
     "name": "stdout",
     "output_type": "stream",
     "text": [
      "\n",
      "iteration: 497\n",
      "[0]\ttrain-auc:0.70541\teval-auc:0.49808\n",
      "[10]\ttrain-auc:0.70541\teval-auc:0.49808\n"
     ]
    },
    {
     "name": "stderr",
     "output_type": "stream",
     "text": [
      "C:\\Users\\ENES\\anaconda3\\lib\\site-packages\\xgboost\\core.py:90: UserWarning: ntree_limit is deprecated, use `iteration_range` or model slicing instead.\n",
      "  warnings.warn(\n"
     ]
    },
    {
     "name": "stdout",
     "output_type": "stream",
     "text": [
      "\n",
      "iteration: 498\n",
      "[0]\ttrain-auc:0.50000\teval-auc:0.50000\n",
      "[10]\ttrain-auc:0.50000\teval-auc:0.50000\n"
     ]
    },
    {
     "name": "stderr",
     "output_type": "stream",
     "text": [
      "C:\\Users\\ENES\\anaconda3\\lib\\site-packages\\xgboost\\core.py:90: UserWarning: ntree_limit is deprecated, use `iteration_range` or model slicing instead.\n",
      "  warnings.warn(\n"
     ]
    },
    {
     "name": "stdout",
     "output_type": "stream",
     "text": [
      "\n",
      "iteration: 499\n",
      "[0]\ttrain-auc:0.50000\teval-auc:0.50000\n",
      "[10]\ttrain-auc:0.50000\teval-auc:0.50000\n"
     ]
    },
    {
     "name": "stderr",
     "output_type": "stream",
     "text": [
      "C:\\Users\\ENES\\anaconda3\\lib\\site-packages\\xgboost\\core.py:90: UserWarning: ntree_limit is deprecated, use `iteration_range` or model slicing instead.\n",
      "  warnings.warn(\n"
     ]
    },
    {
     "name": "stdout",
     "output_type": "stream",
     "text": [
      "\n",
      "iteration: 500\n",
      "[0]\ttrain-auc:0.50000\teval-auc:0.50000\n",
      "[10]\ttrain-auc:0.50000\teval-auc:0.50000\n"
     ]
    },
    {
     "name": "stderr",
     "output_type": "stream",
     "text": [
      "C:\\Users\\ENES\\anaconda3\\lib\\site-packages\\xgboost\\core.py:90: UserWarning: ntree_limit is deprecated, use `iteration_range` or model slicing instead.\n",
      "  warnings.warn(\n"
     ]
    },
    {
     "name": "stdout",
     "output_type": "stream",
     "text": [
      "\n",
      "iteration: 501\n",
      "[0]\ttrain-auc:0.50000\teval-auc:0.50000\n",
      "[9]\ttrain-auc:0.50000\teval-auc:0.50000\n"
     ]
    },
    {
     "name": "stderr",
     "output_type": "stream",
     "text": [
      "C:\\Users\\ENES\\anaconda3\\lib\\site-packages\\xgboost\\core.py:90: UserWarning: ntree_limit is deprecated, use `iteration_range` or model slicing instead.\n",
      "  warnings.warn(\n"
     ]
    },
    {
     "name": "stdout",
     "output_type": "stream",
     "text": [
      "\n",
      "iteration: 502\n",
      "[0]\ttrain-auc:0.50000\teval-auc:0.50000\n",
      "[10]\ttrain-auc:0.50000\teval-auc:0.50000\n"
     ]
    },
    {
     "name": "stderr",
     "output_type": "stream",
     "text": [
      "C:\\Users\\ENES\\anaconda3\\lib\\site-packages\\xgboost\\core.py:90: UserWarning: ntree_limit is deprecated, use `iteration_range` or model slicing instead.\n",
      "  warnings.warn(\n"
     ]
    },
    {
     "name": "stdout",
     "output_type": "stream",
     "text": [
      "\n",
      "iteration: 503\n",
      "[0]\ttrain-auc:0.50000\teval-auc:0.50000\n",
      "[10]\ttrain-auc:0.50000\teval-auc:0.50000\n"
     ]
    },
    {
     "name": "stderr",
     "output_type": "stream",
     "text": [
      "C:\\Users\\ENES\\anaconda3\\lib\\site-packages\\xgboost\\core.py:90: UserWarning: ntree_limit is deprecated, use `iteration_range` or model slicing instead.\n",
      "  warnings.warn(\n"
     ]
    },
    {
     "name": "stdout",
     "output_type": "stream",
     "text": [
      "\n",
      "iteration: 504\n",
      "[0]\ttrain-auc:0.50000\teval-auc:0.50000\n",
      "[10]\ttrain-auc:0.50000\teval-auc:0.50000\n"
     ]
    },
    {
     "name": "stderr",
     "output_type": "stream",
     "text": [
      "C:\\Users\\ENES\\anaconda3\\lib\\site-packages\\xgboost\\core.py:90: UserWarning: ntree_limit is deprecated, use `iteration_range` or model slicing instead.\n",
      "  warnings.warn(\n"
     ]
    },
    {
     "name": "stdout",
     "output_type": "stream",
     "text": [
      "\n",
      "iteration: 505\n",
      "[0]\ttrain-auc:0.70541\teval-auc:0.49808\n",
      "[9]\ttrain-auc:0.70541\teval-auc:0.49808\n"
     ]
    },
    {
     "name": "stderr",
     "output_type": "stream",
     "text": [
      "C:\\Users\\ENES\\anaconda3\\lib\\site-packages\\xgboost\\core.py:90: UserWarning: ntree_limit is deprecated, use `iteration_range` or model slicing instead.\n",
      "  warnings.warn(\n"
     ]
    },
    {
     "name": "stdout",
     "output_type": "stream",
     "text": [
      "\n",
      "iteration: 506\n",
      "[0]\ttrain-auc:0.50000\teval-auc:0.50000\n",
      "[10]\ttrain-auc:0.50000\teval-auc:0.50000\n"
     ]
    },
    {
     "name": "stderr",
     "output_type": "stream",
     "text": [
      "C:\\Users\\ENES\\anaconda3\\lib\\site-packages\\xgboost\\core.py:90: UserWarning: ntree_limit is deprecated, use `iteration_range` or model slicing instead.\n",
      "  warnings.warn(\n"
     ]
    },
    {
     "name": "stdout",
     "output_type": "stream",
     "text": [
      "\n",
      "iteration: 507\n",
      "[0]\ttrain-auc:0.50000\teval-auc:0.50000\n",
      "[10]\ttrain-auc:0.50000\teval-auc:0.50000\n"
     ]
    },
    {
     "name": "stderr",
     "output_type": "stream",
     "text": [
      "C:\\Users\\ENES\\anaconda3\\lib\\site-packages\\xgboost\\core.py:90: UserWarning: ntree_limit is deprecated, use `iteration_range` or model slicing instead.\n",
      "  warnings.warn(\n"
     ]
    },
    {
     "name": "stdout",
     "output_type": "stream",
     "text": [
      "\n",
      "iteration: 508\n",
      "[0]\ttrain-auc:0.50000\teval-auc:0.50000\n",
      "[9]\ttrain-auc:0.50000\teval-auc:0.50000\n"
     ]
    },
    {
     "name": "stderr",
     "output_type": "stream",
     "text": [
      "C:\\Users\\ENES\\anaconda3\\lib\\site-packages\\xgboost\\core.py:90: UserWarning: ntree_limit is deprecated, use `iteration_range` or model slicing instead.\n",
      "  warnings.warn(\n"
     ]
    },
    {
     "name": "stdout",
     "output_type": "stream",
     "text": [
      "\n",
      "iteration: 509\n",
      "[0]\ttrain-auc:0.50000\teval-auc:0.50000\n",
      "[10]\ttrain-auc:0.50000\teval-auc:0.50000\n"
     ]
    },
    {
     "name": "stderr",
     "output_type": "stream",
     "text": [
      "C:\\Users\\ENES\\anaconda3\\lib\\site-packages\\xgboost\\core.py:90: UserWarning: ntree_limit is deprecated, use `iteration_range` or model slicing instead.\n",
      "  warnings.warn(\n"
     ]
    },
    {
     "name": "stdout",
     "output_type": "stream",
     "text": [
      "\n",
      "iteration: 510\n",
      "[0]\ttrain-auc:0.50000\teval-auc:0.50000\n",
      "[10]\ttrain-auc:0.50000\teval-auc:0.50000\n"
     ]
    },
    {
     "name": "stderr",
     "output_type": "stream",
     "text": [
      "C:\\Users\\ENES\\anaconda3\\lib\\site-packages\\xgboost\\core.py:90: UserWarning: ntree_limit is deprecated, use `iteration_range` or model slicing instead.\n",
      "  warnings.warn(\n"
     ]
    },
    {
     "name": "stdout",
     "output_type": "stream",
     "text": [
      "\n",
      "iteration: 511\n",
      "[0]\ttrain-auc:0.50000\teval-auc:0.50000\n",
      "[10]\ttrain-auc:0.50000\teval-auc:0.50000\n"
     ]
    },
    {
     "name": "stderr",
     "output_type": "stream",
     "text": [
      "C:\\Users\\ENES\\anaconda3\\lib\\site-packages\\xgboost\\core.py:90: UserWarning: ntree_limit is deprecated, use `iteration_range` or model slicing instead.\n",
      "  warnings.warn(\n"
     ]
    },
    {
     "name": "stdout",
     "output_type": "stream",
     "text": [
      "\n",
      "iteration: 512\n",
      "[0]\ttrain-auc:0.50000\teval-auc:0.50000\n",
      "[10]\ttrain-auc:0.50000\teval-auc:0.50000\n"
     ]
    },
    {
     "name": "stderr",
     "output_type": "stream",
     "text": [
      "C:\\Users\\ENES\\anaconda3\\lib\\site-packages\\xgboost\\core.py:90: UserWarning: ntree_limit is deprecated, use `iteration_range` or model slicing instead.\n",
      "  warnings.warn(\n"
     ]
    },
    {
     "name": "stdout",
     "output_type": "stream",
     "text": [
      "\n",
      "iteration: 513\n",
      "[0]\ttrain-auc:0.70541\teval-auc:0.49808\n",
      "[10]\ttrain-auc:0.70541\teval-auc:0.49808\n"
     ]
    },
    {
     "name": "stderr",
     "output_type": "stream",
     "text": [
      "C:\\Users\\ENES\\anaconda3\\lib\\site-packages\\xgboost\\core.py:90: UserWarning: ntree_limit is deprecated, use `iteration_range` or model slicing instead.\n",
      "  warnings.warn(\n"
     ]
    },
    {
     "name": "stdout",
     "output_type": "stream",
     "text": [
      "\n",
      "iteration: 514\n",
      "[0]\ttrain-auc:0.50000\teval-auc:0.50000\n",
      "[10]\ttrain-auc:0.50000\teval-auc:0.50000\n"
     ]
    },
    {
     "name": "stderr",
     "output_type": "stream",
     "text": [
      "C:\\Users\\ENES\\anaconda3\\lib\\site-packages\\xgboost\\core.py:90: UserWarning: ntree_limit is deprecated, use `iteration_range` or model slicing instead.\n",
      "  warnings.warn(\n"
     ]
    },
    {
     "name": "stdout",
     "output_type": "stream",
     "text": [
      "\n",
      "iteration: 515\n",
      "[0]\ttrain-auc:0.50000\teval-auc:0.50000\n",
      "[10]\ttrain-auc:0.50000\teval-auc:0.50000\n"
     ]
    },
    {
     "name": "stderr",
     "output_type": "stream",
     "text": [
      "C:\\Users\\ENES\\anaconda3\\lib\\site-packages\\xgboost\\core.py:90: UserWarning: ntree_limit is deprecated, use `iteration_range` or model slicing instead.\n",
      "  warnings.warn(\n"
     ]
    },
    {
     "name": "stdout",
     "output_type": "stream",
     "text": [
      "\n",
      "iteration: 516\n",
      "[0]\ttrain-auc:0.50000\teval-auc:0.50000\n",
      "[9]\ttrain-auc:0.50000\teval-auc:0.50000\n"
     ]
    },
    {
     "name": "stderr",
     "output_type": "stream",
     "text": [
      "C:\\Users\\ENES\\anaconda3\\lib\\site-packages\\xgboost\\core.py:90: UserWarning: ntree_limit is deprecated, use `iteration_range` or model slicing instead.\n",
      "  warnings.warn(\n"
     ]
    },
    {
     "name": "stdout",
     "output_type": "stream",
     "text": [
      "\n",
      "iteration: 517\n",
      "[0]\ttrain-auc:0.50000\teval-auc:0.50000\n",
      "[10]\ttrain-auc:0.50000\teval-auc:0.50000\n"
     ]
    },
    {
     "name": "stderr",
     "output_type": "stream",
     "text": [
      "C:\\Users\\ENES\\anaconda3\\lib\\site-packages\\xgboost\\core.py:90: UserWarning: ntree_limit is deprecated, use `iteration_range` or model slicing instead.\n",
      "  warnings.warn(\n"
     ]
    },
    {
     "name": "stdout",
     "output_type": "stream",
     "text": [
      "\n",
      "iteration: 518\n",
      "[0]\ttrain-auc:0.50000\teval-auc:0.50000\n",
      "[10]\ttrain-auc:0.50000\teval-auc:0.50000\n"
     ]
    },
    {
     "name": "stderr",
     "output_type": "stream",
     "text": [
      "C:\\Users\\ENES\\anaconda3\\lib\\site-packages\\xgboost\\core.py:90: UserWarning: ntree_limit is deprecated, use `iteration_range` or model slicing instead.\n",
      "  warnings.warn(\n"
     ]
    },
    {
     "name": "stdout",
     "output_type": "stream",
     "text": [
      "\n",
      "iteration: 519\n",
      "[0]\ttrain-auc:0.50000\teval-auc:0.50000\n",
      "[9]\ttrain-auc:0.50000\teval-auc:0.50000\n"
     ]
    },
    {
     "name": "stderr",
     "output_type": "stream",
     "text": [
      "C:\\Users\\ENES\\anaconda3\\lib\\site-packages\\xgboost\\core.py:90: UserWarning: ntree_limit is deprecated, use `iteration_range` or model slicing instead.\n",
      "  warnings.warn(\n"
     ]
    },
    {
     "name": "stdout",
     "output_type": "stream",
     "text": [
      "\n",
      "iteration: 520\n",
      "[0]\ttrain-auc:0.50000\teval-auc:0.50000\n",
      "[10]\ttrain-auc:0.50000\teval-auc:0.50000\n"
     ]
    },
    {
     "name": "stderr",
     "output_type": "stream",
     "text": [
      "C:\\Users\\ENES\\anaconda3\\lib\\site-packages\\xgboost\\core.py:90: UserWarning: ntree_limit is deprecated, use `iteration_range` or model slicing instead.\n",
      "  warnings.warn(\n"
     ]
    },
    {
     "name": "stdout",
     "output_type": "stream",
     "text": [
      "\n",
      "iteration: 521\n",
      "[0]\ttrain-auc:0.50000\teval-auc:0.50000\n",
      "[10]\ttrain-auc:0.50000\teval-auc:0.50000\n"
     ]
    },
    {
     "name": "stderr",
     "output_type": "stream",
     "text": [
      "C:\\Users\\ENES\\anaconda3\\lib\\site-packages\\xgboost\\core.py:90: UserWarning: ntree_limit is deprecated, use `iteration_range` or model slicing instead.\n",
      "  warnings.warn(\n"
     ]
    },
    {
     "name": "stdout",
     "output_type": "stream",
     "text": [
      "\n",
      "iteration: 522\n",
      "[0]\ttrain-auc:0.50000\teval-auc:0.50000\n",
      "[9]\ttrain-auc:0.50000\teval-auc:0.50000\n"
     ]
    },
    {
     "name": "stderr",
     "output_type": "stream",
     "text": [
      "C:\\Users\\ENES\\anaconda3\\lib\\site-packages\\xgboost\\core.py:90: UserWarning: ntree_limit is deprecated, use `iteration_range` or model slicing instead.\n",
      "  warnings.warn(\n"
     ]
    },
    {
     "name": "stdout",
     "output_type": "stream",
     "text": [
      "\n",
      "iteration: 523\n",
      "[0]\ttrain-auc:0.50000\teval-auc:0.50000\n",
      "[9]\ttrain-auc:0.50000\teval-auc:0.50000\n"
     ]
    },
    {
     "name": "stderr",
     "output_type": "stream",
     "text": [
      "C:\\Users\\ENES\\anaconda3\\lib\\site-packages\\xgboost\\core.py:90: UserWarning: ntree_limit is deprecated, use `iteration_range` or model slicing instead.\n",
      "  warnings.warn(\n"
     ]
    },
    {
     "name": "stdout",
     "output_type": "stream",
     "text": [
      "\n",
      "iteration: 524\n",
      "[0]\ttrain-auc:0.50000\teval-auc:0.50000\n",
      "[9]\ttrain-auc:0.50000\teval-auc:0.50000\n"
     ]
    },
    {
     "name": "stderr",
     "output_type": "stream",
     "text": [
      "C:\\Users\\ENES\\anaconda3\\lib\\site-packages\\xgboost\\core.py:90: UserWarning: ntree_limit is deprecated, use `iteration_range` or model slicing instead.\n",
      "  warnings.warn(\n"
     ]
    },
    {
     "name": "stdout",
     "output_type": "stream",
     "text": [
      "\n",
      "iteration: 525\n",
      "[0]\ttrain-auc:0.50000\teval-auc:0.50000\n",
      "[10]\ttrain-auc:0.50000\teval-auc:0.50000\n"
     ]
    },
    {
     "name": "stderr",
     "output_type": "stream",
     "text": [
      "C:\\Users\\ENES\\anaconda3\\lib\\site-packages\\xgboost\\core.py:90: UserWarning: ntree_limit is deprecated, use `iteration_range` or model slicing instead.\n",
      "  warnings.warn(\n"
     ]
    },
    {
     "name": "stdout",
     "output_type": "stream",
     "text": [
      "\n",
      "iteration: 526\n",
      "[0]\ttrain-auc:0.50000\teval-auc:0.50000\n",
      "[9]\ttrain-auc:0.50000\teval-auc:0.50000\n"
     ]
    },
    {
     "name": "stderr",
     "output_type": "stream",
     "text": [
      "C:\\Users\\ENES\\anaconda3\\lib\\site-packages\\xgboost\\core.py:90: UserWarning: ntree_limit is deprecated, use `iteration_range` or model slicing instead.\n",
      "  warnings.warn(\n"
     ]
    },
    {
     "name": "stdout",
     "output_type": "stream",
     "text": [
      "\n",
      "iteration: 527\n",
      "[0]\ttrain-auc:0.50000\teval-auc:0.50000\n",
      "[10]\ttrain-auc:0.50000\teval-auc:0.50000\n"
     ]
    },
    {
     "name": "stderr",
     "output_type": "stream",
     "text": [
      "C:\\Users\\ENES\\anaconda3\\lib\\site-packages\\xgboost\\core.py:90: UserWarning: ntree_limit is deprecated, use `iteration_range` or model slicing instead.\n",
      "  warnings.warn(\n"
     ]
    },
    {
     "name": "stdout",
     "output_type": "stream",
     "text": [
      "\n",
      "iteration: 528\n",
      "[0]\ttrain-auc:0.50000\teval-auc:0.50000\n",
      "[10]\ttrain-auc:0.50000\teval-auc:0.50000\n"
     ]
    },
    {
     "name": "stderr",
     "output_type": "stream",
     "text": [
      "C:\\Users\\ENES\\anaconda3\\lib\\site-packages\\xgboost\\core.py:90: UserWarning: ntree_limit is deprecated, use `iteration_range` or model slicing instead.\n",
      "  warnings.warn(\n"
     ]
    },
    {
     "name": "stdout",
     "output_type": "stream",
     "text": [
      "\n",
      "iteration: 529\n",
      "[0]\ttrain-auc:0.70541\teval-auc:0.49808\n",
      "[9]\ttrain-auc:0.70541\teval-auc:0.49808\n"
     ]
    },
    {
     "name": "stderr",
     "output_type": "stream",
     "text": [
      "C:\\Users\\ENES\\anaconda3\\lib\\site-packages\\xgboost\\core.py:90: UserWarning: ntree_limit is deprecated, use `iteration_range` or model slicing instead.\n",
      "  warnings.warn(\n"
     ]
    },
    {
     "name": "stdout",
     "output_type": "stream",
     "text": [
      "\n",
      "iteration: 530\n",
      "[0]\ttrain-auc:0.50000\teval-auc:0.50000\n",
      "[10]\ttrain-auc:0.50000\teval-auc:0.50000\n"
     ]
    },
    {
     "name": "stderr",
     "output_type": "stream",
     "text": [
      "C:\\Users\\ENES\\anaconda3\\lib\\site-packages\\xgboost\\core.py:90: UserWarning: ntree_limit is deprecated, use `iteration_range` or model slicing instead.\n",
      "  warnings.warn(\n"
     ]
    },
    {
     "name": "stdout",
     "output_type": "stream",
     "text": [
      "\n",
      "iteration: 531\n",
      "[0]\ttrain-auc:0.50000\teval-auc:0.50000\n",
      "[10]\ttrain-auc:0.50000\teval-auc:0.50000\n"
     ]
    },
    {
     "name": "stderr",
     "output_type": "stream",
     "text": [
      "C:\\Users\\ENES\\anaconda3\\lib\\site-packages\\xgboost\\core.py:90: UserWarning: ntree_limit is deprecated, use `iteration_range` or model slicing instead.\n",
      "  warnings.warn(\n"
     ]
    },
    {
     "name": "stdout",
     "output_type": "stream",
     "text": [
      "\n",
      "iteration: 532\n",
      "[0]\ttrain-auc:0.50000\teval-auc:0.50000\n",
      "[9]\ttrain-auc:0.50000\teval-auc:0.50000\n"
     ]
    },
    {
     "name": "stderr",
     "output_type": "stream",
     "text": [
      "C:\\Users\\ENES\\anaconda3\\lib\\site-packages\\xgboost\\core.py:90: UserWarning: ntree_limit is deprecated, use `iteration_range` or model slicing instead.\n",
      "  warnings.warn(\n"
     ]
    },
    {
     "name": "stdout",
     "output_type": "stream",
     "text": [
      "\n",
      "iteration: 533\n",
      "[0]\ttrain-auc:0.50000\teval-auc:0.50000\n",
      "[10]\ttrain-auc:0.50000\teval-auc:0.50000\n"
     ]
    },
    {
     "name": "stderr",
     "output_type": "stream",
     "text": [
      "C:\\Users\\ENES\\anaconda3\\lib\\site-packages\\xgboost\\core.py:90: UserWarning: ntree_limit is deprecated, use `iteration_range` or model slicing instead.\n",
      "  warnings.warn(\n"
     ]
    },
    {
     "name": "stdout",
     "output_type": "stream",
     "text": [
      "\n",
      "iteration: 534\n",
      "[0]\ttrain-auc:0.50000\teval-auc:0.50000\n",
      "[9]\ttrain-auc:0.50000\teval-auc:0.50000\n"
     ]
    },
    {
     "name": "stderr",
     "output_type": "stream",
     "text": [
      "C:\\Users\\ENES\\anaconda3\\lib\\site-packages\\xgboost\\core.py:90: UserWarning: ntree_limit is deprecated, use `iteration_range` or model slicing instead.\n",
      "  warnings.warn(\n"
     ]
    },
    {
     "name": "stdout",
     "output_type": "stream",
     "text": [
      "\n",
      "iteration: 535\n",
      "[0]\ttrain-auc:0.50000\teval-auc:0.50000\n",
      "[9]\ttrain-auc:0.50000\teval-auc:0.50000\n"
     ]
    },
    {
     "name": "stderr",
     "output_type": "stream",
     "text": [
      "C:\\Users\\ENES\\anaconda3\\lib\\site-packages\\xgboost\\core.py:90: UserWarning: ntree_limit is deprecated, use `iteration_range` or model slicing instead.\n",
      "  warnings.warn(\n"
     ]
    },
    {
     "name": "stdout",
     "output_type": "stream",
     "text": [
      "\n",
      "iteration: 536\n",
      "[0]\ttrain-auc:0.50000\teval-auc:0.50000\n",
      "[10]\ttrain-auc:0.50000\teval-auc:0.50000\n"
     ]
    },
    {
     "name": "stderr",
     "output_type": "stream",
     "text": [
      "C:\\Users\\ENES\\anaconda3\\lib\\site-packages\\xgboost\\core.py:90: UserWarning: ntree_limit is deprecated, use `iteration_range` or model slicing instead.\n",
      "  warnings.warn(\n"
     ]
    },
    {
     "name": "stdout",
     "output_type": "stream",
     "text": [
      "\n",
      "iteration: 537\n",
      "[0]\ttrain-auc:0.70541\teval-auc:0.49808\n",
      "[10]\ttrain-auc:0.70541\teval-auc:0.49808\n"
     ]
    },
    {
     "name": "stderr",
     "output_type": "stream",
     "text": [
      "C:\\Users\\ENES\\anaconda3\\lib\\site-packages\\xgboost\\core.py:90: UserWarning: ntree_limit is deprecated, use `iteration_range` or model slicing instead.\n",
      "  warnings.warn(\n"
     ]
    },
    {
     "name": "stdout",
     "output_type": "stream",
     "text": [
      "\n",
      "iteration: 538\n",
      "[0]\ttrain-auc:0.50000\teval-auc:0.50000\n",
      "[10]\ttrain-auc:0.50000\teval-auc:0.50000\n"
     ]
    },
    {
     "name": "stderr",
     "output_type": "stream",
     "text": [
      "C:\\Users\\ENES\\anaconda3\\lib\\site-packages\\xgboost\\core.py:90: UserWarning: ntree_limit is deprecated, use `iteration_range` or model slicing instead.\n",
      "  warnings.warn(\n"
     ]
    },
    {
     "name": "stdout",
     "output_type": "stream",
     "text": [
      "\n",
      "iteration: 539\n",
      "[0]\ttrain-auc:0.50000\teval-auc:0.50000\n",
      "[10]\ttrain-auc:0.50000\teval-auc:0.50000\n"
     ]
    },
    {
     "name": "stderr",
     "output_type": "stream",
     "text": [
      "C:\\Users\\ENES\\anaconda3\\lib\\site-packages\\xgboost\\core.py:90: UserWarning: ntree_limit is deprecated, use `iteration_range` or model slicing instead.\n",
      "  warnings.warn(\n"
     ]
    },
    {
     "name": "stdout",
     "output_type": "stream",
     "text": [
      "\n",
      "iteration: 540\n",
      "[0]\ttrain-auc:0.50000\teval-auc:0.50000\n",
      "[9]\ttrain-auc:0.50000\teval-auc:0.50000\n"
     ]
    },
    {
     "name": "stderr",
     "output_type": "stream",
     "text": [
      "C:\\Users\\ENES\\anaconda3\\lib\\site-packages\\xgboost\\core.py:90: UserWarning: ntree_limit is deprecated, use `iteration_range` or model slicing instead.\n",
      "  warnings.warn(\n"
     ]
    },
    {
     "name": "stdout",
     "output_type": "stream",
     "text": [
      "\n",
      "iteration: 541\n",
      "[0]\ttrain-auc:0.50000\teval-auc:0.50000\n",
      "[9]\ttrain-auc:0.50000\teval-auc:0.50000\n"
     ]
    },
    {
     "name": "stderr",
     "output_type": "stream",
     "text": [
      "C:\\Users\\ENES\\anaconda3\\lib\\site-packages\\xgboost\\core.py:90: UserWarning: ntree_limit is deprecated, use `iteration_range` or model slicing instead.\n",
      "  warnings.warn(\n"
     ]
    },
    {
     "name": "stdout",
     "output_type": "stream",
     "text": [
      "\n",
      "iteration: 542\n",
      "[0]\ttrain-auc:0.50000\teval-auc:0.50000\n",
      "[10]\ttrain-auc:0.50000\teval-auc:0.50000\n"
     ]
    },
    {
     "name": "stderr",
     "output_type": "stream",
     "text": [
      "C:\\Users\\ENES\\anaconda3\\lib\\site-packages\\xgboost\\core.py:90: UserWarning: ntree_limit is deprecated, use `iteration_range` or model slicing instead.\n",
      "  warnings.warn(\n"
     ]
    },
    {
     "name": "stdout",
     "output_type": "stream",
     "text": [
      "\n",
      "iteration: 543\n",
      "[0]\ttrain-auc:0.50000\teval-auc:0.50000\n",
      "[9]\ttrain-auc:0.50000\teval-auc:0.50000\n"
     ]
    },
    {
     "name": "stderr",
     "output_type": "stream",
     "text": [
      "C:\\Users\\ENES\\anaconda3\\lib\\site-packages\\xgboost\\core.py:90: UserWarning: ntree_limit is deprecated, use `iteration_range` or model slicing instead.\n",
      "  warnings.warn(\n"
     ]
    },
    {
     "name": "stdout",
     "output_type": "stream",
     "text": [
      "\n",
      "iteration: 544\n",
      "[0]\ttrain-auc:0.50000\teval-auc:0.50000\n",
      "[9]\ttrain-auc:0.50000\teval-auc:0.50000\n"
     ]
    },
    {
     "name": "stderr",
     "output_type": "stream",
     "text": [
      "C:\\Users\\ENES\\anaconda3\\lib\\site-packages\\xgboost\\core.py:90: UserWarning: ntree_limit is deprecated, use `iteration_range` or model slicing instead.\n",
      "  warnings.warn(\n"
     ]
    },
    {
     "name": "stdout",
     "output_type": "stream",
     "text": [
      "\n",
      "iteration: 545\n",
      "[0]\ttrain-auc:0.70541\teval-auc:0.49808\n",
      "[10]\ttrain-auc:0.70541\teval-auc:0.49808\n"
     ]
    },
    {
     "name": "stderr",
     "output_type": "stream",
     "text": [
      "C:\\Users\\ENES\\anaconda3\\lib\\site-packages\\xgboost\\core.py:90: UserWarning: ntree_limit is deprecated, use `iteration_range` or model slicing instead.\n",
      "  warnings.warn(\n"
     ]
    },
    {
     "name": "stdout",
     "output_type": "stream",
     "text": [
      "\n",
      "iteration: 546\n",
      "[0]\ttrain-auc:0.50000\teval-auc:0.50000\n",
      "[10]\ttrain-auc:0.50000\teval-auc:0.50000\n"
     ]
    },
    {
     "name": "stderr",
     "output_type": "stream",
     "text": [
      "C:\\Users\\ENES\\anaconda3\\lib\\site-packages\\xgboost\\core.py:90: UserWarning: ntree_limit is deprecated, use `iteration_range` or model slicing instead.\n",
      "  warnings.warn(\n"
     ]
    },
    {
     "name": "stdout",
     "output_type": "stream",
     "text": [
      "\n",
      "iteration: 547\n",
      "[0]\ttrain-auc:0.50000\teval-auc:0.50000\n",
      "[10]\ttrain-auc:0.50000\teval-auc:0.50000\n"
     ]
    },
    {
     "name": "stderr",
     "output_type": "stream",
     "text": [
      "C:\\Users\\ENES\\anaconda3\\lib\\site-packages\\xgboost\\core.py:90: UserWarning: ntree_limit is deprecated, use `iteration_range` or model slicing instead.\n",
      "  warnings.warn(\n"
     ]
    },
    {
     "name": "stdout",
     "output_type": "stream",
     "text": [
      "\n",
      "iteration: 548\n",
      "[0]\ttrain-auc:0.50000\teval-auc:0.50000\n",
      "[9]\ttrain-auc:0.50000\teval-auc:0.50000\n"
     ]
    },
    {
     "name": "stderr",
     "output_type": "stream",
     "text": [
      "C:\\Users\\ENES\\anaconda3\\lib\\site-packages\\xgboost\\core.py:90: UserWarning: ntree_limit is deprecated, use `iteration_range` or model slicing instead.\n",
      "  warnings.warn(\n"
     ]
    },
    {
     "name": "stdout",
     "output_type": "stream",
     "text": [
      "\n",
      "iteration: 549\n",
      "[0]\ttrain-auc:0.50000\teval-auc:0.50000\n",
      "[10]\ttrain-auc:0.50000\teval-auc:0.50000\n"
     ]
    },
    {
     "name": "stderr",
     "output_type": "stream",
     "text": [
      "C:\\Users\\ENES\\anaconda3\\lib\\site-packages\\xgboost\\core.py:90: UserWarning: ntree_limit is deprecated, use `iteration_range` or model slicing instead.\n",
      "  warnings.warn(\n"
     ]
    },
    {
     "name": "stdout",
     "output_type": "stream",
     "text": [
      "\n",
      "iteration: 550\n",
      "[0]\ttrain-auc:0.50000\teval-auc:0.50000\n",
      "[10]\ttrain-auc:0.50000\teval-auc:0.50000\n"
     ]
    },
    {
     "name": "stderr",
     "output_type": "stream",
     "text": [
      "C:\\Users\\ENES\\anaconda3\\lib\\site-packages\\xgboost\\core.py:90: UserWarning: ntree_limit is deprecated, use `iteration_range` or model slicing instead.\n",
      "  warnings.warn(\n"
     ]
    },
    {
     "name": "stdout",
     "output_type": "stream",
     "text": [
      "\n",
      "iteration: 551\n",
      "[0]\ttrain-auc:0.50000\teval-auc:0.50000\n",
      "[10]\ttrain-auc:0.50000\teval-auc:0.50000\n"
     ]
    },
    {
     "name": "stderr",
     "output_type": "stream",
     "text": [
      "C:\\Users\\ENES\\anaconda3\\lib\\site-packages\\xgboost\\core.py:90: UserWarning: ntree_limit is deprecated, use `iteration_range` or model slicing instead.\n",
      "  warnings.warn(\n"
     ]
    },
    {
     "name": "stdout",
     "output_type": "stream",
     "text": [
      "\n",
      "iteration: 552\n",
      "[0]\ttrain-auc:0.50000\teval-auc:0.50000\n",
      "[10]\ttrain-auc:0.50000\teval-auc:0.50000\n"
     ]
    },
    {
     "name": "stderr",
     "output_type": "stream",
     "text": [
      "C:\\Users\\ENES\\anaconda3\\lib\\site-packages\\xgboost\\core.py:90: UserWarning: ntree_limit is deprecated, use `iteration_range` or model slicing instead.\n",
      "  warnings.warn(\n"
     ]
    },
    {
     "name": "stdout",
     "output_type": "stream",
     "text": [
      "\n",
      "iteration: 553\n",
      "[0]\ttrain-auc:0.70541\teval-auc:0.49808\n",
      "[9]\ttrain-auc:0.70541\teval-auc:0.49808\n"
     ]
    },
    {
     "name": "stderr",
     "output_type": "stream",
     "text": [
      "C:\\Users\\ENES\\anaconda3\\lib\\site-packages\\xgboost\\core.py:90: UserWarning: ntree_limit is deprecated, use `iteration_range` or model slicing instead.\n",
      "  warnings.warn(\n"
     ]
    },
    {
     "name": "stdout",
     "output_type": "stream",
     "text": [
      "\n",
      "iteration: 554\n",
      "[0]\ttrain-auc:0.50000\teval-auc:0.50000\n",
      "[9]\ttrain-auc:0.50000\teval-auc:0.50000\n"
     ]
    },
    {
     "name": "stderr",
     "output_type": "stream",
     "text": [
      "C:\\Users\\ENES\\anaconda3\\lib\\site-packages\\xgboost\\core.py:90: UserWarning: ntree_limit is deprecated, use `iteration_range` or model slicing instead.\n",
      "  warnings.warn(\n"
     ]
    },
    {
     "name": "stdout",
     "output_type": "stream",
     "text": [
      "\n",
      "iteration: 555\n",
      "[0]\ttrain-auc:0.50000\teval-auc:0.50000\n",
      "[9]\ttrain-auc:0.50000\teval-auc:0.50000\n"
     ]
    },
    {
     "name": "stderr",
     "output_type": "stream",
     "text": [
      "C:\\Users\\ENES\\anaconda3\\lib\\site-packages\\xgboost\\core.py:90: UserWarning: ntree_limit is deprecated, use `iteration_range` or model slicing instead.\n",
      "  warnings.warn(\n"
     ]
    },
    {
     "name": "stdout",
     "output_type": "stream",
     "text": [
      "\n",
      "iteration: 556\n",
      "[0]\ttrain-auc:0.50000\teval-auc:0.50000\n",
      "[10]\ttrain-auc:0.50000\teval-auc:0.50000\n"
     ]
    },
    {
     "name": "stderr",
     "output_type": "stream",
     "text": [
      "C:\\Users\\ENES\\anaconda3\\lib\\site-packages\\xgboost\\core.py:90: UserWarning: ntree_limit is deprecated, use `iteration_range` or model slicing instead.\n",
      "  warnings.warn(\n"
     ]
    },
    {
     "name": "stdout",
     "output_type": "stream",
     "text": [
      "\n",
      "iteration: 557\n",
      "[0]\ttrain-auc:0.50000\teval-auc:0.50000\n",
      "[10]\ttrain-auc:0.50000\teval-auc:0.50000\n"
     ]
    },
    {
     "name": "stderr",
     "output_type": "stream",
     "text": [
      "C:\\Users\\ENES\\anaconda3\\lib\\site-packages\\xgboost\\core.py:90: UserWarning: ntree_limit is deprecated, use `iteration_range` or model slicing instead.\n",
      "  warnings.warn(\n"
     ]
    },
    {
     "name": "stdout",
     "output_type": "stream",
     "text": [
      "\n",
      "iteration: 558\n",
      "[0]\ttrain-auc:0.50000\teval-auc:0.50000\n",
      "[10]\ttrain-auc:0.50000\teval-auc:0.50000\n"
     ]
    },
    {
     "name": "stderr",
     "output_type": "stream",
     "text": [
      "C:\\Users\\ENES\\anaconda3\\lib\\site-packages\\xgboost\\core.py:90: UserWarning: ntree_limit is deprecated, use `iteration_range` or model slicing instead.\n",
      "  warnings.warn(\n"
     ]
    },
    {
     "name": "stdout",
     "output_type": "stream",
     "text": [
      "\n",
      "iteration: 559\n",
      "[0]\ttrain-auc:0.50000\teval-auc:0.50000\n",
      "[9]\ttrain-auc:0.50000\teval-auc:0.50000\n"
     ]
    },
    {
     "name": "stderr",
     "output_type": "stream",
     "text": [
      "C:\\Users\\ENES\\anaconda3\\lib\\site-packages\\xgboost\\core.py:90: UserWarning: ntree_limit is deprecated, use `iteration_range` or model slicing instead.\n",
      "  warnings.warn(\n"
     ]
    },
    {
     "name": "stdout",
     "output_type": "stream",
     "text": [
      "\n",
      "iteration: 560\n",
      "[0]\ttrain-auc:0.50000\teval-auc:0.50000\n",
      "[9]\ttrain-auc:0.50000\teval-auc:0.50000\n"
     ]
    },
    {
     "name": "stderr",
     "output_type": "stream",
     "text": [
      "C:\\Users\\ENES\\anaconda3\\lib\\site-packages\\xgboost\\core.py:90: UserWarning: ntree_limit is deprecated, use `iteration_range` or model slicing instead.\n",
      "  warnings.warn(\n"
     ]
    },
    {
     "name": "stdout",
     "output_type": "stream",
     "text": [
      "\n",
      "iteration: 561\n",
      "[0]\ttrain-auc:0.70541\teval-auc:0.49808\n",
      "[9]\ttrain-auc:0.70541\teval-auc:0.49808\n"
     ]
    },
    {
     "name": "stderr",
     "output_type": "stream",
     "text": [
      "C:\\Users\\ENES\\anaconda3\\lib\\site-packages\\xgboost\\core.py:90: UserWarning: ntree_limit is deprecated, use `iteration_range` or model slicing instead.\n",
      "  warnings.warn(\n"
     ]
    },
    {
     "name": "stdout",
     "output_type": "stream",
     "text": [
      "\n",
      "iteration: 562\n",
      "[0]\ttrain-auc:0.50000\teval-auc:0.50000\n",
      "[10]\ttrain-auc:0.50000\teval-auc:0.50000\n"
     ]
    },
    {
     "name": "stderr",
     "output_type": "stream",
     "text": [
      "C:\\Users\\ENES\\anaconda3\\lib\\site-packages\\xgboost\\core.py:90: UserWarning: ntree_limit is deprecated, use `iteration_range` or model slicing instead.\n",
      "  warnings.warn(\n"
     ]
    },
    {
     "name": "stdout",
     "output_type": "stream",
     "text": [
      "\n",
      "iteration: 563\n",
      "[0]\ttrain-auc:0.50000\teval-auc:0.50000\n",
      "[9]\ttrain-auc:0.50000\teval-auc:0.50000\n"
     ]
    },
    {
     "name": "stderr",
     "output_type": "stream",
     "text": [
      "C:\\Users\\ENES\\anaconda3\\lib\\site-packages\\xgboost\\core.py:90: UserWarning: ntree_limit is deprecated, use `iteration_range` or model slicing instead.\n",
      "  warnings.warn(\n"
     ]
    },
    {
     "name": "stdout",
     "output_type": "stream",
     "text": [
      "\n",
      "iteration: 564\n",
      "[0]\ttrain-auc:0.50000\teval-auc:0.50000\n",
      "[9]\ttrain-auc:0.50000\teval-auc:0.50000\n"
     ]
    },
    {
     "name": "stderr",
     "output_type": "stream",
     "text": [
      "C:\\Users\\ENES\\anaconda3\\lib\\site-packages\\xgboost\\core.py:90: UserWarning: ntree_limit is deprecated, use `iteration_range` or model slicing instead.\n",
      "  warnings.warn(\n"
     ]
    },
    {
     "name": "stdout",
     "output_type": "stream",
     "text": [
      "\n",
      "iteration: 565\n",
      "[0]\ttrain-auc:0.50000\teval-auc:0.50000\n",
      "[10]\ttrain-auc:0.50000\teval-auc:0.50000\n"
     ]
    },
    {
     "name": "stderr",
     "output_type": "stream",
     "text": [
      "C:\\Users\\ENES\\anaconda3\\lib\\site-packages\\xgboost\\core.py:90: UserWarning: ntree_limit is deprecated, use `iteration_range` or model slicing instead.\n",
      "  warnings.warn(\n"
     ]
    },
    {
     "name": "stdout",
     "output_type": "stream",
     "text": [
      "\n",
      "iteration: 566\n",
      "[0]\ttrain-auc:0.50000\teval-auc:0.50000\n",
      "[10]\ttrain-auc:0.50000\teval-auc:0.50000\n"
     ]
    },
    {
     "name": "stderr",
     "output_type": "stream",
     "text": [
      "C:\\Users\\ENES\\anaconda3\\lib\\site-packages\\xgboost\\core.py:90: UserWarning: ntree_limit is deprecated, use `iteration_range` or model slicing instead.\n",
      "  warnings.warn(\n"
     ]
    },
    {
     "name": "stdout",
     "output_type": "stream",
     "text": [
      "\n",
      "iteration: 567\n",
      "[0]\ttrain-auc:0.50000\teval-auc:0.50000\n",
      "[10]\ttrain-auc:0.50000\teval-auc:0.50000\n"
     ]
    },
    {
     "name": "stderr",
     "output_type": "stream",
     "text": [
      "C:\\Users\\ENES\\anaconda3\\lib\\site-packages\\xgboost\\core.py:90: UserWarning: ntree_limit is deprecated, use `iteration_range` or model slicing instead.\n",
      "  warnings.warn(\n"
     ]
    },
    {
     "name": "stdout",
     "output_type": "stream",
     "text": [
      "\n",
      "iteration: 568\n",
      "[0]\ttrain-auc:0.50000\teval-auc:0.50000\n",
      "[10]\ttrain-auc:0.50000\teval-auc:0.50000\n"
     ]
    },
    {
     "name": "stderr",
     "output_type": "stream",
     "text": [
      "C:\\Users\\ENES\\anaconda3\\lib\\site-packages\\xgboost\\core.py:90: UserWarning: ntree_limit is deprecated, use `iteration_range` or model slicing instead.\n",
      "  warnings.warn(\n"
     ]
    },
    {
     "name": "stdout",
     "output_type": "stream",
     "text": [
      "\n",
      "iteration: 569\n",
      "[0]\ttrain-auc:0.50000\teval-auc:0.50000\n",
      "[9]\ttrain-auc:0.50000\teval-auc:0.50000\n"
     ]
    },
    {
     "name": "stderr",
     "output_type": "stream",
     "text": [
      "C:\\Users\\ENES\\anaconda3\\lib\\site-packages\\xgboost\\core.py:90: UserWarning: ntree_limit is deprecated, use `iteration_range` or model slicing instead.\n",
      "  warnings.warn(\n"
     ]
    },
    {
     "name": "stdout",
     "output_type": "stream",
     "text": [
      "\n",
      "iteration: 570\n",
      "[0]\ttrain-auc:0.50000\teval-auc:0.50000\n",
      "[10]\ttrain-auc:0.50000\teval-auc:0.50000\n"
     ]
    },
    {
     "name": "stderr",
     "output_type": "stream",
     "text": [
      "C:\\Users\\ENES\\anaconda3\\lib\\site-packages\\xgboost\\core.py:90: UserWarning: ntree_limit is deprecated, use `iteration_range` or model slicing instead.\n",
      "  warnings.warn(\n"
     ]
    },
    {
     "name": "stdout",
     "output_type": "stream",
     "text": [
      "\n",
      "iteration: 571\n",
      "[0]\ttrain-auc:0.50000\teval-auc:0.50000\n",
      "[10]\ttrain-auc:0.50000\teval-auc:0.50000\n"
     ]
    },
    {
     "name": "stderr",
     "output_type": "stream",
     "text": [
      "C:\\Users\\ENES\\anaconda3\\lib\\site-packages\\xgboost\\core.py:90: UserWarning: ntree_limit is deprecated, use `iteration_range` or model slicing instead.\n",
      "  warnings.warn(\n"
     ]
    },
    {
     "name": "stdout",
     "output_type": "stream",
     "text": [
      "\n",
      "iteration: 572\n",
      "[0]\ttrain-auc:0.50000\teval-auc:0.50000\n",
      "[9]\ttrain-auc:0.50000\teval-auc:0.50000\n"
     ]
    },
    {
     "name": "stderr",
     "output_type": "stream",
     "text": [
      "C:\\Users\\ENES\\anaconda3\\lib\\site-packages\\xgboost\\core.py:90: UserWarning: ntree_limit is deprecated, use `iteration_range` or model slicing instead.\n",
      "  warnings.warn(\n"
     ]
    },
    {
     "name": "stdout",
     "output_type": "stream",
     "text": [
      "\n",
      "iteration: 573\n",
      "[0]\ttrain-auc:0.50000\teval-auc:0.50000\n",
      "[10]\ttrain-auc:0.50000\teval-auc:0.50000\n"
     ]
    },
    {
     "name": "stderr",
     "output_type": "stream",
     "text": [
      "C:\\Users\\ENES\\anaconda3\\lib\\site-packages\\xgboost\\core.py:90: UserWarning: ntree_limit is deprecated, use `iteration_range` or model slicing instead.\n",
      "  warnings.warn(\n"
     ]
    },
    {
     "name": "stdout",
     "output_type": "stream",
     "text": [
      "\n",
      "iteration: 574\n",
      "[0]\ttrain-auc:0.50000\teval-auc:0.50000\n",
      "[10]\ttrain-auc:0.50000\teval-auc:0.50000\n"
     ]
    },
    {
     "name": "stderr",
     "output_type": "stream",
     "text": [
      "C:\\Users\\ENES\\anaconda3\\lib\\site-packages\\xgboost\\core.py:90: UserWarning: ntree_limit is deprecated, use `iteration_range` or model slicing instead.\n",
      "  warnings.warn(\n"
     ]
    },
    {
     "name": "stdout",
     "output_type": "stream",
     "text": [
      "\n",
      "iteration: 575\n",
      "[0]\ttrain-auc:0.50000\teval-auc:0.50000\n",
      "[10]\ttrain-auc:0.50000\teval-auc:0.50000\n"
     ]
    },
    {
     "name": "stderr",
     "output_type": "stream",
     "text": [
      "C:\\Users\\ENES\\anaconda3\\lib\\site-packages\\xgboost\\core.py:90: UserWarning: ntree_limit is deprecated, use `iteration_range` or model slicing instead.\n",
      "  warnings.warn(\n"
     ]
    },
    {
     "name": "stdout",
     "output_type": "stream",
     "text": [
      "\n",
      "iteration: 576\n",
      "[0]\ttrain-auc:0.50000\teval-auc:0.50000\n",
      "[9]\ttrain-auc:0.50000\teval-auc:0.50000\n"
     ]
    },
    {
     "name": "stderr",
     "output_type": "stream",
     "text": [
      "C:\\Users\\ENES\\anaconda3\\lib\\site-packages\\xgboost\\core.py:90: UserWarning: ntree_limit is deprecated, use `iteration_range` or model slicing instead.\n",
      "  warnings.warn(\n"
     ]
    },
    {
     "name": "stdout",
     "output_type": "stream",
     "text": [
      "\n",
      "----selecting best grid iteration----\n",
      "best grid iteration: 289\n",
      "Grid Search duration: 0:03:33.485049\n",
      "\n",
      "----final model----\n",
      "\n",
      "Shape of dataframes; train: (291,), test: (73,), oot: (34,)\n",
      "\n",
      "Percentage of dataframes; train: 73.12%, test: 18.34%, oot: 8.54%\n",
      "\n",
      "\n",
      "[0]\ttrain-auc:0.70541\teval-auc:0.49808\n",
      "[9]\ttrain-auc:0.70541\teval-auc:0.49808\n"
     ]
    },
    {
     "name": "stderr",
     "output_type": "stream",
     "text": [
      "C:\\Users\\ENES\\anaconda3\\lib\\site-packages\\xgboost\\core.py:90: UserWarning: ntree_limit is deprecated, use `iteration_range` or model slicing instead.\n",
      "  warnings.warn(\n"
     ]
    },
    {
     "name": "stdout",
     "output_type": "stream",
     "text": [
      "  sample    auc\n",
      "0    oot  47.06\n",
      "1   test  49.81\n",
      "2  train  70.54\n",
      "\n",
      "Saving Results...\n",
      "Done with model_building.py\n"
     ]
    }
   ],
   "source": [
    "if __name__ == \"__main__\":\n",
    "    \"\"\"main parameters should be set before each run\"\"\"\n",
    "    grid_search_= True\n",
    "    save_results_= True\n",
    "    random_search = False\n",
    "        \n",
    "    # define segment    \n",
    "    #if segment in ('BIREYSEL','ORTAK'):\n",
    "       #random_search = True\n",
    "    \n",
    "    # key variables\n",
    "    key_var = [\"APP_ID\", \"APPLICATION_DATE\", \"TARGET\"] # for management of data issues\n",
    "    key_vars = [\"APP_ID\", \"APPLICATION_DATE\"] # for preparing data.table() for model estimation\n",
    "    \n",
    "    # define maximum acceptable percentage of missing information\n",
    "    max_threshold = 1\n",
    "    \n",
    "    # splitting percentage of development data into train nand test\n",
    "    splitting_perc = 0.2\n",
    "    min_date = '2022-05-31'\n",
    "    \n",
    "     # specify seed for random selection - to keep track of the chosen seed, for results' reproduction\n",
    "    seed = 42\n",
    "    \n",
    "    ## diff_threshold for grid search\n",
    "    diff_threshold = 5\n",
    "    segment = 'Deneme'\n",
    "    trial = '1'\n",
    "    t_string = str(trial)\n",
    "    today = date.today()    \n",
    "    path = 'path'\n",
    "    \n",
    "    path = path.format(segment, t_string, today)\n",
    "    #data = data.drop(columns = 'Unnamed: 0')\n",
    "    df = data.copy()\n",
    "    #code execution:\n",
    "    df = execute_preprocess(df, max_threshold)\n",
    "    #df = pd.DataFrame(df)\n",
    "    #df = df.reset_index(drop = True)\n",
    "    train_index, test_index, oot_index=set_split_index(df, splitting_perc, seed, min_date)\n",
    "    \n",
    "    if grid_search_:\n",
    "        grid_params = {\n",
    "        # Parameters that we are going to tune.\n",
    "        'eta' : [0.3, 0.1, 0.05],\n",
    "        'max_depth': np.arange(3, 11, 2).tolist(),\n",
    "        'min_child_weight': [round(train_index.shape[0]*0.001),round(train_index.shape[0]*0.003),round(train_index.shape[0]*0.006),round(train_index.shape[0]*0.008),round(train_index.shape[0]*0.01),round(train_index.shape[0]*0.02)],\n",
    "        'subsample': [1],\n",
    "        'colsample_bytree': [1],\n",
    "        'gamma' : [10, 20, 30, 40],\n",
    "        'reg_lambda' : np.arange(1, 5, 2).tolist(),\n",
    "        # Other parameters\n",
    "        'objective': ['reg:logistic'],\n",
    "        'eval_metric' : ['auc'],\n",
    "        'booster' : ['gbtree']\n",
    "        }\n",
    "        xgb_gs_train, best_gs_iter, params = execute_grid_search(df, key_var, grid_params, splitting_perc, min_date, seed, random_search, diff_threshold, 200)    \n",
    "    else:\n",
    "        params = set_params(seed)\n",
    "\n",
    "    bst, predictions, predictions_calb, train_sum, test_sum, oot_sum, perf_sum, importance_xgb,calibration_model = execute_final_model(df, key_var, params, splitting_perc, seed, num_boost_round=400, early_stopping_rounds=10, verbose_eval=10)\n",
    "    train_sum_by_calb_score, train_sum_by_calb_row, fig_train_score, fig_train_row, test_sum_by_calb_score, test_sum_by_calb_row, fig_test_score, fig_test_row, oot_sum_by_calb_score, oot_sum_by_calb_row, fig_oot_score, fig_oot_row = performance_measurement()    \n",
    "    #segment_summary_all = evaluate_performance_by_segment()  \n",
    "    \n",
    "    print(perf_sum[[\"sample\",\"auc\"]])\n",
    "    if save_results_:\n",
    "        save_results(path)\n",
    "    print('Done with model_building.py')\n",
    "\n"
   ]
  },
  {
   "cell_type": "code",
   "execution_count": null,
   "id": "ffa46763",
   "metadata": {},
   "outputs": [],
   "source": []
  }
 ],
 "metadata": {
  "kernelspec": {
   "display_name": "Python 3 (ipykernel)",
   "language": "python",
   "name": "python3"
  },
  "language_info": {
   "codemirror_mode": {
    "name": "ipython",
    "version": 3
   },
   "file_extension": ".py",
   "mimetype": "text/x-python",
   "name": "python",
   "nbconvert_exporter": "python",
   "pygments_lexer": "ipython3",
   "version": "3.10.0"
  }
 },
 "nbformat": 4,
 "nbformat_minor": 5
}
