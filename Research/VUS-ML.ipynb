{
 "cells": [
  {
   "cell_type": "code",
   "execution_count": 1,
   "id": "5d46edf9",
   "metadata": {},
   "outputs": [],
   "source": [
    "import pandas as pd\n",
    "import numpy as np\n",
    "import seaborn as sns\n",
    "from datetime import datetime\n",
    "from sklearn.metrics import mean_absolute_error\n",
    "from sklearn.model_selection import train_test_split\n",
    "import gc #garbage collector\n",
    "import sys\n",
    "import os\n",
    "from pandas.api.types import CategoricalDtype\n",
    "#from xgboost import XGBRegressor as xgb\n",
    "import xgboost as xgb\n",
    "from itertools import product\n",
    "from statistics import stdev \n",
    "import statsmodels.api as sm\n",
    "import matplotlib.pyplot as plt\n",
    "import matplotlib.backends.backend_pdf\n",
    "from datetime import date\n",
    "import pickle\n",
    "import pyodbc\n",
    "import time\n",
    "from tqdm import tqdm\n",
    "import copy\n",
    "from pathlib import Path\n",
    "import datetime\n",
    "from datetime import date\n",
    "from xgboost import XGBRegressor\n",
    "from dateutil.relativedelta import *\n",
    "from pandas import ExcelWriter\n",
    "from sklearn2pmml import sklearn2pmml\n",
    "from sklearn_pandas import DataFrameMapper\n",
    "from sklearn2pmml import PMMLPipeline\n",
    "from sklearn2pmml import Pipeline\n",
    "from sklearn.preprocessing import LabelBinarizer\n",
    "from sklearn2pmml.decoration import CategoricalDomain, ContinuousDomain\n",
    "from sklearn.preprocessing import OneHotEncoder, PolynomialFeatures, StandardScaler\n",
    "from sklearn2pmml.preprocessing.xgboost import make_xgboost_column_transformer\n",
    "from sklearn.pipeline import Pipeline\n",
    "from sklearn2pmml.preprocessing import PMMLLabelEncoder\n",
    "from sklearn2pmml import make_pmml_pipeline\n",
    "from sklearn.preprocessing import LabelEncoder\n"
   ]
  },
  {
   "cell_type": "code",
   "execution_count": 2,
   "id": "d5360326",
   "metadata": {},
   "outputs": [],
   "source": [
    "def merge_genes(file_list, output_file):\n",
    "    # Create an empty dataframe\n",
    "    df = pd.DataFrame()\n",
    "\n",
    "    # Use a for loop to iterate over the Excel files\n",
    "    for file in file_list:\n",
    "        # Read each Excel file into a separate dataframe\n",
    "        data = pd.read_csv(file)\n",
    "\n",
    "        # Append the data from each dataframe to the empty dataframe\n",
    "        df = df.append(data)\n",
    "\n",
    "    # Save the merged data to a new Excel file\n",
    "    df.to_csv(output_file, index=False)\n",
    "\n",
    "# Example usage\n",
    "file_list = ['gnomAD_ABCA4.csv', 'gnomAD_APC.csv', 'gnomAD_ATM.csv', 'gnomAD_BRCA1.csv', 'gnomAD_BRCA2.csv',\n",
    "              'gnomAD_DOCK7.csv', 'gnomAD_FBN1.csv' , 'gnomAD_MSH2.csv' , 'gnomAD_MSH6.csv' , 'gnomAD_NF1.csv',\n",
    "              'gnomAD_TSC2.csv' , 'gnomAD_TTN.csv']\n",
    "merge_genes(file_list, 'Genes_Merge_Data.csv')\n"
   ]
  },
  {
   "cell_type": "code",
   "execution_count": 3,
   "id": "98fcb97a",
   "metadata": {},
   "outputs": [],
   "source": [
    "df_merge_data = pd.read_csv(r\"C:\\Users\\ENES\\Desktop\\eResult\\VUSGEN_22.11.2022\\1.Data\\Genes_Merge_Data.csv\")"
   ]
  },
  {
   "cell_type": "code",
   "execution_count": 4,
   "id": "5eb7cab2",
   "metadata": {},
   "outputs": [
    {
     "data": {
      "text/plain": [
       "44172"
      ]
     },
     "execution_count": 4,
     "metadata": {},
     "output_type": "execute_result"
    }
   ],
   "source": [
    "mask = df_merge_data['ClinVar Clinical Significance'].isna()\n",
    "# Count the number of missing values in each column\n",
    "na_count = mask.sum()\n",
    "na_count"
   ]
  },
  {
   "cell_type": "code",
   "execution_count": 5,
   "id": "cb274e1f",
   "metadata": {},
   "outputs": [],
   "source": [
    "#Drop unnecessary columns\n",
    "df_merge_data = df_merge_data.drop(['Homozygote Count Latino/Admixed American', 'Hemizygote Count Latino/Admixed American',\n",
    "                                   'Allele Count Ashkenazi Jewish','Allele Number Ashkenazi Jewish',\n",
    "                                   'Homozygote Count Ashkenazi Jewish', 'Hemizygote Count Ashkenazi Jewish',\n",
    "                                   'Allele Count East Asian', 'Allele Number East Asian','Homozygote Count East Asian',\n",
    "                                   'Hemizygote Count East Asian','Allele Count European (Finnish)',\n",
    "                                   'Allele Number European (Finnish)','Homozygote Count European (Finnish)',\n",
    "                                   'Hemizygote Count European (Finnish)','Allele Count European (non-Finnish)',\n",
    "                                   'Allele Number European (non-Finnish)','Homozygote Count European (non-Finnish)',\n",
    "                                   'Hemizygote Count European (non-Finnish)','Allele Count Other','Allele Number Other',\n",
    "                                   'Homozygote Count Other','Hemizygote Count Other','Allele Count South Asian',\n",
    "                                   'Allele Number South Asian','Homozygote Count South Asian','Hemizygote Count South Asian',\n",
    "                                    'Source', 'Filters - exomes', 'Filters - genomes',\n",
    "                                    'Transcript' , 'ClinVar Variation ID', 'Flags' , 'Allele Number', \n",
    "                                    'Allele Count African/African American',\n",
    "                                    'Allele Number African/African American', 'Homozygote Count African/African American',\n",
    "                                    'Allele Number African/African American', 'Homozygote Count African/African American',\n",
    "                                    'Hemizygote Count African/African American','Allele Count Latino/Admixed American',\n",
    "                                    'Allele Number Latino/Admixed American'], axis=1)"
   ]
  },
  {
   "cell_type": "code",
   "execution_count": 6,
   "id": "9228939d",
   "metadata": {},
   "outputs": [],
   "source": [
    "df_merge_data = df_merge_data.dropna(subset=['ClinVar Clinical Significance'])"
   ]
  },
  {
   "cell_type": "code",
   "execution_count": 7,
   "id": "c209ffd4",
   "metadata": {},
   "outputs": [
    {
     "data": {
      "text/plain": [
       "Uncertain significance                                                    11526\n",
       "Likely benign                                                              8885\n",
       "Conflicting interpretations of pathogenicity                               5446\n",
       "Benign/Likely benign                                                       1751\n",
       "Benign                                                                     1171\n",
       "Pathogenic                                                                  704\n",
       "Pathogenic/Likely pathogenic                                                290\n",
       "Likely pathogenic                                                           213\n",
       "not provided                                                                137\n",
       "Pathogenic/Likely pathogenic; other                                           1\n",
       "Pathogenic; other                                                             1\n",
       "Conflicting interpretations of pathogenicity; association; risk factor        1\n",
       "Name: ClinVar Clinical Significance, dtype: int64"
      ]
     },
     "execution_count": 7,
     "metadata": {},
     "output_type": "execute_result"
    }
   ],
   "source": [
    "df_merge_data['ClinVar Clinical Significance'].value_counts()"
   ]
  },
  {
   "cell_type": "code",
   "execution_count": 8,
   "id": "ee965c4b",
   "metadata": {},
   "outputs": [],
   "source": [
    "labelencoder = LabelEncoder()\n",
    "df_merge_data['Reference_L'] = labelencoder.fit_transform(df_merge_data['Reference'])\n",
    "df_merge_data['Alternate_L'] = labelencoder.fit_transform(df_merge_data['Alternate'])\n",
    "df_merge_data['HGVS Consequence_L'] = labelencoder.fit_transform(df_merge_data['HGVS Consequence'])\n",
    "df_merge_data['Protein Consequence_L'] = labelencoder.fit_transform(df_merge_data['Protein Consequence'])\n",
    "df_merge_data['Transcript Consequence_L'] = labelencoder.fit_transform(df_merge_data['Transcript Consequence'])\n",
    "df_merge_data['VEP Annotation_L'] = labelencoder.fit_transform(df_merge_data['VEP Annotation'])"
   ]
  },
  {
   "cell_type": "code",
   "execution_count": 9,
   "id": "d3e00bff",
   "metadata": {},
   "outputs": [],
   "source": [
    "df_merge_data = df_merge_data.drop(['Reference', 'Alternate', 'HGVS Consequence', 'Protein Consequence',\n",
    "                                   'Transcript Consequence', 'VEP Annotation'], axis=1)"
   ]
  },
  {
   "cell_type": "code",
   "execution_count": 10,
   "id": "6dcd360d",
   "metadata": {},
   "outputs": [],
   "source": [
    "#df_merge_data.to_excel('VUS_Final_Data.xlsx')"
   ]
  },
  {
   "cell_type": "code",
   "execution_count": 11,
   "id": "a8466ed1",
   "metadata": {},
   "outputs": [
    {
     "data": {
      "text/plain": [
       "Uncertain significance                                                    11526\n",
       "Likely benign                                                              8885\n",
       "Conflicting interpretations of pathogenicity                               5446\n",
       "Benign/Likely benign                                                       1751\n",
       "Benign                                                                     1171\n",
       "Pathogenic                                                                  704\n",
       "Pathogenic/Likely pathogenic                                                290\n",
       "Likely pathogenic                                                           213\n",
       "not provided                                                                137\n",
       "Pathogenic/Likely pathogenic; other                                           1\n",
       "Pathogenic; other                                                             1\n",
       "Conflicting interpretations of pathogenicity; association; risk factor        1\n",
       "Name: ClinVar Clinical Significance, dtype: int64"
      ]
     },
     "execution_count": 11,
     "metadata": {},
     "output_type": "execute_result"
    }
   ],
   "source": [
    "df_merge_data[\"ClinVar Clinical Significance\"].value_counts()"
   ]
  },
  {
   "cell_type": "code",
   "execution_count": 12,
   "id": "16059d04",
   "metadata": {},
   "outputs": [],
   "source": [
    "df_merge_data[\"ClinVar Clinical Significance\"] = df_merge_data[\"ClinVar Clinical Significance\"].replace(\"Uncertain significance\", \"1\")\n",
    "df_merge_data[\"ClinVar Clinical Significance\"] = df_merge_data[\"ClinVar Clinical Significance\"].replace(\"Likely benign\", \"0\")\n",
    "df_merge_data[\"ClinVar Clinical Significance\"] = df_merge_data[\"ClinVar Clinical Significance\"].replace(\"Conflicting interpretations of pathogenicity\", \"0\")\n",
    "df_merge_data[\"ClinVar Clinical Significance\"] = df_merge_data[\"ClinVar Clinical Significance\"].replace(\"Benign/Likely benign\", \"0\")\n",
    "df_merge_data[\"ClinVar Clinical Significance\"] = df_merge_data[\"ClinVar Clinical Significance\"].replace(\"Benign\", \"0\")\n",
    "df_merge_data[\"ClinVar Clinical Significance\"] = df_merge_data[\"ClinVar Clinical Significance\"].replace(\"Pathogenic\", \"0\")\n",
    "df_merge_data[\"ClinVar Clinical Significance\"] = df_merge_data[\"ClinVar Clinical Significance\"].replace(\"Pathogenic/Likely pathogenic\", \"0\")\n",
    "df_merge_data[\"ClinVar Clinical Significance\"] = df_merge_data[\"ClinVar Clinical Significance\"].replace(\"not provided\", \"0\")\n",
    "df_merge_data[\"ClinVar Clinical Significance\"] = df_merge_data[\"ClinVar Clinical Significance\"].replace(\"Pathogenic/Likely pathogenic; other\", \"0\")\n",
    "df_merge_data[\"ClinVar Clinical Significance\"] = df_merge_data[\"ClinVar Clinical Significance\"].replace(\"Pathogenic; other\", \"0\")\n",
    "df_merge_data[\"ClinVar Clinical Significance\"] = df_merge_data[\"ClinVar Clinical Significance\"].replace(\"Conflicting interpretations of pathogenicity; association; risk factor\", \"0\")\n",
    "df_merge_data[\"ClinVar Clinical Significance\"] = df_merge_data[\"ClinVar Clinical Significance\"].replace(\"Likely pathogenic\", \"0\")"
   ]
  },
  {
   "cell_type": "code",
   "execution_count": 14,
   "id": "f3de7387",
   "metadata": {},
   "outputs": [
    {
     "data": {
      "text/plain": [
       "Chromosome                         int64\n",
       "Position                           int64\n",
       "rsIDs                             object\n",
       "ClinVar Clinical Significance     object\n",
       "Allele Count                       int64\n",
       "Allele Frequency                 float64\n",
       "Homozygote Count                   int64\n",
       "Hemizygote Count                   int64\n",
       "Reference_L                        int32\n",
       "Alternate_L                        int32\n",
       "HGVS Consequence_L                 int32\n",
       "Protein Consequence_L              int32\n",
       "Transcript Consequence_L           int32\n",
       "VEP Annotation_L                   int32\n",
       "dtype: object"
      ]
     },
     "execution_count": 14,
     "metadata": {},
     "output_type": "execute_result"
    }
   ],
   "source": [
    "df_merge_data.dtypes"
   ]
  },
  {
   "cell_type": "code",
   "execution_count": 16,
   "id": "02f88d1e",
   "metadata": {},
   "outputs": [],
   "source": [
    "df_merge_data['ClinVar Clinical Significance'] = df_merge_data['ClinVar Clinical Significance'].astype('int64')"
   ]
  },
  {
   "cell_type": "code",
   "execution_count": 18,
   "id": "90015dfa",
   "metadata": {},
   "outputs": [
    {
     "data": {
      "text/plain": [
       "0    18600\n",
       "1    11526\n",
       "Name: ClinVar Clinical Significance, dtype: int64"
      ]
     },
     "execution_count": 18,
     "metadata": {},
     "output_type": "execute_result"
    }
   ],
   "source": [
    "df_merge_data[\"ClinVar Clinical Significance\"].value_counts()"
   ]
  },
  {
   "cell_type": "code",
   "execution_count": 22,
   "id": "4c20eba5",
   "metadata": {},
   "outputs": [],
   "source": [
    "df_merge_data.rename(columns={\"ClinVar Clinical Significance\": \"TARGET\"}, inplace=True)"
   ]
  },
  {
   "cell_type": "markdown",
   "id": "655dbd7d",
   "metadata": {},
   "source": [
    "## Modelling Part(XGBoost)"
   ]
  },
  {
   "cell_type": "code",
   "execution_count": 24,
   "id": "72332e98",
   "metadata": {},
   "outputs": [],
   "source": [
    "df_merge_data = df_merge_data.drop(['Position', 'rsIDs'], axis=1)"
   ]
  },
  {
   "cell_type": "code",
   "execution_count": 26,
   "id": "fb23c4ed",
   "metadata": {},
   "outputs": [],
   "source": [
    "X = df_merge_data.drop('TARGET', axis=1)\n",
    "\n",
    "y = df_merge_data['TARGET']"
   ]
  },
  {
   "cell_type": "code",
   "execution_count": 29,
   "id": "3e5db358",
   "metadata": {},
   "outputs": [],
   "source": [
    "from sklearn.model_selection import train_test_split\n",
    "\n",
    "# split the data into training and test sets\n",
    "X_train, X_test, y_train, y_test = train_test_split(X, y, test_size=0.2)"
   ]
  },
  {
   "cell_type": "code",
   "execution_count": 32,
   "id": "f1200487",
   "metadata": {},
   "outputs": [
    {
     "name": "stdout",
     "output_type": "stream",
     "text": [
      "{'learning_rate': 0.1, 'max_depth': 5, 'n_estimators': 500}\n",
      "Accuracy: 88.02%\n"
     ]
    }
   ],
   "source": [
    "import xgboost as xgb\n",
    "from sklearn.metrics import accuracy_score\n",
    "from sklearn.model_selection import GridSearchCV\n",
    "\n",
    "# define the model\n",
    "xgb_model = xgb.XGBClassifier()\n",
    "\n",
    "# define the hyperparameters to tune\n",
    "params = {\n",
    "    \"max_depth\": [5],\n",
    "    \"learning_rate\": [0.1],\n",
    "    \"n_estimators\": [500]\n",
    "}\n",
    "\n",
    "# use grid search to tune the hyperparameters\n",
    "clf = GridSearchCV(xgb_model, params, cv=5)\n",
    "clf.fit(X_train, y_train)\n",
    "\n",
    "# print the best hyperparameters found by grid search\n",
    "print(clf.best_params_)\n",
    "\n",
    "# use the best hyperparameters to train the model\n",
    "xgb_model = xgb.XGBClassifier(**clf.best_params_)\n",
    "xgb_model.fit(X_train, y_train)\n",
    "\n",
    "# evaluate the model on the test set\n",
    "predictions = xgb_model.predict(X_test)\n",
    "accuracy = accuracy_score(y_test, predictions)\n",
    "print(\"Accuracy: %.2f%%\" % (accuracy * 100.0))\n"
   ]
  },
  {
   "cell_type": "code",
   "execution_count": 35,
   "id": "d1de858a",
   "metadata": {},
   "outputs": [
    {
     "name": "stdout",
     "output_type": "stream",
     "text": [
      "Precision: 0.8312236286919831\n",
      "Recall: 0.8595113438045375\n",
      "F1 Score: 0.845130845130845\n"
     ]
    }
   ],
   "source": [
    "from sklearn.metrics import precision_recall_fscore_support\n",
    "precision, recall, f1, _ = precision_recall_fscore_support(y_test, predictions, average='binary')\n",
    "\n",
    "print('Precision:', precision)\n",
    "print('Recall:', recall)\n",
    "print('F1 Score:', f1)"
   ]
  },
  {
   "cell_type": "code",
   "execution_count": 58,
   "id": "497fdc82",
   "metadata": {},
   "outputs": [
    {
     "data": {
      "text/plain": [
       "0.8761938079494033"
      ]
     },
     "execution_count": 58,
     "metadata": {},
     "output_type": "execute_result"
    }
   ],
   "source": [
    "from sklearn.metrics import roc_auc_score, plot_roc_curve\n",
    "#area under curve score\n",
    "auc = roc_auc_score(y_test, predictions)\n",
    "auc"
   ]
  },
  {
   "cell_type": "code",
   "execution_count": 40,
   "id": "f016d278",
   "metadata": {},
   "outputs": [
    {
     "data": {
      "text/plain": [
       "<sklearn.metrics._plot.roc_curve.RocCurveDisplay at 0xf96bd60190>"
      ]
     },
     "execution_count": 40,
     "metadata": {},
     "output_type": "execute_result"
    },
    {
     "data": {
      "image/png": "[encoded data removed]",
      "text/plain": [
       "<Figure size 432x288 with 1 Axes>"
      ]
     },
     "metadata": {
      "needs_background": "light"
     },
     "output_type": "display_data"
    }
   ],
   "source": [
    "#ROC Curve\n",
    "plot_roc_curve(xgb_model, X_test, y_test)"
   ]
  },
  {
   "cell_type": "code",
   "execution_count": 77,
   "id": "17f9222b",
   "metadata": {},
   "outputs": [
    {
     "data": {
      "image/png": "[encoded data removed]",
      "text/plain": [
       "<Figure size 432x288 with 2 Axes>"
      ]
     },
     "metadata": {
      "needs_background": "light"
     },
     "output_type": "display_data"
    }
   ],
   "source": [
    "from sklearn.metrics import confusion_matrix\n",
    "\n",
    "# make predictions on the test dataset\n",
    "y_pred = xgb_model.predict(X_test)\n",
    "\n",
    "# generate the confusion matrix\n",
    "cm = confusion_matrix(y_test, y_pred)\n",
    "\n",
    "df = pd.DataFrame(cm, index=['True Negative', 'True Positive'], columns=['Predicted Negative', 'Predicted Positive'])\n",
    "\n",
    "plt.imshow(cm, cmap=plt.cm.Blues)\n",
    "\n",
    "# add the numbers from the confusion matrix to the plot\n",
    "for i in range(cm.shape[0]):\n",
    "    for j in range(cm.shape[1]):\n",
    "        plt.text(j, i, cm[i, j], ha='center', va='center', color='black')\n",
    "\n",
    "plt.xlabel('Predicted labels')\n",
    "plt.ylabel('True labels')\n",
    "plt.xticks([], [])\n",
    "plt.yticks([], [])\n",
    "plt.title('Confusion Matrix')\n",
    "plt.colorbar()\n",
    "plt.show()\n"
   ]
  },
  {
   "cell_type": "code",
   "execution_count": 74,
   "id": "bc49a3ef",
   "metadata": {},
   "outputs": [
    {
     "data": {
      "text/html": [
       "<div>\n",
       "<style scoped>\n",
       "    .dataframe tbody tr th:only-of-type {\n",
       "        vertical-align: middle;\n",
       "    }\n",
       "\n",
       "    .dataframe tbody tr th {\n",
       "        vertical-align: top;\n",
       "    }\n",
       "\n",
       "    .dataframe thead th {\n",
       "        text-align: right;\n",
       "    }\n",
       "</style>\n",
       "<table border=\"1\" class=\"dataframe\">\n",
       "  <thead>\n",
       "    <tr style=\"text-align: right;\">\n",
       "      <th></th>\n",
       "      <th>Predicted Negative</th>\n",
       "      <th>Predicted Positive</th>\n",
       "    </tr>\n",
       "  </thead>\n",
       "  <tbody>\n",
       "    <tr>\n",
       "      <th>True Negative</th>\n",
       "      <td>3334</td>\n",
       "      <td>400</td>\n",
       "    </tr>\n",
       "    <tr>\n",
       "      <th>True Positive</th>\n",
       "      <td>322</td>\n",
       "      <td>1970</td>\n",
       "    </tr>\n",
       "  </tbody>\n",
       "</table>\n",
       "</div>"
      ],
      "text/plain": [
       "               Predicted Negative  Predicted Positive\n",
       "True Negative                3334                 400\n",
       "True Positive                 322                1970"
      ]
     },
     "execution_count": 74,
     "metadata": {},
     "output_type": "execute_result"
    }
   ],
   "source": [
    "df"
   ]
  },
  {
   "cell_type": "code",
   "execution_count": 56,
   "id": "98ea4360",
   "metadata": {},
   "outputs": [
    {
     "data": {
      "text/plain": [
       "0.7523876158988065"
      ]
     },
     "execution_count": 56,
     "metadata": {},
     "output_type": "execute_result"
    }
   ],
   "source": [
    "Gini = 2*(auc) - 1\n",
    "Gini"
   ]
  },
  {
   "cell_type": "code",
   "execution_count": 57,
   "id": "78aa429b",
   "metadata": {},
   "outputs": [
    {
     "data": {
      "text/plain": [
       "0.0389738223917121"
      ]
     },
     "execution_count": 57,
     "metadata": {},
     "output_type": "execute_result"
    }
   ],
   "source": [
    "import numpy as np\n",
    "from scipy.stats import entropy\n",
    "\n",
    "def population_stability_index(y_test, predictions):\n",
    "    # calculate the true and predicted population distributions\n",
    "    true_dist = np.bincount(y_test) / len(y_test)\n",
    "    pred_dist = np.bincount(predictions) / len(predictions)\n",
    "\n",
    "    # calculate the entropy of the true distribution\n",
    "    true_entropy = entropy(true_dist)\n",
    "\n",
    "    # calculate the PSI score\n",
    "    psi = np.abs(true_dist - pred_dist).sum() / true_entropy\n",
    "\n",
    "    return psi\n",
    "\n",
    "population_stability_index(y_test, predictions)"
   ]
  },
  {
   "cell_type": "code",
   "execution_count": 66,
   "id": "b1218d19",
   "metadata": {},
   "outputs": [],
   "source": [
    "from openpyxl import Workbook\n",
    "from openpyxl.utils.dataframe import dataframe_to_rows\n",
    "\n",
    "importances = xgb_model.get_booster().get_score(importance_type='weight')\n",
    "df = pd.DataFrame.from_dict(importances, orient='index', columns=['Importance'])\n",
    "wb = Workbook()\n",
    "ws = wb.active\n",
    "for r in dataframe_to_rows(df, index=True, header=True):\n",
    "    ws.append(r)\n",
    "wb.save('feature_importances.xlsx')"
   ]
  },
  {
   "cell_type": "code",
   "execution_count": 62,
   "id": "5b09a121",
   "metadata": {},
   "outputs": [],
   "source": []
  },
  {
   "cell_type": "code",
   "execution_count": 65,
   "id": "e94c0f66",
   "metadata": {},
   "outputs": [],
   "source": []
  },
  {
   "cell_type": "code",
   "execution_count": null,
   "id": "057063a9",
   "metadata": {},
   "outputs": [],
   "source": []
  }
 ],
 "metadata": {
  "kernelspec": {
   "display_name": "Python 3 (ipykernel)",
   "language": "python",
   "name": "python3"
  },
  "language_info": {
   "codemirror_mode": {
    "name": "ipython",
    "version": 3
   },
   "file_extension": ".py",
   "mimetype": "text/x-python",
   "name": "python",
   "nbconvert_exporter": "python",
   "pygments_lexer": "ipython3",
   "version": "3.9.7"
  }
 },
 "nbformat": 4,
 "nbformat_minor": 5
}
